{
 "metadata": {
  "name": ""
 },
 "nbformat": 3,
 "nbformat_minor": 0,
 "worksheets": [
  {
   "cells": [
    {
     "cell_type": "markdown",
     "metadata": {},
     "source": [
      "\n",
      "**You may discuss homework problems with other students, but you have to prepare the written assignments yourself. Late homework will be penalized 10% per day.**\n",
      "\n",
      "**Please combine all your answers, the computer code and the figures into one file, and submit a copy in your dropbox on coursework.**\n",
      "\n",
      " **Grading scheme: 10 points per question, total of 40.**"
     ]
    },
    {
     "cell_type": "markdown",
     "metadata": {},
     "source": [
      "# Question 1\n",
      "\n",
      "A criminologist studying the relationship between income level and assults in U.S. cities (among other things) collected the following data for 2215 communities. The dataset can be found in the [UCI machine learning site](http://archive.ics.uci.edu/ml/datasets/Communities+and+Crime+Unnormalized).\n",
      "\n",
      "We are interested in the per capita assult rate and its relation to median income."
     ]
    },
    {
     "cell_type": "code",
     "collapsed": false,
     "input": [
      "%%R\n",
      "crime.data = read.table(\"http://archive.ics.uci.edu/ml/machine-learning-databases/00211/CommViolPredUnnormalizedData.txt\", header=FALSE, sep=',', na.strings=\"?\")\n",
      "median_income = crime.data[,18]\n",
      "assault_rate = crime.data[,137]"
     ],
     "language": "python",
     "metadata": {},
     "outputs": [],
     "prompt_number": 12
    },
    {
     "cell_type": "markdown",
     "metadata": {},
     "source": [
      "1. Fit a simple linear regression model to the data with `log(assault_rate)` as the dependent variable and `log(median_income)` as the independent variable. Plot the estimated regression line.\n",
      "2. Add upper and lower 95% prediction bands for the regression line on the plot, using `predict`. That is, produce one line for the upper limit of each confidence interval over a sequence of densities, and one line for the lower limits of the confidence intervals. Interpret these bands at a `median_income` of 30000.\n",
      "\n",
      "3. Add upper and lower 95% confidence bands for the regression line on the plot, using `predict`. That is, produce one line for the upper limit of each confidence interval over a sequence of densities, and one line for the lower limits of the confidence intervals. Interpret these bands at a `median_income` of 30000.\n",
      "\n",
      "4. Test whether there is a linear relationship between population density and robbery at level $\\alpha=0.05$. State the null hypothesis, the alternative, the conclusion and the $p$-value.\n",
      "\n",
      "5. Give a 95% confidence interval for the slope of the regression line. Interpret your interval.\n",
      "\n",
      "6. Report the $R^2$ and the adjusted $R^2$ of the model, as well as an estimate of the variance of the errors in the model."
     ]
    },
    {
     "cell_type": "markdown",
     "metadata": {},
     "source": [
      "# Question 2 \n",
      "\n",
      "Let $Y$ and $X$ denote variables in a simple linear regression of median home prices versus median income in state in the US. Suppose that the model\n",
      "$$\n",
      "Y = \\beta_0 + \\beta_1 X + \\epsilon\n",
      "$$\n",
      "satisfies the usual regression assumptions.\n",
      "\n",
      "\n",
      "    Response: Y\n",
      "              Df Sum Sq Mean Sq F value    Pr(>F)    \n",
      "    X          1     NA    4239      NA        NA\n",
      "    Residuals 48 123546      NA\n",
      "\n",
      "1. Compute the missing values of in the above table.\n",
      "\n",
      "2. Test the null hypothesis $H_0 : \\beta_1 = 0$ at level $\\alpha = 0.05$ using the above table.\n",
      "Can you test the hypothesis $H_0 : \\beta_1 < 0$ using Table 1?\n",
      "\n",
      "3. If $Y$ and $X$ were reversed in the above regression, what would you\n",
      "expect $R^2$ to be?\n",
      "\n"
     ]
    },
    {
     "cell_type": "markdown",
     "metadata": {},
     "source": [
      "# Question 3\n",
      "\n",
      "The tables below show the regression output of a multiple regression model relating `Salary`, the beginning salaries in dollars of employees in a given company to the following predictor variables: `Education, Experience` and a variable `STEM` indicating whether or not they have an undergraduate degree in a STEM field or not. (The units of both `Education` and `Experience` are years.)\n",
      "\n",
      "    ANOVA table:\n",
      "\n",
      "    Response: Salary\n",
      "                     Df   Sum Sq   Mean Sq  F value   Pr(>F)    \n",
      "        Regression   NA  2416338        NA       NA       NA \n",
      "        Residuals    62  9113079        NA      \n",
      "\n",
      "    Coefficients:\n",
      "                Estimate Std. Error t value Pr(>|t|)\n",
      "    (Intercept)   3226.4      937.7      NA       NA\n",
      "    Education      850.0         NA   3.646       NA\n",
      "    Experience     923.4      260.1      NA       NA\n",
      "    STEM              NA      330.1   1.675\n",
      "\n",
      "\n",
      "Below, specify the null and alternative hypotheses, the test used, and your conclusion using $\\alpha=0.05$ throughout. You may not necessarily be able to compute everything, but be as explicit as possible.\n",
      "\n",
      "1. Fill in the missing values in the above table.\n",
      "\n",
      "2. Test whether or not the linear regression model explains significantly more variability in `Salary` than a model with no explanatory variables. What assumptions are you making?\n",
      "\n",
      "3. Is there a positive linear relationship between `Salary` and `Experience`, after accounting for the effect of the variables `STEM` and  `Education`? (Hint: one-sided test)\n",
      "\n",
      "4. What salary interval would you forecast for an electrical engineer with 10 years of education and 5 years working in a related field?\n",
      "\n",
      "5. What salary interval would you forecast, on average, for english majors with 10 years of education and 6 years in a related field?\n"
     ]
    },
    {
     "cell_type": "markdown",
     "metadata": {},
     "source": [
      "# Question 4\n",
      "\n",
      "Power is an important quantity in many applications of statistics. This question investigates the power of a test in simple linear regression. In a simple linear regression setting, suppose the true slope of the regression line is $\\beta_1$ and the true intercept is $\\beta_0$.\n",
      "If we assume  $\\sigma$ is known, then we can test $H_0: \\beta_0 + 66 \\beta_1 =66$ using\n",
      "$$\n",
      "Z = \\frac{\\hat{\\beta}_0 + 66 \\hat{\\beta}_1 - 66}{\\sigma_{\\beta_0 + 66 \\beta_1}}\n",
      "$$\n",
      "where\n",
      "$\\sigma_{\\beta_0 + 66 \\beta_1}$ is the standard deviation of $\\hat{\\beta}_0 + 66 \\hat{\\beta}_1$.\n",
      "\n",
      "The power of this test is a function of $s, \\sigma = (\\beta_0 + 66 \\hat{\\beta}_1, \\sigma_{\\beta_0 + 66 \\beta_1}$ and is defined as\n",
      "$$\n",
      "P(\\text{$H_0$ is rejected}).\n",
      "$$\n",
      " \n",
      "As we change the true $\\beta_1$, the probability we reject $H_0$ changes: if the true value of $\\beta_0 + 66 \\beta_1$ is much larger than 66 relative to $\\sigma_{\\beta_0 + 66 \\beta_1}$, then \n",
      "we are very likely to reject $H_0$.\n",
      "\n",
      "1. What rule would you use to determine whether or not you reject $H_0$ at level $\\alpha=0.1$.\n",
      "\n",
      "2. What is the distribution of our test statistic $Z$?\n",
      "Show that the distribution depend on the values $\\beta_0 + 66 \\beta_1, \\sigma_{\\beta_0 + 66 \\beta_1}$ and the 66 in our null $H_0$ via the quantity $(\\beta_0 + 66 \\beta_1  - 66) / \\sigma_{\\beta_0 + 66 \\beta_1}$.\n",
      "We call this quantity the non-centrality parameter.\n",
      "\n",
      "3. Plot the power of your test as your function of the non-centrality parameter.\n",
      "\n",
      "4. Roughly how large does the non-centrality parameter have to be in order to achieve\n",
      "power of 70%?\n",
      "\n"
     ]
    },
    {
     "cell_type": "code",
     "collapsed": false,
     "input": [],
     "language": "python",
     "metadata": {},
     "outputs": []
    }
   ],
   "metadata": {}
  }
 ]
}