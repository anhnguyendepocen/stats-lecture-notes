{
 "metadata": {
  "name": "assignment5"
 },
 "nbformat": 3,
 "nbformat_minor": 0,
 "worksheets": [
  {
   "cells": [
    {
     "cell_type": "markdown",
     "metadata": {},
     "source": [
      "\n",
      "**You may discuss homework problems with other students, but you have to prepare the written assignments yourself. Late homework will be penalized 10% per day.**\n",
      "\n",
      "**Please combine all your answers, the computer code and the figures into one file, and submit a copy in your dropbox on coursework.**\n",
      "\n",
      " **Grading scheme: 10 points per question, total of 30.**"
     ]
    },
    {
     "cell_type": "markdown",
     "metadata": {},
     "source": [
      "# Question 1 (RABE, 12.3)\n",
      "\n",
      "The O-rings in the booster rockets used in space launching play an important part in preventing rockets from exploding. Probabilities of O-ring failures are thought to be related to temperature. The data from 23 flights are given in [http://stats191.stanford.edu/data/Orings.table](http://stats191.stanford.edu/data/Orings.table).\n",
      "\n",
      "For each flight we have an indicator of whether or not any O-rings were damaged and the temperature of the launch.\n",
      "\n",
      "1. Fit a logistic regression, modeling the probability of having any O-ring failures based on the temperature of the launch. Interpret the coefficients in terms of odds ratios.\n",
      "\n",
      "2. From the fitted model, find the probability of an O-ring failure when the temperature at launch was 31 degrees. This was the temperature forecast for the day of the launching of the fatal Challenger flight on January 20, 1986.\n",
      "\n",
      "3. Find an approximate 95% confidence interval for the coefficient of temperature in the logistic regression using both the `summary` and `confint`. Are the confidence intervals the same? Why or why not?"
     ]
    },
    {
     "cell_type": "markdown",
     "metadata": {},
     "source": [
      "# Question 2 (Based on RABE 8.4-8.6)\n",
      "\n",
      "A researcher in geriatrics designed a prospective study to investigate the effects of two interventions on the frequency of falls. One hundred subjects\n",
      "were randomly assigned to one of the two interventions: education only (`X1 = 0`) and education plus aerobic exercise training (`X1 = 1`). Subjects were at least 65 years of age and in reasonably good health. Three variables considered to be important as control variables were gender (`X2 : 0 = female; 1 = male`), a balance index (`X3` ), and a strength index (`X4` ). The higher the balance index, the more stable is the subject; and the higher the strength index, the stronger is the subject. Each subject kept a diary recording the number of falls (`Y` ) during the six months of the study.\n",
      "\n",
      "The data can be found at: [http://stats191.stanford.edu/data/falls.table](http://stats191.stanford.edu/data/falls.table).\n",
      "\n",
      "1. Fit a Poisson regression model with the response function\n",
      "$$\n",
      "\\mu(X,\\beta) = \\exp(\\beta_0 + \\beta_1 X_1 + \\beta_2 X_2 + \\beta_3 X_3 + \\beta_4 X_4).\n",
      "$$\n",
      "State the estimated regression coefficients, their estimated standard deviations, and the estimated response function.\n",
      "\n",
      "2. Use a deviance test to test whether gender `X2` can be dropped from the model; control $\\alpha$ at level 0.05. State the alternatives, decision rule and conclusion.\n",
      "\n",
      "3.  For the fitted model containing only `X1, X3` and `X4` as first-order terms, obtain an approximate 95% confidence interval for $\\beta_1$. Interpret your confidence interval. Does aerobic exercise reduce the frequency of falls when controlling for balance and strength?\n",
      "\n",
      "4. Use stepwise model selection starting from a model with `X1, X2, X3` and `X4` to try and find an optimal model. Is this the same as the model used in 3.? Should it be?"
     ]
    },
    {
     "cell_type": "markdown",
     "metadata": {},
     "source": [
      "# Question 3 \n",
      "\n",
      "The file [http://stats191.stanford.edu/data/simulation.table](http://stats191.stanford.edu/data/simulation.table) contains a simulated design matrix with 1000 rows.\n",
      "\n",
      "1. Load in the data into a data frame called, `X`, say. Add 4 columns of completely unrelated Poisson noise to the design matrix by defining variables `noise1, noise2, noise3, noise4` using\n",
      "\n",
      "    `X$noise1 = rpois(1000, 1)`\n",
      "\n",
      "    `X$noise2 = rpois(1000, 1)`\n",
      "\n",
      "    `X$noise3 = rpois(1000, 1)`\n",
      "\n",
      "    `X$noise4 = rpois(1000, 1)`\n",
      "\n",
      "2. Fit a model including all original variables in the table as well as the noise variables. Use `step` to choose the best model using AIC. Does it include any of the noise variables? Repeat the procedure several times by overwriting your original noise variables.\n",
      "\n",
      "3. Compare the AIC of the model with all variables (including noise) and the model with only the original variables. Which has smaller AIC? Repeat the procedure (i.e. overwriting the noise) 500 times (use a function) and count how often the model chosen by `step` has a smaller AIC.\n",
      "\n",
      "4. Repeat 2. and 4. using BIC instead."
     ]
    },
    {
     "cell_type": "code",
     "collapsed": false,
     "input": [],
     "language": "python",
     "metadata": {},
     "outputs": []
    }
   ],
   "metadata": {}
  }
 ]
}