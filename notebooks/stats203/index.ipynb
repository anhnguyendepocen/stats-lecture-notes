{
 "cells": [
  {
   "cell_type": "markdown",
   "metadata": {},
   "source": [
    "## Syllabus\n",
    "\n",
    "### Instructor & TAs\n",
    "\n",
    "\n",
    "#### Instructor\n",
    "\n",
    "[Jonathan Taylor](http://www-stat.stanford.edu/~jtaylor)\n",
    "\n",
    "- Office: Sequoia Hall #137\n",
    "- Phone: 723-9230, \n",
    "- [Email](https://stanfordwho.stanford.edu/auth/lookup?search=Jonathan%20Taylor)\n",
    "- Office hours: Tues Thu 12:30-2:30\n",
    "\n",
    "#### Teaching Assistants\n",
    "\n",
    "Murat Erdogdu\n",
    "\n",
    "-  [Email](https://stanfordwho.stanford.edu/auth/lookup?search=Murat%20Erdogdu)\n",
    "-  Office hours : TBA\n",
    "\n",
    "Hera He\n",
    "\n",
    "-  [Email](https://stanfordwho.stanford.edu/auth/lookup?search=Hera%20He)\n",
    "-  Office hours : TBA\n",
    "\n",
    "\n",
    "## Email list\n",
    "\n",
    "The course has an email list that reaches all TAs as well as the professor: [stats203-win1516-staff@lists.stanford.edu](mailto:stats203-win1516-staff@lists.stanford.edu).\n",
    "\n",
    "**As a general rule, you should send course related to this email list.**\n",
    "\n",
    "## Office hours\n",
    "\n",
    "**As a general rule, we ask students NOT to complete the assignments during TAs' in office hours. This will be easier if students do not use laptops while in TAs' office hours.**\n",
    "\n",
    "## Schedule & Location\n",
    "\n",
    "T-Th 10:30-11:50, 380-380D\n",
    "\n",
    "## Textbook\n",
    "\n",
    "[Statistical Models](http://www.amazon.com/Statistical-Models-Practice-David-Freedman/dp/0521743850) Freedman. *Required*\n",
    "\n",
    "[Linear Models, with R](http://www.amazon.com/Linear-Models-Chapman-Statistical-Science/dp/1439887330/ref=sr_1_1?ie=UTF8&qid=1451880121&sr=8-1&keywords=linear+models+in+R) Faraway. *Required*\n",
    "\n",
    "## Prerequisites\n",
    "\n",
    "Some familiarity with mathematical statistics at the level of STATS 200, which is a co-requisite.\n",
    "\n",
    "### Comparison with STATS191\n",
    "\n",
    "This course covers many similar topics to STATS191 but in a more mathematically rigorous way. We may also cover\n",
    "additional models not covered in STATS191.\n",
    "\n",
    "## Course organization\n",
    "\n",
    "- All relevant class information, such as homework assignments, solutions, and organizational matters, will be posted on the coursework web page.\n",
    "\n",
    "- Midterm: 2/11, in class.\n",
    "\n",
    "\n",
    "## Evaluation\n",
    "\n",
    "* homework: 40%\n",
    "* midterm: 20% \n",
    "* final exam: 40%\n",
    "\n",
    "\n",
    "## Homework\n",
    "\n",
    "\n",
    "- You may discuss homework problems with other students and with TAs in office hours, but you have to prepare the solutions yourself. \n",
    "\n",
    "- **As a general rule, we ask students NOT to complete the assignments during TAs' in office hours. This will be easier if students do not use laptops while in TAs' office hours.**\n"
   ]
  },
  {
   "cell_type": "markdown",
   "metadata": {},
   "source": [
    "## Computing environment\n",
    "\n",
    "- Most examples will be [jupyter notebooks](http://jupyter.org/).\n",
    "\n",
    "- Homeworks can be submitted as notebooks.\n",
    "\n",
    "- One option to get started with both `python` and `R` is [anaconda](https://www.continuum.io/downloads), along with the `r-essentials`:\n",
    "\n",
    "        conda install -c r r-essentials\n",
    "        # for using R from ipython\n",
    "        conda install -c r rpy2 "
   ]
  },
  {
   "cell_type": "markdown",
   "metadata": {},
   "source": [
    "## Final Exam\n",
    "\n",
    "According to the [exam schedule](http://studentaffairs.stanford.edu/registrar/students/winter-exams) our exam is to be held on March 17, at 3:30 PM.\n",
    "\n"
   ]
  },
  {
   "cell_type": "markdown",
   "metadata": {},
   "source": [
    "## Notes"
   ]
  },
  {
   "cell_type": "markdown",
   "metadata": {},
   "source": [
    "- [Simple linear regression](http://nbviewer.ipython.org/url/web.stanford.edu/class/stats203/notebooks/Simple linear regression.ipynb)\n"
   ]
  }
 ],
 "metadata": {
  "kernelspec": {
   "display_name": "Python 2",
   "language": "python",
   "name": "python2"
  },
  "language_info": {
   "codemirror_mode": {
    "name": "ipython",
    "version": 2
   },
   "file_extension": ".py",
   "mimetype": "text/x-python",
   "name": "python",
   "nbconvert_exporter": "python",
   "pygments_lexer": "ipython2",
   "version": "2.7.11"
  }
 },
 "nbformat": 4,
 "nbformat_minor": 0
}

