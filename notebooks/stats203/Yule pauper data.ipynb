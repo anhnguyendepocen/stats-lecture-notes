{
 "cells": [
  {
   "cell_type": "markdown",
   "metadata": {},
   "source": [
    "# Yule's pauper data\n",
    "\n",
    "Section 1.4 of Freedman describes Yule's (1899) work on modelling the cause of \n",
    "pauperism in the UK. \n",
    "\n",
    "Below are the data for the metropolitan unions for the 1871 to 1881 time period (one of 8 different data sets).\n"
   ]
  },
  {
   "cell_type": "code",
   "execution_count": null,
   "metadata": {
    "collapsed": true
   },
   "outputs": [],
   "source": [
    "yule = read.table('http://stats203.stanford.edu/data/yule.txt')"
   ]
  },
  {
   "cell_type": "code",
   "execution_count": null,
   "metadata": {
    "collapsed": false
   },
   "outputs": [],
   "source": [
    "yule"
   ]
  },
  {
   "cell_type": "markdown",
   "metadata": {},
   "source": [
    "## Variables\n",
    "\n",
    "The variables are:\n",
    "\n",
    "- `paup`: percentage of paupers in a given union\n",
    "- `out`: ratio of paupers outside poorhouse vs. inside (expressed as percentage)\n",
    "- `old`: percentage of population above 65\n",
    "- `pop`: population (expressed as percentage of previous population)"
   ]
  },
  {
   "cell_type": "markdown",
   "metadata": {},
   "source": [
    "## Model\n",
    "\n",
    "Yule postulated a model for $\\Delta \\text{paup}$ (where $\\Delta \\text{paup}$ denotes the variable $100 - \\text{paup}$). The approximation he made was\n",
    "$$\n",
    "\\Delta \\text{paup}_i \\approx a + b \\cdot \\Delta \\text{out}_i + c \\cdot \\Delta \\text{old}_i + d \\cdot \\Delta \\text{pop}_i\n",
    "$$\n",
    "with $i$ denoting the indexing of the 32 metropolitan unions.\n",
    "\n",
    "This is an example of a *regression model*, expressing a dependent variable as approximately a function \n",
    "of independent variables.\n",
    "\n",
    "The term *independent variable* suggests that some experimenter is manipulating these variables. Much of the time this is not the case, hence we typically use the term *covariates* or perhaps *control variables*. \n",
    "\n",
    "## Finding `a,b,c,d`\n",
    "\n",
    "Having postulated a model, we must try and find plausible values for `a,b,c,d`. Yule did this by \n",
    "least squares, i.e. by minimizing the function\n",
    "$$\n",
    "L(a,b,c,d) = \\sum_{i=1}^{32} (\\Delta \\text{paup}_i - a - b \\cdot \\Delta \\text{out}_i - c \\cdot \\Delta \\text{old}_i - d \\cdot \\Delta \\text{pop}_i)^2\n",
    "$$\n",
    "over $a,b,c,d$.\n",
    "\n",
    "Yule would have done this by hand. We can use a computer."
   ]
  },
  {
   "cell_type": "code",
   "execution_count": null,
   "metadata": {
    "collapsed": false
   },
   "outputs": [],
   "source": [
    "attach(yule)\n",
    "del_paup = 100 - paup\n",
    "del_out = 100 - outrelief \n",
    "del_old = 100 - old \n",
    "del_pop = 100 - pop\n",
    "yule.lm = lm(del_paup ~ del_out + del_old + del_pop)\n",
    "detach(yule)\n",
    "yule.lm"
   ]
  },
  {
   "cell_type": "code",
   "execution_count": null,
   "metadata": {
    "collapsed": false
   },
   "outputs": [],
   "source": [
    "summary(yule.lm)"
   ]
  },
  {
   "cell_type": "markdown",
   "metadata": {},
   "source": [
    "## What does the model tell us?\n",
    "\n",
    "Yule's goal is to understand what causes poverty. The results of his modelling tell us\n",
    "that there seems to be a positive association between `del_out` and `del_pop` but does this really tell\n",
    "us that making `del_out` larger will cause more poverty?\n",
    "\n",
    "This gets at the issue of distinguishing between association (sometimes referred to as correlation) and \n",
    "causation. \n",
    "\n",
    "An oft-repeated phrase: [correlation does not imply causation](https://en.wikipedia.org/wiki/Correlation_does_not_imply_causation).\n",
    "\n",
    "Much of the modelling we will considered are really modelling associations or correlations. In certain cases, if we are willing\n",
    "to make some assumptions about the data, one can infer some causal links between variables. Generally, though,\n",
    "regression models are models of assocation.\n",
    "\n",
    "### Exercise: read Chapter 1 of Freedman"
   ]
  }
 ],
 "metadata": {
  "kernelspec": {
   "display_name": "R",
   "language": "R",
   "name": "ir"
  },
  "language_info": {
   "codemirror_mode": "r",
   "file_extension": ".r",
   "mimetype": "text/x-r-source",
   "name": "R",
   "pygments_lexer": "r",
   "version": "3.2.2"
  }
 },
 "nbformat": 4,
 "nbformat_minor": 0
}
