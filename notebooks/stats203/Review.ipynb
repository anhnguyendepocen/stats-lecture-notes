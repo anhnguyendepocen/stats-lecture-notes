{
 "cells": [
  {
   "cell_type": "markdown",
   "metadata": {},
   "source": [
    "# Topics"
   ]
  },
  {
   "cell_type": "markdown",
   "metadata": {},
   "source": [
    "## Simple linear regression\n",
    "\n",
    "- $SSE$, $SSR$, $SST$\n",
    "\n",
    "- Theory for Gauss model\n",
    "\n",
    "- Distribution of $\\hat{\\beta}$ when Gauss model not true\n",
    "\n",
    "- Confidence intervals and hypothesis tests based on Student's $T$\n",
    "\n",
    "<img src=\"http://web.stanford.edu/class/stats203/figs/axes_simple.svg\">\n"
   ]
  },
  {
   "cell_type": "markdown",
   "metadata": {},
   "source": [
    "## Matrices\n",
    "\n",
    "- Multivariate normal\n",
    "\n",
    "- If $$Z \\sim N(\\mu, \\Sigma)$$ then for any fixed matrix $A$\n",
    "$$\n",
    "AZ \\sim N(A\\mu, A\\Sigma A^T).\n",
    "$$\n",
    "\n",
    "- If $$\n",
    "Z = \n",
    "\\begin{pmatrix}\n",
    "Z_1 \\\\\n",
    "Z_2\n",
    "\\end{pmatrix}, \\qquad \\mu = \\begin{pmatrix} \\mu_1 \\\\ \\mu_2 \\end{pmatrix}\n",
    "$$\n",
    "and\n",
    "$$\n",
    "\\Sigma = \\begin{pmatrix} \\Sigma_1 & 0 \\\\ 0 & \\Sigma_2 \\end{pmatrix}\n",
    "$$\n",
    "then $Z_1 \\sim N(\\mu_1, \\Sigma_1)$ and $Z_2 \\sim N(\\mu_2, \\Sigma_2)$ are independent.\n",
    "\n",
    "- If $Z \\sim N(\\mu, \\Sigma)$ with $Z \\in \\mathbb{R}^p$ and $\\Sigma > 0$ then\n",
    "$$\n",
    "(Z - \\mu)^T\\Sigma^{-1}(Z-\\mu) \\sim \\chi^2_p.\n",
    "$$"
   ]
  },
  {
   "cell_type": "markdown",
   "metadata": {},
   "source": [
    "## Multiple linear regression\n",
    "\n",
    "- Least squares estimators: \n",
    "$$\\hat{\\beta} = (X^TX)^{-1}X^TY$$\n",
    "\n",
    "$$\n",
    "\\newcommand{\\FM}{{\\cal F}}\n",
    "\\newcommand{\\RM}{{\\cal R}}\n",
    "$$\n",
    "\n",
    "- Hypothesis tests based on $F$ distribution\n",
    "$$F=\\frac{(SSE(\\RM) - SSE(\\FM)) / (df_{\\RM} - df_{\\FM})}{SSE(\\FM) / df_{\\FM}}$$\n",
    "\n",
    "- Distribution of $\\hat{\\beta}$ under Gauss model\n",
    "$$\n",
    "\\hat{\\beta}  \\sim N(\\beta, \\sigma^2 (X^TX)^{-1})\n",
    "$$\n",
    "\n",
    "- Distribution of $\\hat{\\beta}$ when Gauss model does not hold\n",
    "\n",
    "<img src=\"http://web.stanford.edu/class/stats203/figs/axes_multiple.svg\">\n"
   ]
  },
  {
   "cell_type": "markdown",
   "metadata": {},
   "source": [
    "## Diagnostics\n",
    "\n",
    "- Many based on residuals $e=Y-\\hat{Y}$ (and variations like studentized\n",
    "residuals).\n",
    "    - Are the residuals normally distributed?\n",
    "    - Can you find a pattern in the residuals?\n",
    "    \n",
    "- Others measure influence by \"leave-one-out\" measures\n",
    "    - DFFITS, DFBETAS, Cook's distance\n",
    "    - Leverage: $\\text{diag}(X(X^TX)^{-1}X^T)$."
   ]
  },
  {
   "cell_type": "markdown",
   "metadata": {},
   "source": [
    "## Model selection\n",
    "\n",
    "- Criteria: $R^2, R^2_a, C_p, AIC, BIC$, cross-validation \n",
    "\n",
    "- Search strategies:\n",
    "    - Best subsets (`leaps` for $R^2, R^2_a, C_p$)\n",
    "    - Stepwise greedy (`step` for $AIC, BIC$)\n",
    "\n",
    "- Introduced data snooping\n",
    "    - **Usual tools for inference are not valid after selection!**"
   ]
  },
  {
   "cell_type": "markdown",
   "metadata": {},
   "source": [
    "## Data snooping\n",
    "\n",
    "- LASSO for model selection.\n",
    "\n",
    "<img src=\"http://stats203.stanford.edu/notebooks/figs/lassofig.png\">\n",
    "\n",
    "- Data splitting for valid inference after selection.\n",
    "\n",
    "- Valid inference after LASSO -- more powerful than data splitting."
   ]
  },
  {
   "cell_type": "markdown",
   "metadata": {},
   "source": [
    "## Penalized regression\n",
    "\n",
    "- Shrinkage estimators as penalized estimators.\n",
    "\n",
    "- Ridge regression:\n",
    "\n",
    "$$\n",
    "\\hat{\\beta}_{\\lambda} = \\text{argmin}_{\\beta} \\frac{1}{2}\\|Y-X\\beta\\|^2_2 + \\frac{\\lambda}{2} \\|\\beta\\|^2_2$$\n",
    "\n",
    "- LASSO: \n",
    "\n",
    "$$\n",
    "\\hat{\\beta}_{\\lambda} = \\text{argmin}_{\\beta} \\frac{1}{2} \\|Y-X\\beta\\|^2_2 + \\lambda \\|\\beta\\|_1$$\n",
    "\n",
    "<img src=\"http://stats203.stanford.edu/notebooks/figs/ridge_vs_lasso.png\">"
   ]
  },
  {
   "cell_type": "markdown",
   "metadata": {},
   "source": [
    "## Logistic regression\n",
    "\n",
    "- Binary regression:\n",
    "$$\n",
    "\\pi(\\beta;x) = P(Y=1|X=x) = F(x^T\\beta).\n",
    "$$\n",
    "\n",
    "- Logistic regression:\n",
    "$$\n",
    "\\pi(\\beta;x) = \\frac{\\exp(x^T\\beta)}{1 + \\exp(x^T\\beta)}.\n",
    "$$\n",
    "\n",
    "- Generalized linear model:\n",
    "$$\n",
    "F^{-1}(\\pi)=x^T\\beta, \\qquad Var(Y)=\\pi(1-\\pi).\n",
    "$$\n",
    "\n",
    "- Distribution for $\\hat{\\beta}$ \n",
    "$$\n",
    "\\hat{\\beta} \\approx N(\\beta, (X^TWX)^{-1})\n",
    "$$\n",
    "with $W=\\text{diag}\\left(\\pi(\\hat{\\beta};X_i) (1 - \\pi(\\hat{\\beta};X_i))\\right)$"
   ]
  },
  {
   "cell_type": "markdown",
   "metadata": {},
   "source": [
    "# Topics covered in last week\n",
    "\n",
    "## Bootstrapping regression\n",
    "\n",
    "## ANOVA"
   ]
  }
 ],
 "metadata": {
  "kernelspec": {
   "display_name": "R",
   "language": "R",
   "name": "ir"
  },
  "language_info": {
   "codemirror_mode": "r",
   "file_extension": ".r",
   "mimetype": "text/x-r-source",
   "name": "R",
   "pygments_lexer": "r",
   "version": "3.2.2"
  }
 },
 "nbformat": 4,
 "nbformat_minor": 0
}
