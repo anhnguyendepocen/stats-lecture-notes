{
 "cells": [
  {
   "cell_type": "markdown",
   "metadata": {
    "slideshow": {
     "slide_type": "slide"
    }
   },
   "source": [
    "# Bootstrapping regression\n",
    "\n",
    "## Outline\n",
    "\n",
    "- Basics of the bootstrap\n",
    "\n",
    "- Pairs bootstrap\n",
    "\n",
    "- Residual bootstrap"
   ]
  },
  {
   "cell_type": "markdown",
   "metadata": {
    "slideshow": {
     "slide_type": "slide"
    }
   },
   "source": [
    "## Distribution of least squares estimators (random X)\n",
    "\n",
    "- Recall...\n",
    "\n",
    "- Suppose $(X_i,Y_i) \\overset{IID}{\\sim} G, 1 \\leq i \\leq n$ with $X \\in \\mathbb{R}^{p+1}$.\n",
    "(We assume that $X_{i,1}=1$ to handle the intercept.)\n",
    "\n",
    "- Let $X$ be the $n \\times (p+1)$ design matrix and $Y$ the $n \\times 1$ response vector and\n",
    "$$\n",
    "\\hat{\\beta} =  \\hat{\\beta}_n = (X^TX)^{-1}(X^TY).\n",
    "$$\n",
    "\n",
    "- Define \n",
    "$$\n",
    "\\beta(G) = E_G(X_1X_1^T)^{-1} E_G(X_1\\cdot Y)\n",
    "$$\n",
    "and\n",
    "$$\n",
    "\\epsilon_i = \\epsilon_i(G) = Y_i - X_i^T\\beta(G).\n",
    "$$\n",
    "\n",
    "- Then, \n",
    "$$\n",
    "n^{1/2} \\left(\\hat{\\beta}_n - \\beta(G) \\right) \\overset{n \\to \\infty}{\\to} N\\left(0, E_G(X_1X_1^T)^{-1} Var_G(X_1 \\cdot \\epsilon_1) E_G(X_1X_1^T)^{-1} \\right)\n",
    "$$\n",
    "\n",
    "\n",
    "- **Q: How can we estimate covariance?**\n",
    "\n",
    "- **A: Pairs bootstrap does this implicitly.**\n",
    "\n",
    "- Good reading: [arxiv.org/1404.1578](http://arxiv.org/abs/1404.1578)"
   ]
  },
  {
   "cell_type": "markdown",
   "metadata": {
    "slideshow": {
     "slide_type": "slide"
    }
   },
   "source": [
    "## Bootstrapping the sample mean\n",
    "\n",
    "- Suppose $\\mathbb{R} \\ni X_i \\overset{IID}{\\sim} F, 1 \\leq i \\leq \\infty$.\n",
    "\n",
    "- Set \n",
    "$$\\bar{X}_n = \\frac{1}{n} \\sum_{i=1}^n X_i.$$\n",
    "\n",
    "- We want to know something about $\\mu=E_F(X_1)$ based on $\\bar{X}_n$?\n",
    "\n",
    "- What if we know the distribution of $\\bar{X}_n$? Or maybe $\\bar{X}_n - \\mu$?"
   ]
  },
  {
   "cell_type": "code",
   "execution_count": null,
   "metadata": {
    "collapsed": false,
    "slideshow": {
     "slide_type": "fragment"
    }
   },
   "outputs": [],
   "source": [
    "set.seed(0) # reproducibility\n",
    "mu = 2\n",
    "n = 50\n",
    "noise_scale = 4\n",
    "noise = function(n) {\n",
    "    return(noise_scale*(rexp(n) - 1)) # skewed, but centered to have mean 0\n",
    "}\n",
    "\n",
    "X = mu + noise(50)\n",
    "Xbar = mean(X)\n",
    "Xbar"
   ]
  },
  {
   "cell_type": "markdown",
   "metadata": {
    "slideshow": {
     "slide_type": "slide"
    }
   },
   "source": [
    "## Sampling distribution of $\\bar{X}_n$"
   ]
  },
  {
   "cell_type": "code",
   "execution_count": null,
   "metadata": {
    "collapsed": false,
    "slideshow": {
     "slide_type": "fragment"
    }
   },
   "outputs": [],
   "source": [
    "B = 50000\n",
    "Xbar_sample = c()\n",
    "\n",
    "for (i in 1:B) {\n",
    "    Xbar_sample = c(Xbar_sample, mean(mu + noise(n)))\n",
    "}\n",
    "plot(density(Xbar_sample), col='red')\n",
    "abline(v=mu)"
   ]
  },
  {
   "cell_type": "markdown",
   "metadata": {
    "slideshow": {
     "slide_type": "slide"
    }
   },
   "source": [
    "## Bootstrap distribution\n",
    "\n",
    "- The bootstrap distribution samples $n$ entries from $X$ with replacement and recomputes\n",
    "the sample mean of these $n$ entries."
   ]
  },
  {
   "cell_type": "code",
   "execution_count": null,
   "metadata": {
    "collapsed": false,
    "slideshow": {
     "slide_type": "fragment"
    }
   },
   "outputs": [],
   "source": [
    "bootstrap_sample = c()\n",
    "\n",
    "for (i in 1:B) {\n",
    "    X_b = sample(X, n, replace=TRUE)\n",
    "    bootstrap_sample = c(bootstrap_sample, mean(X_b))\n",
    "}\n",
    "plot(density(bootstrap_sample), col='blue')\n",
    "lines(density(Xbar_sample), col='red')\n",
    "abline(v=Xbar, lty=2)\n",
    "abline(v=mu)"
   ]
  },
  {
   "cell_type": "markdown",
   "metadata": {
    "slideshow": {
     "slide_type": "slide"
    }
   },
   "source": [
    "## Bootstrap distribution\n",
    "\n",
    "- The bootstrap distribution is centered around $\\bar{X}$.\n",
    "\n",
    "- The true sampling distribution is centered around $\\mu$."
   ]
  },
  {
   "cell_type": "code",
   "execution_count": null,
   "metadata": {
    "collapsed": false,
    "slideshow": {
     "slide_type": "fragment"
    }
   },
   "outputs": [],
   "source": [
    "plot(density(bootstrap_sample - Xbar), col='blue')\n",
    "lines(density(Xbar_sample - mu), col='red')\n",
    "abline(v=0)"
   ]
  },
  {
   "cell_type": "markdown",
   "metadata": {
    "slideshow": {
     "slide_type": "slide"
    }
   },
   "source": [
    "## Increasing the sample size"
   ]
  },
  {
   "cell_type": "code",
   "execution_count": null,
   "metadata": {
    "collapsed": false,
    "slideshow": {
     "slide_type": "fragment"
    }
   },
   "outputs": [],
   "source": [
    "n = 100\n",
    "X = mu + noise(n)\n",
    "Xbar = mean(X)\n",
    "Xbar_sample = c()\n",
    "bootstrap_sample = c()\n",
    "for (i in 1:B) {\n",
    "    Xbar_sample = c(Xbar_sample, mean(mu + noise(n)))\n",
    "    X_b = sample(X, n, replace=TRUE)\n",
    "    bootstrap_sample = c(bootstrap_sample, mean(X_b))\n",
    "}\n",
    "\n",
    "plot(density(Xbar_sample - mu), col='red')\n",
    "lines(density(bootstrap_sample - Xbar), col='blue')\n",
    "abline(v=0)"
   ]
  },
  {
   "cell_type": "markdown",
   "metadata": {
    "slideshow": {
     "slide_type": "slide"
    }
   },
   "source": [
    "## Justification  of the bootstrap\n",
    "\n",
    "- Whatever $F$ is, under reasonable assumptions\n",
    "$\\bar{X}_n$ is close to normally distributed for large enough $n$, centered around $\\mu$.\n",
    "\n",
    "- If we knew $F$ we could just repeatedly sample from $F$ to get the sampling\n",
    "distribution of $\\bar{X}_n$.\n",
    "\n",
    "- Our best guess at $F$ is $\\hat{F}_n$ the empirical distribution function of $\\{X_1, \\dots, X_n\\}$.\n",
    "\n",
    "- Under $\\hat{F}_n$, drawing a sample of size $n$ and computing the sample mean $\\bar{X}^*_n$ will also \n",
    "be asymptotically normal centered around $\\bar{X}_n$. \n",
    "The bootstrap repeats this procedure many times.\n",
    "\n",
    "- The law of $\\bar{X}_n - \\mu$ is close to $\\bar{X}^*_n- \\bar{X}_n$. The closeness can be measured in terms of how close $\\hat{F}_n$ is to $F$. \n",
    "\n",
    "- Therefore, things that require the distribution of $\\bar{X}_n-\\mu$ can be approximated with\n",
    "the distributon of $\\bar{X}^*_n -\\bar{X}_n$."
   ]
  },
  {
   "cell_type": "code",
   "execution_count": null,
   "metadata": {
    "collapsed": false,
    "slideshow": {
     "slide_type": "slide"
    }
   },
   "outputs": [],
   "source": [
    "plot(ecdf(X), col='red')\n",
    "xval = seq(-5,20,length=100)\n",
    "lines(xval, 1 - exp(-(xval-mu) / noise_scale - 1), lwd=2)"
   ]
  },
  {
   "cell_type": "markdown",
   "metadata": {
    "slideshow": {
     "slide_type": "slide"
    }
   },
   "source": [
    "# Bootstrapping regression\n",
    "\n",
    "## Random X\n",
    "\n",
    "In this model, the quantities that are IID are  the pairs $(X_i,Y_i) \\sim G$.\n",
    "\n",
    "## Pairs bootstrap\n",
    "\n",
    "- Draw $n$ pairs $(X_{i,b}^*, Y_{i,b}^*), 1 \\leq i \\leq n$ with replacement from all cases.\n",
    "\n",
    "- Compute\n",
    "$$\n",
    "\\hat{\\beta}^*_b = ((X^*_b)^TX^*_b)^{-1}(X^*_b)^TY^*_b, \\qquad 1 \\leq b \\leq B\n",
    "$$\n",
    "\n",
    "- Distribution of $\\hat{\\beta}^*_b - \\hat{\\beta}$ can be used as an approximation of the distribution of $\\hat{\\beta}-\\beta(G)$.\n",
    "\n",
    "- Pretty similar to using\n",
    "$$\n",
    "\\tilde{\\beta}^*_b = (X^TX)^{-1}(X^*_b)^TY^*_b.\n",
    "$$\n",
    "\n",
    "### [Reference for more R examples](https://socserv.socsci.mcmaster.ca/jfox/Books/Companion/appendix/Appendix-Bootstrapping.pdf)"
   ]
  },
  {
   "cell_type": "code",
   "execution_count": null,
   "metadata": {
    "collapsed": false,
    "slideshow": {
     "slide_type": "slide"
    }
   },
   "outputs": [],
   "source": [
    "library(car)\n",
    "n = 50\n",
    "X = rexp(n)\n",
    "Y = 3 + 0.5 * X + X * rnorm(n)\n",
    "Y.lm = lm(Y ~ X)\n",
    "confint(Y.lm) # Gauss model is false here!"
   ]
  },
  {
   "cell_type": "code",
   "execution_count": null,
   "metadata": {
    "collapsed": false,
    "slideshow": {
     "slide_type": "fragment"
    }
   },
   "outputs": [],
   "source": [
    "pairs.Y.lm = Boot(Y.lm, coef, method='case')\n",
    "confint(pairs.Y.lm)"
   ]
  },
  {
   "cell_type": "markdown",
   "metadata": {
    "slideshow": {
     "slide_type": "slide"
    }
   },
   "source": [
    "# Bootstrapping regression\n",
    "\n",
    "## Fixed X\n",
    "\n",
    "In this model, the quantities that are IID are  the errors\n",
    "$$\n",
    "\\epsilon_i = Y_i - X_i^T\\beta.\n",
    "$$\n",
    "\n",
    "## Residual bootstrap\n",
    "\n",
    "- Compute\n",
    "$$\n",
    "\\hat{\\beta} = (X^TX)^{-1}X^TY\n",
    "$$\n",
    "and\n",
    "$$\n",
    "e = Y - X\\hat{\\beta} = Y - \\hat{Y}.\n",
    "$$\n",
    "\n",
    "- Draw $n$ errors $\\epsilon^*_{i,b}$ with replacement from $(e_{1}, \\dots, e_{n})$ and form\n",
    "$$\n",
    "Y^*_b = X\\hat{\\beta} + \\epsilon^*_b\n",
    "$$\n",
    "\n",
    "- Compute\n",
    "$$\n",
    "\\hat{\\beta}^*_b = (X^TX)^{-1}X^TY^*_b.\n",
    "$$\n",
    "\n",
    "- Bootstrap approximation: the law of $X^TY - E[X^TY]$ is close to the law of $X^TY^*_b - X^TY$.\n"
   ]
  },
  {
   "cell_type": "code",
   "execution_count": null,
   "metadata": {
    "collapsed": false,
    "slideshow": {
     "slide_type": "fragment"
    }
   },
   "outputs": [],
   "source": [
    "resid.Y.lm = Boot(Y.lm, coef, method='resid')\n",
    "confint(resid.Y.lm)"
   ]
  },
  {
   "cell_type": "markdown",
   "metadata": {
    "slideshow": {
     "slide_type": "slide"
    }
   },
   "source": [
    "## How is the coverage?"
   ]
  },
  {
   "cell_type": "code",
   "execution_count": null,
   "metadata": {
    "collapsed": false,
    "slideshow": {
     "slide_type": "fragment"
    }
   },
   "outputs": [],
   "source": [
    "simulate_correct = function(n=50, b=0.5) {\n",
    "    X = rexp(n)\n",
    "    Y = 3 + b * X + noise(n)\n",
    "    Y.lm = lm(Y ~ X)\n",
    "\n",
    "    # parametric interval\n",
    "    \n",
    "    int_param = confint(Y.lm)[2,]\n",
    "    \n",
    "    # pairs bootstrap interval\n",
    "    \n",
    "    pairs.Y.lm = Boot(Y.lm, coef, method='case')\n",
    "    int_pairs = confint(pairs.Y.lm)[2,]\n",
    "    \n",
    "    # resid bootstrap interval\n",
    "    \n",
    "    resid.Y.lm = Boot(Y.lm, coef, method='resid')\n",
    "    int_resid = confint(resid.Y.lm)[2,]\n",
    "    \n",
    "    return(c((int_param[1] < b) * (int_param[2] > b),\n",
    "             (int_pairs[1] < b) * (int_pairs[2] > b),\n",
    "             (int_resid[1] < b) * (int_resid[2] > b)))\n",
    "}\n",
    "\n",
    "simulate_correct()"
   ]
  },
  {
   "cell_type": "code",
   "execution_count": null,
   "metadata": {
    "collapsed": false,
    "slideshow": {
     "slide_type": "fragment"
    }
   },
   "outputs": [],
   "source": [
    "nsim = 100\n",
    "coverage = c()\n",
    "for (i in 1:nsim) {\n",
    "    coverage = rbind(coverage, simulate_correct())\n",
    "}\n",
    "colnames(coverage) = c('parametric', 'pairs bootstrap', 'residual bootstrap')\n",
    "print(apply(coverage, 2, mean))"
   ]
  },
  {
   "cell_type": "markdown",
   "metadata": {
    "collapsed": true,
    "slideshow": {
     "slide_type": "slide"
    }
   },
   "source": [
    "## Misspecified model"
   ]
  },
  {
   "cell_type": "code",
   "execution_count": null,
   "metadata": {
    "collapsed": false,
    "slideshow": {
     "slide_type": "fragment"
    }
   },
   "outputs": [],
   "source": [
    "simulate_incorrect = function(n=50, b=0.5) {\n",
    "    X = rexp(n)\n",
    "    # the Gauss model is \n",
    "    # quite off here -- Var(X^Tepsilon) is not well\n",
    "    # approximated by X^TX Var(epsilon)...\n",
    "    Y = 3 + b * X + X * noise(n)\n",
    "    Y.lm = lm(Y ~ X)\n",
    "\n",
    "    # parametric interval\n",
    "    \n",
    "    int_param = confint(Y.lm)[2,]\n",
    "    \n",
    "    # pairs bootstrap interval\n",
    "    \n",
    "    pairs.Y.lm = Boot(Y.lm, coef, method='case')\n",
    "    int_pairs = confint(pairs.Y.lm)[2,]\n",
    "    \n",
    "    # resid bootstrap interval\n",
    "    \n",
    "    resid.Y.lm = Boot(Y.lm, coef, method='resid')\n",
    "    int_resid = confint(resid.Y.lm)[2,]\n",
    "    \n",
    "    return(c((int_param[1] < b) * (int_param[2] > b),\n",
    "             (int_pairs[1] < b) * (int_pairs[2] > b),\n",
    "             (int_resid[1] < b) * (int_resid[2] > b)))\n",
    "}\n",
    "\n",
    "simulate_incorrect()"
   ]
  },
  {
   "cell_type": "code",
   "execution_count": null,
   "metadata": {
    "collapsed": false,
    "slideshow": {
     "slide_type": "fragment"
    }
   },
   "outputs": [],
   "source": [
    "nsim = 100\n",
    "coverage = c()\n",
    "for (i in 1:nsim) {\n",
    "    coverage = rbind(coverage, simulate_incorrect())\n",
    "}\n",
    "colnames(coverage) = c('parametric', 'pairs bootstrap', 'residual bootstrap')\n",
    "print(apply(coverage, 2, mean))"
   ]
  },
  {
   "cell_type": "markdown",
   "metadata": {},
   "source": [
    "## Logistic regression\n",
    "\n",
    "- Pairs bootstrap is most obvious to define: $(X_i,Y_i) \\overset{IID}{\\sim} F$. Then, resample pairs and refit logistic regression.\n",
    "\n",
    "### Similar approximation\n",
    "\n",
    "- Recall\n",
    "$$\n",
    "\\hat{\\beta} \\approx \\beta + (X^TW(\\beta)X)^{-1}X^T(Y - \\pi(\\beta)).\n",
    "$$\n",
    "\n",
    "- Pairs bootstrap is similar to using\n",
    "$$\n",
    "\\hat{\\beta}^*_b = (X^TW(\\hat{\\beta})X)^{-1}(X^*_b)^T(Y^*_b - \\pi^*(\\hat{\\beta}))\n",
    "$$\n",
    "where \n",
    "$$\\pi^*_i(\\hat{\\beta}) = \\frac{\\exp((X_{i,b}^*)^T\\hat{\\beta})}{1 + \\exp((X_{i,b}^*)^T\\hat{\\beta})}$$"
   ]
  },
  {
   "cell_type": "code",
   "execution_count": null,
   "metadata": {
    "collapsed": false,
    "slideshow": {
     "slide_type": "fragment"
    }
   },
   "outputs": [],
   "source": [
    "flu.table = read.table('http://stats203.stanford.edu/data/flu.table', header=T)\n",
    "flu.glm = glm(Shot ~ Age + Health.Aware, data=flu.table, family=binomial())\n",
    "flu.boot = Boot(flu.glm, coef, method='case')\n",
    "confint(flu.boot)"
   ]
  },
  {
   "cell_type": "markdown",
   "metadata": {
    "slideshow": {
     "slide_type": "slide"
    }
   },
   "source": [
    "## Residual bootstrap\n",
    "\n",
    "Not well-defined for logistic regression"
   ]
  },
  {
   "cell_type": "code",
   "execution_count": null,
   "metadata": {
    "collapsed": false,
    "slideshow": {
     "slide_type": "fragment"
    }
   },
   "outputs": [],
   "source": [
    "# resid bootstrap fails -- not really a well-defined model\n",
    "flu.boot = Boot(flu.glm, coef, method='resid')\n"
   ]
  },
  {
   "cell_type": "markdown",
   "metadata": {
    "slideshow": {
     "slide_type": "fragment"
    }
   },
   "source": [
    "### Parametric bootstrap\n",
    "\n",
    "- Assumes the parametric model is correct.\n",
    "\n",
    "- Repeatedly draw \n",
    "$$y_i^* \\sim \\text{Bernoulli}\\left(\\frac{\\exp(X_i^T\\hat{\\beta})}{1 + \\exp(X_i^T\\hat{\\beta})}\\right)$$\n",
    "\n",
    "- Reestimate $\\hat{\\beta}^*_b$ and use law of $\\hat{\\beta}^*_b - \\hat{\\beta}$ as a\n",
    "surrogate for law of $\\hat{\\beta}-\\beta$."
   ]
  }
 ],
 "metadata": {
  "kernelspec": {
   "display_name": "R",
   "language": "R",
   "name": "ir"
  },
  "language_info": {
   "codemirror_mode": "r",
   "file_extension": ".r",
   "mimetype": "text/x-r-source",
   "name": "R",
   "pygments_lexer": "r",
   "version": "3.2.2"
  }
 },
 "nbformat": 4,
 "nbformat_minor": 0
}
