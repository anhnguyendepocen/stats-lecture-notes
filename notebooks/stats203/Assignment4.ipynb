{
 "cells": [
  {
   "cell_type": "markdown",
   "metadata": {},
   "source": [
    "You may discuss homework problems with other students, but you have to prepare the written assignments yourself.\n",
    "\n",
    "Please combine all your answers, the computer code and the figures into one PDF file, and submit a copy to your gradescope account.\n",
    "\n",
    "**Complete 3 of the 4 problems below.**\n",
    "\n",
    "Grading scheme: 10 points per question, total of 30.\n",
    "Due date: 11:59 PM March 14, 2016 (Monday evening).\n"
   ]
  },
  {
   "cell_type": "markdown",
   "metadata": {},
   "source": [
    "# Question 1\n",
    "\n",
    "For logistic regression, the deviance (equal to the negative of twice the log-likelihood up to a constant) with design matrix $X \\in \\mathbb{R}^{n \\times p}$ and response $y \\in \\{0,1\\}^n$ is\n",
    "$$\n",
    "\\begin{aligned}\n",
    "    -2 \\left[ (X\\beta)^Ty - \\sum_{i=1}^n\\log \\left(1 + \\exp \\left(\\sum_{j=1}^p X_{ij} \\beta_j\\right) \\right)\\right]\n",
    "     \\end{aligned}$$\n",
    "     \n",
    "1. Show that\n",
    "$$\n",
    "\\frac{\\partial}{\\partial \\beta} DEV(\\beta|Y) = - 2 X^T(y - \\pi(\\beta))$$\n",
    "where\n",
    "$$\n",
    "\\pi(\\beta)=\\pi(\\beta;X) = \\left(\\frac{\\exp(X_i^T\\beta)}{1 + \\exp(X_i^T\\beta)}\\right)_{1 \\leq i \\leq n}.\n",
    "$$\n",
    "Conclude that\n",
    "the logistic regression estimator $\\hat{\\beta}$ satisfies\n",
    "$$\n",
    "X^T(y - \\pi(\\hat{\\beta}))=0.\n",
    "$$\n",
    "\n",
    "2. Show that \n",
    "$$\n",
    "\\frac{\\partial^2}{\\partial \\beta \\partial \\beta^T}DEV(\\beta|Y) = \n",
    "2 X^TW(\\beta)X\n",
    "$$\n",
    "where $W(\\beta) = \\text{diag}(\\pi(\\beta)(1 - \\pi(\\beta))$ is a diagonal matrix.\n"
   ]
  },
  {
   "cell_type": "markdown",
   "metadata": {},
   "source": [
    "# Question 2\n",
    "\n",
    "Suppose that we observe $(X_i,y_i)$ pairs from the following\n",
    "data generating process. First, $X_i$ is drawn from some distribution \n",
    "$F$ on $\\mathbb{R}^p$. Independently of $X_i$, we draw $\\epsilon_i \\sim N(0, \\sigma^2)$ and for some fixed $\\gamma \\in \\mathbb{R}^p$ set\n",
    "$$\n",
    "y_i = \\begin{cases}\n",
    "1 & X_i^T\\gamma + \\epsilon_i \\geq 0 \\\\\n",
    "0 & X_i^T\\gamma + \\epsilon_i < 0.\n",
    "\\end{cases}\n",
    "$$\n",
    "\n",
    "1. Show that, conditional on $X_i$ the **probit** model holds. That is,\n",
    "there is some $\\beta \\in \\mathbb{R}^p$ such that\n",
    "$$\n",
    "P(y_i=1|X_i=x_i) = \\Phi(x_i^T\\beta) = \\int_{-\\infty}^{x_i^T\\beta} \\frac{e^{-z^2/2}}{\\sqrt{2\\pi}} \\; dz.\n",
    "$$\n",
    "\n",
    "2. What is the relationship between $\\beta$ and $\\gamma$?"
   ]
  },
  {
   "cell_type": "markdown",
   "metadata": {},
   "source": [
    "# Question 3\n",
    "\n",
    "Suppose that data are generated with the following mechanism.\n",
    "First, $y \\sim \\text{Bernoulli}(q)$ for some $q \\in (0,1)$.\n",
    "If $y=1$ then we draw $X \\sim N(\\mu_1,\\Sigma)$ for some mean\n",
    "vector $\\mu_1 \\in \\mathbb{R}^p$ and some covariance matrix $\\Sigma$.\n",
    "If $y=0$ then we draw $X \\sim N(\\mu_0, \\Sigma)$ for some different\n",
    "mean vector $\\mu_0 \\in \\mathbb{R}^p$.\n",
    "\n",
    "1. Compute \n",
    "$$\n",
    "P(y=1 | X=x).\n",
    "$$\n",
    "\n",
    "2. Conclude that the logistic model holds. That is, for some \n",
    "$\\beta \\in \\mathbb{R}^p$ and some $\\alpha \\in \\mathbb{R}$ we have\n",
    "$$\n",
    "P(y=1 | X=x) = \\frac{\\exp(\\alpha + x^T\\beta)}{1 + \\exp(\\alpha + x^T\\beta)}.\n",
    "$$\n",
    "\n",
    "3. Express $\\alpha, \\beta$ in terms of $q, \\mu_1, \\mu_0, \\Sigma$.\n"
   ]
  },
  {
   "cell_type": "markdown",
   "metadata": {},
   "source": [
    "# Question 4\n",
    "\n",
    "In this question, we will fit a logistic regression model to the `spam`\n",
    "data found in the package `ElemStatLearn`. For a description of the dataset use `?spam` after having loaded it as below."
   ]
  },
  {
   "cell_type": "code",
   "execution_count": 1,
   "metadata": {
    "collapsed": false
   },
   "outputs": [
    {
     "name": "stderr",
     "output_type": "stream",
     "text": [
      "Loading required package: Matrix\n",
      "Loading required package: foreach\n",
      "Loaded glmnet 2.0-2\n",
      "\n"
     ]
    }
   ],
   "source": [
    "library(ElemStatLearn)\n",
    "library(glmnet)\n",
    "data(spam)"
   ]
  },
  {
   "cell_type": "markdown",
   "metadata": {},
   "source": [
    "1. Using a random 80% of the data (formed just after calling `set.seed(1)` so that\n",
    "everyone will have the same split), fit a logistic regression model\n",
    "using forward stepwise with AIC to the `spam` data.\n",
    "\n",
    "2. Using the same split of the data repeat 1. using BIC. Are the models\n",
    "very different?\n",
    "\n",
    "3. Find the `lambda.1se` (the so-called 1 standard error choice) from `cv.glmnet`. Refit `glmnet` and find the list of selected variables. Are\n",
    "these very different from parts 1. and 2.?\n",
    "\n",
    "4. At this point, in practice, one would have to make a decision about\n",
    "which model one might want to use to report confidence intervals and or tests of hypotheses about. (In this example, granted, the features are somewhat anonymous, but we will report some anyways.) Using the remaining 20% of the data, fit the model selected with BIC. Report Bonferroni-adjusted $p$-values for testing the effect of each selected variable.\n",
    "\n",
    "5. Report Bonferroni-adjusted simultaneous confidence intervals for the effects of all of the selected variables using the same model as in 4.\n",
    "\n",
    "### Possibly useful bits of `R` for this problem"
   ]
  },
  {
   "cell_type": "code",
   "execution_count": 2,
   "metadata": {
    "collapsed": true
   },
   "outputs": [],
   "source": [
    "# for use with glmnet. remember -- family is binomial here\n",
    "Y = as.numeric(spam$spam == 'spam')\n",
    "X = as.matrix(spam[,1:57])\n",
    "# scope of model -- probably is a better way to do this\n",
    "# but my efforts with step were foiled\n",
    "scope=list(upper=~A.1+A.2+A.3+A.4+A.5+A.6+A.7+A.8+A.9+A.10+\n",
    "           A.11+A.12+A.13+A.14+A.15+A.16+A.17+A.18+A.19+A.20+\n",
    "           A.21+A.22+A.23+A.24+A.25+A.26+A.27+A.28+A.29+A.30+\n",
    "           A.31+A.32+A.33+A.34+A.35+A.36+A.37+A.38+A.39+A.40+\n",
    "           A.41+A.42+A.43+A.44+A.45+A.46+A.47+A.48+A.49+A.50+\n",
    "           A.51+A.52+A.53+A.54+A.55+A.56+A.57)\n"
   ]
  }
 ],
 "metadata": {
  "kernelspec": {
   "display_name": "R",
   "language": "R",
   "name": "ir"
  },
  "language_info": {
   "codemirror_mode": "r",
   "file_extension": ".r",
   "mimetype": "text/x-r-source",
   "name": "R",
   "pygments_lexer": "r",
   "version": "3.2.2"
  }
 },
 "nbformat": 4,
 "nbformat_minor": 0
}
