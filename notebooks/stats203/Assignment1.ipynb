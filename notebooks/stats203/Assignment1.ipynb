{
 "cells": [
  {
   "cell_type": "markdown",
   "metadata": {},
   "source": [
    "\n",
    "**You may discuss homework problems with other students, but you have to prepare the written assignments yourself.**\n",
    "\n",
    "**Please combine all your answers, the computer code and the figures into one PDF file, and submit a copy to your dropbox folder.**\n",
    "\n",
    "**Grading scheme: 10 points per question, total of 70.**\n",
    " \n",
    "**Due date: 11:59 PM January 22, 2015 (Friday evening).**"
   ]
  },
  {
   "cell_type": "markdown",
   "metadata": {},
   "source": [
    "# Question 1 (Freedman 2.A.1)\n",
    "\n",
    "In the Pearson-Lee data of fathers' and sons' heights, the average height of the fathers was \n",
    "67.7 inches with an SD of 2.74 inches. The average heigth of the sons was 68.7 inches with an\n",
    "SD of 2.81 inches. The correlation between fathers' and sons' heights was 0.501.\n",
    "\n",
    "1. True or false and explain: because the sons average an inch taller than the fathers, if the father\n",
    "is 72 inches tall, it's 50-50 whether the son is taller than 73 inches.\n",
    "\n",
    "2. Find the regression line of son's height on father's height, and its RMS error (i.e. estimate of $\\hat{\\sigma}$).\n"
   ]
  },
  {
   "cell_type": "markdown",
   "metadata": {},
   "source": [
    "# Question 2 (Freedman 2.B.12) \n",
    "\n",
    "Suppose $x_1, \\dots, x_n$ are real numbers. Let \n",
    "$$\n",
    "\\bar{x} = \\frac{1}{n} \\sum_{i=1}^n x_i.\n",
    "$$\n",
    "Let $c$ be a real number.\n",
    "\n",
    "1. Show that $\\sum_{i=1}^n (x_i - \\bar{x}) = 0.$\n",
    "\n",
    "2. Show that $\\sum_{i=1}^n (x_i - c)^2 = \\sum_{i=1}^n (x_i-\\bar{x})^2 + n (\\bar{x}-c)^2.$\n",
    "\n",
    "3. Show that $\\sum_{i=1}^n (x_i-c)^2$, as a function of $c$ has a unique minimum at $c=\\bar{x}$.\n",
    "\n",
    "4. Show that $\\sum_{i=1}^n x_i^2 = \\sum_{i=1}^n (x_i-\\bar{x})^2 + n \\bar{x}^2.$\n"
   ]
  },
  {
   "cell_type": "markdown",
   "metadata": {},
   "source": [
    "# Question 3\n",
    "\n",
    "1. Use the `anscombe` data in `R`. Attach the table using the command `attach`.\n",
    "\n",
    "2.  Plot the 4 data sets `(x1,y1), (x2,y2), (x3,y3), (x4,y4)` on a 2-by-2 grid of plots using the commands `plot` and `par(mfrow=c(2,2))`. \n",
    "Add the number of the dataset to each plot as the main title on each plot. (See [R tips](http://nbviewer.ipython.org/url/web.stanford.edu/class/stats203/notebooks/Some tips on R.ipynb)).\n",
    "\n",
    "3. Fit a regression model to the data sets:\n",
    "\n",
    "    a. `y1 ~ x1`\n",
    "\n",
    "    b. `y2 ~ x2`\n",
    "\n",
    "    c. `y3 ~ x3`\n",
    "\n",
    "    d. `y4 ~ x4`\n",
    "\n",
    "   using the command `lm`. Verify that all the fitted models have the exact same coefficients (up to numerical tolerance).\n",
    "\n",
    "4. Using the command `cor`, compute the sample correlation for each data set.\n",
    "\n",
    "5. Fit the same models in 3. but with the `x` and `y` reversed. Using the command `summary`, does anything about the results stay\n",
    "the same when you reverse `x` and `y`?\n",
    "\n",
    "6. Compute the $SSE, SST$ and $R^2$ value for each data set. Use the\n",
    "commands `mean, sum, predict`.\n",
    "\n",
    "7.  Using the command `summary`, verify that all 4 models have exactly (up to numerical accuracy) the same $t$-statistics for testing the hypotheses $H_0:\\beta_0=0$ and $H_0:\\beta_1=0$.\n",
    "\n",
    "8. Using the command `abline`, replot the data, adding the regression line to each plot."
   ]
  },
  {
   "cell_type": "code",
   "execution_count": null,
   "metadata": {
    "collapsed": false
   },
   "outputs": [],
   "source": [
    "anscombe"
   ]
  },
  {
   "cell_type": "markdown",
   "metadata": {},
   "source": [
    "# Question 4\n",
    "\n",
    "Suppose $\\xi_i, \\zeta_i$ are random variables for $i=1, \\dots, n$. As pairs, they are independent\n",
    "and identically distributed in $i$. Let $\\bar{\\xi}=\\frac{1}{n} \\sum_{i=1}^n \\xi_i$ and likewise\n",
    "define $\\bar{\\zeta}$. True or false, and explain:\n",
    "\n",
    "1. $\\text{Cov}(\\xi_i, \\zeta_i)$ is the same for every $i$.\n",
    "\n",
    "2. $\\text{Cov}(\\xi_i, \\zeta_i) = \\frac{1}{n} \\sum_{i=1}^n (\\xi_i-\\bar{\\xi})(\\zeta_i-\\bar{\\zeta}).$"
   ]
  },
  {
   "cell_type": "markdown",
   "metadata": {},
   "source": [
    "# Question 5 (based on Freedman 3.E.2)\n",
    "\n",
    "Suppose $R$ is an orthogonal $n \\times n$ matrix. If $U$ is an $n \\times 1$ vector of IID $N(0,\\sigma^2)$ variables.\n",
    "Show that $RU$ is an $n \\times 1$ vector of IID $N(0, \\sigma^2)$ random variables."
   ]
  },
  {
   "cell_type": "markdown",
   "metadata": {},
   "source": [
    "# Question 6 (Freedman 3.E.5)\n",
    "\n",
    "Suppose $\\xi$ and $\\zeta$ are jointly normal variables, with $E(\\xi)=\\alpha, \\text{Var}(\\xi)=\\sigma^2$ and\n",
    "$E(\\zeta)=\\beta, \\text{Var}(\\zeta)=\\tau^2$, and $\\text{Cov}(\\xi,\\zeta)=\\rho \\sigma \\tau$. \n",
    "\n",
    "1. What is \n",
    "$$\\text{Cov}\\begin{pmatrix} \\xi \\\\ \\zeta \\end{pmatrix}?$$\n",
    "\n",
    "2. What is the density of $(\\xi,\\zeta)$?\n",
    "\n",
    "3. Find the mean and variance of $\\xi + \\zeta$. Is $\\xi + \\zeta$ normal?\n",
    "\n"
   ]
  },
  {
   "cell_type": "markdown",
   "metadata": {},
   "source": [
    "# Question 7 (Freedman 4.A.1 and 2)\n",
    "\n",
    "In the regression model presented in Section 4.1 of Freedman, one of the following is always true and the other\n",
    "is usually false. Which is which and why?\n",
    "\n",
    "$$\\def\\indep{\\perp\\!\\!\\!\\perp}$$\n",
    "\n",
    "($\\perp$ means \"orthogonal\", $\\indep$ means independent)\n",
    "\n",
    "1.  $\\epsilon \\perp X$ or $\\epsilon \\indep X$.\n",
    "\n",
    "2. $e \\perp X$ or $e \\indep X$."
   ]
  },
  {
   "cell_type": "code",
   "execution_count": null,
   "metadata": {
    "collapsed": true
   },
   "outputs": [],
   "source": []
  }
 ],
 "metadata": {
  "kernelspec": {
   "display_name": "R",
   "language": "R",
   "name": "ir"
  },
  "language_info": {
   "codemirror_mode": "r",
   "file_extension": ".r",
   "mimetype": "text/x-r-source",
   "name": "R",
   "pygments_lexer": "r",
   "version": "3.2.2"
  }
 },
 "nbformat": 4,
 "nbformat_minor": 0
}
