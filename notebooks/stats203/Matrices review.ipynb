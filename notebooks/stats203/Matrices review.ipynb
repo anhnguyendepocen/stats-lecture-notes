{
 "cells": [
  {
   "cell_type": "code",
   "execution_count": null,
   "metadata": {
    "collapsed": true,
    "slideshow": {
     "slide_type": "skip"
    }
   },
   "outputs": [],
   "source": [
    "# initialization cell\n",
    "import numpy as np"
   ]
  },
  {
   "cell_type": "markdown",
   "metadata": {
    "slideshow": {
     "slide_type": "slide"
    }
   },
   "source": [
    "### Matrix multiplication\n",
    "\n",
    "Let\n",
    "$$\n",
    "A = \\begin{pmatrix}\n",
    "a_{11} & \\dots & a_{1k} \\\\\n",
    "\\vdots & \\vdots & \\vdots \\\\\n",
    "a_{m1} & \\dots & a_{mk}\n",
    "\\end{pmatrix}\n",
    ",  \\qquad\n",
    "B = \\begin{pmatrix}\n",
    "b_{11} & \\dots & b_{1n} \\\\\n",
    "\\vdots & \\vdots & \\vdots \\\\\n",
    "b_{k1} & \\dots & b_{kn}\n",
    "\\end{pmatrix}\n",
    "$$\n",
    "\n",
    "Then,\n",
    "$$\n",
    "(AB)_{ij} = \\sum_{l=1}^k a_{il}b_{lj}.\n",
    "$$\n",
    "\n",
    "### Transpose\n",
    "\n",
    "$$\n",
    "A^T = \\begin{pmatrix}\n",
    "a_{11} & \\dots & a_{m1} \\\\\n",
    "\\vdots & \\vdots & \\vdots \\\\\n",
    "a_{1k} & \\dots & a_{mk}\n",
    "\\end{pmatrix}\n",
    "$$"
   ]
  },
  {
   "cell_type": "markdown",
   "metadata": {
    "slideshow": {
     "slide_type": "slide"
    }
   },
   "source": [
    "## Design matrices\n",
    "\n",
    "Important examples matrices for us are matrices like\n",
    "$$\n",
    "D = \\begin{pmatrix}\n",
    "1 & X_1 \\\\\n",
    "\\vdots & \\vdots \\\\\n",
    "1 & X_n\n",
    "\\end{pmatrix}\n",
    "$$\n",
    "\n",
    "(*Note:* later on, the design matrix will be called $X$)"
   ]
  },
  {
   "cell_type": "code",
   "execution_count": 3,
   "metadata": {
    "collapsed": false,
    "slideshow": {
     "slide_type": "fragment"
    }
   },
   "outputs": [
    {
     "data": {
      "text/plain": [
       "array([[  1.,   0.],\n",
       "       [  1.,   2.],\n",
       "       [  1.,   4.],\n",
       "       [  1.,   6.],\n",
       "       [  1.,   8.],\n",
       "       [  1.,  10.]])"
      ]
     },
     "execution_count": 3,
     "metadata": {},
     "output_type": "execute_result"
    }
   ],
   "source": [
    "# Hooke's law data\n",
    "X = np.array([0., 2., 4., 6., 8., 10.])\n",
    "Y = np.array([439.00, 439.12, 439.21, 439.31, 439.40, 439.50])\n",
    "\n",
    "# design matrix\n",
    "D = np.vstack([np.ones_like(X), X]).T\n",
    "D"
   ]
  },
  {
   "cell_type": "markdown",
   "metadata": {
    "slideshow": {
     "slide_type": "slide"
    }
   },
   "source": [
    "### Matrix-vector multiplication"
   ]
  },
  {
   "cell_type": "code",
   "execution_count": 4,
   "metadata": {
    "collapsed": false,
    "slideshow": {
     "slide_type": "fragment"
    }
   },
   "outputs": [
    {
     "name": "stdout",
     "output_type": "stream",
     "text": [
      "[  1.   5.   9.  13.  17.  21.]\n",
      "[  1.   5.   9.  13.  17.  21.]\n"
     ]
    }
   ],
   "source": [
    "beta = np.array([1., 2])\n",
    "print(D.dot(beta))\n",
    "\n",
    "# An alternative way\n",
    "print(beta[0] * D[:,0] + beta[1] * D[:,1])"
   ]
  },
  {
   "cell_type": "markdown",
   "metadata": {
    "slideshow": {
     "slide_type": "slide"
    }
   },
   "source": [
    "### Inner (dot) product\n",
    "\n",
    "$$\n",
    "\\langle v, u \\rangle = v^Tu = \\sum_{i=1}^n v_i u_i\n",
    "$$\n",
    "\n",
    "### Euclidean length\n",
    "\n",
    "$$\n",
    "\\|v\\|^2 = \\langle v, v \\rangle = \\sum_{i=1}^n v_i^2\n",
    "$$\n",
    "\n",
    "(*Note:* sometimes we write $\\|v\\|^2_2$ to emphasize that it is Euclidean length\n",
    "when there are other lengths we might consider.)"
   ]
  },
  {
   "cell_type": "code",
   "execution_count": 5,
   "metadata": {
    "collapsed": false,
    "slideshow": {
     "slide_type": "fragment"
    }
   },
   "outputs": [
    {
     "name": "stdout",
     "output_type": "stream",
     "text": [
      "(13181.139999999999, 13181.139999999999)\n",
      "(1157678.6845999998, 1157678.6845999998)\n"
     ]
    }
   ],
   "source": [
    "# dot product\n",
    "print(X.dot(Y), (X*Y).sum())\n",
    "\n",
    "# length squared\n",
    "print((Y**2).sum(), np.linalg.norm(Y)**2)"
   ]
  },
  {
   "cell_type": "markdown",
   "metadata": {
    "slideshow": {
     "slide_type": "slide"
    }
   },
   "source": [
    "### SSE in matrix form\n",
    "\n",
    "Let \n",
    "$$\n",
    "\\beta = \\begin{pmatrix}\n",
    "\\beta_0 \\\\\n",
    "\\beta_1\n",
    "\\end{pmatrix}.\n",
    "$$\n",
    "Then,\n",
    "$$\n",
    "D\\beta = \\beta \\cdot 1 + \\beta_1 \\cdot X\n",
    "$$\n",
    "and\n",
    "$$\n",
    "\\begin{aligned}\n",
    "SSE(\\beta) &= \\|Y - D\\beta\\|^2 \\\\\n",
    "&= \\|Y\\|^2 - 2 Y^T(D\\beta) + \\beta^T(D^TD)\\beta\n",
    "\\end{aligned}\n",
    "$$"
   ]
  },
  {
   "cell_type": "code",
   "execution_count": 6,
   "metadata": {
    "collapsed": false,
    "slideshow": {
     "slide_type": "slide"
    }
   },
   "outputs": [
    {
     "data": {
      "text/plain": [
       "(2, 2)"
      ]
     },
     "execution_count": 6,
     "metadata": {},
     "output_type": "execute_result"
    }
   ],
   "source": [
    "S = D.T.dot(D)\n",
    "S.shape"
   ]
  },
  {
   "cell_type": "markdown",
   "metadata": {
    "slideshow": {
     "slide_type": "slide"
    }
   },
   "source": [
    "## Least squares estimators in matrix form\n",
    "\n",
    "### Normal equations\n",
    "\n",
    "$$\n",
    "\\begin{aligned}\n",
    "\\frac{1}{2} \\frac{\\partial}{\\partial \\beta} SSE(\\beta) = D^TY - (D^TD)\\beta\n",
    "\\end{aligned}\n",
    "$$\n",
    "\n",
    "At $\\hat{\\beta}$:\n",
    "$$\n",
    "0 = \\frac{1}{2} \\frac{\\partial}{\\partial \\beta} SSE(\\beta) \\biggl|_{\\beta=\\hat{\\beta}} = D^TY - (D^TD)\\hat{\\beta}.\n",
    "$$\n",
    "\n",
    "Or,\n",
    "$$\n",
    "\\hat{\\beta} = (D^TD)^{-1}D^Ty.\n",
    "$$"
   ]
  },
  {
   "cell_type": "markdown",
   "metadata": {
    "slideshow": {
     "slide_type": "slide"
    }
   },
   "source": [
    "### Inverse\n",
    "\n",
    "$$\n",
    "AA^{-1} = I = \\text{diag}(1,\\dots, 1).\n",
    "$$"
   ]
  },
  {
   "cell_type": "code",
   "execution_count": 7,
   "metadata": {
    "collapsed": false,
    "slideshow": {
     "slide_type": "fragment"
    }
   },
   "outputs": [
    {
     "data": {
      "text/plain": [
       "array([[  1.00000000e+00,   0.00000000e+00],\n",
       "       [ -1.77635684e-15,   1.00000000e+00]])"
      ]
     },
     "execution_count": 7,
     "metadata": {},
     "output_type": "execute_result"
    }
   ],
   "source": [
    "Sinv = np.linalg.inv(S)\n",
    "S.dot(Sinv)"
   ]
  },
  {
   "cell_type": "markdown",
   "metadata": {
    "slideshow": {
     "slide_type": "slide"
    }
   },
   "source": [
    "### Solving the normal equations\n",
    "\n",
    "We see\n",
    "$$\n",
    "\\hat{\\beta} = (D^TD)^{-1}D^TY,\n",
    "$$\n",
    "where\n",
    "$$\n",
    "D^TD = \\begin{pmatrix} n & \\sum_{i=1}^n X_i \\\\\n",
    "\\sum_{i=1}^n X_i & \\sum_{i=1}^n X_i^2\n",
    "\\end{pmatrix}\n",
    "$$"
   ]
  },
  {
   "cell_type": "code",
   "execution_count": 8,
   "metadata": {
    "collapsed": false,
    "slideshow": {
     "slide_type": "fragment"
    }
   },
   "outputs": [
    {
     "data": {
      "text/plain": [
       "array([  4.39010952e+02,   4.91428571e-02])"
      ]
     },
     "execution_count": 8,
     "metadata": {},
     "output_type": "execute_result"
    }
   ],
   "source": [
    "Sinv.dot(D.T.dot(Y))"
   ]
  },
  {
   "cell_type": "markdown",
   "metadata": {
    "slideshow": {
     "slide_type": "fragment"
    }
   },
   "source": [
    "Compare to:"
   ]
  },
  {
   "cell_type": "code",
   "execution_count": 9,
   "metadata": {
    "collapsed": false,
    "slideshow": {
     "slide_type": "fragment"
    }
   },
   "outputs": [
    {
     "data": {
      "text/plain": [
       "array([  4.39010952e+02,   4.91428571e-02])"
      ]
     },
     "execution_count": 9,
     "metadata": {},
     "output_type": "execute_result"
    }
   ],
   "source": [
    "import statsmodels.api as sm\n",
    "design = sm.add_constant(X)\n",
    "sm.OLS(Y,design).fit().params"
   ]
  },
  {
   "cell_type": "markdown",
   "metadata": {
    "slideshow": {
     "slide_type": "slide"
    }
   },
   "source": [
    "## SVD \n",
    "\n",
    "Any $n \\times p$ matrix $X$ of rank $k \\leq \\min(n,p)$ can be written in terms of its [SVD](https://en.wikipedia.org/wiki/Singular_value_decomposition) as\n",
    "$$\n",
    "X_{n \\times p} = U_{n \\times k} D_{k \\times k} V^T_{k \\times p}\n",
    "$$\n",
    "where\n",
    "$$\n",
    "U^TU = V^TV = I_{k \\times k}\n",
    "$$\n",
    "and $D = \\text{diag}(D_1 \\geq  \\dots \\geq D_k)$."
   ]
  },
  {
   "cell_type": "code",
   "execution_count": 10,
   "metadata": {
    "collapsed": false,
    "slideshow": {
     "slide_type": "fragment"
    }
   },
   "outputs": [
    {
     "data": {
      "text/plain": [
       "((6, 2), array([ 14.97084014,   1.36892127]), (2, 2))"
      ]
     },
     "execution_count": 10,
     "metadata": {},
     "output_type": "execute_result"
    }
   ],
   "source": [
    "u, d, v = np.linalg.svd(D, full_matrices=0)\n",
    "u.shape, d, v.shape"
   ]
  },
  {
   "cell_type": "code",
   "execution_count": 11,
   "metadata": {
    "collapsed": false,
    "slideshow": {
     "slide_type": "fragment"
    }
   },
   "outputs": [
    {
     "data": {
      "text/plain": [
       "(array([[  1.00000000e+00,   5.55111512e-17],\n",
       "        [  5.55111512e-17,   1.00000000e+00]]), array([[ 1.,  0.],\n",
       "        [ 0.,  1.]]))"
      ]
     },
     "execution_count": 11,
     "metadata": {},
     "output_type": "execute_result"
    }
   ],
   "source": [
    "u.T.dot(u), v.T.dot(v)"
   ]
  },
  {
   "cell_type": "markdown",
   "metadata": {
    "slideshow": {
     "slide_type": "slide"
    }
   },
   "source": [
    "### Projections\n",
    "\n",
    "The matrices $P_C = UU^T$ and $P_R=VV^T$ are\n",
    "- symmetric $P=P^T$\n",
    "- idempotent $P^2=P$\n",
    "\n",
    "These are orthogonal projection matrices onto $\\text{col}(X)$ (for $P_C$) and $\\text{row}(X)$ (for $P_R$), respectively."
   ]
  },
  {
   "cell_type": "code",
   "execution_count": 12,
   "metadata": {
    "collapsed": false,
    "slideshow": {
     "slide_type": "fragment"
    }
   },
   "outputs": [
    {
     "data": {
      "text/plain": [
       "(0.0, 3.9582117297575385e-16)"
      ]
     },
     "execution_count": 12,
     "metadata": {},
     "output_type": "execute_result"
    }
   ],
   "source": [
    "P_C = u.dot(u.T)\n",
    "np.linalg.norm(P_C - P_C.T), np.linalg.norm(P_C.dot(P_C) - P_C)"
   ]
  },
  {
   "cell_type": "markdown",
   "metadata": {
    "slideshow": {
     "slide_type": "fragment"
    }
   },
   "source": [
    "The matrix $P_C$ can also be written as\n",
    "$$\n",
    "P_C = X(X^TX)^{-1}X^T.\n",
    "$$\n",
    "\n",
    "As \n",
    "$$\n",
    "\\hat{\\beta} = (X^TX)^{-1}X^TY\n",
    "$$\n",
    "we see that the vector of fitted values satisfies\n",
    "$$\n",
    "X\\hat{\\beta}= X(X^TX)^{-1}X^TY = P_CY.\n",
    "$$\n",
    "That is, the model finds fitted values by projecting $Y$ onto $\\text{col}(X)$.\n",
    "\n",
    "The vector of residuals satisfies\n",
    "$$\n",
    "Y- X\\hat{\\beta} = Y - P_CY = (I - P_C)Y.\n",
    "$$\n",
    "The matrix $(I-P_C)$ is also an orthogonal projection matrix (i.e. it is symmetric and idempotent). It corresponds\n",
    "to projection to the orthocomplement of $\\text{col}(Y)$."
   ]
  },
  {
   "cell_type": "code",
   "execution_count": 13,
   "metadata": {
    "collapsed": false,
    "slideshow": {
     "slide_type": "fragment"
    }
   },
   "outputs": [
    {
     "name": "stdout",
     "output_type": "stream",
     "text": [
      "(0.0, 4.7479479777112764e-16)\n",
      "4.66869692243e-16\n"
     ]
    }
   ],
   "source": [
    "R_C = np.identity(P_C.shape[0]) - P_C\n",
    "print(np.linalg.norm(R_C - R_C.T), np.linalg.norm(R_C.dot(R_C) - R_C))\n",
    "print np.linalg.norm(R_C.dot(P_C))"
   ]
  },
  {
   "cell_type": "code",
   "execution_count": null,
   "metadata": {
    "collapsed": true
   },
   "outputs": [],
   "source": []
  }
 ],
 "metadata": {
  "celltoolbar": "Slideshow",
  "kernelspec": {
   "display_name": "Python 2",
   "language": "python",
   "name": "python2"
  },
  "language_info": {
   "codemirror_mode": {
    "name": "ipython",
    "version": 2
   },
   "file_extension": ".py",
   "mimetype": "text/x-python",
   "name": "python",
   "nbconvert_exporter": "python",
   "pygments_lexer": "ipython2",
   "version": "2.7.11"
  }
 },
 "nbformat": 4,
 "nbformat_minor": 0
}
