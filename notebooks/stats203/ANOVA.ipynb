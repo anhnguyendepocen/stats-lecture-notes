{
 "cells": [
  {
   "cell_type": "markdown",
   "metadata": {
    "slideshow": {
     "slide_type": "slide"
    }
   },
   "source": [
    "# ANOVA models\n",
    "\n",
    "- We have not discussed categorical variables very much yet. \n",
    "\n",
    "- ANOVA models are regression models with only categorical variables.\n",
    "\n",
    "- Generalization of the two sample $t$-test."
   ]
  },
  {
   "cell_type": "markdown",
   "metadata": {
    "slideshow": {
     "slide_type": "slide"
    }
   },
   "source": [
    "## Example: recovery time\n",
    "\n",
    "* Suppose we want to understand the relationship between\n",
    "recovery time after surgery based on an patient's prior fitness.\n",
    "\n",
    "* We group patients into three fitness levels: below average, average, above average.\n",
    "\n",
    "* If you are in better shape before surgery, does it take less time to\n",
    "  recover?"
   ]
  },
  {
   "cell_type": "code",
   "execution_count": null,
   "metadata": {
    "collapsed": false,
    "slideshow": {
     "slide_type": "fragment"
    }
   },
   "outputs": [],
   "source": [
    "url = 'http://stats191.stanford.edu/data/rehab.csv'\n",
    "rehab.table = read.table(url, header=T, sep=',')\n",
    "rehab.table$Fitness = factor(rehab.table$Fitness) \n",
    "head(rehab.table)\n",
    "rehab.table$Fitness"
   ]
  },
  {
   "cell_type": "code",
   "execution_count": null,
   "metadata": {
    "collapsed": false,
    "slideshow": {
     "slide_type": "slide"
    }
   },
   "outputs": [],
   "source": [
    "attach(rehab.table)\n",
    "boxplot(Time ~ Fitness, col=c('red','green','blue'))"
   ]
  },
  {
   "cell_type": "markdown",
   "metadata": {
    "slideshow": {
     "slide_type": "slide"
    }
   },
   "source": [
    "## One-way ANOVA\n",
    "\n",
    "*   First generalization of two sample $t$-test: more than two groups.\n",
    "\n",
    "* Observations are broken up into $r$ groups with $n_i, 1 \\leq i \\leq r$ observations per group.\n",
    "\n",
    "*  Model:\n",
    "    $$Y_{ij} = \\mu  + \\alpha_i + \\varepsilon_{ij}, \\qquad \\varepsilon_{ij} \\sim N(0, \\sigma^2).$$\n",
    "\n",
    "*   Constraint: $\\sum_{i=1}^r \\alpha_i = 0$. This constraint is needed\n",
    "    for identifiability. \n",
    "    \n",
    "* This is not the same *parameterization* we get when only adding $r-1$ 0-1 columns, but it gives the same *model*.\n",
    "\n",
    "* The estimates of $\\alpha$ can be obtained from the estimates\n",
    "of $\\beta$ using `R`'s default parameters.\n",
    "\n",
    "* For a more detailed exploration into `R`'s creation of design matrices,\n",
    "try reading the following [tutorial on design matrices](http://nbviewer.ipython.org/github/fperez/nipy-notebooks/blob/master/exploring_r_formula.ipynb).\n"
   ]
  },
  {
   "cell_type": "markdown",
   "metadata": {
    "slideshow": {
     "slide_type": "slide"
    }
   },
   "source": [
    "## Remember, it's still a model (i.e. a plane)\n",
    "\n",
    "<img src=\"figs/axes_multiple_full.svg\">\n"
   ]
  },
  {
   "cell_type": "markdown",
   "metadata": {
    "slideshow": {
     "slide_type": "slide"
    }
   },
   "source": [
    "## Fitting the model\n",
    "\n",
    "\n",
    "-   Model is easy to fit:\n",
    "    $$\\widehat{Y}_{ij} = \\frac{1}{n_i} \\sum_{j=1}^{n_i} Y_{ij} = \\overline{Y}_{i\\cdot}.$$\n",
    "    If observation is in $i$-th group: predicted mean is just the sample\n",
    "    mean of observations in $i$-th group.\n",
    "\n",
    "-   Simplest question: is there any group (main) effect?\n",
    " $$H_0:\\alpha_1 = \\dots = \\alpha_r= 0?$$\n",
    "\n",
    "-   Test is based on $F$-test with full model vs. reduced model. Reduced\n",
    "    model just has an intercept.\n",
    "\n",
    "-   Other questions: is the effect the same in groups 1 and 2?\n",
    "    $$H_0:\\alpha_1=\\alpha_2?$$\n"
   ]
  },
  {
   "cell_type": "code",
   "execution_count": null,
   "metadata": {
    "collapsed": false,
    "slideshow": {
     "slide_type": "slide"
    }
   },
   "outputs": [],
   "source": [
    "rehab.lm = lm(Time ~ Fitness)\n",
    "summary(rehab.lm)"
   ]
  },
  {
   "cell_type": "code",
   "execution_count": null,
   "metadata": {
    "collapsed": false,
    "slideshow": {
     "slide_type": "slide"
    }
   },
   "outputs": [],
   "source": [
    "predict(rehab.lm, list(Fitness=factor(c(1,2,3))))\n",
    "c(mean(Time[Fitness == 1]), mean(Time[Fitness == 2]), mean(Time[Fitness == 3]))"
   ]
  },
  {
   "cell_type": "markdown",
   "metadata": {
    "slideshow": {
     "slide_type": "slide"
    }
   },
   "source": [
    "Recall that the rows of the `Coefficients` table above do not\n",
    "correspond to the $\\alpha$ parameter. For one thing, we would see \n",
    "three $\\alpha$'s and their sum would have to be equal to 0.\n",
    "\n",
    "Also, the design matrix is the indicator coding we saw last time."
   ]
  },
  {
   "cell_type": "code",
   "execution_count": null,
   "metadata": {
    "collapsed": false,
    "slideshow": {
     "slide_type": "fragment"
    }
   },
   "outputs": [],
   "source": [
    "model.matrix(rehab.lm)"
   ]
  },
  {
   "cell_type": "markdown",
   "metadata": {
    "slideshow": {
     "slide_type": "fragment"
    }
   },
   "source": [
    "* There are ways to get *different* design matrices by using the\n",
    "`contrasts` argument. This is a bit above our pay grade at the moment.\n",
    "\n",
    "* Upon inspection of the design matrix above, we see that\n",
    "the `(Intercept)` coefficient corresponds to the mean in `Fitness==1`, while\n",
    "`Fitness==2` coefficient corresponds to the difference between the groups \n",
    "`Fitness==2` and `Fitness==1`."
   ]
  },
  {
   "cell_type": "markdown",
   "metadata": {
    "slideshow": {
     "slide_type": "slide"
    }
   },
   "source": [
    "## ANOVA table\n",
    "\n",
    "Much of the information in an ANOVA model is contained in the \n",
    "ANOVA table.\n",
    "\n",
    "<table border=\"1\" cellpadding=\"3\" cellspacing=\"0\"  style=\"border:1px solid black;border-collapse:collapse;\">\n",
    "<tr><td  style=\"background-color:LightGray;\"><b>Source</b></td><td  style=\"background-color:LightGray;\" width=\"250\"><b>SS</b></td><td  style=\"background-color:LightGray;\" width=\"100\"><b>df</b></td><td  style=\"background-color:LightGray;\" width=\"150\"><b>$\\mathbb{E}(MS)$</b></td></tr><tr><td  style=\"background-color:Ivory;\">Treatment</td><td  style=\"background-color:Ivory;\">$SSTR=\\sum_{i=1}^rn_i\\left(\\overline{Y}_{i\\cdot}-\\overline{Y}_{\\cdot\\cdot}\\right)^2$</td><td  style=\"background-color:Ivory;\">r-1</td><td  style=\"background-color:Ivory;\">$\\sigma^2+\\frac{\\sum_{i=1}^rn_i\\alpha_i^2}{r-1}$</td></tr>\n",
    "<tr><td  style=\"background-color:AliceBlue;\">Error</td><td  style=\"background-color:AliceBlue;\">$SSE=\\sum_{i=1}^r\\sum_{j=1}^{n_i}(Y_{ij}-\\overline{Y}_{i\\cdot})^2$</td>\n",
    "<td  style=\"background-color:AliceBlue;\">$\\sum_{i=1}^r(n_i-1)$</td><td  style=\"background-color:AliceBlue;\">$\\sigma^2$</td></tr></table>"
   ]
  },
  {
   "cell_type": "code",
   "execution_count": null,
   "metadata": {
    "collapsed": false,
    "slideshow": {
     "slide_type": "fragment"
    }
   },
   "outputs": [],
   "source": [
    "anova(rehab.lm)"
   ]
  },
  {
   "cell_type": "markdown",
   "metadata": {
    "slideshow": {
     "slide_type": "slide"
    }
   },
   "source": [
    "-   Note that $MSTR$ measures “variability” of the “cell” means. If\n",
    "    there is a group effect we expect this to be large relative to\n",
    "    $MSE$.\n",
    "\n",
    "-   We see that under $H_0:\\alpha_1=\\dots=\\alpha_r=0$, the expected\n",
    "    value of $MSTR$ and $MSE$ is $\\sigma^2$. This tells us how to test\n",
    "    $H_0$ using ratio of mean squares, i.e. an $F$ test.\n",
    "\n"
   ]
  },
  {
   "cell_type": "markdown",
   "metadata": {
    "slideshow": {
     "slide_type": "slide"
    }
   },
   "source": [
    "## Testing for any main effect\n",
    "\n",
    "\n",
    "-   Rows in the ANOVA table are, in general, independent.\n",
    "\n",
    "-   Therefore, under $H_0$\n",
    "    $$F = \\frac{MSTR}{MSE} = \\frac{\\frac{SSTR}{df_{TR}}}{\\frac{SSE}{df_{E}}} \\sim F_{df_{TR}, df_E}$$\n",
    "    the degrees of freedom come from the $df$ column in previous table.\n",
    "\n",
    "-   Reject $H_0$ at level $\\alpha$ if\n",
    "    $F > F_{1-\\alpha, df_{TR}, df_{E}}.$\n"
   ]
  },
  {
   "cell_type": "code",
   "execution_count": null,
   "metadata": {
    "collapsed": false,
    "slideshow": {
     "slide_type": "fragment"
    }
   },
   "outputs": [],
   "source": [
    "F = 336.00 / 19.81\n",
    "pval = 1 - pf(F, 2, 21)\n",
    "print(data.frame(F,pval))"
   ]
  },
  {
   "cell_type": "markdown",
   "metadata": {
    "slideshow": {
     "slide_type": "slide"
    }
   },
   "source": [
    "## Inference for linear combinations\n",
    "\n",
    "- Suppose we want to ``infer'' something about\n",
    "   $$                                                                           \n",
    "   \\sum_{i=1}^r a_i \\mu_i$$\n",
    "   where $\\mu_i = \\mu+\\alpha_i$ is the mean in the $i$-th group.\n",
    "   For example:\n",
    "   $$\n",
    "   H_0:\\mu_1-\\mu_2=0 \\qquad \\text{(same as $H_0:\\alpha_1-\\alpha_2=0$)}?$$       \n",
    "- For example:\n",
    "\n",
    "    Is there a difference between below average and average groups in \n",
    "    terms of rehab time?                                                                      \n",
    "- We need to know $$\n",
    "   \\text{Var}\\left(\\sum_{i=1}^r a_i \\overline{Y}_{i\\cdot} \\right) = \\sigma^2 \n",
    "   \\sum_{i=1}^r \\frac{a_i^2}{n_i}.$$\n",
    "   \n",
    "- After this, the usual confidence intervals and $t$-tests apply.\n"
   ]
  },
  {
   "cell_type": "code",
   "execution_count": null,
   "metadata": {
    "collapsed": false,
    "slideshow": {
     "slide_type": "fragment"
    }
   },
   "outputs": [],
   "source": [
    "head(model.matrix(rehab.lm))"
   ]
  },
  {
   "cell_type": "markdown",
   "metadata": {
    "slideshow": {
     "slide_type": "fragment"
    }
   },
   "source": [
    "This means that the coefficient Fitness2 is the estimated\n",
    "   difference between the two groups.\n",
    "\n",
    "   "
   ]
  },
  {
   "cell_type": "code",
   "execution_count": null,
   "metadata": {
    "collapsed": false,
    "slideshow": {
     "slide_type": "fragment"
    }
   },
   "outputs": [],
   "source": [
    "detach(rehab.table)"
   ]
  },
  {
   "cell_type": "markdown",
   "metadata": {
    "slideshow": {
     "slide_type": "slide"
    }
   },
   "source": [
    "## Two-way ANOVA\n",
    "\n",
    "Often, we will have more than one variable we are changing.\n",
    "\n",
    "### Example\n",
    "\n",
    "After kidney failure, we suppose that the time of stay in hospital depends on weight gain between treatments and duration of treatment. \n",
    "\n",
    "We will model the `log` number of days as a function of the other\n",
    "two factors."
   ]
  },
  {
   "cell_type": "markdown",
   "metadata": {
    "collapsed": false,
    "slideshow": {
     "slide_type": "skip"
    }
   },
   "source": [
    "<table border=\"1\" cellpadding=\"3\" cellspacing=\"0\"  style=\"border:1px solid black;border-collapse:collapse;\">\n",
    "<tr><td  style=\"background-color:LightGray;\"><b>Variable</b></td><td  style=\"background-color:LightGray;\" width=\"200\"><b>Description</b></td>\n",
    "</tr>\n",
    "<tr><td  style=\"background-color:Ivory;\">Days</td><td  style=\"background-color:Ivory;\">Duration of hospital stay</td></tr>\n",
    "<tr><td  style=\"background-color:Ivory;\">Weight</td><td  style=\"background-color:Ivory;\">How much weight is gained? (three levels)</td></tr>\n",
    "<tr><td  style=\"background-color:Ivory;\">Duration</td><td  style=\"background-color:Ivory;\">How long under treatment for kidney problems? (two levels)</td></tr>\n",
    "</table>\n"
   ]
  },
  {
   "cell_type": "code",
   "execution_count": null,
   "metadata": {
    "collapsed": false,
    "slideshow": {
     "slide_type": "slide"
    }
   },
   "outputs": [],
   "source": [
    "url = 'http://statweb.stanford.edu/~jtaylo/stats191/data/kidney.table'\n",
    "kidney.table = read.table(url, header=T)\n",
    "kidney.table$D = factor(kidney.table$Duration)\n",
    "kidney.table$W = factor(kidney.table$Weight)\n",
    "kidney.table$logDays = log(kidney.table$Days + 1) \n",
    "attach(kidney.table)\n",
    "head(kidney.table)"
   ]
  },
  {
   "cell_type": "markdown",
   "metadata": {
    "slideshow": {
     "slide_type": "slide"
    }
   },
   "source": [
    "### Two-way ANOVA model\n",
    "\n",
    "-   Second generalization of $t$-test: more than one grouping variable.\n",
    "\n",
    "-   Two-way ANOVA model: \n",
    "    - $r$ groups in first factor\n",
    "    - $m$ groups in second factor\n",
    "    - $n_{ij}$ in each combination of factor variables.\n",
    "\n",
    "- Model: \n",
    "    $$Y_{ijk} = \\mu + \\alpha_i + \\beta_j + (\\alpha \\beta)_{ij} +         \n",
    "    \\varepsilon_{ijk} , \\qquad \\varepsilon_{ijk} \\sim N(0, \\sigma^2).$$\n",
    "\n",
    "-   In kidney example, $r=3$ (weight gain), $m=2$ (duration of\n",
    "    treatment), $n_{ij}=10$ for all $(i,j)$.\n"
   ]
  },
  {
   "cell_type": "markdown",
   "metadata": {
    "slideshow": {
     "slide_type": "slide"
    }
   },
   "source": [
    "### Questions of interest\n",
    "\n",
    "\n",
    "Two-way ANOVA: main questions of interest\n",
    "\n",
    "-   Are there main effects for the grouping variables?\n",
    "    $$H_0:\\alpha_1 = \\dots = \\alpha_r = 0, \\qquad H_0: \\beta_1 = \\dots = \\beta_m = 0.$$\n",
    "\n",
    "-   Are there interaction effects:\n",
    "    $$H_0:(\\alpha\\beta)_{ij} = 0, 1 \\leq i \\leq r, 1 \\leq j \\leq m.$$"
   ]
  },
  {
   "cell_type": "markdown",
   "metadata": {
    "slideshow": {
     "slide_type": "slide"
    }
   },
   "source": [
    "### Interactions between factors\n",
    "\n",
    "- An *additive model* says that the effects of the two factors\n",
    "occur additively -- such a model has no interactions.\n",
    "\n",
    "- An *interaction* is present whenever the additive model does not hold."
   ]
  },
  {
   "cell_type": "markdown",
   "metadata": {
    "slideshow": {
     "slide_type": "slide"
    }
   },
   "source": [
    "### Interaction plot\n"
   ]
  },
  {
   "cell_type": "code",
   "execution_count": null,
   "metadata": {
    "collapsed": false,
    "slideshow": {
     "slide_type": "fragment"
    }
   },
   "outputs": [],
   "source": [
    "interaction.plot(W, D, logDays, type='b', col=c('red',\n",
    "                  'blue'), lwd=2, pch=c(23,24))"
   ]
  },
  {
   "cell_type": "markdown",
   "metadata": {
    "slideshow": {
     "slide_type": "fragment"
    }
   },
   "source": [
    "When these broken lines are not parallel, there is evidence of an interaction.\n",
    "\n",
    "(One thing missing from this plot are errorbars. The above broken lines\n",
    "are clearly not parallel but there is measurement error. If the\n",
    "error bars were large then we might consider there to be no interaction, otherwise we might.)"
   ]
  },
  {
   "cell_type": "markdown",
   "metadata": {
    "slideshow": {
     "slide_type": "slide"
    }
   },
   "source": [
    "### Parameterization\n",
    "\n",
    "-   Many constraints are needed, again for identifiability. Let’s not\n",
    "    worry too much about the details\n",
    "\n",
    "-   Constraints:\n",
    "\n",
    "    -   $\\sum_{i=1}^r \\alpha_i = 0$\n",
    "\n",
    "    -   $\\sum_{j=1}^m \\beta_j = 0$\n",
    "\n",
    "    -   $\\sum_{j=1}^m (\\alpha\\beta)_{ij} = 0, 1 \\leq i \\leq r$\n",
    "\n",
    "    -   $\\sum_{i=1}^r (\\alpha\\beta)_{ij} = 0, 1 \\leq j \\leq m.$\n",
    "\n",
    "- If we wanted to, we could convince ourselves that we now have exactly $r*m$ free parameters."
   ]
  },
  {
   "cell_type": "markdown",
   "metadata": {
    "slideshow": {
     "slide_type": "slide"
    }
   },
   "source": [
    "### Fitting the model\n",
    "\n",
    "-   Easy to fit when $n_{ij}=n$ (balanced)\n",
    "    $$\\widehat{Y}_{ijk}= \\overline{Y}_{ij\\cdot} = \\frac{1}{n}\\sum_{k=1}^{n} Y_{ijk}.$$\n",
    "\n",
    "-   Inference for combinations\n",
    "    $$\\text{Var} \\left(\\sum_{i=1}^r \\sum_{j=1}^m a_{ij} \\overline{Y}_{ij\\cdot}\\right) = \\frac{ \\sigma^2}{n} \\cdot \\sum_{i=1}^r \\sum_{j=1}^m{a_{ij}^2}.$$\n",
    "\n",
    "-   Usual $t$-tests, confidence intervals.\n"
   ]
  },
  {
   "cell_type": "code",
   "execution_count": null,
   "metadata": {
    "collapsed": false,
    "slideshow": {
     "slide_type": "fragment"
    }
   },
   "outputs": [],
   "source": [
    "kidney.lm = lm(logDays ~ D + W + D:W)\n",
    "summary(kidney.lm)"
   ]
  },
  {
   "cell_type": "markdown",
   "metadata": {
    "slideshow": {
     "slide_type": "slide"
    }
   },
   "source": [
    "## Example\n",
    "\n",
    "* Suppose we are interested in comparing the mean in $(D=1,W=3)$ and $(D=2,W=2)$\n",
    "groups. The difference is\n",
    "$$\n",
    "E(\\bar{Y}_{13\\cdot}-\\bar{Y}_{22\\cdot})\n",
    "$$\n",
    "\n",
    "* By independence, its variance is \n",
    "$$\\text{Var}(\\bar{Y}_{13\\cdot}) + \\text{Var}(\\bar{Y}_{22\\cdot}) = \\frac{2 \\sigma^2}{n}.\n",
    "$$"
   ]
  },
  {
   "cell_type": "code",
   "execution_count": null,
   "metadata": {
    "collapsed": false,
    "slideshow": {
     "slide_type": "fragment"
    }
   },
   "outputs": [],
   "source": [
    "estimates = predict(kidney.lm, list(D=factor(c(1,2)), W=factor(c(3,2))))\n",
    "print(estimates)\n",
    "sigma.hat = 0.7327 # from table above\n",
    "n = 10 # ten observations per group\n",
    "fit = estimates[1] - estimates[2]\n",
    "upper = fit + qt(0.975, 54) * sqrt(2 * sigma.hat^2 / n)\n",
    "lower = fit - qt(0.975 ,54) * sqrt(2 * sigma.hat^2 / n)\n",
    "data.frame(fit,lower,upper)"
   ]
  },
  {
   "cell_type": "code",
   "execution_count": null,
   "metadata": {
    "collapsed": false,
    "slideshow": {
     "slide_type": "slide"
    }
   },
   "outputs": [],
   "source": [
    "head(model.matrix(kidney.lm))"
   ]
  },
  {
   "cell_type": "markdown",
   "metadata": {
    "slideshow": {
     "slide_type": "slide"
    }
   },
   "source": [
    "### Finding predicted values\n",
    "\n",
    "The most direct way to compute predicted values is using the `predict` function. It does not easily predict differences as above."
   ]
  },
  {
   "cell_type": "code",
   "execution_count": null,
   "metadata": {
    "collapsed": false,
    "slideshow": {
     "slide_type": "fragment"
    }
   },
   "outputs": [],
   "source": [
    "predict(kidney.lm, list(D=factor(1),W=factor(1)), interval='confidence')"
   ]
  },
  {
   "cell_type": "markdown",
   "metadata": {
    "collapsed": false,
    "slideshow": {
     "slide_type": "skip"
    }
   },
   "source": [
    "### ANOVA table\n",
    "\n",
    "In the balanced case, everything can again be summarized\n",
    "from the ANOVA table\n",
    "\n",
    "\n",
    "<table border=\"1\" cellpadding=\"3\" cellspacing=\"0\"  style=\"border:1px solid black;border-collapse:collapse;\">\n",
    "<tr><td  style=\"background-color:LightGray;\"><b>Source</b></td>\n",
    "<td  style=\"background-color:LightGray;\" width=\"250\"><b>SS</b></td>\n",
    "<td  style=\"background-color:LightGray;\" width=\"100\"><b>df</b></td>\n",
    "<td  style=\"background-color:LightGray;\" width=\"150\"><b>$\\mathbb{E}(MS)$</b></td></tr>\n",
    "<tr>\n",
    "<td  style=\"background-color:Ivory;\">A</td>\n",
    "<td  style=\"background-color:Ivory;\">$SSA=nm\\sum_{i=1}^r  \\left(\\overline{Y}_{i\\cdot\\cdot} - \\overline{Y}_{\\cdot\\cdot\\cdot}\\right)^2$</td>\n",
    "<td style=\"background-color:Ivory;\">r-1</td>\n",
    "<td style=\"background-color:Ivory;\">$\\sigma^2 + nm\\frac{\\sum_{i=1}^r \\alpha_i^2}{r-1}$</td></tr>\n",
    "<tr>\n",
    "<td  style=\"background-color:Ivory;\">B</td>\n",
    "<td  style=\"background-color:Ivory;\">$SSB=nr\\sum_{j=1}^m  \\left(\\overline{Y}_{\\cdot j\\cdot} - \\overline{Y}_{\\cdot\\cdot\\cdot}\\right)^2$</td>\n",
    "<td style=\"background-color:Ivory;\">m-1</td>\n",
    "<td style=\"background-color:Ivory;\">$\\sigma^2 + nr\\frac{\\sum_{j=1}^m \\beta_j^2}{m-1}$</td></tr>\n",
    "<tr>\n",
    "<td  style=\"background-color:Ivory;\">A:B</td>\n",
    "<td  style=\"background-color:Ivory;\">$SSAB = n\\sum_{i=1}^r \\sum_{j=1}^m  \\left(\\overline{Y}_{ij\\cdot} - \\overline{Y}_{i\\cdot\\cdot} - \\overline{Y}_{\\cdot j\\cdot} + \\overline{Y}_{\\cdot\\cdot\\cdot}\\right)^2$</td>\n",
    "<td style=\"background-color:Ivory;\">(r-1)(m-1)</td>\n",
    "<td style=\"background-color:Ivory;\">$\\sigma^2 + n\\frac{\\sum_{i=1}^r\\sum_{j=1}^m (\\alpha\\beta)_{ij}^2}{(r-1)(m-1)}$</td></tr>\n",
    "<tr>\n",
    "<td  style=\"background-color:Ivory;\">Error</td>\n",
    "<td  style=\"background-color:Ivory;\">$SSE = \\sum_{i=1}^r \\sum_{j=1}^m \\sum_{k=1}^{n}(Y_{ijk} - \\overline{Y}_{ij\\cdot})^2$</td>\n",
    "<td style=\"background-color:Ivory;\">(n-1)mr</td>\n",
    "<td style=\"background-color:Ivory;\">$\\sigma^2$</td></tr>\n",
    "</table>\n"
   ]
  },
  {
   "cell_type": "markdown",
   "metadata": {
    "slideshow": {
     "slide_type": "slide"
    }
   },
   "source": [
    "### Tests using the ANOVA table\n",
    "\n",
    "* Rows of the ANOVA table can be used to test various\n",
    "of the hypotheses we started out with.\n",
    "\n",
    "* For instance, we see that under\n",
    "  $H_0:(\\alpha\\beta)_{ij}=0, \\forall i,j$ the expected value of $SSAB$\n",
    "  and $SSE$ is $\\sigma^2$ – use these for an $F$-test testing for an\n",
    "  interaction.\n",
    "  \n",
    "- Under $H_0$\n",
    "    $$F = \\frac{MSAB}{MSE} = \\frac{\\frac{SSAB}{(m-1)(r-1)}}{\\frac{SSE}{(n-1)mr}} \\sim F_{(m-1)(r-1), (n-1)mr}$$"
   ]
  },
  {
   "cell_type": "code",
   "execution_count": null,
   "metadata": {
    "collapsed": false,
    "slideshow": {
     "slide_type": "fragment"
    }
   },
   "outputs": [],
   "source": [
    "anova(kidney.lm)"
   ]
  },
  {
   "cell_type": "markdown",
   "metadata": {
    "slideshow": {
     "slide_type": "slide"
    }
   },
   "source": [
    "We can also test for interactions using our usual approach\n"
   ]
  },
  {
   "cell_type": "code",
   "execution_count": null,
   "metadata": {
    "collapsed": false,
    "slideshow": {
     "slide_type": "fragment"
    }
   },
   "outputs": [],
   "source": [
    "anova(lm(logDays ~ D + W, kidney.table), kidney.lm)"
   ]
  },
  {
   "cell_type": "markdown",
   "metadata": {
    "slideshow": {
     "slide_type": "slide"
    }
   },
   "source": [
    "### Some caveats about `R` formulae\n",
    "\n",
    "While we see that it is straightforward to form the\n",
    "interactions test using our usual `anova` function approach, we generally\n",
    "*cannot* test for main effects by this approach. \n"
   ]
  },
  {
   "cell_type": "code",
   "execution_count": null,
   "metadata": {
    "collapsed": false,
    "slideshow": {
     "slide_type": "fragment"
    }
   },
   "outputs": [],
   "source": [
    "lm_no_main_Weight = lm(logDays ~ D + W:D)\n",
    "print(summary(lm_no_main_Weight))\n",
    "anova(lm_no_main_Weight, kidney.lm)"
   ]
  },
  {
   "cell_type": "markdown",
   "metadata": {
    "slideshow": {
     "slide_type": "slide"
    }
   },
   "source": [
    "In fact, these models are identical in terms of their *planes* or their\n",
    "*fitted values*. What has happened is that `R` has\n",
    "formed a different design matrix using its rules for `formula` objects."
   ]
  },
  {
   "cell_type": "code",
   "execution_count": null,
   "metadata": {
    "collapsed": false,
    "slideshow": {
     "slide_type": "fragment"
    }
   },
   "outputs": [],
   "source": [
    "lm1 = lm(logDays ~ W:D)\n",
    "lm2 = lm(logDays ~ D + W:D + W)\n",
    "anova(lm1, lm2)"
   ]
  },
  {
   "cell_type": "markdown",
   "metadata": {
    "slideshow": {
     "slide_type": "slide"
    }
   },
   "source": [
    "# Fixed and random effects\n",
    "\n",
    "-   In kidney & rehab examples, the categorical variables are\n",
    "    well-defined categories: below average fitness, long duration, etc.\n",
    "\n",
    "-   In some designs, the categorical variable is “subject”.\n",
    "\n",
    "-   Simplest example: repeated measures, where more than one (identical)\n",
    "    measurement is taken on the same individual.\n",
    "\n",
    "-   In this case, the “group” effect $\\alpha_i$ is best thought of as\n",
    "    random because we only sample a subset of the entire population.\n",
    "\n"
   ]
  },
  {
   "cell_type": "markdown",
   "metadata": {
    "slideshow": {
     "slide_type": "slide"
    }
   },
   "source": [
    "### When to use random effects?\n",
    "\n",
    "-   A “group” effect is random if we can think of the levels we observe\n",
    "    in that group to be samples from a larger population.\n",
    "\n",
    "-   Example: if collecting data from different medical centers, “center”\n",
    "    might be thought of as random.\n",
    "\n",
    "-   Example: if surveying students on different campuses, “campus” may\n",
    "    be a random effect.\n",
    "\n"
   ]
  },
  {
   "cell_type": "markdown",
   "metadata": {
    "slideshow": {
     "slide_type": "slide"
    }
   },
   "source": [
    "### Example: sodium content in beer\n",
    "\n",
    "-   How much sodium is there in North American beer? How much does this\n",
    "    vary by brand?\n",
    "\n",
    "-   Observations: for 6 brands of beer, we recorded the sodium content\n",
    "    of 8 12 ounce bottles.\n",
    "\n",
    "-   Questions of interest: what is the “grand mean” sodium content? How\n",
    "    much variability is there from brand to brand?\n",
    "\n",
    "-   “Individuals” in this case are brands, repeated measures are the 8\n",
    "    bottles.\n"
   ]
  },
  {
   "cell_type": "code",
   "execution_count": null,
   "metadata": {
    "collapsed": false,
    "slideshow": {
     "slide_type": "fragment"
    }
   },
   "outputs": [],
   "source": [
    "url = 'http://stats191.stanford.edu/data/sodium.table'\n",
    "sodium.table = read.table(url, header=T)\n",
    "sodium.table$brand = factor(sodium.table$brand)\n",
    "sodium.lm = lm(sodium ~ brand, sodium.table)\n",
    "anova(sodium.lm)"
   ]
  },
  {
   "cell_type": "markdown",
   "metadata": {
    "slideshow": {
     "slide_type": "slide"
    }
   },
   "source": [
    "### One-way random effects model\n",
    "\n",
    "-   Assuming that cell-sizes are the same, i.e. equal observations for\n",
    "    each “subject” (brand of beer).\n",
    "\n",
    "-   Observations\n",
    "    $$Y_{ij} \\sim \\mu+ \\alpha_i + \\varepsilon_{ij}, 1 \\leq i \\leq r, 1 \\leq j \\leq n$$\n",
    "\n",
    "-   $\\varepsilon_{ij} \\sim N(0, \\sigma^2_{\\epsilon}), 1 \\leq i \\leq r, 1 \\leq j \\leq n$\n",
    "\n",
    "-   $\\alpha_i \\sim N(0, \\sigma^2_{\\alpha}), 1 \\leq  i \\leq r.$\n",
    "\n",
    "-   Parameters:\n",
    "\n",
    "    -   $\\mu$ is the population mean;\n",
    "\n",
    "    -   $\\sigma^2_{\\epsilon}$ is the measurement variance (i.e. how variable are\n",
    "        the readings from the machine that reads the sodium content?);\n",
    "\n",
    "    -   $\\sigma^2_{\\alpha}$ is the population variance (i.e. how variable\n",
    "\tis the sodium content of beer across brands)."
   ]
  },
  {
   "cell_type": "markdown",
   "metadata": {
    "slideshow": {
     "slide_type": "slide"
    }
   },
   "source": [
    "### Modelling the variance\n",
    "\n",
    "- In random effects model, the observations are no longer independent (even if $\\varepsilon$'s are independent\n",
    "   $$                                                                                                                                         \n",
    "   {\\rm Cov}(Y_{ij}, Y_{i'j'}) = \\left(\\sigma^2_{\\alpha}  + \\sigma^2_{\\epsilon} \\delta_{j,j'} \\right) \\delta_{i,i'}.$$\n",
    "\n",
    "- In more complicated models, this makes ``maximum likelihood estimation'' more complicated: least squares is no longer the best solution. \n",
    "\n",
    "- **It's no longer a plane!**\n",
    "\n",
    "\n",
    "- This model has a very simple model for the *mean*, it just has a slightly\n",
    "more complex model for the *variance*.\n"
   ]
  },
  {
   "cell_type": "markdown",
   "metadata": {
    "slideshow": {
     "slide_type": "slide"
    }
   },
   "source": [
    "### Fitting the model\n",
    "\n",
    "The *MLE (Maximum Likelihood Estimator)* is found by minimizing\n",
    "$$\n",
    "\\begin{aligned}\n",
    "-2 \\log \\ell (\\mu, \\sigma^2_{\\epsilon}, \\sigma^2_{\\alpha}|Y) &= \\sum_{i=1}^r \\biggl[ (Y_i - \\mu)^T (\\sigma^2_{\\epsilon} I_{n_i \\times n_i} + \\sigma^2_{\\alpha} 11^T)^{-1} (Y_i - \\mu) \\\\\n",
    "& \\qquad + \\log \\left( \\det(\\sigma^2_{\\epsilon} I_{n_i \\times n_i} + \\sigma^2_{\\alpha} 11^T) \\right) \\biggr].\n",
    "\\end{aligned}\n",
    "$$\n"
   ]
  },
  {
   "cell_type": "markdown",
   "metadata": {
    "slideshow": {
     "slide_type": "slide"
    }
   },
   "source": [
    "### Fitting the model in balanced design\n",
    "\n",
    "Only one parameter in the mean function $\\mu.$\n",
    "- When cell sizes are the same (balanced),\n",
    "   $$                                                                           \n",
    "   \\widehat{\\mu} = \\overline{Y}_{\\cdot \\cdot} = \\frac{1}{nr} \\sum_{i,j} Y_{ij}.$$\n",
    "Unbalanced models: use numerical optimizer.\n",
    "\n",
    "- This also changes estimates of $\\sigma^2_{\\epsilon}$ -- see ANOVA table. We\n",
    " might guess that $df=nr-1$ and\n",
    "   $$                                                                           \n",
    "   \\widehat{\\sigma}^2 = \\frac{1}{nr-1} \\sum_{i,j} (Y_{ij} - \\overline{Y}_{\\cdot\\cdot})^2.$$\n",
    "   **This is not correct.**"
   ]
  },
  {
   "cell_type": "code",
   "execution_count": null,
   "metadata": {
    "collapsed": false,
    "slideshow": {
     "slide_type": "slide"
    }
   },
   "outputs": [],
   "source": [
    "library(nlme)\n",
    "sodium.lme = lme(fixed=sodium~1,random=~1|brand, data=sodium.table)\n",
    "summary(sodium.lme)"
   ]
  },
  {
   "cell_type": "markdown",
   "metadata": {
    "slideshow": {
     "slide_type": "slide"
    }
   },
   "source": [
    "For reasons I'm not sure of, the degrees of freedom don't agree with our\n",
    "ANOVA, though we do find the correct `SE` for our estimate of $\\mu$:"
   ]
  },
  {
   "cell_type": "code",
   "execution_count": null,
   "metadata": {
    "collapsed": false,
    "slideshow": {
     "slide_type": "fragment"
    }
   },
   "outputs": [],
   "source": [
    "MSTR = anova(sodium.lm)$Mean[1]\n",
    "sqrt(MSTR/48)"
   ]
  },
  {
   "cell_type": "markdown",
   "metadata": {
    "slideshow": {
     "slide_type": "slide"
    }
   },
   "source": [
    "The intervals formed by `lme` use the 42 degrees of freedom, but \n",
    "are otherwise the same:"
   ]
  },
  {
   "cell_type": "code",
   "execution_count": null,
   "metadata": {
    "collapsed": false,
    "slideshow": {
     "slide_type": "fragment"
    }
   },
   "outputs": [],
   "source": [
    "intervals(sodium.lme)\n"
   ]
  },
  {
   "cell_type": "code",
   "execution_count": null,
   "metadata": {
    "collapsed": false,
    "slideshow": {
     "slide_type": "fragment"
    }
   },
   "outputs": [],
   "source": [
    "center = mean(sodium.table$sodium)\n",
    "lwr = center - sqrt(MSTR / 48) * qt(0.975,42)\n",
    "upr = center + sqrt(MSTR / 48) * qt(0.975,42)\n",
    "data.frame(lwr, center, upr)"
   ]
  },
  {
   "cell_type": "markdown",
   "metadata": {
    "slideshow": {
     "slide_type": "slide"
    }
   },
   "source": [
    "Using our degrees of freedom as 7 yields slightly wider intervals"
   ]
  },
  {
   "cell_type": "code",
   "execution_count": null,
   "metadata": {
    "collapsed": false,
    "slideshow": {
     "slide_type": "fragment"
    }
   },
   "outputs": [],
   "source": [
    "center = mean(sodium.table$sodium)\n",
    "lwr = center - sqrt(MSTR / 48) * qt(0.975,7)\n",
    "upr = center + sqrt(MSTR / 48) * qt(0.975,7)\n",
    "data.frame(lwr, center, upr)"
   ]
  },
  {
   "cell_type": "markdown",
   "metadata": {
    "slideshow": {
     "slide_type": "slide"
    }
   },
   "source": [
    "### ANOVA table\n",
    "\n",
    "Again, the information needed can be summarized in an\n",
    "ANOVA table.\n",
    "\n",
    "\n",
    "<table border=\"1\" cellpadding=\"3\" cellspacing=\"0\"  style=\"border:1px solid black;border-collapse:collapse;\">\n",
    "<tr><td  style=\"background-color:LightGray;\"><b>Source</b></td>\n",
    "<td  style=\"background-color:LightGray;\" width=\"250\"><b>SS</b></td>\n",
    "<td  style=\"background-color:LightGray;\" width=\"100\"><b>df</b></td>\n",
    "<td  style=\"background-color:LightGray;\" width=\"150\"><b>$\\mathbb{E}(MS)$</b></td></tr>\n",
    "<tr>\n",
    "<td  style=\"background-color:Ivory;\">Treatment</td>\n",
    "<td  style=\"background-color:Ivory;\">$SSTR=\\sum_{i=1}^r n \\left(\\overline{Y}_{i\\cdot} - \\overline{Y}_{\\cdot\\cdot}\\right)^2$</td>\n",
    "<td style=\"background-color:Ivory;\">r-1</td>\n",
    "<td style=\"background-color:Ivory;\">$\\sigma^2_{\\epsilon} + n \\sigma^2_{\\alpha}$</td></tr>\n",
    "<tr>\n",
    "<td  style=\"background-color:Ivory;\">Error</td>\n",
    "<td  style=\"background-color:Ivory;\">$SSE=\\sum_{i=1}^r \\sum_{j=1}^{n}(Y_{ij} - \\overline{Y}_{i\\cdot})^2$</td>\n",
    "<td style=\"background-color:Ivory;\">r(n-1)</td>\n",
    "<td style=\"background-color:Ivory;\">$\\sigma^2_{\\epsilon}$</td></tr>\n",
    "</table>\n"
   ]
  },
  {
   "cell_type": "markdown",
   "metadata": {
    "slideshow": {
     "slide_type": "fragment"
    }
   },
   "source": [
    "- ANOVA table is still useful to setup tests: the same $F$ statistics for fixed or random will work here.\n",
    "\n",
    "- Test for random effect: $H_0:\\sigma^2_{\\alpha}=0$ based on\n",
    "   $$\n",
    "   F = \\frac{MSTR}{MSE} \\sim F_{r-1, (n-1)r} \\qquad \\text{under $H_0$}.$$\n"
   ]
  },
  {
   "cell_type": "markdown",
   "metadata": {
    "slideshow": {
     "slide_type": "slide"
    }
   },
   "source": [
    "### Inference for $\\mu$\n",
    "\n",
    "- Easy to check that\n",
    "   $$\n",
    "   \\begin{aligned}\n",
    "   E(\\overline{Y}_{\\cdot \\cdot}) &= \\mu   \\\\\n",
    "   \\text{Var}(\\overline{Y}_{\\cdot \\cdot}) &= \\frac{\\sigma^2_{\\epsilon} + n\\sigma^2_{\\alpha}}{rn}.\n",
    "   \\end{aligned}\n",
    "   $$\n",
    "\n",
    "- To come up with a $t$ statistic that we can use for test, CIs, we\n",
    "   need to find an estimate of $\\text{Var}(\\overline{Y}_{\\cdot \\cdot})$.\n",
    "  \n",
    "  \n",
    "- ANOVA table says $E(MSTR) = n\\sigma^2_{\\alpha}+\\sigma^2_{\\epsilon}$ which suggests\n",
    "   $$                                                                           \n",
    "   \\frac{\\overline{Y}_{\\cdot \\cdot} - \\mu}{\\sqrt{\\frac{MSTR}{rn}}} \\sim t_{r-1}.$$"
   ]
  },
  {
   "cell_type": "markdown",
   "metadata": {
    "slideshow": {
     "slide_type": "slide"
    }
   },
   "source": [
    "### Degrees of freedom\n",
    "\n",
    "- Why $r-1$ degrees of freedom?\n",
    " \n",
    "- Imagine we could record an infinite number of observations for each individual, so that $\\overline{Y}_{i\\cdot} \\rightarrow \\mu + \\alpha_i$.\n",
    "\n",
    "- To learn anything about $\\mu_{\\cdot}$ we still only have $r$ observations\n",
    "   $(\\mu_1, \\dots, \\mu_r)$.\n",
    "\n",
    "- Sampling more within an individual cannot narrow the CI for $\\mu$.\n"
   ]
  },
  {
   "cell_type": "markdown",
   "metadata": {
    "slideshow": {
     "slide_type": "slide"
    }
   },
   "source": [
    "### Estimating $\\sigma^2_{\\alpha}$\n",
    "\n",
    "We have seen estimates of $\\mu$ and $\\sigma^2_{\\epsilon}$. Only one parameter\n",
    "remains.\n",
    "\n",
    "- Based on the ANOVA table, we see that\n",
    "$$\n",
    "\\sigma^2_{\\alpha} =  \\frac{1}{n}(\\mathbb{E}(MSTR) - \\mathbb{E}(MSE)).\n",
    "$$\n",
    "\n",
    "- This suggests the estimate\n",
    "$$\n",
    "\\hat{\\sigma^2}_{\\alpha} = \\frac{1}{n} (MSTR-MSE).\n",
    "$$\n",
    "\n",
    "- However, this estimate can be negative!\n",
    "\n",
    "- Many such computational difficulties arise in random (and mixed) effects models.\n",
    "\n",
    "\n"
   ]
  },
  {
   "cell_type": "markdown",
   "metadata": {
    "slideshow": {
     "slide_type": "slide"
    }
   },
   "source": [
    "## Mixed effects model\n",
    "\n",
    "- The one-way random effects ANOVA is a special case of a so-called *mixed effects* model:\n",
    "$$\n",
    "\\begin{aligned}\n",
    "Y_{n \\times 1} &= X_{n \\times p}\\beta_{p \\times 1} + Z_{n \\times q}\\gamma_{q \\times 1} \\\\\n",
    "\\gamma &\\sim N(0, \\Sigma).\n",
    "\\end{aligned}\n",
    "$$\n",
    "\n",
    "- Various models also consider restrictions on $\\Sigma$ (e.g. diagonal, unrestricted, block diagonal, etc.)\n",
    "\n",
    "\n",
    "- Our multiple linear regression model is a (very simple) mixed-effects model with $q=n$, \n",
    "$$\n",
    "\\begin{aligned}\n",
    "Z &= I_{n \\times n} \\\\\n",
    "\\Sigma &= \\sigma^2 I_{n \\times n}.\n",
    "\\end{aligned}\n",
    "$$"
   ]
  },
  {
   "cell_type": "markdown",
   "metadata": {
    "slideshow": {
     "slide_type": "slide"
    }
   },
   "source": [
    "## Interactions\n",
    "\n",
    "### Salary example\n",
    "\n",
    "In this example, we have data on salaries of employees in IT (several years ago?) based on their years of experience, their\n",
    "education level and whether or not they are management.\n",
    "\n",
    "-   Outcome: `S`, salaries for IT staff in a corporation.\n",
    "\n",
    "-   Predictors: \n",
    "    * `X`, experience (years)\n",
    "    * `E`, education (1=Bachelor’s, 2=Master’s, 3=Ph.D)\n",
    "    * `M`, management (1=management, 0=not management)"
   ]
  },
  {
   "cell_type": "code",
   "execution_count": null,
   "metadata": {
    "collapsed": true,
    "slideshow": {
     "slide_type": "fragment"
    }
   },
   "outputs": [],
   "source": [
    "url = 'http://stats191.stanford.edu/data/salary.table'\n",
    "salary.table = read.table(url, header=T)\n",
    "salary.table$E = factor(salary.table$E)\n",
    "salary.table$M = factor(salary.table$M)"
   ]
  },
  {
   "cell_type": "code",
   "execution_count": null,
   "metadata": {
    "collapsed": false,
    "slideshow": {
     "slide_type": "slide"
    }
   },
   "outputs": [],
   "source": [
    "plot(salary.table$X, salary.table$S, type='n', xlab='Experience', ylab='Salary')\n",
    "colors = c('red', 'green', 'blue')\n",
    "symbols = c(23,24)\n",
    "for (i in 1:3) {\n",
    "    for (j in 0:1) {\n",
    "        subset <- as.logical((salary.table$E == i) * (salary.table$M == j))\n",
    "        points(salary.table$X[subset], \n",
    "               salary.table$S[subset], \n",
    "               pch=symbols[j+1], \n",
    "               bg=colors[i], \n",
    "               cex=2)\n",
    "    }\n",
    "}"
   ]
  },
  {
   "cell_type": "markdown",
   "metadata": {
    "slideshow": {
     "slide_type": "slide"
    }
   },
   "source": [
    "## Effect of experience\n",
    "\n",
    "In these pictures, the slope of each line seems to be about the same. How might\n",
    "we estimate it?\n",
    "\n",
    "### One solution is *stratification*.\n",
    "\n",
    "* Make six separate models (one for each combination of `E` and `M`) and estimate the slope.\n",
    "\n",
    "* Combining them: we could average them?\n",
    "\n",
    "* We have few degrees of freedom in each group."
   ]
  },
  {
   "cell_type": "markdown",
   "metadata": {
    "slideshow": {
     "slide_type": "slide"
    }
   },
   "source": [
    "### *Qualitative* variables\n",
    "\n",
    "- Alternative approach.\n",
    "\n",
    "- IF it is reasonable to assume that $\\sigma^2$ is constant for each\n",
    "  observation.\n",
    "\n",
    "- THEN, we can incorporate all observations into 1 model.\n",
    "\n",
    "- For example\n",
    "\n",
    "$$S_i = \\beta_0 + \\beta_1 X_i + \\beta_2 E_{i2} + \\beta_3 E_{i3} + \\beta_4 M_i + \\varepsilon_i$$\n"
   ]
  },
  {
   "cell_type": "code",
   "execution_count": null,
   "metadata": {
    "collapsed": false,
    "slideshow": {
     "slide_type": "slide"
    }
   },
   "outputs": [],
   "source": [
    "salary.lm = lm(S ~ E + M + X, salary.table)\n",
    "summary(salary.lm)"
   ]
  },
  {
   "cell_type": "markdown",
   "metadata": {
    "slideshow": {
     "slide_type": "slide"
    }
   },
   "source": [
    "## Interaction between `E` and `M`"
   ]
  },
  {
   "cell_type": "code",
   "execution_count": null,
   "metadata": {
    "collapsed": false,
    "slideshow": {
     "slide_type": "fragment"
    }
   },
   "outputs": [],
   "source": [
    "interaction.plot(salary.table$E, salary.table$M, r, type='b', col=c('red',\n",
    "                'blue'), lwd=2, pch=c(23,24))\n"
   ]
  },
  {
   "cell_type": "markdown",
   "metadata": {
    "slideshow": {
     "slide_type": "slide"
    }
   },
   "source": [
    "## Six different lines"
   ]
  },
  {
   "cell_type": "code",
   "execution_count": null,
   "metadata": {
    "collapsed": false,
    "slideshow": {
     "slide_type": "fragment"
    }
   },
   "outputs": [],
   "source": [
    "interaction.lm = lm(S ~ X + E*M, data=salary.table)\n",
    "summary(interaction.lm)"
   ]
  },
  {
   "cell_type": "code",
   "execution_count": null,
   "metadata": {
    "collapsed": false,
    "slideshow": {
     "slide_type": "fragment"
    }
   },
   "outputs": [],
   "source": [
    "anova(salary.lm, interaction.lm)"
   ]
  },
  {
   "cell_type": "markdown",
   "metadata": {
    "slideshow": {
     "slide_type": "slide"
    }
   },
   "source": [
    "## Interaction between `X` and `M`\n",
    "\n",
    "We might also ask if there is a different slope in `M=0` vs. `M=1`."
   ]
  },
  {
   "cell_type": "code",
   "execution_count": null,
   "metadata": {
    "collapsed": false,
    "slideshow": {
     "slide_type": "fragment"
    }
   },
   "outputs": [],
   "source": [
    "summary(lm(S ~ X + E*M + X*M, data=salary.table))"
   ]
  }
 ],
 "metadata": {
  "kernelspec": {
   "display_name": "R",
   "language": "R",
   "name": "ir"
  },
  "language_info": {
   "codemirror_mode": "r",
   "file_extension": ".r",
   "mimetype": "text/x-r-source",
   "name": "R",
   "pygments_lexer": "r",
   "version": "3.2.2"
  }
 },
 "nbformat": 4,
 "nbformat_minor": 0
}
