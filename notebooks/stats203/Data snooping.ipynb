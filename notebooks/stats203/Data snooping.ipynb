{
 "cells": [
  {
   "cell_type": "code",
   "execution_count": null,
   "metadata": {
    "collapsed": false,
    "slideshow": {
     "slide_type": "skip"
    }
   },
   "outputs": [],
   "source": [
    "%%capture\n",
    "%load_ext rpy2.ipython\n",
    "%matplotlib inline\n",
    "from copy import copy\n",
    "from IPython.display import HTML\n",
    "from matplotlib import pyplot\n",
    "import os, numpy as np\n",
    "np.random.seed(0)\n",
    "import pandas, statsmodels.api as sm\n",
    "from selection.algorithms.lasso import lasso, data_carving, additive_noise\n",
    "from scipy.stats import norm as ndist\n",
    "from selection.algorithms.lasso import (standard_lasso, instance)\n",
    "from selection.algorithms.forward_step import forward_step\n",
    "from selection.distributions.discrete_family import discrete_family\n",
    "import itable\n",
    "HTML(\"\"\"\n",
    "<style type=\"text/css\">\n",
    "    .emphred {color: #cc2222; font-size: 100%; font-weight: bold; font-family: arial,helvetica,sans-serif}\n",
    "    .emphblue {color: #2222cc; font-size: 100%; font-weight: bold; font-family: arial,helvetica,sans-serif}\n",
    "</style>\n",
    "\"\"\")\n",
    "\n",
    "# Run with commit  8d7f7d9c2742e450ba95174d1aa8ac5054390d45\n",
    "# from http://github.com/jonathan-taylor/selective-inference"
   ]
  },
  {
   "cell_type": "markdown",
   "metadata": {
    "slideshow": {
     "slide_type": "slide"
    }
   },
   "source": [
    "# Data snooping, data splitting and selective inference\n",
    "\n",
    "\n",
    "## Outline \n",
    "\n",
    "* We saw that using the data to choose the hypothesis to test does not work well.\n",
    "    \n",
    "* Running example: model selection with the LASSO  ([arxiv.org/1311.6238](http://arxiv.org/abs/1311.6238v4) )\n",
    "\n",
    "* Data splitting and variations ([arxiv.org/1410.2597](http://arxiv.org/abs/1410.2597) ).\n",
    "        \n",
    "       "
   ]
  },
  {
   "cell_type": "markdown",
   "metadata": {
    "slideshow": {
     "slide_type": "slide"
    }
   },
   "source": [
    "# Running example\n",
    "\n",
    "- In vitro measurement of resistance of sample of HIV viruses to NRTI drug 3TC.\n",
    "\n",
    "- 633 cases, and 91 different mutations occuring more than 10 times in sample.\n",
    "\n",
    "- Source: [HIVDB](http://hivdb.stanford.edu/pages/published_analysis/genophenoPNAS2006/)\n",
    "\n",
    "- Goal: to build an <font class=\"emphblue\">interpretable predictive model</font> of resistance based on mutation pattern.\n",
    "\n",
    "- Model: $y|X$ (fixed design, Gaussian errors)\n",
    "\n",
    "\n"
   ]
  },
  {
   "cell_type": "code",
   "execution_count": null,
   "metadata": {
    "collapsed": false,
    "slideshow": {
     "slide_type": "skip"
    }
   },
   "outputs": [],
   "source": [
    "if not os.path.exists(\"NRTI_DATA.txt\"):\n",
    "    NRTI = pandas.read_table(\"http://hivdb.stanford.edu/pages/published_analysis/genophenoPNAS2006/DATA/NRTI_DATA.txt\", na_values=\"NA\")\n",
    "else:\n",
    "    NRTI = pandas.read_table(\"NRTI_DATA.txt\")\n",
    "NRTI_specific = []\n",
    "NRTI_muts = []\n",
    "mixtures = np.zeros(NRTI.shape[0])\n",
    "for i in range(1,241):\n",
    "    d = NRTI['P%d' % i]\n",
    "    for mut in np.unique(d):\n",
    "        if mut not in ['-','.'] and len(mut) == 1:\n",
    "            test = np.equal(d, mut)\n",
    "            if test.sum() > 10:\n",
    "                NRTI_specific.append(np.array(np.equal(d, mut))) \n",
    "                NRTI_muts.append(\"P%d%s\" % (i,mut))\n",
    "\n",
    "NRTI_specific = NRTI.from_records(np.array(NRTI_specific).T, columns=NRTI_muts)"
   ]
  },
  {
   "cell_type": "code",
   "execution_count": null,
   "metadata": {
    "collapsed": false,
    "slideshow": {
     "slide_type": "skip"
    }
   },
   "outputs": [],
   "source": [
    "# Next, standardize the data, keeping only those where Y is not missing\n",
    "\n",
    "X_NRTI = np.array(NRTI_specific, np.float)\n",
    "Y = NRTI['3TC'] # shorthand\n",
    "keep = ~np.isnan(Y).astype(np.bool)\n",
    "X_NRTI = X_NRTI[np.nonzero(keep)]; Y=Y[keep]\n",
    "Y = np.array(np.log(Y), np.float); Y -= Y.mean()\n",
    "X_NRTI -= X_NRTI.mean(0)[None, :]; X_NRTI /= X_NRTI.std(0)[None,:]\n",
    "X = X_NRTI # shorthand\n",
    "np.savetxt(\"X_3TC.csv\", X, delimiter=',')\n",
    "np.savetxt(\"Y_3TC.csv\", Y, delimiter=',')\n",
    "file(\"muts_3TC.csv\", 'w').write('\\n'.join(NRTI_muts))"
   ]
  },
  {
   "cell_type": "code",
   "execution_count": null,
   "metadata": {
    "collapsed": false,
    "slideshow": {
     "slide_type": "slide"
    }
   },
   "outputs": [],
   "source": [
    "# Design matrix\n",
    "# Columns are site / amino acid pairs\n",
    "X.shape"
   ]
  },
  {
   "cell_type": "code",
   "execution_count": null,
   "metadata": {
    "collapsed": false,
    "slideshow": {
     "slide_type": "fragment"
    }
   },
   "outputs": [],
   "source": [
    "# Variable names\n",
    "NRTI_muts[:10], len(NRTI_muts)"
   ]
  },
  {
   "cell_type": "code",
   "execution_count": null,
   "metadata": {
    "collapsed": false,
    "slideshow": {
     "slide_type": "skip"
    }
   },
   "outputs": [],
   "source": [
    "%%capture\n",
    "# Fit OLS model and plot coefficients\n",
    "\n",
    "n, p = X.shape\n",
    "ols_fit = sm.OLS(Y, X).fit()\n",
    "sigma_3TC = np.linalg.norm(ols_fit.resid) / np.sqrt(n-p-1)\n",
    "OLS_3TC = ols_fit.params\n",
    "\n",
    "fig_3TC = pyplot.figure(figsize=(24,12))\n",
    "ax_3TC = fig_3TC.gca()\n",
    "ax_3TC.bar(np.arange(1, len(NRTI_muts)+1)-0.5, OLS_3TC, label='OLS', color='red', alpha=0.7)                                                          \n",
    "ax_3TC.set_xticks(range(1, (len(NRTI_muts)+1)))\n",
    "ax_3TC.set_xticklabels(NRTI_muts, rotation='vertical', fontsize=18) \n",
    "ax_3TC.set_xlim([-1, len(NRTI_muts)+1])\n",
    "ax_3TC.set_title(r'OLS coefficients for 3TC resistance, $\\hat{\\sigma}$=%0.1e' % sigma_3TC, fontsize=50)\n",
    "ax_3TC.set_ylabel('Parameter estimates', fontsize=30)\n",
    "ax_3TC.legend(fontsize=30)\n",
    ";"
   ]
  },
  {
   "cell_type": "code",
   "execution_count": null,
   "metadata": {
    "collapsed": false,
    "slideshow": {
     "slide_type": "slide"
    }
   },
   "outputs": [],
   "source": [
    "fig_3TC"
   ]
  },
  {
   "cell_type": "markdown",
   "metadata": {
    "slideshow": {
     "slide_type": "slide"
    }
   },
   "source": [
    "## LASSO \n",
    "\n",
    "- Another popular penalized regression technique.\n",
    "- Use the standardized model.\n",
    "- The LASSO estimate is\n",
    "$$\n",
    "\\hat{\\beta}_{\\lambda} = \\text{argmin}_{\\beta} \\frac{1}{2} \\|Y-X\\beta\\|^2_2 + \\lambda \\|\\beta\\|_1$$\n",
    "where\n",
    "$$\n",
    "\\|\\beta\\|_1 = \\sum_{j=1}^p |\\beta_j|\n",
    "$$\n",
    "is the $\\ell_1$ norm.\n",
    "\n",
    "- Corresponds (through Lagrange multiplier) to an $\\ell^1$ constraint on ${\\beta_{}}$’s. \n",
    "\n",
    "- In theory and practice, it works well when many ${\\beta_{j}}$’s are 0 and gives \"sparse\" solutions.\n",
    "\n",
    "- It is a (computable) approximation to the best subsets AIC model.\n",
    "\n",
    "- It is computable because the minimization problem is a convex problem."
   ]
  },
  {
   "cell_type": "markdown",
   "metadata": {
    "slideshow": {
     "slide_type": "slide"
    }
   },
   "source": [
    "## Why do we get sparse solutions with the LASSO?\n",
    "\n",
    "<img src=\"http://stats203.stanford.edu/notebooks/figs/lassofig.png\">"
   ]
  },
  {
   "cell_type": "code",
   "execution_count": null,
   "metadata": {
    "collapsed": false,
    "slideshow": {
     "slide_type": "slide"
    }
   },
   "outputs": [],
   "source": [
    "%%R -i X,Y\n",
    "library(lars)\n",
    "plot(lars(X, as.numeric(Y), type='lasso'))"
   ]
  },
  {
   "cell_type": "code",
   "execution_count": null,
   "metadata": {
    "collapsed": false,
    "slideshow": {
     "slide_type": "slide"
    }
   },
   "outputs": [],
   "source": [
    "%%R\n",
    "data(diabetes)\n",
    "plot(lars(diabetes$x, diabetes$y))"
   ]
  },
  {
   "cell_type": "markdown",
   "metadata": {
    "slideshow": {
     "slide_type": "slide"
    }
   },
   "source": [
    "# Model selection with the LASSO \n",
    "\n",
    "\n",
    "#### Choice of $\\lambda$ \n",
    "\n",
    "$$\n",
    "\\lambda = \\kappa \\cdot \\mathbb{E}( \\max_j\\|X^T_j\\epsilon\\|), \\qquad \\epsilon \\sim N(0, \\sigma^2 I).\n",
    "$$\n",
    "\n",
    "\n",
    "#### $\\sigma^2$ the usual estimate from full model.\n",
    "\n",
    "#### Used $\\kappa=1$\n",
    "\n",
    "\n",
    "#### [arxiv.org/1311.6238](http://arxiv.org/abs/1311.6238)\n",
    "\n",
    "\n"
   ]
  },
  {
   "cell_type": "code",
   "execution_count": null,
   "metadata": {
    "collapsed": false,
    "slideshow": {
     "slide_type": "skip"
    }
   },
   "outputs": [],
   "source": [
    "# Choose a LASSO parameter\n",
    "lambda_theoretical = []\n",
    "for i in range(10000):\n",
    "    lambda_theoretical.append(np.fabs(np.dot(X.T, np.random.standard_normal(n))).max())\n",
    "lambda_theoretical = np.round((1 * np.mean(lambda_theoretical) * sigma_3TC))\n"
   ]
  },
  {
   "cell_type": "markdown",
   "metadata": {
    "slideshow": {
     "slide_type": "slide"
    }
   },
   "source": [
    "### Variables chosen for 3TC"
   ]
  },
  {
   "cell_type": "code",
   "execution_count": null,
   "metadata": {
    "collapsed": false,
    "slideshow": {
     "slide_type": "fragment"
    }
   },
   "outputs": [],
   "source": [
    "lambda_theoretical"
   ]
  },
  {
   "cell_type": "code",
   "execution_count": null,
   "metadata": {
    "collapsed": true,
    "slideshow": {
     "slide_type": "skip"
    }
   },
   "outputs": [],
   "source": [
    "from selection.algorithms.lasso import lasso\n",
    "lasso_3TC = lasso(Y, X, lambda_theoretical, sigma=sigma_3TC)\n",
    "lasso_3TC.fit()\n",
    "active_3TC = [NRTI_muts[i] for i in lasso_3TC.active]"
   ]
  },
  {
   "cell_type": "code",
   "execution_count": null,
   "metadata": {
    "collapsed": false,
    "slideshow": {
     "slide_type": "fragment"
    }
   },
   "outputs": [],
   "source": [
    "active_3TC"
   ]
  },
  {
   "cell_type": "markdown",
   "metadata": {
    "slideshow": {
     "slide_type": "slide"
    }
   },
   "source": [
    "# Inference after LASSO?\n",
    "\n",
    "### Can we use usual inference after running these algorithms?\n",
    "\n",
    "## <font class=\"emphred\">No! We have been data snooping!</font>\n",
    "\n",
    "\n",
    "### Should we throw out all these algorithms?\n",
    "\n",
    "## <font class=\"emphred\">No! These algorithms often return pretty good models!</font>\n",
    "\n",
    "### We must address inherent conflict between <font class=\"emphred\">exploration</font> and <font class=\"emphred\">inference</font>.\n"
   ]
  },
  {
   "cell_type": "markdown",
   "metadata": {
    "slideshow": {
     "slide_type": "slide"
    }
   },
   "source": [
    "## Exploratory Data Analysis (EDA)\n",
    "\n",
    "<img src=\"http://upload.wikimedia.org/wikipedia/en/thumb/e/e9/John_Tukey.jpg/220px-John_Tukey.jpg\">\n",
    "\n",
    "* From [Wikipedia entry on EDA](http://en.wikipedia.org/wiki/Exploratory_data_analysis)\n",
    "\n",
    "<h4> ... <font class=\"emphblue\">more emphasis on</font> ...\n",
    "<font class=\"emphblue\">using data to suggest hypotheses to test.</font> \n",
    "</h4>"
   ]
  },
  {
   "cell_type": "markdown",
   "metadata": {
    "slideshow": {
     "slide_type": "slide"
    }
   },
   "source": [
    "## Exploratory Data Analysis (EDA)\n",
    "\n",
    "<img src=\"http://upload.wikimedia.org/wikipedia/en/thumb/e/e9/John_Tukey.jpg/220px-John_Tukey.jpg\">\n",
    "\n",
    "\n",
    "<h4>...  <font class=\"emphred\">bias</font> ... <font class=\"emphred\">testing hypotheses suggested by the data</font>.\n",
    "</h4>\n",
    "\n"
   ]
  },
  {
   "cell_type": "markdown",
   "metadata": {
    "slideshow": {
     "slide_type": "slide"
    }
   },
   "source": [
    "# Selective inference\n",
    "\n",
    "#### Allows <font class=\"emphred\">testing hypotheses suggested by the data.</font>\n",
    "\n",
    "#### <font class=\"emphred\">No free lunch:</font> users must declare the <font class=\"emphred\">algorithm</font>.\n",
    "\n",
    "#### Simplest example of selective inference: data splitting"
   ]
  },
  {
   "cell_type": "markdown",
   "metadata": {
    "slideshow": {
     "slide_type": "slide"
    }
   },
   "source": [
    "# Data splitting: simplest example\n",
    "\n",
    "\n",
    "1. $\\omega \\sim \\mathbb{Q}$ a random partition of size $(n_1(\\omega),n-n_1(\\omega))$.\n",
    "\n",
    "2. Choose $\\hat{E} = \\hat{E}(y_1(y,\\omega))$\n",
    "\n",
    "3. Report results for model $\\hat{E}$ using data $y_2(y,\\omega)$.\n",
    "\n"
   ]
  },
  {
   "cell_type": "code",
   "execution_count": null,
   "metadata": {
    "collapsed": false,
    "slideshow": {
     "slide_type": "skip"
    }
   },
   "outputs": [],
   "source": [
    "%%capture\n",
    "np.random.seed(0)\n",
    "active_carve, selective_pval_carve, selective_interval_carve, split_pval, split_interval = [], [], [], [], []\n",
    "results = data_carving(Y, X, lam_frac=1., sigma=sigma_3TC, burnin=2000, ndraw=8000, split_frac=0.9,\n",
    "                       splitting=True, compute_intervals=False)[0]\n",
    "for result in results:\n",
    "    active_carve.append(NRTI_muts[result[0]])\n",
    "    selective_pval_carve.append(result[1])\n",
    "    selective_interval_carve.append(result[2])\n",
    "    split_pval.append(result[3])\n",
    "    split_interval.append(result[4])\n",
    "carve_pvalues = pandas.DataFrame({'Mutation':active_carve, \n",
    "                                  'Data splitting':split_pval, \n",
    "                                  'Data carving':np.maximum(selective_pval_carve, 0)})\n",
    "carve_pvalues = carve_pvalues.reindex_axis(['Mutation', 'Data splitting', 'Data carving'], axis=1)\n",
    "carve_pvalue_table = itable.PrettyTable(carve_pvalues, tstyle=itable.TableStyle(theme=\"theme1\"), center=True)\n",
    "signif_carve = carve_pvalues['Data carving'] < 0.05\n",
    "signif_split = carve_pvalues['Data splitting'] < 0.05\n",
    "carve_pvalue_table.set_cell_style(cols=[1], rows=np.nonzero(signif_split)[0], color='red', font_weight='bold', format_function=lambda p: \"%0.3f\" % p)\n",
    "carve_pvalue_table.set_cell_style(cols=[1], rows=np.nonzero(~signif_split)[0], format_function=lambda p: \"%0.3f\" % p)\n",
    "carve_pvalue_table.set_cell_style(cols=[2], rows=np.nonzero(signif_carve)[0], color='red', font_weight='bold', format_function=lambda p: \"%0.3f\" % p)\n",
    "carve_pvalue_table.set_cell_style(cols=[2], rows=np.nonzero(~signif_carve)[0], format_function=lambda p: \"%0.3f\" % p)\n",
    "\n",
    "split_pvalues = carve_pvalues.reindex_axis(['Mutation', 'Data splitting'], axis=1)\n",
    "split_pvalue_table = itable.PrettyTable(split_pvalues, tstyle=itable.TableStyle(theme=\"theme1\"), center=True)\n",
    "signif_split = carve_pvalues['Data splitting'] < 0.05\n",
    "split_pvalue_table.set_cell_style(cols=[1], rows=np.nonzero(signif_split)[0], color='red', font_weight='bold', format_function=lambda p: \"%0.3f\" % p)\n",
    "split_pvalue_table.set_cell_style(cols=[1], rows=np.nonzero(~signif_split)[0], format_function=lambda p: \"%0.3f\" % p)\n",
    "\n",
    "active_carve_old = copy(active_carve)\n"
   ]
  },
  {
   "cell_type": "code",
   "execution_count": null,
   "metadata": {
    "collapsed": false,
    "slideshow": {
     "slide_type": "slide"
    }
   },
   "outputs": [],
   "source": [
    "# randomly split 90/10 percent\n",
    "# used 90% to find model\n",
    "# remaining 10% to test hypotheses\n",
    "split_pvalue_table \n"
   ]
  },
  {
   "cell_type": "markdown",
   "metadata": {
    "slideshow": {
     "slide_type": "slide"
    }
   },
   "source": [
    "# Data splitting\n",
    "\n",
    "### Pro: Easy to implement\n",
    "\n",
    "### Con:  (Minor?) Different $\\omega$ yield different statistics on (possibly) different models\n",
    "\n",
    "### Con: Suffers from <font class=\"emphred\">$p$-value lottery</font>. Any data used for selection cannot be used for inference...\n"
   ]
  },
  {
   "cell_type": "markdown",
   "metadata": {
    "slideshow": {
     "slide_type": "slide"
    }
   },
   "source": [
    "# Data splitting\n",
    "\n",
    "\n",
    "\n",
    "\n",
    "### Formal justification\n",
    "\n",
    "$$\n",
    "{\\cal L}_{F \\times \\mathbb{Q}}(X_{E,2}^Ty_2) = {\\cal L}_F(X_{2,E}^Ty_2 | \\hat{E}, \\omega, y_1)  \n",
    "$$\n",
    "\n",
    "\n",
    "\n",
    "### Model used for inference\n",
    "\n",
    "$$\n",
    "F \\in \\left\\{N(X_E\\beta_E, \\sigma_E^2 I): \\beta_E \\in \\mathbb{R}^E \\right\\} = {\\cal M}_E.\n",
    "$$\n",
    "\n",
    "### Note\n",
    "\n",
    "$$\n",
    "{\\cal L}_{F \\times \\mathbb{Q}} \\left( X_{2,E}^Ty_2 \\bigl\\vert \\hat{E}(y, \\omega)=E, \\omega, y_1 \\right)  \\equiv {\\cal L}_{F\\times \\mathbb{Q}} \\left(X_{E}^Ty  \\bigl\\vert \\hat{E}(y, \\omega)=E, \\omega, y_1\\right)\n",
    "$$\n",
    "\n"
   ]
  },
  {
   "cell_type": "code",
   "execution_count": null,
   "metadata": {
    "collapsed": false,
    "slideshow": {
     "slide_type": "skip"
    }
   },
   "outputs": [],
   "source": [
    "%%capture\n",
    "np.random.seed(20)\n",
    "active_carve, selective_pval_carve, selective_interval_carve, split_pval, split_interval = [], [], [], [], []\n",
    "results = data_carving(Y, X, lam_frac=1., sigma=sigma_3TC, burnin=2000, ndraw=8000, split_frac=0.9,\n",
    "                       splitting=True, compute_intervals=False)[0]\n",
    "for result in results:\n",
    "    active_carve.append(NRTI_muts[result[0]])\n",
    "    selective_pval_carve.append(result[1])\n",
    "    selective_interval_carve.append(result[2])\n",
    "    split_pval.append(result[3])\n",
    "    split_interval.append(result[4])\n",
    "carve_pvalues = pandas.DataFrame({'Mutation':active_carve, \n",
    "                                  'Data splitting':split_pval, \n",
    "                                  'Data carving':np.maximum(selective_pval_carve, 0)})\n",
    "carve_pvalues = carve_pvalues.reindex_axis(['Mutation', 'Data splitting', 'Data carving'], axis=1)\n",
    "carve_pvalue_table = itable.PrettyTable(carve_pvalues, tstyle=itable.TableStyle(theme=\"theme1\"), center=True)\n",
    "signif_carve = carve_pvalues['Data carving'] < 0.05\n",
    "signif_split = carve_pvalues['Data splitting'] < 0.05\n",
    "carve_pvalue_table.set_cell_style(cols=[1], rows=np.nonzero(signif_split)[0], color='red', font_weight='bold', format_function=lambda p: \"%0.3f\" % p)\n",
    "carve_pvalue_table.set_cell_style(cols=[1], rows=np.nonzero(~signif_split)[0], format_function=lambda p: \"%0.3f\" % p)\n",
    "carve_pvalue_table.set_cell_style(cols=[2], rows=np.nonzero(signif_carve)[0], color='red', font_weight='bold', format_function=lambda p: \"%0.3f\" % p)\n",
    "carve_pvalue_table.set_cell_style(cols=[2], rows=np.nonzero(~signif_carve)[0], format_function=lambda p: \"%0.3f\" % p)\n",
    "\n",
    "split_pvalues = carve_pvalues.reindex_axis(['Mutation', 'Data splitting'], axis=1)\n",
    "split_pvalue_table = itable.PrettyTable(split_pvalues, tstyle=itable.TableStyle(theme=\"theme1\"), center=True)\n",
    "signif_split = carve_pvalues['Data splitting'] < 0.05\n",
    "split_pvalue_table.set_cell_style(cols=[1], rows=np.nonzero(signif_split)[0], color='red', font_weight='bold', format_function=lambda p: \"%0.3f\" % p)\n",
    "split_pvalue_table.set_cell_style(cols=[1], rows=np.nonzero(~signif_split)[0], format_function=lambda p: \"%0.3f\" % p)\n",
    "\n",
    "# what is different from other split\n",
    "\n",
    "different_muts = [active_carve.index(mutn) for mutn in set(active_carve).difference(active_carve_old)]\n",
    "\n",
    "split_pvalue_table.set_cell_style(cols=[0,1], rows=different_muts,\n",
    "                                  color='blue', format_function=lambda p: \"%0.3f\" % p)\n",
    "\n",
    "\n"
   ]
  },
  {
   "cell_type": "code",
   "execution_count": null,
   "metadata": {
    "collapsed": false,
    "slideshow": {
     "slide_type": "slide"
    }
   },
   "outputs": [],
   "source": [
    "# here is a different 90/10 random split\n",
    "# variables chosen are different as are p-values\n",
    "split_pvalue_table"
   ]
  },
  {
   "cell_type": "markdown",
   "metadata": {
    "slideshow": {
     "slide_type": "slide"
    }
   },
   "source": [
    "# Selective inference after LASSO \n",
    "\n",
    "\n",
    "## Why not use all of the data to choose a model!\n",
    "\n",
    "$$\n",
    "{\\cal L}_{F }\\left(X^T_Ey  \\bigl| \\hat{E}(y)\\right)\n",
    "$$\n",
    "\n",
    "\n",
    "\n",
    "#### [arxiv.org/1311.6238](http://arxiv.org/abs/1311.6238),  [arxiv.org/1410.2597](http://arxiv.org/abs/1410.2597).\n",
    "\n",
    "\n"
   ]
  },
  {
   "cell_type": "markdown",
   "metadata": {
    "slideshow": {
     "slide_type": "slide"
    }
   },
   "source": [
    "## Variables chosen for 3TC"
   ]
  },
  {
   "cell_type": "code",
   "execution_count": null,
   "metadata": {
    "collapsed": false,
    "slideshow": {
     "slide_type": "fragment"
    }
   },
   "outputs": [],
   "source": [
    "lambda_theoretical"
   ]
  },
  {
   "cell_type": "code",
   "execution_count": null,
   "metadata": {
    "collapsed": false,
    "slideshow": {
     "slide_type": "skip"
    }
   },
   "outputs": [],
   "source": [
    "from selection.algorithms.lasso import lasso\n",
    "lasso_3TC = lasso(Y, X, lambda_theoretical, sigma=sigma_3TC)\n",
    "lasso_3TC.fit()\n",
    "active_3TC = [NRTI_muts[i] for i in lasso_3TC.active]"
   ]
  },
  {
   "cell_type": "code",
   "execution_count": null,
   "metadata": {
    "collapsed": false,
    "slideshow": {
     "slide_type": "fragment"
    }
   },
   "outputs": [],
   "source": [
    "active_3TC"
   ]
  },
  {
   "cell_type": "code",
   "execution_count": null,
   "metadata": {
    "collapsed": false,
    "slideshow": {
     "slide_type": "skip"
    }
   },
   "outputs": [],
   "source": [
    "%%capture\n",
    "ax_3TC.bar(np.arange(1, len(NRTI_muts)+1)-0.5, lasso_3TC.soln, label='LASSO', color='gray') \n",
    "ax_3TC.set_title(r'LASSO coefficients ($\\lambda=%0.1f$)' % lambda_theoretical, fontsize=50)\n",
    "ax_3TC.legend(fontsize=30, loc='upper left')"
   ]
  },
  {
   "cell_type": "code",
   "execution_count": null,
   "metadata": {
    "collapsed": false,
    "slideshow": {
     "slide_type": "slide"
    }
   },
   "outputs": [],
   "source": [
    "fig_3TC"
   ]
  },
  {
   "cell_type": "code",
   "execution_count": null,
   "metadata": {
    "collapsed": false,
    "slideshow": {
     "slide_type": "skip"
    }
   },
   "outputs": [],
   "source": [
    "%%capture\n",
    "selected_OLS = sm.OLS(Y, X[:,lasso_3TC.active]).fit()\n",
    "OLS_lower, OLS_upper = np.asarray(selected_OLS.conf_int()).T\n",
    "selective_lower = lasso_3TC.intervals['lower'] # [i[0] for _, _, _, i in lasso_3TC.intervals]\n",
    "selective_upper = lasso_3TC.intervals['upper'] # [i[1] for _, _, _, i in lasso_3TC.intervals]\n",
    "\n",
    "selective_intervals = ([['Mutation', 'OLS Lower', 'OLS Upper', 'Selective Lower', 'Selective Upper']] + \n",
    "                       zip(active_3TC, OLS_lower, OLS_upper, selective_lower, selective_upper))\n"
   ]
  },
  {
   "cell_type": "code",
   "execution_count": null,
   "metadata": {
    "collapsed": false,
    "slideshow": {
     "slide_type": "skip"
    }
   },
   "outputs": [],
   "source": [
    "%%capture\n",
    "fig_select = pyplot.figure(figsize=(24,12))\n",
    "ax_select = fig_select.gca()\n",
    "ax_select.bar(np.arange(1, len(active_3TC)+1)-0.5, selected_OLS.params, color='grey', alpha=0.5)                                                          \n",
    "ax_select.set_xticks(range(1, (len(active_3TC)+1)))\n",
    "ax_select.set_xticklabels(active_3TC, rotation='vertical', fontsize=18) \n",
    "ax_select.set_xlim([0, len(active_3TC)+1])\n",
    "ax_select.set_title(r'Intervals' % sigma_3TC, fontsize=50)\n",
    "ax_select.set_ylabel('Parameter values', fontsize=30)\n",
    "ax_select.errorbar(np.arange(1, (len(active_3TC)+1)), selected_OLS.params, \n",
    "                yerr=[selected_OLS.params - OLS_lower, \n",
    "                      OLS_upper - selected_OLS.params],\n",
    "                capsize=10,\n",
    "                capthick=5,\n",
    "                fmt=None,\n",
    "                label='OLS (naive)',\n",
    "                elinewidth=3,\n",
    "                ecolor='k')\n",
    "ax_select.legend(fontsize=30, loc='upper left', numpoints=1)\n",
    "ax_select.plot([0, len(active_3TC)+1], [0,0], 'k--')"
   ]
  },
  {
   "cell_type": "code",
   "execution_count": null,
   "metadata": {
    "collapsed": false,
    "slideshow": {
     "slide_type": "slide"
    }
   },
   "outputs": [],
   "source": [
    "fig_select"
   ]
  },
  {
   "cell_type": "code",
   "execution_count": null,
   "metadata": {
    "collapsed": false,
    "slideshow": {
     "slide_type": "skip"
    }
   },
   "outputs": [],
   "source": [
    "%%capture\n",
    "ax_select.errorbar(np.arange(1, (len(active_3TC)+1)), selected_OLS.params,\n",
    "                yerr=[selected_OLS.params - selective_lower, \n",
    "                      selective_upper - selected_OLS.params],\n",
    "                capsize=10,\n",
    "                capthick=5,\n",
    "                fmt=None,\n",
    "                label='Selective',\n",
    "                elinewidth=3,\n",
    "                ecolor='r')\n",
    "ax_select.legend(fontsize=30, loc='upper left', numpoints=1)"
   ]
  },
  {
   "cell_type": "code",
   "execution_count": null,
   "metadata": {
    "collapsed": false,
    "slideshow": {
     "slide_type": "slide"
    }
   },
   "outputs": [],
   "source": [
    "fig_select"
   ]
  },
  {
   "cell_type": "markdown",
   "metadata": {
    "slideshow": {
     "slide_type": "fragment"
    }
   },
   "source": [
    "### Some intervals seem to be long..."
   ]
  },
  {
   "cell_type": "markdown",
   "metadata": {
    "slideshow": {
     "slide_type": "slide"
    }
   },
   "source": [
    "# Selective inference  for LASSO\n",
    "\n",
    "### Inference is based on the distribution\n",
    "\n",
    "$$\n",
    "{\\cal L}_F\\left(X^T_Ey  \\big\\vert (\\hat{E}, z_{\\hat{E}}) = (E, z_E) \\right)\n",
    "$$\n",
    "\n",
    "### Could use (at computational cost)\n",
    "\n",
    "$$\n",
    "{\\cal L}_F\\left(X^T_Ey  \\big\\vert \\hat{E}=E \\right)\n",
    "$$\n",
    "\n",
    "### Model  (same as data splitting)\n",
    "\n",
    "$$\n",
    "F \\in \\left\\{N(X_E\\beta_E, \\sigma^2_E I): \\beta_E \\in \\mathbb{R}^E \\right\\} ={\\cal M}_E.\n",
    "$$\n",
    "\n",
    "\n"
   ]
  },
  {
   "cell_type": "markdown",
   "metadata": {
    "slideshow": {
     "slide_type": "slide"
    }
   },
   "source": [
    "# Selective inference  for LASSO\n",
    "\n",
    "### Selection event\n",
    "\n",
    "- Event of interest\n",
    "$$\n",
    "\\left\\{(\\hat{E}, z_{\\hat{E}}) = (E,z_E) \\right\\}\n",
    "$$\n",
    "\n",
    "- KKT conditions give us a description of the event:\n",
    "$$\n",
    "\\begin{aligned}\n",
    "X_E^T(y-X_E\\hat{\\beta}_E(y)) &= \\lambda z_E \\\\\n",
    "\\max_{j \\not \\in E}|X_{j}^T(y - X_E\\hat{\\beta}_E(y))|& \\leq \\lambda.\n",
    "\\end{aligned}\n",
    "$$\n",
    "with $\\text{sign}(\\hat{\\beta}_E(y)) = z_E$.\n",
    "\n",
    "- Equivalent to polyhedral constraints\n",
    "\n",
    "$$\n",
    "\\left\\{y: A_{(E,z_E,\\lambda)}y \\leq b_{(E,z_E,\\lambda)} \\right\\}\n",
    "$$\n",
    "\n",
    "\n"
   ]
  },
  {
   "cell_type": "markdown",
   "metadata": {
    "slideshow": {
     "slide_type": "slide"
    }
   },
   "source": [
    "## Visualizing LASSO partition \n",
    "\n",
    "<img src=\"http://statweb.stanford.edu/~jtaylo/talks/bids2015/fig_lasso0.png\" width=\"500\">\n",
    "\n",
    "(Credit [Naftali Harris](http://www.naftaliharris.com/blog/lasso-polytope-geometry/))"
   ]
  },
  {
   "cell_type": "markdown",
   "metadata": {
    "slideshow": {
     "slide_type": "slide"
    }
   },
   "source": [
    "## What we know after conditioning\n",
    "\n",
    "<img src=\"http://statweb.stanford.edu/~jtaylo/talks/bids2015/fig_lasso3.png\" width=\"500\">\n"
   ]
  },
  {
   "cell_type": "code",
   "execution_count": null,
   "metadata": {
    "collapsed": false,
    "slideshow": {
     "slide_type": "skip"
    }
   },
   "outputs": [],
   "source": [
    "selective_pvalues = pandas.DataFrame({'Mutation':active_3TC, 'Naive OLS':selected_OLS.pvalues, \n",
    "                                      'Selective':[p for _, p in lasso_3TC.active_pvalues]})\n",
    "pvalue_table = itable.PrettyTable(selective_pvalues, tstyle=itable.TableStyle(theme=\"theme1\"), center=True)\n",
    "signif_select = selective_pvalues['Selective'] < 0.05\n",
    "signif_OLS = selective_pvalues['Naive OLS'] < 0.05\n",
    "pvalue_table.set_cell_style(cols=[1], rows=np.nonzero(signif_OLS)[0], color='red', font_weight='bold', format_function=lambda p: \"%0.3f\" % p)\n",
    "pvalue_table.set_cell_style(cols=[1], rows=np.nonzero(~signif_OLS)[0], format_function=lambda p: \"%0.3f\" % p)\n",
    "pvalue_table.set_cell_style(cols=[2], rows=np.nonzero(signif_select)[0], color='red', font_weight='bold', format_function=lambda p: \"%0.3f\" % p)\n",
    "pvalue_table.set_cell_style(cols=[2], rows=np.nonzero(~signif_select)[0], format_function=lambda p: \"%0.3f\" % p)\n"
   ]
  },
  {
   "cell_type": "code",
   "execution_count": null,
   "metadata": {
    "collapsed": false,
    "slideshow": {
     "slide_type": "slide"
    }
   },
   "outputs": [],
   "source": [
    "pvalue_table"
   ]
  },
  {
   "cell_type": "markdown",
   "metadata": {
    "slideshow": {
     "slide_type": "slide"
    }
   },
   "source": [
    "# Data carving\n",
    "\n",
    "\n",
    "### Use only some data for model selection, all for inference\n",
    "\n",
    "\n",
    "$$\n",
    "{\\cal L}_{F \\times \\mathbb{Q}}\\left(X^T_Ey \\ \\bigl \\vert \\ \\hat{E}(y,\\omega)=E, \\omega \\right)\n",
    "$$\n",
    "\n",
    "### Recall data splitting\n",
    "\n",
    "$$\n",
    "{\\cal L}_{F \\times \\mathbb{Q}}\\left(X^T_Ey \\ \\bigl \\vert \\ \\hat{E}(y,\\omega)=E, y_1, \\omega\\right)\n",
    "$$\n",
    "\n",
    "### Improves $p$-value lottery effect\n",
    "\n",
    "####  [arxiv.org/1410.2597](http://arxiv.org/abs/1410.2597)\n"
   ]
  },
  {
   "cell_type": "code",
   "execution_count": null,
   "metadata": {
    "collapsed": false,
    "slideshow": {
     "slide_type": "skip"
    }
   },
   "outputs": [],
   "source": [
    "%%capture\n",
    "np.random.seed(0)\n",
    "active_carve, selective_pval_carve, selective_interval_carve, split_pval, split_interval = [], [], [], [], []\n",
    "results = data_carving(Y, X, lam_frac=1., sigma=sigma_3TC, burnin=2000, ndraw=8000, split_frac=0.9,\n",
    "                       splitting=True, compute_intervals=False)[0]\n",
    "for result in results:\n",
    "    active_carve.append(NRTI_muts[result[0]])\n",
    "    selective_pval_carve.append(result[1])\n",
    "    selective_interval_carve.append(result[2])\n",
    "    split_pval.append(result[3])\n",
    "    split_interval.append(result[4])\n",
    "carve_pvalues = pandas.DataFrame({'Mutation':active_carve, \n",
    "                                  'Data splitting':split_pval, \n",
    "                                  'Data carving':np.maximum(selective_pval_carve, 0)})\n",
    "carve_pvalues = carve_pvalues.reindex_axis(['Mutation', 'Data splitting', 'Data carving'], axis=1)\n",
    "carve_pvalue_table = itable.PrettyTable(carve_pvalues, tstyle=itable.TableStyle(theme=\"theme1\"), center=True)\n",
    "signif_carve = carve_pvalues['Data carving'] < 0.05\n",
    "signif_split = carve_pvalues['Data splitting'] < 0.05\n",
    "carve_pvalue_table.set_cell_style(cols=[1], rows=np.nonzero(signif_split)[0], color='red', font_weight='bold', format_function=lambda p: \"%0.3f\" % p)\n",
    "carve_pvalue_table.set_cell_style(cols=[1], rows=np.nonzero(~signif_split)[0], format_function=lambda p: \"%0.3f\" % p)\n",
    "carve_pvalue_table.set_cell_style(cols=[2], rows=np.nonzero(signif_carve)[0], color='red', font_weight='bold', format_function=lambda p: \"%0.3f\" % p)\n",
    "carve_pvalue_table.set_cell_style(cols=[2], rows=np.nonzero(~signif_carve)[0], format_function=lambda p: \"%0.3f\" % p)\n"
   ]
  },
  {
   "cell_type": "code",
   "execution_count": null,
   "metadata": {
    "collapsed": false,
    "slideshow": {
     "slide_type": "slide"
    }
   },
   "outputs": [],
   "source": [
    "carve_pvalue_table"
   ]
  },
  {
   "cell_type": "markdown",
   "metadata": {
    "slideshow": {
     "slide_type": "slide"
    }
   },
   "source": [
    "# Data splitting\n",
    "\n",
    "<img src=\"http://statweb.stanford.edu/~jtaylo/talks/bids2015/ROC_1.png\" width=\"500\">\n",
    "\n",
    "\n"
   ]
  },
  {
   "cell_type": "markdown",
   "metadata": {
    "slideshow": {
     "slide_type": "slide"
    }
   },
   "source": [
    "# Data carving\n",
    "\n",
    "<img src=\"http://statweb.stanford.edu/~jtaylo/talks/bids2015/ROC_2.png\" width=\"500\">\n",
    "\n",
    "\n",
    "#### [arxiv.org/1410.2597](http://arxiv.org/abs/1410.2597),  [arxiv.org/1507.06739](http://arxiv.org/abs/1507.06739v1)\n",
    "\n",
    "\n"
   ]
  },
  {
   "cell_type": "markdown",
   "metadata": {
    "slideshow": {
     "slide_type": "slide"
    }
   },
   "source": [
    "# Additive noise\n",
    "\n",
    "<img src=\"http://statweb.stanford.edu/~jtaylo/talks/bids2015/ROC_3.png\" width=\"500\">\n",
    "\n",
    "Can do even better than data carving!"
   ]
  },
  {
   "cell_type": "code",
   "execution_count": null,
   "metadata": {
    "collapsed": true
   },
   "outputs": [],
   "source": []
  }
 ],
 "metadata": {
  "kernelspec": {
   "display_name": "Python 2",
   "language": "python",
   "name": "python2"
  },
  "language_info": {
   "codemirror_mode": {
    "name": "ipython",
    "version": 2
   },
   "file_extension": ".py",
   "mimetype": "text/x-python",
   "name": "python",
   "nbconvert_exporter": "python",
   "pygments_lexer": "ipython2",
   "version": "2.7.11"
  }
 },
 "nbformat": 4,
 "nbformat_minor": 0
}
