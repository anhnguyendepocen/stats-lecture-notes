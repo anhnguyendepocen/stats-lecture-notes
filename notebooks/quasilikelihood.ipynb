{
 "metadata": {
  "name": "quasilikelihood"
 },
 "nbformat": 3,
 "nbformat_minor": 0,
 "worksheets": [
  {
   "cells": [
    {
     "cell_type": "heading",
     "level": 1,
     "metadata": {
      "slideshow": {
       "slide_type": "slide"
      }
     },
     "source": [
      "Dispersion and deviance residuals"
     ]
    },
    {
     "cell_type": "markdown",
     "metadata": {
      "slideshow": {
       "slide_type": "fragment"
      }
     },
     "source": [
      "For the Poisson and Binomial models, for a GLM\n",
      "with fitted values $\\hat{\\mu} = \\nabla \\CGF(X\\hat{\\beta})$\n",
      "the quantity $D_+(Y,\\hat{\\mu})$ can be expressed as twice the difference\n",
      "between two maximized log-likelihoods for \n",
      "$$\n",
      "Y_i \\overset{\\text{indep}}{\\sim} \\Pp_{\\eta_i}.\n",
      "$$\n",
      "\n",
      "The first model is the *saturated* model, i.e. where $\\hat{\\mu}_i=Y_i$, while the second\n",
      "is the GLM.\n"
     ]
    },
    {
     "cell_type": "markdown",
     "metadata": {
      "slideshow": {
       "slide_type": "slide"
      }
     },
     "source": [
      "Since it is a difference of maximized (nested) log-likelihoods, this difference should have roughly a $\\chi^2$ distribution with degrees of freedom $n-\\text{rank}(X)$.\n",
      "\n",
      "Let's look at the counts data again:"
     ]
    },
    {
     "cell_type": "code",
     "collapsed": false,
     "input": [
      "%%R\n",
      "library(sda)\n",
      "data(singh2002)\n",
      "labels = singh2002$y\n",
      "print(summary(labels))\n",
      "expression_data = singh2002$x\n",
      "tvals = c()\n",
      "for (i in 1:6033) {\n",
      "    tvals = c(tvals, t.test(expression_data[,i] ~ labels, var.equal=TRUE)$statistic)\n",
      "}\n",
      "zvals = qnorm(pt(tvals, 100))"
     ],
     "language": "python",
     "metadata": {
      "slideshow": {
       "slide_type": "fragment"
      }
     },
     "outputs": [
      {
       "output_type": "display_data",
       "text": [
        "Loading required package: entropy\n",
        "Loading required package: corpcor\n",
        "Loading required package: fdrtool\n",
        " cancer healthy \n",
        "     52      50 \n",
        "Warning messages:\n",
        "1: package \u2018sda\u2019 was built under R version 2.15.3 \n",
        "2: package \u2018entropy\u2019 was built under R version 2.15.3 \n",
        "3: package \u2018corpcor\u2019 was built under R version 2.15.3 \n"
       ]
      }
     ],
     "prompt_number": 2
    },
    {
     "cell_type": "code",
     "collapsed": false,
     "input": [
      "%%R -o eta,counts\n",
      "bins = c(-Inf, seq(-4,4,length=51), Inf)\n",
      "counts = c()\n",
      "for (i in 1:(length(bins)-1)) {\n",
      "    counts = c(counts, sum((zvals > bins[i]) * (zvals <= bins[i+1])))\n",
      "}\n",
      "midpoints = (bins[1:length(bins)-1] + bins[2:length(bins)])/2\n",
      "counts = counts[2:(length(counts)-1)]\n",
      "midpoints = midpoints[2:(length(midpoints)-1)]\n",
      "density.glm = glm(counts ~ poly(midpoints,7), family=poisson(link='log'))\n",
      "eta = predict(density.glm)\n"
     ],
     "language": "python",
     "metadata": {
      "slideshow": {
       "slide_type": "slide"
      }
     },
     "outputs": [
      {
       "output_type": "display_data",
       "text": [
        "\n",
        "Call:\n",
        "glm(formula = counts ~ poly(midpoints, 7), family = poisson(link = \"log\"))\n",
        "\n",
        "Deviance Residuals: \n",
        "     Min        1Q    Median        3Q       Max  \n",
        "-1.79431  -0.69422   0.01274   0.61035   2.08374  \n",
        "\n",
        "Coefficients:\n",
        "                     Estimate Std. Error z value Pr(>|z|)    \n",
        "(Intercept)           3.89067    0.03436 113.241  < 2e-16 ***\n",
        "poly(midpoints, 7)1  -0.19805    0.35327  -0.561    0.575    \n",
        "poly(midpoints, 7)2 -10.89546    0.35131 -31.014  < 2e-16 ***\n",
        "poly(midpoints, 7)3  -0.14374    0.32855  -0.437    0.662    \n",
        "poly(midpoints, 7)4   1.99022    0.30931   6.434 1.24e-10 ***\n",
        "poly(midpoints, 7)5   0.01894    0.30917   0.061    0.951    \n",
        "poly(midpoints, 7)6   0.31586    0.20410   1.548    0.122    \n",
        "poly(midpoints, 7)7   0.07490    0.20382   0.367    0.713    \n",
        "---\n",
        "Signif. codes:  0 \u2018***\u2019 0.001 \u2018**\u2019 0.01 \u2018*\u2019 0.05 \u2018.\u2019 0.1 \u2018 \u2019 1 \n",
        "\n",
        "(Dispersion parameter for poisson family taken to be 1)\n",
        "\n",
        "    Null deviance: 6707.369  on 49  degrees of freedom\n",
        "Residual deviance:   41.079  on 42  degrees of freedom\n",
        "AIC: 342.61\n",
        "\n",
        "Number of Fisher Scoring iterations: 4\n",
        "\n"
       ]
      }
     ],
     "prompt_number": 27
    },
    {
     "cell_type": "code",
     "collapsed": false,
     "input": [
      "%%R\n",
      "print(summary(density.glm))"
     ],
     "language": "python",
     "metadata": {
      "slideshow": {
       "slide_type": "slide"
      }
     },
     "outputs": []
    },
    {
     "cell_type": "markdown",
     "metadata": {
      "slideshow": {
       "slide_type": "slide"
      }
     },
     "source": [
      "For this data, the *residual deviance* is the quantity $D_+(Y;\\hat{\\mu})$"
     ]
    },
    {
     "cell_type": "code",
     "collapsed": false,
     "input": [
      "eta_saturated = np.log(counts)\n",
      "dev_resid_sq = 2 * (np.exp(eta) - np.exp(eta_saturated) - counts * (eta-eta_saturated))\n",
      "dev_resid_sq"
     ],
     "language": "python",
     "metadata": {
      "slideshow": {
       "slide_type": "fragment"
      }
     },
     "outputs": [
      {
       "output_type": "pyout",
       "prompt_number": 39,
       "text": [
        "array([ 1.77629347,  0.01742557,  3.45930476,  0.00053596,  0.35270483,\n",
        "        2.27763749,  0.05016394,  0.1729021 ,  1.49157042,  1.76041477,\n",
        "        0.00977032,  0.08640754,  0.00470415,  2.06396423,  0.00635758,\n",
        "        0.60711674,  0.36984542,  0.33563335,  1.93941483,  0.86941851,\n",
        "        1.2070093 ,  0.155413  ,  0.90682819,  1.38505398,  0.00076262,\n",
        "        2.75389627,  0.40022683,  0.67820893,  0.59786844,  0.09293117,\n",
        "        0.07191365,  0.92723779,  0.04781488,  0.08804274,  0.92901589,\n",
        "        0.37925379,  1.01705818,  0.52260584,  0.55759824,  0.24604725,\n",
        "        1.34835668,  0.17802013,  0.03493832,  0.00006255,  4.3419532 ,\n",
        "        0.03166507,  0.00707733,  1.30056171,  3.21955332,  0.00030877])"
       ]
      }
     ],
     "prompt_number": 39
    },
    {
     "cell_type": "markdown",
     "metadata": {
      "slideshow": {
       "slide_type": "fragment"
      }
     },
     "source": [
      "I used the name `dev_resid_sq` above to denote these are squared deviance residuals."
     ]
    },
    {
     "cell_type": "code",
     "collapsed": false,
     "input": [
      "dev_resid = np.sign(counts - np.exp(eta)) * np.sqrt(dev_resid_sq)\n",
      "dev_resid[:10]"
     ],
     "language": "python",
     "metadata": {
      "slideshow": {
       "slide_type": "fragment"
      }
     },
     "outputs": [
      {
       "output_type": "pyout",
       "prompt_number": 40,
       "text": [
        "array([ 1.3327766 , -0.13200594, -1.85992063,  0.02315076, -0.59388957,\n",
        "        1.50918438,  0.22397308, -0.41581498,  1.22129866, -1.32680623])"
       ]
      }
     ],
     "prompt_number": 40
    },
    {
     "cell_type": "code",
     "collapsed": false,
     "input": [
      "Dplus = dev_resid.sum()\n",
      "Dplus"
     ],
     "language": "python",
     "metadata": {
      "slideshow": {
       "slide_type": "fragment"
      }
     },
     "outputs": [
      {
       "output_type": "pyout",
       "prompt_number": 34,
       "text": [
        "41.078870022329738"
       ]
      }
     ],
     "prompt_number": 34
    },
    {
     "cell_type": "markdown",
     "metadata": {
      "slideshow": {
       "slide_type": "slide"
      }
     },
     "source": [
      "These deviance residuals are what `R` returns as the residuals of the GLM."
     ]
    },
    {
     "cell_type": "code",
     "collapsed": false,
     "input": [
      "%%R\n",
      "R = resid(density.glm)\n",
      "print(R[1:10])\n",
      "print(sum(R^2))"
     ],
     "language": "python",
     "metadata": {},
     "outputs": [
      {
       "output_type": "display_data",
       "text": [
        "          1           2           3           4           5           6 \n",
        "-1.33277660  0.13200594  1.85992063 -0.02315076  0.59388957 -1.50918438 \n",
        "          7           8           9          10 \n",
        "-0.22397308  0.41581498 -1.22129866  1.32680623 \n",
        "[1] 41.07887\n"
       ]
      }
     ],
     "prompt_number": 41
    },
    {
     "cell_type": "markdown",
     "metadata": {
      "slideshow": {
       "slide_type": "fragment"
      }
     },
     "source": [
      "Comparing this to a $\\chi^2_{42}$ distribution, this value is entirely plausible."
     ]
    },
    {
     "cell_type": "code",
     "collapsed": false,
     "input": [
      "%%R\n",
      "print(1-pchisq(41.08,42))"
     ],
     "language": "python",
     "metadata": {
      "slideshow": {
       "slide_type": "fragment"
      }
     },
     "outputs": [
      {
       "output_type": "display_data",
       "text": [
        "[1] 0.5112363\n"
       ]
      }
     ],
     "prompt_number": 36
    },
    {
     "cell_type": "markdown",
     "metadata": {
      "slideshow": {
       "slide_type": "slide"
      }
     },
     "source": [
      "This phenomenon is different than in OLS regression. In OLS regression\n",
      "$$\n",
      "D_+(Y;\\hat{\\mu}) = \\frac{1}{\\sigma^2} \\|Y-X\\hat{\\beta}\\|^2_2 = \\frac{1}{\\sigma^2} \\|P_{\\text{col}(X)}^{\\perp}Y\\|^2_2.\n",
      "$$\n",
      "\n",
      "The difference is that there is an additional scale parameter to estimate in \n",
      "OLS regression. The binomial and Poisson regression models have no scale parameter.\n",
      "\n",
      "This is why we see the phrase \n",
      "\n",
      "    (Dispersion parameter for poisson family taken to be 1)\n",
      "\n",
      "in `summary(density.glm)`."
     ]
    },
    {
     "cell_type": "heading",
     "level": 2,
     "metadata": {
      "slideshow": {
       "slide_type": "slide"
      }
     },
     "source": [
      "Overdispersion"
     ]
    },
    {
     "cell_type": "markdown",
     "metadata": {
      "slideshow": {
       "slide_type": "fragment"
      }
     },
     "source": [
      "We can therefore think of the residual deviance as a goodness of fit test. If the model is correct, the residual deviance should be approximately $\\chi^2$ with the stated degrees of freedom."
     ]
    },
    {
     "cell_type": "markdown",
     "metadata": {
      "slideshow": {
       "slide_type": "fragment"
      }
     },
     "source": [
      "### *Exercise: goodness-of-fit test and test of independence*\n",
      "\n",
      "Men and women in a particular sample were asked whether or not they believe\n",
      "in the afterlife.\n",
      "$$\n",
      "\\begin{array}{l|c|c|c}\n",
      "       & \\text{Male} & \\text{Female}  \\\\ \\hline\n",
      "   \\text{Yes} & 435 & 375  \\\\\n",
      "   \\text{No or Undecided} & 147 & 134 \\\\ \\hline\n",
      "     \\end{array}\n",
      "$$\n",
      "\n",
      "1. Apply Lindsey's to these $(X_B, X_G) \\in \\{Y,N\\} \\times \\{M,F\\}$ valued random variables and fit\n",
      "a Poisson model to this data under the null hypothesis that $X_B$ is independent of $X_G$.\n",
      "\n",
      "2. Compare the residual deviance to the usual Pearson's $\\chi^2$ test of independence."
     ]
    },
    {
     "cell_type": "markdown",
     "metadata": {
      "slideshow": {
       "slide_type": "slide"
      }
     },
     "source": [
      "However, in some datasets, the residual deviance is very far off as judged by this scale.\n",
      "Brad's note use this toxoplasmosis incidence data from El Salvador to illustrate this point."
     ]
    },
    {
     "cell_type": "code",
     "collapsed": false,
     "input": [
      "%%R\n",
      "library(SMPracticals)\n",
      "data(toxo)\n",
      "toxo.glm = glm(r/m ~ poly(rain,3), weights=m, data=toxo, family=binomial)\n",
      "print(summary(toxo.glm))"
     ],
     "language": "python",
     "metadata": {
      "slideshow": {
       "slide_type": "fragment"
      }
     },
     "outputs": [
      {
       "output_type": "display_data",
       "text": [
        "\n",
        "Call:\n",
        "glm(formula = r/m ~ poly(rain, 3), family = binomial, data = toxo, \n",
        "    weights = m)\n",
        "\n",
        "Deviance Residuals: \n",
        "    Min       1Q   Median       3Q      Max  \n",
        "-2.7620  -1.2166  -0.5079   0.3538   2.6204  \n",
        "\n",
        "Coefficients:\n",
        "               Estimate Std. Error z value Pr(>|z|)    \n",
        "(Intercept)     0.02427    0.07693   0.315 0.752401    \n",
        "poly(rain, 3)1 -0.08606    0.45870  -0.188 0.851172    \n",
        "poly(rain, 3)2 -0.19269    0.46739  -0.412 0.680141    \n",
        "poly(rain, 3)3  1.37875    0.41150   3.351 0.000806 ***\n",
        "---\n",
        "Signif. codes:  0 \u2018***\u2019 0.001 \u2018**\u2019 0.01 \u2018*\u2019 0.05 \u2018.\u2019 0.1 \u2018 \u2019 1 \n",
        "\n",
        "(Dispersion parameter for binomial family taken to be 1)\n",
        "\n",
        "    Null deviance: 74.212  on 33  degrees of freedom\n",
        "Residual deviance: 62.635  on 30  degrees of freedom\n",
        "AIC: 161.33\n",
        "\n",
        "Number of Fisher Scoring iterations: 3\n",
        "\n"
       ]
      }
     ],
     "prompt_number": 51
    },
    {
     "cell_type": "markdown",
     "metadata": {
      "slideshow": {
       "slide_type": "slide"
      }
     },
     "source": [
      "The residual deviance here is 62.63, very large for something nominally $\\chi^2_{30}$.\n",
      "There is virtually no chance that a $\\chi^2_{30}$ would be so large."
     ]
    },
    {
     "cell_type": "code",
     "collapsed": false,
     "input": [
      "%%R\n",
      "print(1-pnorm(62.63,30))\n",
      "qqnorm(resid(toxo.glm))"
     ],
     "language": "python",
     "metadata": {
      "slideshow": {
       "slide_type": "fragment"
      }
     },
     "outputs": [
      {
       "output_type": "display_data",
       "text": [
        "[1] 0\n",
        "[1] 1.344741\n"
       ]
      },
      {
       "output_type": "display_data",
       "png": "[encoded data removed]"
      }
     ],
     "prompt_number": 54
    },
    {
     "cell_type": "markdown",
     "metadata": {
      "slideshow": {
       "slide_type": "slide"
      }
     },
     "source": [
      "The deviance residuals are generally too large:"
     ]
    },
    {
     "cell_type": "code",
     "collapsed": false,
     "input": [
      "%R print(sd(resid(toxo.glm)))"
     ],
     "language": "python",
     "metadata": {
      "slideshow": {
       "slide_type": "fragment"
      }
     },
     "outputs": [
      {
       "output_type": "display_data",
       "text": [
        "[1] 1.344741\n"
       ]
      }
     ],
     "prompt_number": 103
    },
    {
     "cell_type": "markdown",
     "metadata": {
      "slideshow": {
       "slide_type": "slide"
      }
     },
     "source": [
      "So what happened here? What do we do?\n",
      "\n",
      "It is hard to know exactly why these residuals are too large. It is an indication\n",
      "that our model $${\\cal Y_i}|{\\cal X} \\sim \\Pp_{\\eta(X_i)}$$ is incorrect.\n",
      "\n",
      "Let's refit the model a little differently. The earlier data had been pooled\n",
      "across cities. Let's expand this to a full data set. If our original binomial\n",
      "model was correct, then this new data set will be independent Bernoulli random variables given the covariates.\n"
     ]
    },
    {
     "cell_type": "code",
     "collapsed": false,
     "input": [
      "%R -o toxo\n",
      "rain, nsample, cases = toxo\n"
     ],
     "language": "python",
     "metadata": {
      "slideshow": {
       "slide_type": "slide"
      }
     },
     "outputs": [],
     "prompt_number": 58
    },
    {
     "cell_type": "code",
     "collapsed": false,
     "input": [
      "expanded_rain = []\n",
      "bernoulli_cases = []\n",
      "city = []\n",
      "\n",
      "city_idx = 0\n",
      "for n, r, c in zip(nsample, rain, cases):\n",
      "    expanded_rain += n*[r]\n",
      "    bernoulli_cases += c*[1] + (n-c)*[0]\n",
      "    city += n*[city_idx]\n",
      "    city_idx += 1\n",
      "expanded_rain = np.array(expanded_rain)\n",
      "bernoulli_cases = np.array(bernoulli_cases)\n",
      "%R -i expanded_rain,bernoulli_cases,city"
     ],
     "language": "python",
     "metadata": {
      "slideshow": {
       "slide_type": "fragment"
      }
     },
     "outputs": [],
     "prompt_number": 68
    },
    {
     "cell_type": "code",
     "collapsed": false,
     "input": [
      "%%R\n",
      "bernoulli_cases = as.numeric(bernoulli_cases)\n",
      "expanded_rain = as.numeric(expanded_rain)\n",
      "city = as.factor(city)\n",
      "print(anova(glm(bernoulli_cases ~ poly(expanded_rain, 3) + city, family=binomial())))"
     ],
     "language": "python",
     "metadata": {
      "slideshow": {
       "slide_type": "slide"
      }
     },
     "outputs": [
      {
       "output_type": "display_data",
       "text": [
        "Analysis of Deviance Table\n",
        "\n",
        "Model: binomial, link: logit\n",
        "\n",
        "Response: bernoulli_cases\n",
        "\n",
        "Terms added sequentially (first to last)\n",
        "\n",
        "\n",
        "                       Df Deviance Resid. Df Resid. Dev\n",
        "NULL                                     696     965.92\n",
        "poly(expanded_rain, 3)  3   11.577       693     954.35\n",
        "city                   30   62.635       663     891.71\n"
       ]
      }
     ],
     "prompt_number": 70
    },
    {
     "cell_type": "markdown",
     "metadata": {
      "slideshow": {
       "slide_type": "fragment"
      }
     },
     "source": [
      "### *Exercise*\n",
      "\n",
      "Why does the deviance decrease for adding `city` as a factor equal the residual\n",
      "deviance from the original model?\n"
     ]
    },
    {
     "cell_type": "markdown",
     "metadata": {
      "slideshow": {
       "slide_type": "fragment"
      }
     },
     "source": [
      "Here the residual deviance continues to be too large, roughly by a factor of 1.5.\n",
      "\n",
      "One reason for the model to be off might be that our assumption of conditional independence given our covariates might be incorrect. For instance, we might not truly\n",
      "have independent samples within each city, so there may be some unknown\n",
      "clustering in our data."
     ]
    },
    {
     "cell_type": "markdown",
     "metadata": {
      "slideshow": {
       "slide_type": "slide"
      }
     },
     "source": [
      "### *Exercise: an extreme case of clustering*\n",
      "\n",
      "Suppose you are trying to fit a logistic regression model where there are\n",
      "an even number of trials for each $i$. That is, your model ${\\cal M}$ is\n",
      "$$\n",
      "{\\cal Y}_i | {\\cal X} \\overset{\\text{indep}}{\\sim} \\text{Binomial}(2n_i, \\pi({\\cal X}_i)).\n",
      "$$\n",
      "when, in fact, the data was generated according to ${\\cal M}_{\\text{true}}$\n",
      "$$\n",
      "{\\cal Y}_i | {\\cal X} \\overset{\\text{indep}}{\\sim} 2 \\cdot \\text{Binomial}(n_i, \\pi({\\cal X}_i)).\n",
      "$$\n",
      "\n",
      "1. Compute the $D_+$ for the true model. How does it differ from ${\\cal M}_{\\text{true}}$ to the $D_+$ for ${\\cal M}$?"
     ]
    },
    {
     "cell_type": "heading",
     "level": 2,
     "metadata": {
      "slideshow": {
       "slide_type": "slide"
      }
     },
     "source": [
      "Quasilikelihood"
     ]
    },
    {
     "cell_type": "markdown",
     "metadata": {
      "slideshow": {
       "slide_type": "fragment"
      }
     },
     "source": [
      "The quasilikelihood approach assumes that the mean model is correct. That is, \n",
      "if $\\mu_i=\\Ee({\\cal Y}_i|{\\cal X})$, then we continue to assume\n",
      "$$\n",
      "g(\\mu_i) = x_i^T\\beta.\n",
      "$$\n",
      "\n",
      "If the GLM is correct, then the variance is tied to the mean by\n",
      "$$\n",
      "\\begin{aligned}\n",
      "\\Vv({\\cal Y}_i|{\\cal X}) &= \\Vv({\\cal Y}_i|{\\cal X}_i) \\\\\n",
      "&= \\Vv_{F(X_i^T\\beta)}(Y) \\\\\n",
      "&= \\ddot{\\CGF}(F(x_i^T\\beta)). \\\\\n",
      "\\end{aligned}\n",
      "$$"
     ]
    },
    {
     "cell_type": "markdown",
     "metadata": {
      "slideshow": {
       "slide_type": "fragment"
      }
     },
     "source": [
      "The quasilikelihood assumption is that\n",
      "$$\n",
      "\\Vv({\\cal Y}_i|{\\cal X}) = \\phi \\cdot \\ddot{\\CGF}(F(x_i^T\\beta)) = \\phi \\cdot \\Vv_{\\eta(\\mu_i)}(Y)\n",
      "$$\n",
      "\n",
      "The model is fit using the *quasi-likelihood* for $\\eta$ which we can think of, formally, as\n",
      "$$\n",
      " \\ell_{\\text{quasi}}(\\beta) = \\phi \\cdot \\ell(\\beta)\n",
      "$$\n",
      "where $\\ell(\\beta)$ is the likelihood assuming conditional independence."
     ]
    },
    {
     "cell_type": "markdown",
     "metadata": {
      "slideshow": {
       "slide_type": "slide"
      }
     },
     "source": [
      "Formally, then the quasi score is\n",
      "$$\n",
      "\\nabla \\ell_{\\text{quasi}}(\\beta) = \\phi \\cdot \\nabla \\CGF(\\beta)\n",
      "$$\n",
      "and\n",
      "$$\n",
      "``\\Ee_{\\beta} ( \\nabla \\ell_{\\text{quasi}}(\\beta)\\nabla \\ell_{\\text{quasi}}(\\beta)^T )''= \n",
      "\\phi \\cdot \\nabla^2 \\CGF(\\beta).\n",
      "$$\n",
      "Leading us to conclude\n",
      "$$\n",
      "\\hat{\\beta} \\approx N(\\beta, \\phi \\cdot \\nabla^2 \\CGF(\\beta)).\n",
      "$$\n",
      "\n",
      "I say formally here, because the quasilikelihood is not a true likelihood. For one thing, it would imply that the means and variances of $Y$ would multiplied by $\\phi$ while we know that $Y$ is Bernoulli in the expanded dataset."
     ]
    },
    {
     "cell_type": "markdown",
     "metadata": {},
     "source": [
      "### *Exercise: quasi-score*\n",
      "\n",
      "Suppose that, marginally, $Y_i \\sim \\text{Bernoulli}(\\pi(X_i)), 1 \\leq i \\leq n$ but the\n",
      "joint distribution is unkown and \n",
      "$$\n",
      "\\pi(x_i) = \\frac{e^{x_i^T\\beta}}{1 + e^{x_i^T\\beta}}.\n",
      "$$\n",
      "\n",
      "Show that \n",
      "$$\n",
      "\\Ee( \\nabla \\ell_{\\text{quasi}}(\\beta)) = 0.\n",
      "$$"
     ]
    },
    {
     "cell_type": "markdown",
     "metadata": {
      "slideshow": {
       "slide_type": "fragment"
      }
     },
     "source": [
      "A common estimate of $\\phi$ is\n",
      "$$\n",
      "\\hat{\\phi} = \\frac{1}{n-p}D_+(Y;\\hat{\\mu}).\n",
      "$$\n",
      "\n",
      "Another is Pearson's $X^2$\n",
      "$$\n",
      "X^2\n",
      "= \\frac{1}{n-p} \\sum_{i=1}^{n} \\frac{(Y_i-\\hat{\\mu}_i)^2}{\\Vv_{\\eta(\\hat{\\mu}_i)}(Y)}\n",
      "$$"
     ]
    },
    {
     "cell_type": "code",
     "collapsed": false,
     "input": [
      "%%R\n",
      "phihat = sum(resid(toxo.glm)^2) / 30\n",
      "print(summary(toxo.glm, dispersion=phihat))"
     ],
     "language": "python",
     "metadata": {
      "slideshow": {
       "slide_type": "slide"
      }
     },
     "outputs": [
      {
       "output_type": "display_data",
       "text": [
        "\n",
        "Call:\n",
        "glm(formula = r/m ~ poly(rain, 3), family = binomial, data = toxo, \n",
        "    weights = m)\n",
        "\n",
        "Deviance Residuals: \n",
        "    Min       1Q   Median       3Q      Max  \n",
        "-2.7620  -1.2166  -0.5079   0.3538   2.6204  \n",
        "\n",
        "Coefficients:\n",
        "               Estimate Std. Error z value Pr(>|z|)  \n",
        "(Intercept)     0.02427    0.11115   0.218   0.8272  \n",
        "poly(rain, 3)1 -0.08606    0.66280  -0.130   0.8967  \n",
        "poly(rain, 3)2 -0.19269    0.67535  -0.285   0.7754  \n",
        "poly(rain, 3)3  1.37875    0.59458   2.319   0.0204 *\n",
        "---\n",
        "Signif. codes:  0 \u2018***\u2019 0.001 \u2018**\u2019 0.01 \u2018*\u2019 0.05 \u2018.\u2019 0.1 \u2018 \u2019 1 \n",
        "\n",
        "(Dispersion parameter for binomial family taken to be 2.08782)\n",
        "\n",
        "    Null deviance: 74.212  on 33  degrees of freedom\n",
        "Residual deviance: 62.635  on 30  degrees of freedom\n",
        "AIC: 161.33\n",
        "\n",
        "Number of Fisher Scoring iterations: 3\n",
        "\n"
       ]
      }
     ],
     "prompt_number": 100
    },
    {
     "cell_type": "markdown",
     "metadata": {
      "slideshow": {
       "slide_type": "slide"
      }
     },
     "source": [
      "`R` has a special family for the *quasilikelihood*"
     ]
    },
    {
     "cell_type": "code",
     "collapsed": false,
     "input": [
      "%%R\n",
      "quasitoxo.glm = glm(r/m ~ poly(rain, 3) , weights=m, family=quasibinomial(link='logit'), data=toxo)\n",
      "print(summary(quasitoxo.glm))"
     ],
     "language": "python",
     "metadata": {
      "slideshow": {
       "slide_type": "fragment"
      }
     },
     "outputs": [
      {
       "output_type": "display_data",
       "text": [
        "\n",
        "Call:\n",
        "glm(formula = r/m ~ poly(rain, 3), family = quasibinomial(link = \"logit\"), \n",
        "    data = toxo, weights = m)\n",
        "\n",
        "Deviance Residuals: \n",
        "    Min       1Q   Median       3Q      Max  \n",
        "-2.7620  -1.2166  -0.5079   0.3538   2.6204  \n",
        "\n",
        "Coefficients:\n",
        "               Estimate Std. Error t value Pr(>|t|)  \n",
        "(Intercept)     0.02427    0.10716   0.226   0.8224  \n",
        "poly(rain, 3)1 -0.08606    0.63897  -0.135   0.8938  \n",
        "poly(rain, 3)2 -0.19269    0.65108  -0.296   0.7693  \n",
        "poly(rain, 3)3  1.37875    0.57321   2.405   0.0225 *\n",
        "---\n",
        "Signif. codes:  0 \u2018***\u2019 0.001 \u2018**\u2019 0.01 \u2018*\u2019 0.05 \u2018.\u2019 0.1 \u2018 \u2019 1 \n",
        "\n",
        "(Dispersion parameter for quasibinomial family taken to be 1.940446)\n",
        "\n",
        "    Null deviance: 74.212  on 33  degrees of freedom\n",
        "Residual deviance: 62.635  on 30  degrees of freedom\n",
        "AIC: NA\n",
        "\n",
        "Number of Fisher Scoring iterations: 3\n",
        "\n"
       ]
      }
     ],
     "prompt_number": 101
    },
    {
     "cell_type": "markdown",
     "metadata": {
      "slideshow": {
       "slide_type": "slide"
      }
     },
     "source": [
      "I tried, but was unsuccessful at computing their scale parameter but I believe it is\n",
      "Pearson's $X^2$ with weights incorporated into the formula."
     ]
    },
    {
     "cell_type": "code",
     "collapsed": false,
     "input": [
      "%%R\n",
      "Y = toxo$r / toxo$m\n",
      "print(sum(toxo$m*(Y-mu)^2 / ((mu*(1-mu)))))\n",
      "print(sum(toxo$m))"
     ],
     "language": "python",
     "metadata": {
      "slideshow": {
       "slide_type": "fragment"
      }
     },
     "outputs": [
      {
       "output_type": "display_data",
       "text": [
        "[1] 248.6024\n",
        "[1] 697\n"
       ]
      }
     ],
     "prompt_number": 102
    },
    {
     "cell_type": "heading",
     "level": 2,
     "metadata": {
      "slideshow": {
       "slide_type": "slide"
      }
     },
     "source": [
      "General form of a GLM"
     ]
    },
    {
     "cell_type": "markdown",
     "metadata": {
      "slideshow": {
       "slide_type": "fragment"
      }
     },
     "source": [
      "Having introduced quasilikelihood, which is determined by a link function\n",
      "and a *quasi-family* we see the main ingredients of a *GLM* for a conditional\n",
      "distribution\n",
      "$$\n",
      "{\\cal Y} \\in \\real^n | {\\cal X} \\in \\real^{n \\times p}\n",
      "$$\n",
      "\n",
      "1. A link function: suppose we know that ${\\cal Y}_i \\in I$ for some interval $I$. Then, any differentiable invertible function\n",
      "$g: I \\rightarrow \\real$ can be used as a link function\n",
      "$$\n",
      "g(\\Ee({\\cal Y}_i|{\\cal X})) = x_i^T\\beta.\n",
      "$$\n",
      "\n",
      "2. A variance function, $V:I \\rightarrow [0,+\\infty)$.\n"
     ]
    },
    {
     "cell_type": "markdown",
     "metadata": {
      "slideshow": {
       "slide_type": "fragment"
      }
     },
     "source": [
      "Our original GLMs, the Poisson and binomial came from exponential families and we used the canonical link. As its name implies, the canonical link provided our link function with $I=\\Mm$. The variance function also comes from the exponential family\n",
      "$$\n",
      "V_{\\mu} = \\ddot{\\CGF}(\\eta(\\mu)) = \\Vv_{\\eta(\\mu)}(Y).\n",
      "$$"
     ]
    },
    {
     "cell_type": "code",
     "collapsed": false,
     "input": [],
     "language": "python",
     "metadata": {},
     "outputs": []
    }
   ],
   "metadata": {}
  }
 ]
}