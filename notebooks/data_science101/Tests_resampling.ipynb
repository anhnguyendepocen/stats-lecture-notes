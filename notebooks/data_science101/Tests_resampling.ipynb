{
 "cells": [
  {
   "cell_type": "code",
   "execution_count": 9,
   "metadata": {
    "collapsed": false
   },
   "outputs": [
    {
     "name": "stdout",
     "output_type": "stream",
     "text": [
      "Populating the interactive namespace from numpy and matplotlib\n"
     ]
    }
   ],
   "source": [
    "%pylab inline\n",
    "from __future__ import division\n",
    "np.random.seed(0)"
   ]
  },
  {
   "cell_type": "markdown",
   "metadata": {
    "slideshow": {
     "slide_type": "slide"
    }
   },
   "source": [
    "\n",
    "## Lady Tasting Tea\n",
    "\n",
    "\n",
    "This is a famous example of R. A. Fisher.\n",
    "A lady declares that by tasting a cup of tea made with milk \n",
    "she can discriminate whether\n",
    "the milk or the tea infusion was first added to the cup.\n",
    "\n",
    "<img src=\"https://dl.dropboxusercontent.com/u/2785709/brainder/2015/tastingtea/tea_cups.png\">\n",
    "\n",
    "### Experiment\n",
    "\n",
    "- She is asked to taste eight cups, four of each type.\n",
    "\n",
    "- She correctly identifies the type of 6 out of 8 cups.\n",
    "\n",
    "- Do you think she can really tell the difference?\n"
   ]
  },
  {
   "cell_type": "markdown",
   "metadata": {},
   "source": [
    "## A representation of the expriment\n",
    "\n",
    "- Let her choices either `T` or `M`. She must make 8 choices, 4 of which will be `T` and\n",
    "4 of which will be `M`.\n",
    "\n",
    "- The true types of the tea are also `T` or `M`.\n",
    "\n",
    "- Here is an example of how we might describe the experiment"
   ]
  },
  {
   "cell_type": "code",
   "execution_count": 10,
   "metadata": {
    "collapsed": false
   },
   "outputs": [
    {
     "data": {
      "text/plain": [
       "6"
      ]
     },
     "execution_count": 10,
     "metadata": {},
     "output_type": "execute_result"
    }
   ],
   "source": [
    "lady = ['M', 'T', 'M', 'T', 'T', 'T', 'M', 'M']\n",
    "truth = ['M', 'M', 'M', 'T', 'T', 'T', 'T', 'M']\n",
    "number_correct = np.sum([l == t for l, t in zip(lady, truth)])\n",
    "number_correct"
   ]
  },
  {
   "cell_type": "markdown",
   "metadata": {},
   "source": [
    "## A mental model\n",
    "\n",
    "- The variables `lady` and `truth` are just two outcomes for the experiment\n",
    "in which the lady correctly identifies exactly 6 of the cups of tea.\n",
    "\n",
    "- Is this unusual? How many other outcomes for her choices are there?\n",
    "\n",
    "- How many other outcomes for her choices are there where she correctly identifies 6 or more?"
   ]
  },
  {
   "cell_type": "markdown",
   "metadata": {},
   "source": [
    "### Permutations\n",
    "\n",
    "- A *permutation* of a list is a reordering of the list.\n",
    "\n",
    "- The set of all possible outcomes for `lady` is the set of all\n",
    "reorderings of the list `lady`."
   ]
  },
  {
   "cell_type": "code",
   "execution_count": 3,
   "metadata": {
    "collapsed": false
   },
   "outputs": [
    {
     "data": {
      "text/plain": [
       "[(0, 1, 2), (0, 2, 1), (1, 0, 2), (1, 2, 0), (2, 0, 1), (2, 1, 0)]"
      ]
     },
     "execution_count": 3,
     "metadata": {},
     "output_type": "execute_result"
    }
   ],
   "source": [
    "from itertools import permutations\n",
    "[reordering for reordering in permutations(range(3))]"
   ]
  },
  {
   "cell_type": "markdown",
   "metadata": {},
   "source": [
    "### Let us count the ways..."
   ]
  },
  {
   "cell_type": "code",
   "execution_count": 4,
   "metadata": {
    "collapsed": false
   },
   "outputs": [
    {
     "data": {
      "text/plain": [
       "(40320, 9216, 9792)"
      ]
     },
     "execution_count": 4,
     "metadata": {},
     "output_type": "execute_result"
    }
   ],
   "source": [
    "number_outcomes, exactly_six, six_or_more = 0, 0, 0\n",
    "for lady_permuted in permutations(lady):\n",
    "    number_outcomes += 1\n",
    "    number_match = np.sum([l == t for l, t in zip(lady_permuted, truth)])\n",
    "    exactly_six += (number_match == 6)\n",
    "    six_or_more += (number_match >= 6)\n",
    "    \n",
    "number_outcomes, exactly_six, six_or_more"
   ]
  },
  {
   "cell_type": "markdown",
   "metadata": {},
   "source": [
    "### What if there was no difference between the cups of tea?\n",
    "\n",
    "- If the lady could really tell no difference between the two,\n",
    "then any one of 40320 possible outcomes for her choices should\n",
    "reasonably be considered equally likely.\n",
    "\n",
    "- There were 9792 such outcomes in which she would have \n",
    "correctly identified 6 or more.\n",
    "\n",
    "- As the choices are equally likely, the chances that she would\n",
    "correctly identify 6 or more are\n",
    "$$\n",
    "\\frac{9792}{40320} \\approx 24\\%.\n",
    "$$\n",
    "\n",
    "- Not that rare an occurence. The chances she would correctly identify exactly 6 is about 23%!\n",
    "\n",
    "#### Food for thought: why didn't we also permute the `truth`?"
   ]
  },
  {
   "cell_type": "code",
   "execution_count": 5,
   "metadata": {
    "collapsed": false
   },
   "outputs": [
    {
     "data": {
      "text/plain": [
       "(0.24285714285714285, 0.22857142857142856)"
      ]
     },
     "execution_count": 5,
     "metadata": {},
     "output_type": "execute_result"
    }
   ],
   "source": [
    "six_or_more / number_outcomes, exactly_six / number_outcomes"
   ]
  },
  {
   "cell_type": "markdown",
   "metadata": {},
   "source": [
    "## More data?\n",
    "\n",
    "- The percentage of 75% seemed pretty impressive until we computed the chances\n",
    "we would see such an impressive rate.\n",
    "\n",
    "- What if she had correctly identified 60 out of 80 cups of tea?\n",
    "\n",
    "- In this case, the number of reorderings is huge, about $10^{118}$!\n",
    "\n",
    "- Our mental model is still valid: if the lady actually has no ability\n",
    "to tell the difference between the two types of teas, then any of these\n",
    "orderings is equally likely, whatever `truth` is.\n",
    "\n",
    "- We can get a sense of how impressive this is by choosing several reorderings\n",
    "at random and computing the number of matches."
   ]
  },
  {
   "cell_type": "code",
   "execution_count": 14,
   "metadata": {
    "collapsed": false
   },
   "outputs": [
    {
     "data": {
      "text/plain": [
       "['T', 'T', 'T', 'T', 'T', 'T', 'T', 'T', 'T', 'T']"
      ]
     },
     "execution_count": 14,
     "metadata": {},
     "output_type": "execute_result"
    }
   ],
   "source": [
    "lady = ['T']*40 + ['M']*40\n",
    "truth = ['T']*40 + ['M']*40\n",
    "lady[:10]"
   ]
  },
  {
   "cell_type": "code",
   "execution_count": 11,
   "metadata": {
    "collapsed": false
   },
   "outputs": [
    {
     "data": {
      "text/plain": [
       "(5000, 1, 1)"
      ]
     },
     "execution_count": 11,
     "metadata": {},
     "output_type": "execute_result"
    }
   ],
   "source": [
    "number_outcomes, exactly_sixty, sixty_or_more = 5000, 0, 0\n",
    "matches = []\n",
    "for _ in range(number_outcomes):\n",
    "    lady_reordering = np.random.choice(lady, size=len(lady), replace=False)\n",
    "    number_match = np.sum([l == t for l, t in zip(lady_reordering, truth)])\n",
    "    exactly_sixty += (number_match == 60)\n",
    "    sixty_or_more += (number_match >= 60)\n",
    "    matches.append(number_match)\n",
    "    \n",
    "number_outcomes, exactly_sixty, sixty_or_more"
   ]
  },
  {
   "cell_type": "markdown",
   "metadata": {},
   "source": [
    "### Maybe she does know what she's doing...\n",
    "\n",
    "- We would really have been impressed by a 75% rate if she had tasted 80 cups of tea!\n",
    "\n",
    "- We saw 1 reorderings out of 5000 with a success rate of 75%.\n",
    "\n",
    "- The probability 1/5000 might not be a great estimate of how likely she\n",
    "would be to achieve a success rate of 75% or higher if she really could not\n",
    "distinguish between the cups of tea.\n",
    "\n",
    "- BUT, it certainly gives strong evidence that our mental model may be wrong...\n",
    "\n",
    "### A visual summary\n",
    "\n",
    "- Instead of just computing the chances above, we could record the number\n",
    "of matches for each reordering of `lady` and produce a histogram.\n"
   ]
  },
  {
   "cell_type": "code",
   "execution_count": 15,
   "metadata": {
    "collapsed": false
   },
   "outputs": [
    {
     "data": {
      "image/png": "[encoded data removed]",
      "text/plain": [
       "<matplotlib.figure.Figure at 0x108e6afd0>"
      ]
     },
     "metadata": {},
     "output_type": "display_data"
    }
   ],
   "source": [
    "plt.hist(matches);"
   ]
  },
  {
   "cell_type": "markdown",
   "metadata": {
    "slideshow": {
     "slide_type": "slide"
    }
   },
   "source": [
    "## The null hypothesis\n",
    "\n",
    "- Our mental model above represents how we might model the experiment\n",
    "under the assumption that the lady really cannot distinguish\n",
    "between different the different types.\n",
    "\n",
    "- In statistics, we call this the *null hypothesis*.\n",
    "\n",
    "- The permutations above represented different outcomes for our experiment.\n",
    "\n",
    "- Under our null hypothesis, each of these outcomes was equally likely. This allowed us to compute the chances that the lady would have such a success rate of 75% or higher if she really could not tell the difference (i.e. *assuming the null hypothesis was correct.*) \n",
    "\n",
    "- For 6/8, the chances were about 25%, we were not very impressed. If she had achieved 60/80, we really would have been impressed. In other words, *observing something rare under the null hypothesis is evidence against the null hypothesis.*\n",
    "\n",
    "- This is the rationale in hypothesis tests."
   ]
  },
  {
   "cell_type": "markdown",
   "metadata": {
    "slideshow": {
     "slide_type": "slide"
    }
   },
   "source": [
    "# A second scenario\n",
    "\n",
    "- [A/B testing](http://getdatadriven.com/ab-significance-test) is a tool used by companies to determine the effectiveness of different strategies to attract customers.\n",
    "\n",
    "- Here is an [example](http://getdatadriven.com/ab-significance-test) found with an easy web search.\n",
    "\n",
    "- A company tries two strategies: \n",
    "     * 1000 customers directed to page A, with 90 successful outcomes (i.e. clickthroughs).\n",
    "     * 1000 customers directed to page B, with 120 successful outcomes (i.e. clickthroughs).\n",
    "\n",
    "- Is there a difference between the strategies?\n",
    "\n"
   ]
  },
  {
   "cell_type": "code",
   "execution_count": 17,
   "metadata": {
    "collapsed": true
   },
   "outputs": [],
   "source": [
    "strategy_A = [0]*910 + [1]*90\n",
    "strategy_B = [0]*880 + [1]*120"
   ]
  },
  {
   "cell_type": "markdown",
   "metadata": {},
   "source": [
    "## Mental model\n",
    "\n",
    "- Suppose that the 1000 customers in each arm are randomly sampled from some population. (*This assumption might not be true in practice! It is notoriously hard to obtain a random sample from a population...*)\n",
    "\n",
    "- Suppose there is no difference between the two strategies. (*This is the null hypothesis in this example.*)\n",
    "\n",
    "- Then, if we make one big data set of size 2000 with 210 successes and then randomly assign 1000 to `A` and the rest to `B` we will have outcomes that were as likely as the observed outcome.\n",
    "\n",
    "- What summary should we use? A reasonable summary would seem to be the difference\n",
    "between the successes between arms `A` and `B`."
   ]
  },
  {
   "cell_type": "code",
   "execution_count": 21,
   "metadata": {
    "collapsed": false
   },
   "outputs": [
    {
     "data": {
      "image/png": "[encoded data removed]",
      "text/plain": [
       "<matplotlib.figure.Figure at 0x10951ab90>"
      ]
     },
     "metadata": {},
     "output_type": "display_data"
    }
   ],
   "source": [
    "pooled = strategy_A + strategy_B\n",
    "number_trial = 5000\n",
    "difference = np.zeros(number_trial)\n",
    "\n",
    "for i in range(number_trial):\n",
    "    np.random.shuffle(pooled)\n",
    "    outcome_A = pooled[:1000] # first 1000 entries are A\n",
    "    outcome_B = pooled[1000:] # the rest are B\n",
    "    difference[i] = np.sum(outcome_A) - np.sum(outcome_B)\n",
    "\n",
    "difference = np.array(difference)\n",
    "plt.hist(difference);"
   ]
  },
  {
   "cell_type": "markdown",
   "metadata": {},
   "source": [
    "### What are the chances\n",
    "\n",
    "We observed a difference with absolute value |120-90| = 30.\n",
    "\n",
    "\n",
    "Out of our 5000 different reorderings, how often was the difference in the number of successes\n",
    "greater than or equal to 30 (in absolute value)?"
   ]
  },
  {
   "cell_type": "code",
   "execution_count": 22,
   "metadata": {
    "collapsed": false
   },
   "outputs": [
    {
     "data": {
      "text/plain": [
       "0.0172"
      ]
     },
     "execution_count": 22,
     "metadata": {},
     "output_type": "execute_result"
    }
   ],
   "source": [
    "np.mean(difference >= 30)"
   ]
  },
  {
   "cell_type": "markdown",
   "metadata": {},
   "source": [
    "This is pretty unlikely. Maybe our null hypothesis is not true..."
   ]
  },
  {
   "cell_type": "markdown",
   "metadata": {
    "slideshow": {
     "slide_type": "slide"
    }
   },
   "source": [
    "### What are the chances?"
   ]
  },
  {
   "cell_type": "code",
   "execution_count": 1,
   "metadata": {
    "collapsed": false,
    "slideshow": {
     "slide_type": "skip"
    }
   },
   "outputs": [],
   "source": [
    "%%capture\n",
    "normal_fig = plt.figure(figsize=stats60_figsize)\n",
    "ax = normal_curve()\n",
    "interval = np.linspace(-4,-2.2, 101)\n",
    "ax.fill_between(interval, 0*interval, ndist.pdf(interval),\n",
    "                hatch='+', color='green', alpha=0.5)\n",
    "ax.set_title('The green area is %0.1f%%' % (100 * ndist.cdf(-2.2)), fontsize=20, color='green')\n"
   ]
  },
  {
   "cell_type": "code",
   "execution_count": 2,
   "metadata": {
    "collapsed": false,
    "slideshow": {
     "slide_type": "fragment"
    }
   },
   "outputs": [],
   "source": [
    "normal_fig"
   ]
  },
  {
   "cell_type": "markdown",
   "metadata": {
    "slideshow": {
     "slide_type": "slide"
    }
   },
   "source": [
    "## $Z$-scores\n",
    "\n",
    "- In this hypothesis test, the quantity\n",
    "$$\n",
    "Z = \\frac{\\text{observed} - \\text{expected}}{\\text{SE(observed)}}\n",
    "$$\n",
    "is called a **$z$-score**.\n",
    "\n",
    "- The quantities **expected, SE(observed)** are computed **assuming the null hypothesis is true.**\n",
    "\n",
    "- It measures how many standardiazed units the **observed** value is from what\n",
    "is expected (if the null hypothesis were true)."
   ]
  },
  {
   "cell_type": "markdown",
   "metadata": {
    "slideshow": {
     "slide_type": "slide"
    }
   },
   "source": [
    "## $P$-values\n",
    "\n",
    "- The chances we computed are the chances, if the roulette game was fair, that we would observe a standardized less than our observed standardized value of  -2.2.\n",
    "- In general, if we test a null hypothesis with some  observed data\n",
    "  or  observed test statistic, the  $P$-value\n",
    "   is the chance, assuming the null hypothesis is true, that we would observe such an extreme test statistic.\n",
    "* When computing chances using a $z$ score, the test is called **$z$ tests.**\n",
    "* **Note:**  $\\bbox[5px,border:2px solid orange]{P-value}$ is random!\n"
   ]
  },
  {
   "cell_type": "markdown",
   "metadata": {
    "slideshow": {
     "slide_type": "slide"
    }
   },
   "source": [
    "## More about $P$-values\n",
    "\n",
    "* ** The P-value is NOT the chances that the null hypothesis is correct!**\n",
    "  \n",
    "* Why not?\n",
    "     - The online roulette game is fair or it is not. The null hypothesis is true or it is false.\n",
    "     - If the  $P$-value\n",
    "         were the chances the null hypothesis is correct, these chances would be  random...\n",
    "         \n",
    "* In Bayesian statistics, one *can*\n",
    "   compute the chances the null hypothesis is correct, but we have not addressed\n",
    "   this methodology yet.\n",
    "   \n",
    "* The book uses two thresholds:\n",
    "    - If the $P$-value is less than 5%, the result is *statistically significant*.\n",
    "    - If the $P$-value is less than 1%, the result is called *highly significant*."
   ]
  },
  {
   "cell_type": "markdown",
   "metadata": {
    "slideshow": {
     "slide_type": "slide"
    }
   },
   "source": [
    "## A Bayesian calculation\n",
    "\n",
    "- Suppose we declare, before seeing data: \"the probability the success rate on  RED\n",
    "   is 18/38 is 70%, and the probability the success rate on  RED\n",
    "   is 12/38 is 30%\".\n",
    "- Call these two hypotheses $H_0, H_1$ and we have just said $P(\\text{$H_0$ is true})=0.7, P(\\text{$H_1$ is true}) = 0.3.$\n",
    "\n",
    "- Suppose now, we observe 4 success from 20 bets but we\n",
    "   do not know whether they were from the fair game, $H_0$ or\n",
    "   the unfair game $H_1$.\n",
    "\n",
    "- Bayes' rule says\n",
    "   $$\n",
    "   \\begin{aligned}\n",
    "   P(\\text{$H_0$ is true} | \\text{4 out of 20 successes})\n",
    "   &= \n",
    "   \\frac{0.7 \\times \\binom{20}{4} (\\frac{18}{38})^4 (\\frac{20}{38})^{16}}{0.7 \\times \\binom{20}{4} (\\frac{18}{38})^4 (\\frac{20}{38})^{16} + 0.3 \\times \\binom{20}{4} (\\frac{12}{38})^4 (\\frac{26}{38})^{16}} \\\\\n",
    "   & \\qquad = 15\\%.\n",
    "   \\end{aligned}\n",
    "   $$\n",
    "  \n",
    "- Are the chances above random or not random?\n"
   ]
  },
  {
   "cell_type": "markdown",
   "metadata": {
    "slideshow": {
     "slide_type": "slide"
    }
   },
   "source": [
    "## A second testing scenario\n",
    "\n",
    "* Suppose now we want to see the efficacy of a new drug on blood pressure.\n",
    "* Our study design is: we will treat a large patient population with the drug and measure their blood pressure before and after taking the drug.\n",
    "* One way to conclude that the drug is effective if the blood pressure has decreased. That is, if the average difference is negative."
   ]
  },
  {
   "cell_type": "markdown",
   "metadata": {
    "slideshow": {
     "slide_type": "slide"
    }
   },
   "source": [
    "## Setting up the test\n",
    "\n",
    "* We could set this up as drawing from a box of *differences in blood pressure*.\n",
    "* The *null hypothesis*, $H_0$ is: \"the average difference is zero.\"\n",
    "* The *alternative hypothesis*, $H_a$, is: \"the average difference in the box is less than zero.\"\n",
    "* Sometimes, people will test the alternative, $H_a$: \"the average difference in the box is not zero.\"\n",
    "* We test the null with observed data by estimating the average difference and converting to standardized units."
   ]
  },
  {
   "cell_type": "markdown",
   "metadata": {
    "slideshow": {
     "slide_type": "slide"
    }
   },
   "source": [
    "### Sample of blood pressures"
   ]
  },
  {
   "cell_type": "code",
   "execution_count": 3,
   "metadata": {
    "collapsed": false,
    "slideshow": {
     "slide_type": "skip"
    }
   },
   "outputs": [],
   "source": [
    "BP = BloodPressure()\n"
   ]
  },
  {
   "cell_type": "code",
   "execution_count": 4,
   "metadata": {
    "collapsed": false,
    "slideshow": {
     "slide_type": "fragment"
    }
   },
   "outputs": [],
   "source": [
    "np.random.seed(0)\n",
    "print BP.trial()\n",
    "BP.figure"
   ]
  },
  {
   "cell_type": "markdown",
   "metadata": {
    "slideshow": {
     "slide_type": "slide"
    }
   },
   "source": [
    "## Evaluating the test\n",
    "\n",
    "- Our observed average is $-7.0$. We estimate its SE to be $4.5 / \\sqrt{50} = 0.64$.\n",
    "- In standardized units, our observed average converts to $$\\frac{-7.0 - 0}{0.64}  \\approx - 11$$\n",
    "- The  $P$-value\n",
    "   is 0: there is virtually no chance a standard normal would ever be so small. \n",
    "\n",
    "- We reject the null hypothesis $H_0$ and conclude $H_a$: \"the average difference of the box is negative.\""
   ]
  },
  {
   "cell_type": "code",
   "execution_count": 5,
   "metadata": {
    "collapsed": false,
    "slideshow": {
     "slide_type": "fragment"
    }
   },
   "outputs": [],
   "source": [
    "5.1 / sqrt(50)"
   ]
  },
  {
   "cell_type": "markdown",
   "metadata": {
    "slideshow": {
     "slide_type": "slide"
    }
   },
   "source": [
    "## Example (continued)\n",
    "\n",
    "* Suppose that our null hypothesis was different. We might have begun with the null hypothesis $H_0$: \"the average decrease in blood pressure will be 7 mm Hg\" with alternative $H_a$: \"the average decrease in blood pressure is not 7mm Hg\".\n",
    "* How do we test this hypothesis?\n",
    "* Well, under this null hypothesis our observed average converts to $$\\frac{-7.0 -(- 7)}{0.64}  \\approx 0$$\n",
    "\n",
    "* This test is **two-sided**: we did not specify the alternative as greater than or larger than..."
   ]
  },
  {
   "cell_type": "markdown",
   "metadata": {
    "slideshow": {
     "slide_type": "slide"
    }
   },
   "source": [
    "### What are the chances?"
   ]
  },
  {
   "cell_type": "code",
   "execution_count": 6,
   "metadata": {
    "collapsed": false,
    "slideshow": {
     "slide_type": "skip"
    }
   },
   "outputs": [],
   "source": [
    "%%capture\n",
    "normal_fig2 = plt.figure(figsize=stats60_figsize)\n",
    "ax = normal_curve()\n",
    "interval = np.linspace(-4,-0.6, 101)\n",
    "ax.fill_between(interval, 0*interval, ndist.pdf(interval),\n",
    "                hatch='+', color='green', alpha=0.5)\n",
    "interval = np.linspace(0.6,4, 101)\n",
    "ax.fill_between(interval, 0*interval, ndist.pdf(interval),\n",
    "                hatch='+', color='green', alpha=0.5)\n",
    "\n",
    "ax.set_title('The green area is %0.1f%%' % (2 * 100 * ndist.sf(0.6)), fontsize=20, color='green')\n",
    "\n"
   ]
  },
  {
   "cell_type": "code",
   "execution_count": 7,
   "metadata": {
    "collapsed": false,
    "slideshow": {
     "slide_type": "slide"
    }
   },
   "outputs": [],
   "source": [
    "normal_fig2"
   ]
  },
  {
   "cell_type": "markdown",
   "metadata": {
    "slideshow": {
     "slide_type": "fragment"
    }
   },
   "source": [
    "\n",
    "Area is 55%, we cannot reject $H_0: \\text{average(difference)}=-7$."
   ]
  },
  {
   "cell_type": "markdown",
   "metadata": {
    "slideshow": {
     "slide_type": "slide"
    }
   },
   "source": [
    "## How small should the chances be?\n",
    "\n",
    "* In our examples so far, it has been fairly clear which of the null or alternative is more believable.\n",
    "* In practice, we must decide a threshold at which to reject $H_0$.\n",
    "This is the *size of the test.*\n",
    "* A common choice is to use a threshold of 5%. We call this threshold the *level*\n",
    "   or *size*\n",
    "   of the test.\n",
    "* The book declares a *$P$-value*\n",
    "   of $5\\%$ or less to be \"significant\", $1\\%$ or less to be \"highly significant.\""
   ]
  },
  {
   "cell_type": "markdown",
   "metadata": {
    "slideshow": {
     "slide_type": "slide"
    }
   },
   "source": [
    "## Rejection rule\n",
    "\n",
    "* Knowing the null and alternative hypotheses and the size of the test, we can define a * rejection rule*.\n",
    "* For example, if the size is 5%, and $$\\begin{aligned}\n",
    "       H_0 &= \\text{average difference is 0 mm Hg} \\\\\n",
    "       H_a &= \\text{average difference is negative} \\\\\n",
    "     \\end{aligned}$$\n",
    "* Then, we reject $H_0$ if our $z$ statistic is less than  -1.65."
   ]
  },
  {
   "cell_type": "markdown",
   "metadata": {
    "slideshow": {
     "slide_type": "slide"
    }
   },
   "source": [
    "### One sided test (alternative negative)"
   ]
  },
  {
   "cell_type": "code",
   "execution_count": 8,
   "metadata": {
    "collapsed": false,
    "slideshow": {
     "slide_type": "skip"
    }
   },
   "outputs": [],
   "source": [
    "%%capture\n",
    "normal_fig3 = plt.figure(figsize=stats60_figsize)\n",
    "ax = normal_curve()\n",
    "interval = np.linspace(-4,-1.65, 101)\n",
    "ax.fill_between(interval, 0*interval, ndist.pdf(interval),\n",
    "                hatch='+', color='green', alpha=0.5)\n",
    "ax.set_title('The green area is %0.0f%%' % (100 * ndist.cdf(-1.65)), fontsize=20, color='green')\n"
   ]
  },
  {
   "cell_type": "code",
   "execution_count": 9,
   "metadata": {
    "collapsed": false,
    "slideshow": {
     "slide_type": "slide"
    }
   },
   "outputs": [],
   "source": [
    "normal_fig3"
   ]
  },
  {
   "cell_type": "markdown",
   "metadata": {
    "slideshow": {
     "slide_type": "fragment"
    }
   },
   "source": [
    "\n",
    " 5% rejection rule\n",
    " when alternative is negative …"
   ]
  },
  {
   "cell_type": "markdown",
   "metadata": {
    "slideshow": {
     "slide_type": "slide"
    }
   },
   "source": [
    "## Blood pressure continued\n",
    "\n",
    "* Suppose the alternative is now $H_a$: \"the average difference is not 0mm Hg\".\n",
    "* Do we reject $H_0$:\"the average difference is 0mm Hg\"?\n",
    "* In standardized units, our observed average converts to $$\\frac{-7.0 - 0}{0.64}  \\approx - 11$$\n",
    "* Now, -11 is extremely unlikely under $H_0$ but it is likely for values some values of the average difference under $H_a$.\n",
    "* We reject this $H_0$ when the $z$-score is large in absolute value."
   ]
  },
  {
   "cell_type": "markdown",
   "metadata": {
    "slideshow": {
     "slide_type": "slide"
    }
   },
   "source": [
    "### Two sided test"
   ]
  },
  {
   "cell_type": "code",
   "execution_count": 10,
   "metadata": {
    "collapsed": false,
    "slideshow": {
     "slide_type": "skip"
    }
   },
   "outputs": [],
   "source": [
    "%%capture\n",
    "normal_fig4 = plt.figure(figsize=stats60_figsize)\n",
    "ax = normal_curve()\n",
    "interval = np.linspace(-4,-2, 101)\n",
    "ax.fill_between(interval, 0*interval, ndist.pdf(interval),\n",
    "                hatch='+', color='green', alpha=0.5)\n",
    "interval = np.linspace(2,4, 101)\n",
    "ax.fill_between(interval, 0*interval, ndist.pdf(interval),\n",
    "                hatch='+', color='green', alpha=0.5)\n",
    "\n",
    "ax.set_title('The green area is %0.0f%%' % (2 * 100 * ndist.cdf(-2)), fontsize=20, color='green')\n"
   ]
  },
  {
   "cell_type": "code",
   "execution_count": 11,
   "metadata": {
    "collapsed": false,
    "slideshow": {
     "slide_type": "fragment"
    }
   },
   "outputs": [],
   "source": [
    "normal_fig4"
   ]
  },
  {
   "cell_type": "markdown",
   "metadata": {
    "slideshow": {
     "slide_type": "fragment"
    }
   },
   "source": [
    "\n",
    " 5% rejection rule\n",
    " when alternative does not specify the sign (i.e. could be positive or negative...)"
   ]
  },
  {
   "cell_type": "markdown",
   "metadata": {
    "slideshow": {
     "slide_type": "slide"
    }
   },
   "source": [
    "## Blood pressure again \n",
    "\n",
    "* Suppose the alternative is now $H_a$: \"the average difference is positive\".\n",
    "* Do we reject $H_0$:\"the average difference is 0mm Hg\"?\n",
    "* In standardized units, our observed average converts to $$\\frac{-7.0 - 0}{0.64}  \\approx - 11$$\n",
    "* While -11 is extremely unlikely under $H_0$ it is even more unlikely under $H_a$.\n",
    "* It seems reasonable to conclude that neither $H_0$ nor $H_a$ is true.\n",
    "* But, to conclude $H_a$ is true, we should only reject this $H_0$ when the $z$-score is positive …"
   ]
  },
  {
   "cell_type": "markdown",
   "metadata": {
    "slideshow": {
     "slide_type": "slide"
    }
   },
   "source": [
    "### One sided test (alternative positive)"
   ]
  },
  {
   "cell_type": "code",
   "execution_count": 12,
   "metadata": {
    "collapsed": false,
    "slideshow": {
     "slide_type": "skip"
    }
   },
   "outputs": [],
   "source": [
    "%%capture\n",
    "normal_fig5 = plt.figure(figsize=stats60_figsize)\n",
    "ax = normal_curve()\n",
    "interval = np.linspace(1.65,4, 101)\n",
    "ax.fill_between(interval, 0*interval, ndist.pdf(interval),\n",
    "                hatch='+', color='green', alpha=0.5)\n",
    "ax.set_title('The green area is %0.0f%%' % (100 * ndist.sf(1.65)), fontsize=20, color='green')\n"
   ]
  },
  {
   "cell_type": "code",
   "execution_count": 13,
   "metadata": {
    "collapsed": false,
    "slideshow": {
     "slide_type": "fragment"
    }
   },
   "outputs": [],
   "source": [
    "normal_fig5"
   ]
  },
  {
   "cell_type": "markdown",
   "metadata": {
    "slideshow": {
     "slide_type": "fragment"
    }
   },
   "source": [
    "\n",
    " 5% rejection rule\n",
    " when alternative is positive …"
   ]
  },
  {
   "cell_type": "markdown",
   "metadata": {
    "slideshow": {
     "slide_type": "slide"
    }
   },
   "source": [
    "## One-sided vs. two-sided\n",
    "\n",
    "* If we want to conclude a one-sided alternative like $H_a$:\"the average difference in blood pressure is less than -7 mm Hg\".\n",
    "* Then, we can take the null hypothesis to be $H_0$:\"the average difference in blood pressure is greater than or equal to -7 mm Hg\". We reject for $z$-scores that are negative and large in absolute value.\n",
    "* On the other hand, if we want to conclude a two-sided alternative like $H_a$:\"the average difference in blood pressure is not -7 mm Hg\".\n",
    "* Then, we can take the null hypothesis to be $H_0$:\"the average difference in blood pressure is equal to -7 mm Hg\". We reject for large $z$-scores in absolute value."
   ]
  },
  {
   "cell_type": "markdown",
   "metadata": {
    "slideshow": {
     "slide_type": "slide"
    }
   },
   "source": [
    "\n",
    "## Normal approximation and hypothesis tests\n",
    "\n",
    "* If a normal approximation holds for $\\bbox[5px,border:2px solid orange]{\\widehat{\\theta}}$\n",
    "(i.e. $E(\\widehat{\\theta}) \\approx \\bbox[5px,border:2px solid blue]{\\theta}$ and $\\widehat{\\theta}-\\theta$ follows a normal curve with an SE we can approximate). \n",
    "\n",
    "* Then, we can test the null hypothesis $H_0:  \\theta=\\theta_0$ against $H_a:  \\theta \\neq \\theta_0$ (or any variation of one-sided vs. two-sided).\n",
    "* For instance, our first null hypothesis was $\\theta_0=0$. In the second, $\\theta_0=-7$.\n",
    "* The test statistic, called a  $z$ score\n",
    "   for testing $H_0: \\theta=\\theta_0$ is \n",
    "   $$z = \\frac{\\bbox[5px,border:2px solid orange]{\\widehat{\\theta}} - \\bbox[5px,border:2px solid blue]{\\theta_0}}{\\text{SE}(\\bbox[5px,border:2px solid orange]{\\widehat{\\theta}})}\n",
    "   $$\n",
    "   \n",
    "* We call $z$ a $Z$-statistic or a $Z$-score.\n",
    "* If $H_0$ is true, then $ z$ follows the standard normal curve.\n",
    "* If $H_0$ is not true, then $z$ does not usually follow the standard normal curve. If it does, you have a very poor test."
   ]
  },
  {
   "cell_type": "markdown",
   "metadata": {
    "slideshow": {
     "slide_type": "slide"
    }
   },
   "source": [
    "## Normal approximation and hypothesis tests\n",
    "\n",
    "* If $H_0$ is not true, then $Z$ does not usually follow the standard normal curve. If it does, you have a very poor test...\n",
    "* It may follow a normal curve with mean $\\neq 0$.\n",
    "* The logic of the hypothesis test is as follows: if $H_0$ is true, then our observed test statistic should be a \"typical value\" under $H_0$.\n",
    "* The  $P$-value\n",
    "   depends on what $H_a$ is.\n",
    "* It is often easier to use the rejection rule instead of the $P$-value.\n",
    "* For null hypotheses like $H_0:\\theta \\leq \\theta_0$ and $H_0:{ \\theta \\geq \\theta_0}$ we use the rejection rules with the *same $z$-score* but whether we reject or not depends on whether the $z$-score is positive or negative.\n"
   ]
  },
  {
   "cell_type": "markdown",
   "metadata": {
    "slideshow": {
     "slide_type": "slide"
    }
   },
   "source": [
    "### One sided test (alternative negative)"
   ]
  },
  {
   "cell_type": "code",
   "execution_count": 14,
   "metadata": {
    "collapsed": false,
    "slideshow": {
     "slide_type": "fragment"
    }
   },
   "outputs": [],
   "source": [
    "normal_fig3"
   ]
  },
  {
   "cell_type": "markdown",
   "metadata": {
    "slideshow": {
     "slide_type": "fragment"
    }
   },
   "source": [
    "\n",
    " 5% rejection rule\n",
    " for $H_0:\\theta \\geq \\theta_0, H_a: \\theta < \\theta_0.$"
   ]
  },
  {
   "cell_type": "markdown",
   "metadata": {
    "slideshow": {
     "slide_type": "slide"
    }
   },
   "source": [
    "### One sided test (alternative positive)"
   ]
  },
  {
   "cell_type": "code",
   "execution_count": 15,
   "metadata": {
    "collapsed": false,
    "slideshow": {
     "slide_type": "fragment"
    }
   },
   "outputs": [],
   "source": [
    "normal_fig5"
   ]
  },
  {
   "cell_type": "markdown",
   "metadata": {
    "slideshow": {
     "slide_type": "fragment"
    }
   },
   "source": [
    "\n",
    " 5% rejection rule\n",
    " for $H_0:\\theta \\leq \\theta_0, H_a: \\theta > \\theta_0.$"
   ]
  },
  {
   "cell_type": "markdown",
   "metadata": {
    "slideshow": {
     "slide_type": "slide"
    }
   },
   "source": [
    "### Two sided test"
   ]
  },
  {
   "cell_type": "code",
   "execution_count": 16,
   "metadata": {
    "collapsed": false,
    "slideshow": {
     "slide_type": "fragment"
    }
   },
   "outputs": [],
   "source": [
    "normal_fig4"
   ]
  },
  {
   "cell_type": "markdown",
   "metadata": {
    "slideshow": {
     "slide_type": "fragment"
    }
   },
   "source": [
    "\n",
    " 5% rejection rule\n",
    " for $ H_0: \\theta = \\theta_0, H_a: \\theta \\neq \\theta_0.$"
   ]
  },
  {
   "cell_type": "markdown",
   "metadata": {
    "slideshow": {
     "slide_type": "slide"
    }
   },
   "source": [
    "## Interpretation of 5% rejection rules\n",
    "\n",
    "- Call the rejection rules \n",
    "$$\n",
    "\\begin{aligned}\n",
    "R^+ &= [\\theta_0 + 1.65 \\cdot SE(\\hat{\\theta}), \\infty) \\\\\n",
    "R^- &= (-\\infty, \\theta_0 - 1.65 \\cdot SE(\\hat{\\theta})] \\\\\n",
    "R^{\\pm} &= (-\\infty, \\theta_0 - 2 \\cdot SE(\\hat{\\theta})] \\cup [\\theta_0 + 2 \\cdot SE(\\hat{\\theta}), \\infty)\n",
    "\\end{aligned}\n",
    "$$\n",
    "- So, $R^+$ corresponds to the pair $H_0: \\theta \\leq \\theta_0, \n",
    "H_a: \\theta > \\theta_0$.\n",
    "- The rejection rules are set up so that, for instance,\n",
    "$$\n",
    "\\begin{aligned}\n",
    "P(\\hat{\\theta} \\in R^+) \\leq 5\\%, &\\qquad \\text{if $H_0: \\theta \\leq \\theta_0$ is true.} \\\\\n",
    "P(\\hat{\\theta} \\in R^-) \\leq 5\\%, &\\qquad \\text{if $H_0: \\theta \\geq \\theta_0$ is true.} \\\\\n",
    "P(\\hat{\\theta} \\in R^{\\pm}) = 5\\%, &\\qquad \\text{if $H_0: \\theta = \\theta_0$ is true.}\n",
    "\\end{aligned}\n",
    "$$\n",
    "\n",
    "- In other words, the rejection regions are set up so that there is less than a 5% chance of declaring a false positive.\n",
    "\n",
    "- Here's an illustration of the $R^+$ rejection region. "
   ]
  },
  {
   "cell_type": "code",
   "execution_count": 17,
   "metadata": {
    "collapsed": false,
    "slideshow": {
     "slide_type": "slide"
    }
   },
   "outputs": [],
   "source": [
    "def Rplus(thetahat, theta0, SE_thetahat):\n",
    "    return np.greater(thetahat, theta0 + 1.65 * SE_thetahat)\n",
    "theta = Normal(2, 3)\n",
    "thetahat = theta.trial()\n",
    "thetahat, Rplus(thetahat, 2, 3), 2 + 1.65*3"
   ]
  },
  {
   "cell_type": "markdown",
   "metadata": {
    "slideshow": {
     "slide_type": "fragment"
    }
   },
   "source": [
    "Now, let's generate some data where $H_0$ is true."
   ]
  },
  {
   "cell_type": "code",
   "execution_count": 18,
   "metadata": {
    "collapsed": false,
    "slideshow": {
     "slide_type": "fragment"
    }
   },
   "outputs": [],
   "source": [
    "Tsample = theta.sample(10000)\n",
    "mean(Rplus(Tsample, 2, 3))"
   ]
  },
  {
   "cell_type": "markdown",
   "metadata": {
    "slideshow": {
     "slide_type": "fragment"
    }
   },
   "source": [
    "The null hypothesis is also true if the mean is below 2. Our `Zsample`\n",
    "above has its estimate of $\\hat{\\theta}$ equal to 2.\n",
    "\n",
    "If we look at the rejection rate for $\\theta_0=4$, it should still be less than 5%."
   ]
  },
  {
   "cell_type": "code",
   "execution_count": 19,
   "metadata": {
    "collapsed": false,
    "slideshow": {
     "slide_type": "fragment"
    }
   },
   "outputs": [],
   "source": [
    "mean(Rplus(Tsample, 4, 3))"
   ]
  },
  {
   "cell_type": "markdown",
   "metadata": {
    "slideshow": {
     "slide_type": "slide"
    }
   },
   "source": [
    "## One-sided vs. two-sided\n",
    "\n",
    "- The book often reports the one-sided $P$ values. \n",
    "- There is no problem with this, in principle, UNLESS you choose\n",
    "$H_0$ (or, respectively $H_a$) AFTER seeing the $Z$ score.\n",
    "- Most examples in the book (and solutions) seem to do this.\n",
    "- The problem with this is that the 5% above roughly doubles to 10% \n",
    "so you are declaring more false positives than you think...\n",
    "- Let's also define the test for $R^-$ and see what happens\n",
    "when we decide which test to use after snooping at the sign of the data."
   ]
  },
  {
   "cell_type": "code",
   "execution_count": 20,
   "metadata": {
    "collapsed": false,
    "slideshow": {
     "slide_type": "fragment"
    }
   },
   "outputs": [],
   "source": [
    "def Rminus(thetahat, theta0, SE_thetahat):\n",
    "    return np.less(thetahat, theta0 - 1.65 * SE_thetahat)\n",
    "mean(Rminus(Tsample, 2, 3))"
   ]
  },
  {
   "cell_type": "code",
   "execution_count": 21,
   "metadata": {
    "collapsed": false,
    "slideshow": {
     "slide_type": "fragment"
    }
   },
   "outputs": [],
   "source": [
    "def snooping_test(thetahat, theta0, SD_thetahat):\n",
    "    test_pos = np.greater(thetahat, theta0) * Rplus(thetahat, theta0, SD_thetahat)\n",
    "    test_neg = np.less(thetahat, theta0) * Rminus(thetahat, theta0, SD_thetahat)\n",
    "    return test_pos + test_neg\n",
    "\n",
    "mean(snooping_test(Tsample, 2, 3))"
   ]
  },
  {
   "cell_type": "markdown",
   "metadata": {
    "slideshow": {
     "slide_type": "slide"
    }
   },
   "source": [
    "## Relation between hypothesis tests and confidence intervals\n",
    "\n",
    "* Which values are reasonable?\n",
    "* Well, -7.0 is certainly a reasonable value if the true average difference were -7 because our $z$ score would be 0.\n",
    "* Hence, we would not reject $H_0$:\"the average difference is -7\" if we observed a sample average of -7\n",
    "* The set of all values $\\theta$ we would not reject $H_0$: \"the average difference is $\\theta$\" at level 5% is basically the standard 95% confidence interval!\n",
    "* Therefore, one can test $H_0:$\"the average difference is 0\" by checking to see whether 0 is in the confidence interval."
   ]
  },
  {
   "cell_type": "markdown",
   "metadata": {
    "slideshow": {
     "slide_type": "slide"
    }
   },
   "source": [
    "## Testing fairness via a confidence interval\n",
    "\n",
    "- Let's go back to our roulette example. Suppose we make an additional 10 bets\n",
    "and won 3 more times, making a total of 13 successes in 30 bets.\n",
    "- An approximate 95% confidence for the true  RED\n",
    "   success rate (fair or not) based on our 20 bets is $$ \\frac{13}{30} \\pm 2 * \\sqrt{\\frac{13}{30} \\times \\frac{17}{30} \\frac{1}{30}} =  0.43 \\pm 0.18$$\n",
    "      \n",
    "- (This assumes the online roulette game is doing independent trials, thought not necessarily fair trials)\n",
    "- The success rate for  RED\n",
    "   in the fair model is ${ 18/38 \\approx 0.47}$.\n",
    "- We see that 0.47 is within our 95% confidence interval. Therefore, we would not reject $H_0$:\"the roulette table is fair\" at level 5%.\n",
    "* **Note:** we should ensure that we have enough trials so the normal approximation holds. "
   ]
  },
  {
   "cell_type": "markdown",
   "metadata": {
    "slideshow": {
     "slide_type": "slide"
    }
   },
   "source": [
    "## Tests and confidence intervals for small samples\n",
    "\n",
    "* Our tests (and confidence intervals) have so far relied on normal approximations (i.e. we have used A-104 to compute all chances).\n",
    "* If the sample size is small, the normal approximations may not be very good.\n",
    "* If the sample size is small, we can sometimes get good confidence intervals using something called a $T$ statistic.\n",
    "* The formula for the $T$ statistic is almost identical to the $z$ statistic, it is the *chances*\n",
    "   that can be quite different."
   ]
  },
  {
   "cell_type": "markdown",
   "metadata": {
    "slideshow": {
     "slide_type": "slide"
    }
   },
   "source": [
    "## Tests and confidence intervals for small samples\n",
    "\n",
    "* Suppose the Gauss model holds \n",
    "\n",
    "           measurement = true value + chance error\n",
    "\n",
    "* **And, the histogram of the error box is not too different from a normal probability histogram or curve!**\n",
    "  \n",
    "* Then, there are very good confidence intervals even for very small samples.\n",
    "* If the histogram of the error box is exactly a normal probability histogram, then these tests and confidence intervals are *exact*."
   ]
  },
  {
   "cell_type": "markdown",
   "metadata": {
    "slideshow": {
     "slide_type": "slide"
    }
   },
   "source": [
    "## The $T$ statistic\n",
    "\n",
    "* Suppose we observed only 5 blood pressure changes: [-4,-6,-8,-2,-1].\n",
    "* The average is -4.2 mm Hg, and the SD of the list is 2.6 mm Hg.\n",
    "* Our usual $z$ score to test $H_0$: average difference $\\geq 0$ against $H_a$: average difference $<0$ $${ z = \\frac{-4.2}{2.6 / \\sqrt{5}} \\approx -3.7}$$\n",
    "* The $T$ statistic replaces the SD of the list with SD$^+$ of the list which is 2.9 mm Hg. \n",
    "* The $T$ statistic is $${ \\bbox[5px,border:2px solid orange]{ T} = \\frac{-4.2}{2.9 / \\sqrt{5}} \\approx -3.3}$$"
   ]
  },
  {
   "cell_type": "markdown",
   "metadata": {
    "slideshow": {
     "slide_type": "slide"
    }
   },
   "source": [
    "## What’s different about the $T$ statistic?\n",
    "\n",
    "* For one thing, it uses $\\text{SD}^+$ instead of $\\text{SD}$.\n",
    "* Why does it use $\\text{SD}^+$?\n",
    "* For small samples, $\\text{SD}^+$ it is a better estimate of SD(box) than SD.\n",
    "* Unfortunately, though, the $T$ statistic does not follow the normal curve. This is the biggest difference."
   ]
  },
  {
   "cell_type": "markdown",
   "metadata": {
    "slideshow": {
     "slide_type": "slide"
    }
   },
   "source": [
    "## Computing the chances for the $T$ test\n",
    "\n",
    "* It *almost*\n",
    "   follows the normal curve. For large samples, it gets closer and closer.\n",
    "* For each sample size, there is a different curve, or probability histogram.\n",
    "* These curves are indexed by what we call *degrees of freedom*.\n",
    "* In this example, the degrees of freedom are $n-1$."
   ]
  },
  {
   "cell_type": "markdown",
   "metadata": {
    "slideshow": {
     "slide_type": "slide"
    }
   },
   "source": [
    "### Student’s $T$"
   ]
  },
  {
   "cell_type": "code",
   "execution_count": 22,
   "metadata": {
    "collapsed": false,
    "slideshow": {
     "slide_type": "skip"
    }
   },
   "outputs": [],
   "source": [
    "%%capture\n",
    "df=4\n",
    "normal_fig6 = plt.figure(figsize=stats60_figsize)\n",
    "ax = normal_fig6.gca()\n",
    "normal_curve(ax=ax, label='Normal', color='blue', alpha=0.)\n",
    "studentT_curve(ax=ax, label='$T_{%d}$' % df, color='green', alpha=0., df=df)\n",
    "ax.set_title('Comparison of normal curve to $T_{%d}$' % df, fontsize=15)\n",
    "ax.legend()"
   ]
  },
  {
   "cell_type": "code",
   "execution_count": 23,
   "metadata": {
    "collapsed": false,
    "slideshow": {
     "slide_type": "fragment"
    }
   },
   "outputs": [],
   "source": [
    "normal_fig6"
   ]
  },
  {
   "cell_type": "markdown",
   "metadata": {
    "slideshow": {
     "slide_type": "slide"
    }
   },
   "source": [
    "### Student’s $T$"
   ]
  },
  {
   "cell_type": "code",
   "execution_count": 24,
   "metadata": {
    "collapsed": false,
    "slideshow": {
     "slide_type": "skip"
    }
   },
   "outputs": [],
   "source": [
    "%%capture\n",
    "df = 4 \n",
    "normal_fig7 = plt.figure(figsize=stats60_figsize)\n",
    "ax = normal_curve(alpha=0., color='blue')\n",
    "interval = np.linspace(-4,ndist.ppf(0.025), 101)\n",
    "ax.fill_between(interval, 0*interval, ndist.pdf(interval),\n",
    "                hatch='+', color='blue', alpha=0.5)\n",
    "interval = np.linspace(ndist.ppf(0.975),4, 101)\n",
    "ax.fill_between(interval, 0*interval, ndist.pdf(interval),\n",
    "                hatch='+', color='blue', alpha=0.5)\n",
    "\n",
    "studentT_curve(ax=ax, alpha=0., color='green', df=df)\n",
    "interval = np.linspace(-4,tdist.ppf(0.025, df), 101)\n",
    "ax.fill_between(interval, 0*interval, tdist.pdf(interval, df),\n",
    "                hatch='+', color='green', alpha=0.2)\n",
    "interval = np.linspace(tdist.ppf(0.975, df),4, 101)\n",
    "ax.fill_between(interval, 0*interval, tdist.pdf(interval, df),\n",
    "                hatch='+', color='green', alpha=0.2)\n",
    "\n"
   ]
  },
  {
   "cell_type": "code",
   "execution_count": 25,
   "metadata": {
    "collapsed": false,
    "slideshow": {
     "slide_type": "fragment"
    }
   },
   "outputs": [],
   "source": [
    "normal_fig7"
   ]
  },
  {
   "cell_type": "markdown",
   "metadata": {
    "slideshow": {
     "slide_type": "fragment"
    }
   },
   "source": [
    "\n",
    "Comparison of two-sided  5% rejection rule\n",
    ", df=4"
   ]
  },
  {
   "cell_type": "markdown",
   "metadata": {
    "slideshow": {
     "slide_type": "slide"
    }
   },
   "source": [
    "### Student’s $T$"
   ]
  },
  {
   "cell_type": "code",
   "execution_count": 26,
   "metadata": {
    "collapsed": false,
    "slideshow": {
     "slide_type": "skip"
    }
   },
   "outputs": [],
   "source": [
    "%%capture\n",
    "df=20\n",
    "normal_fig8 = plt.figure(figsize=stats60_figsize)\n",
    "ax = normal_fig8.gca()\n",
    "normal_curve(ax=ax, label='Normal', color='blue', alpha=0.)\n",
    "studentT_curve(ax=ax, label='$T_{%d}$' % df, color='green', alpha=0., df=df)\n",
    "ax.set_title('Comparison of normal curve to $T_{%d}$' % df, fontsize=15)\n",
    "ax.legend()\n",
    "\n"
   ]
  },
  {
   "cell_type": "code",
   "execution_count": 27,
   "metadata": {
    "collapsed": false,
    "slideshow": {
     "slide_type": "fragment"
    }
   },
   "outputs": [],
   "source": [
    "normal_fig8"
   ]
  },
  {
   "cell_type": "markdown",
   "metadata": {
    "slideshow": {
     "slide_type": "fragment"
    }
   },
   "source": [
    "\n",
    "Comparison with normal curve, degrees of freedom = 20"
   ]
  },
  {
   "cell_type": "markdown",
   "metadata": {
    "slideshow": {
     "slide_type": "slide"
    }
   },
   "source": [
    "### Student’s $T$"
   ]
  },
  {
   "cell_type": "code",
   "execution_count": 28,
   "metadata": {
    "collapsed": false,
    "slideshow": {
     "slide_type": "skip"
    }
   },
   "outputs": [],
   "source": [
    "%%capture\n",
    "df = 20\n",
    "normal_fig9 = plt.figure(figsize=stats60_figsize)\n",
    "ax = normal_curve(alpha=0., color='blue')\n",
    "interval = np.linspace(-4,ndist.ppf(0.025), 101)\n",
    "ax.fill_between(interval, 0*interval, ndist.pdf(interval),\n",
    "                hatch='+', color='blue', alpha=0.5)\n",
    "interval = np.linspace(ndist.ppf(0.975),4, 101)\n",
    "ax.fill_between(interval, 0*interval, ndist.pdf(interval),\n",
    "                hatch='+', color='blue', alpha=0.5)\n",
    "\n",
    "studentT_curve(ax=ax, alpha=0., color='green', df=df)\n",
    "interval = np.linspace(-4,tdist.ppf(0.025, df), 101)\n",
    "ax.fill_between(interval, 0*interval, tdist.pdf(interval, df),\n",
    "                hatch='+', color='green', alpha=0.2)\n",
    "interval = np.linspace(tdist.ppf(0.975, df),4, 101)\n",
    "ax.fill_between(interval, 0*interval, tdist.pdf(interval, df),\n",
    "                hatch='+', color='green', alpha=0.2)\n",
    "\n"
   ]
  },
  {
   "cell_type": "code",
   "execution_count": 29,
   "metadata": {
    "collapsed": false,
    "slideshow": {
     "slide_type": "fragment"
    }
   },
   "outputs": [],
   "source": [
    "normal_fig9"
   ]
  },
  {
   "cell_type": "markdown",
   "metadata": {
    "slideshow": {
     "slide_type": "fragment"
    }
   },
   "source": [
    "\n",
    "Comparison of two-sided  5% rejection rule\n",
    ", df=20"
   ]
  }
 ],
 "metadata": {
  "kernelspec": {
   "display_name": "Python 2",
   "language": "python",
   "name": "python2"
  },
  "language_info": {
   "codemirror_mode": {
    "name": "ipython",
    "version": 2
   },
   "file_extension": ".py",
   "mimetype": "text/x-python",
   "name": "python",
   "nbconvert_exporter": "python",
   "pygments_lexer": "ipython2",
   "version": "2.7.11"
  }
 },
 "nbformat": 4,
 "nbformat_minor": 0
}
