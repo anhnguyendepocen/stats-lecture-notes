{
 "metadata": {
  "name": ""
 },
 "nbformat": 3,
 "nbformat_minor": 0,
 "worksheets": [
  {
   "cells": [
    {
     "cell_type": "markdown",
     "metadata": {
      "slideshow": {
       "slide_type": "slide"
      }
     },
     "source": [
      "# ANOVA models\n",
      "\n",
      "Last time, we discussed the use of categorical variables\n",
      "in multivariate regression. Often, these are encoded as\n",
      "indicator columns in the design matrix."
     ]
    },
    {
     "cell_type": "code",
     "collapsed": false,
     "input": [
      "%%R\n",
      "url = 'http://stat191.stanford.edu/data/salary.table'\n",
      "salary.table = read.table(url, header=T)\n",
      "salary.table$E = factor(salary.table$E)\n",
      "salary.table$M = factor(salary.table$M)\n",
      "salary.lm = lm(S ~ X + E + M, salary.table)\n",
      "head(model.matrix(salary.lm))"
     ],
     "language": "python",
     "metadata": {
      "slideshow": {
       "slide_type": "fragment"
      }
     },
     "outputs": [
      {
       "output_type": "stream",
       "stream": "stdout",
       "text": [
        "Error in file(file, \"rt\") : cannot open the connection\n",
        "In addition: Warning message:\n",
        "In file(file, \"rt\") : unable to resolve 'stat191.stanford.edu'\n",
        "Error in file(file, \"rt\") : cannot open the connection\n"
       ]
      }
     ],
     "prompt_number": 1
    },
    {
     "cell_type": "markdown",
     "metadata": {
      "slideshow": {
       "slide_type": "fragment"
      }
     },
     "source": [
      "* Often, especially in experimental settings, we record\n",
      "*only* categorical variables. \n",
      "\n",
      "* Such models are often referred to *ANOVA (Analysis of Variance)* models.\n",
      "\n",
      "* These are generalizations of our favorite example, the two sample $t$-test."
     ]
    },
    {
     "cell_type": "markdown",
     "metadata": {
      "slideshow": {
       "slide_type": "slide"
      }
     },
     "source": [
      "## Example: recovery time\n",
      "\n",
      "* Suppose we want to understand the relationship between\n",
      "recovery time after surgery based on an patient's prior fitness.\n",
      "\n",
      "* We group patients into three fitness levels: below average, average, above average.\n",
      "\n",
      "* If you are in better shape before surgery, does it take less time to\n",
      "  recover?"
     ]
    },
    {
     "cell_type": "code",
     "collapsed": false,
     "input": [
      "%%R\n",
      "url = 'http://stats191.stanford.edu/data/rehab.csv'\n",
      "rehab.table = read.table(url, header=T, sep=',')\n",
      "rehab.table$Fitness <- factor(rehab.table$Fitness) \n",
      "head(rehab.table)"
     ],
     "language": "python",
     "metadata": {
      "slideshow": {
       "slide_type": "fragment"
      }
     },
     "outputs": [
      {
       "metadata": {},
       "output_type": "display_data",
       "text": [
        "  Fitness Time\n",
        "1       1   29\n",
        "2       1   42\n",
        "3       1   38\n",
        "4       1   40\n",
        "5       1   43\n",
        "6       1   40\n"
       ]
      }
     ],
     "prompt_number": 2
    },
    {
     "cell_type": "code",
     "collapsed": false,
     "input": [
      "%%R\n",
      "attach(rehab.table)\n",
      "boxplot(Time ~ Fitness, col=c('red','green','blue'))"
     ],
     "language": "python",
     "metadata": {
      "slideshow": {
       "slide_type": "slide"
      }
     },
     "outputs": [
      {
       "metadata": {},
       "output_type": "display_data",
       "png": "[encoded data removed]"
      }
     ],
     "prompt_number": 3
    },
    {
     "cell_type": "markdown",
     "metadata": {
      "slideshow": {
       "slide_type": "slide"
      }
     },
     "source": [
      "## One-way ANOVA\n",
      "\n",
      "*   First generalization of two sample $t$-test: more than two groups.\n",
      "\n",
      "* Observations are broken up into $r$ groups with $n_i, 1 \\leq i \\leq r$ observations per group.\n",
      "\n",
      "*  Model:\n",
      "    $$Y_{ij} = \\mu  + \\alpha_i + \\varepsilon_{ij}, \\qquad \\varepsilon_{ij} \\sim N(0, \\sigma^2).$$\n",
      "\n",
      "*   Constraint: $\\sum_{i=1}^r \\alpha_i = 0$. This constraint is needed\n",
      "    for \u201cidentifiability\u201d. This is \u201cequivalent\u201d to only adding $r-1$\n",
      "    columns to the design matrix for this qualitative variable.\n",
      "    \n",
      "* This is not the same *parameterization* we get when only adding $r-1$ 0-1 columns, but it gives the same *model*.\n",
      "\n",
      "* The estimates of $\\alpha$ can be obtained from the estimates\n",
      "of $\\beta$ using `R`'s default parameters.\n",
      "\n",
      "* For a more detailed exploration into `R`'s creation of design matrices,\n",
      "try reading the following [tutorial on design matrices](http://nbviewer.ipython.org/github/fperez/nipy-notebooks/blob/master/exploring_r_formula.ipynb).\n"
     ]
    },
    {
     "cell_type": "markdown",
     "metadata": {
      "slideshow": {
       "slide_type": "slide"
      }
     },
     "source": [
      "## Remember, it's still a model (i.e. a plane)\n",
      "\n",
      "<img src=\"figs/axes_multiple_full.svg\">\n"
     ]
    },
    {
     "cell_type": "markdown",
     "metadata": {
      "slideshow": {
       "slide_type": "slide"
      }
     },
     "source": [
      "## Fitting the model\n",
      "\n",
      "\n",
      "-   Model is easy to fit:\n",
      "    $$\\widehat{Y}_{ij} = \\frac{1}{n_i} \\sum_{j=1}^{n_i} Y_{ij} = \\overline{Y}_{i\\cdot}.$$\n",
      "    If observation is in $i$-th group: predicted mean is just the sample\n",
      "    mean of observations in $i$-th group.\n",
      "\n",
      "-   Simplest question: is there any group (main) effect?\n",
      "    $$H_0:\\alpha_1 = \\dots = \\alpha_r= 0?$$\n",
      "\n",
      "-   Test is based on $F$-test with full model vs. reduced model. Reduced\n",
      "    model just has an intercept.\n",
      "\n",
      "-   Other questions: is the effect the same in groups 1 and 2?\n",
      "    $$H_0:\\alpha_1=\\alpha_2?$$\n"
     ]
    },
    {
     "cell_type": "code",
     "collapsed": false,
     "input": [
      "%%R\n",
      "rehab.lm <- lm(Time ~ Fitness)\n",
      "summary(rehab.lm)"
     ],
     "language": "python",
     "metadata": {
      "slideshow": {
       "slide_type": "slide"
      }
     },
     "outputs": [
      {
       "metadata": {},
       "output_type": "display_data",
       "text": [
        "\n",
        "Call:\n",
        "lm(formula = Time ~ Fitness)\n",
        "\n",
        "Residuals:\n",
        "   Min     1Q Median     3Q    Max \n",
        "  -9.0   -3.0   -0.5    3.0    8.0 \n",
        "\n",
        "Coefficients:\n",
        "            Estimate Std. Error t value Pr(>|t|)    \n",
        "(Intercept)   38.000      1.574  24.149  < 2e-16 ***\n",
        "Fitness2      -6.000      2.111  -2.842  0.00976 ** \n",
        "Fitness3     -14.000      2.404  -5.824 8.81e-06 ***\n",
        "---\n",
        "Signif. codes:  0 \u2018***\u2019 0.001 \u2018**\u2019 0.01 \u2018*\u2019 0.05 \u2018.\u2019 0.1 \u2018 \u2019 1 \n",
        "\n",
        "Residual standard error: 4.451 on 21 degrees of freedom\n",
        "Multiple R-squared: 0.6176,\tAdjusted R-squared: 0.5812 \n",
        "F-statistic: 16.96 on 2 and 21 DF,  p-value: 4.129e-05 \n",
        "\n"
       ]
      }
     ],
     "prompt_number": 4
    },
    {
     "cell_type": "code",
     "collapsed": false,
     "input": [
      "%%R\n",
      "print(predict(rehab.lm, list(Fitness=factor(c(1,2,3)))))\n",
      "c(mean(Time[Fitness == 1]), mean(Time[Fitness == 2]), mean(Time[Fitness == 3]))"
     ],
     "language": "python",
     "metadata": {
      "slideshow": {
       "slide_type": "slide"
      }
     },
     "outputs": [
      {
       "metadata": {},
       "output_type": "display_data",
       "text": [
        " 1  2  3 \n",
        "38 32 24 \n",
        "[1] 38 32 24\n"
       ]
      }
     ],
     "prompt_number": 5
    },
    {
     "cell_type": "markdown",
     "metadata": {
      "slideshow": {
       "slide_type": "slide"
      }
     },
     "source": [
      "Recall that the rows of the `Coefficients` table above do not\n",
      "correspond to the $\\alpha$ parameter. For one thing, we would see \n",
      "three $\\alpha$'s and their sum would have to be equal to 0.\n",
      "\n",
      "Also, the design matrix is the indicator coding we saw last time."
     ]
    },
    {
     "cell_type": "code",
     "collapsed": false,
     "input": [
      "%%R\n",
      "head(model.matrix(rehab.lm))"
     ],
     "language": "python",
     "metadata": {
      "slideshow": {
       "slide_type": "fragment"
      }
     },
     "outputs": [
      {
       "metadata": {},
       "output_type": "display_data",
       "text": [
        "  (Intercept) Fitness2 Fitness3\n",
        "1           1        0        0\n",
        "2           1        0        0\n",
        "3           1        0        0\n",
        "4           1        0        0\n",
        "5           1        0        0\n",
        "6           1        0        0\n"
       ]
      }
     ],
     "prompt_number": 6
    },
    {
     "cell_type": "markdown",
     "metadata": {
      "slideshow": {
       "slide_type": "fragment"
      }
     },
     "source": [
      "* There are ways to get *different* design matrices by using the\n",
      "`contrasts` argument. This is a bit above our pay grade at the moment.\n",
      "\n",
      "* Upon inspection of the design matrix above, we see that\n",
      "the `(Intercept)` coefficient corresponds to the mean in `Fitness==1`, while\n",
      "`Fitness==2` coefficient corresponds to the difference between the groups \n",
      "`Fitness==2` and `Fitness==1`."
     ]
    },
    {
     "cell_type": "markdown",
     "metadata": {
      "slideshow": {
       "slide_type": "slide"
      }
     },
     "source": [
      "## ANOVA table\n",
      "\n",
      "Much of the information in an ANOVA model is contained in the \n",
      "ANOVA table."
     ]
    },
    {
     "cell_type": "code",
     "collapsed": false,
     "input": [
      "from ipy_table import *\n",
      "anova_oneway = [('Source', 'SS', 'df', r'$\\mathbb{E}(MS)$'), \n",
      "                ('Treatment', r'$SSTR=\\sum_{i=1}^r n_i \\left(\\overline{Y}_{i\\cdot} - \\overline{Y}_{\\cdot\\cdot}\\right)^2$', \n",
      "                'r-1', r'$\\sigma^2 + \\frac{\\sum_{i=1}^r n_i \\alpha_i^2}{r-1}$'),\n",
      "                ('Error', r'$SSE=\\sum_{i=1}^r \\sum_{j=1}^{n_i}(Y_{ij} - \\overline{Y}_{i\\cdot})^2$',\n",
      "                 r'$\\sum_{i=1}^r (n_i - 1)$', r'$\\sigma^2$')]\n",
      "  "
     ],
     "language": "python",
     "metadata": {
      "slideshow": {
       "slide_type": "skip"
      }
     },
     "outputs": [],
     "prompt_number": 7
    },
    {
     "cell_type": "code",
     "collapsed": false,
     "input": [
      "make_table(anova_oneway)   \n",
      "apply_theme('basic')"
     ],
     "language": "python",
     "metadata": {
      "slideshow": {
       "slide_type": "fragment"
      }
     },
     "outputs": [
      {
       "html": [
        "<table border=\"1\" cellpadding=\"3\" cellspacing=\"0\"  style=\"border:1px solid black;border-collapse:collapse;\"><tr><td  style=\"background-color:LightGray;\"><b>Source</b></td><td  style=\"background-color:LightGray;\"><b>SS</b></td><td  style=\"background-color:LightGray;\"><b>df</b></td><td  style=\"background-color:LightGray;\"><b>$\\mathbb{E}(MS)$</b></td></tr><tr><td  style=\"background-color:Ivory;\">Treatment</td><td  style=\"background-color:Ivory;\">$SSTR=\\sum_{i=1}^r&nbspn_i&nbsp\\left(\\overline{Y}_{i\\cdot}&nbsp-&nbsp\\overline{Y}_{\\cdot\\cdot}\\right)^2$</td><td  style=\"background-color:Ivory;\">r-1</td><td  style=\"background-color:Ivory;\">$\\sigma^2&nbsp+&nbsp\\frac{\\sum_{i=1}^r&nbspn_i&nbsp\\alpha_i^2}{r-1}$</td></tr><tr><td  style=\"background-color:AliceBlue;\">Error</td><td  style=\"background-color:AliceBlue;\">$SSE=\\sum_{i=1}^r&nbsp\\sum_{j=1}^{n_i}(Y_{ij}&nbsp-&nbsp\\overline{Y}_{i\\cdot})^2$</td><td  style=\"background-color:AliceBlue;\">$\\sum_{i=1}^r&nbsp(n_i&nbsp-&nbsp1)$</td><td  style=\"background-color:AliceBlue;\">$\\sigma^2$</td></tr></table>"
       ],
       "metadata": {},
       "output_type": "pyout",
       "prompt_number": 8,
       "text": [
        "<ipy_table.IpyTable at 0x9804550>"
       ]
      }
     ],
     "prompt_number": 8
    },
    {
     "cell_type": "code",
     "collapsed": false,
     "input": [
      "%%R\n",
      "anova(rehab.lm)"
     ],
     "language": "python",
     "metadata": {
      "slideshow": {
       "slide_type": "fragment"
      }
     },
     "outputs": [
      {
       "metadata": {},
       "output_type": "display_data",
       "text": [
        "Analysis of Variance Table\n",
        "\n",
        "Response: Time\n",
        "          Df Sum Sq Mean Sq F value    Pr(>F)    \n",
        "Fitness    2    672  336.00  16.962 4.129e-05 ***\n",
        "Residuals 21    416   19.81                      \n",
        "---\n",
        "Signif. codes:  0 \u2018***\u2019 0.001 \u2018**\u2019 0.01 \u2018*\u2019 0.05 \u2018.\u2019 0.1 \u2018 \u2019 1 \n"
       ]
      }
     ],
     "prompt_number": 9
    },
    {
     "cell_type": "markdown",
     "metadata": {
      "slideshow": {
       "slide_type": "slide"
      }
     },
     "source": [
      "-   Note that $MSTR$ measures \u201cvariability\u201d of the \u201ccell\u201d means. If\n",
      "    there is a group effect we expect this to be large relative to\n",
      "    $MSE$.\n",
      "\n",
      "-   We see that under $H_0:\\alpha_1=\\dots=\\alpha_r=0$, the expected\n",
      "    value of $MSTR$ and $MSE$ is $\\sigma^2$. This tells us how to test\n",
      "    $H_0$ using ratio of mean squares, i.e. an $F$ test.\n",
      "\n"
     ]
    },
    {
     "cell_type": "markdown",
     "metadata": {
      "slideshow": {
       "slide_type": "slide"
      }
     },
     "source": [
      "## Testing for any main effect\n",
      "\n",
      "\n",
      "-   Rows in the ANOVA table are, in general, independent.\n",
      "\n",
      "-   Therefore, under $H_0$\n",
      "    $$F = \\frac{MSTR}{MSE} = \\frac{\\frac{SSTR}{df_{TR}}}{\\frac{SSE}{df_{E}}} \\sim F_{df_{TR}, df_E}$$\n",
      "    the degrees of freedom come from the $df$ column in previous table.\n",
      "\n",
      "-   Reject $H_0$ at level $\\alpha$ if\n",
      "    $F > F_{1-\\alpha, df_{TR}, df_{E}}.$\n"
     ]
    },
    {
     "cell_type": "code",
     "collapsed": false,
     "input": [
      "%%R\n",
      "F = 336.00 / 19.81\n",
      "pval = 1 - pf(F, 2, 21)\n",
      "print(data.frame(F,pval))"
     ],
     "language": "python",
     "metadata": {
      "slideshow": {
       "slide_type": "fragment"
      }
     },
     "outputs": [
      {
       "metadata": {},
       "output_type": "display_data",
       "text": [
        "         F         pval\n",
        "1 16.96113 4.129945e-05\n"
       ]
      }
     ],
     "prompt_number": 10
    },
    {
     "cell_type": "markdown",
     "metadata": {
      "slideshow": {
       "slide_type": "slide"
      }
     },
     "source": [
      "## Inference for linear combinations\n",
      "\n",
      "- Suppose we want to ``infer'' something about\n",
      "   $$                                                                           \n",
      "   \\sum_{i=1}^r a_i \\mu_i$$\n",
      "   where $\\mu_i = \\mu+\\alpha_i$ is the mean in the $i$-th group.\n",
      "   For example:\n",
      "   $$\n",
      "   H_0:\\mu_1-\\mu_2=0 \\qquad \\text{(same as $H_0:\\alpha_1-\\alpha_2=0$)}?$$       \n",
      "- For example:\n",
      "\n",
      "    Is there a difference between below average and average groups in \n",
      "    terms of rehab time?                                                                      \n",
      "- We need to know $$\n",
      "   \\text{Var}\\left(\\sum_{i=1}^r a_i \\overline{Y}_{i\\cdot} \\right) = \\sigma^2 \n",
      "   \\sum_{i=1}^r \\frac{a_i^2}{n_i}.$$\n",
      "   \n",
      "- After this, the usual confidence intervals and $t$-tests apply.\n"
     ]
    },
    {
     "cell_type": "code",
     "collapsed": false,
     "input": [
      "%%R\n",
      "head(model.matrix(rehab.lm))"
     ],
     "language": "python",
     "metadata": {
      "slideshow": {
       "slide_type": "fragment"
      }
     },
     "outputs": [
      {
       "metadata": {},
       "output_type": "display_data",
       "text": [
        "  (Intercept) Fitness2 Fitness3\n",
        "1           1        0        0\n",
        "2           1        0        0\n",
        "3           1        0        0\n",
        "4           1        0        0\n",
        "5           1        0        0\n",
        "6           1        0        0\n"
       ]
      }
     ],
     "prompt_number": 11
    },
    {
     "cell_type": "markdown",
     "metadata": {
      "slideshow": {
       "slide_type": "fragment"
      }
     },
     "source": [
      "This means that the coefficient Fitness2 is the estimated\n",
      "   difference between the two groups.\n",
      "\n",
      "   "
     ]
    },
    {
     "cell_type": "code",
     "collapsed": false,
     "input": [
      "%%R\n",
      "detach(rehab.table)"
     ],
     "language": "python",
     "metadata": {
      "slideshow": {
       "slide_type": "fragment"
      }
     },
     "outputs": [],
     "prompt_number": 12
    },
    {
     "cell_type": "markdown",
     "metadata": {
      "slideshow": {
       "slide_type": "slide"
      }
     },
     "source": [
      "## Two-way ANOVA\n",
      "\n",
      "Often, we will have more than one variable we are changing.\n",
      "\n",
      "### Example\n",
      "\n",
      "After kidney failure, we suppose that the time of stay in hospital depends on weight gain between treatments and duration of treatment. \n",
      "\n",
      "We will model the `log` number of days as a function of the other\n",
      "two factors."
     ]
    },
    {
     "cell_type": "code",
     "collapsed": false,
     "input": [
      "desc = [('Variable', 'Description'),\n",
      "        ('Days', 'Duration of hospital stay'),\n",
      "        ('Weight', 'How much weight is gained? (three levels)'),\n",
      "        ('Duration', 'How long under treatment for kidney problems? (two levels)')]\n"
     ],
     "language": "python",
     "metadata": {
      "slideshow": {
       "slide_type": "skip"
      }
     },
     "outputs": [],
     "prompt_number": 13
    },
    {
     "cell_type": "code",
     "collapsed": false,
     "input": [
      "make_table(desc) \n",
      "apply_theme('basic')\n",
      "             "
     ],
     "language": "python",
     "metadata": {
      "slideshow": {
       "slide_type": "fragment"
      }
     },
     "outputs": [
      {
       "html": [
        "<table border=\"1\" cellpadding=\"3\" cellspacing=\"0\"  style=\"border:1px solid black;border-collapse:collapse;\"><tr><td  style=\"background-color:LightGray;\"><b>Variable</b></td><td  style=\"background-color:LightGray;\"><b>Description</b></td></tr><tr><td  style=\"background-color:Ivory;\">Days</td><td  style=\"background-color:Ivory;\">Duration&nbspof&nbsphospital&nbspstay</td></tr><tr><td  style=\"background-color:AliceBlue;\">Weight</td><td  style=\"background-color:AliceBlue;\">How&nbspmuch&nbspweight&nbspis&nbspgained?&nbsp(three&nbsplevels)</td></tr><tr><td  style=\"background-color:Ivory;\">Duration</td><td  style=\"background-color:Ivory;\">How&nbsplong&nbspunder&nbsptreatment&nbspfor&nbspkidney&nbspproblems?&nbsp(two&nbsplevels)</td></tr></table>"
       ],
       "metadata": {},
       "output_type": "pyout",
       "prompt_number": 14,
       "text": [
        "<ipy_table.IpyTable at 0x97fc9f0>"
       ]
      }
     ],
     "prompt_number": 14
    },
    {
     "cell_type": "code",
     "collapsed": false,
     "input": [
      "%%R\n",
      "url = 'http://statweb.stanford.edu/~jtaylo/stats191/data/kidney.table'\n",
      "kidney.table = read.table(url, header=T)\n",
      "kidney.table$D = factor(kidney.table$Duration)\n",
      "kidney.table$W = factor(kidney.table$Weight)\n",
      "kidney.table$logDays = log(kidney.table$Days + 1) \n",
      "attach(kidney.table)\n",
      "head(kidney.table)"
     ],
     "language": "python",
     "metadata": {
      "slideshow": {
       "slide_type": "slide"
      }
     },
     "outputs": [
      {
       "metadata": {},
       "output_type": "display_data",
       "text": [
        "  Days Duration Weight ID D W   logDays\n",
        "1    0        1      1  1 1 1 0.0000000\n",
        "2    2        1      1  2 1 1 1.0986123\n",
        "3    1        1      1  3 1 1 0.6931472\n",
        "4    3        1      1  4 1 1 1.3862944\n",
        "5    0        1      1  5 1 1 0.0000000\n",
        "6    2        1      1  6 1 1 1.0986123\n"
       ]
      }
     ],
     "prompt_number": 15
    },
    {
     "cell_type": "markdown",
     "metadata": {
      "slideshow": {
       "slide_type": "slide"
      }
     },
     "source": [
      "### Two-way ANOVA model\n",
      "\n",
      "-   Second generalization of $t$-test: more than one grouping variable.\n",
      "\n",
      "-   Two-way ANOVA model: \n",
      "    - $r$ groups in first factor\n",
      "    - $m$ groups in second factor\n",
      "    - $n_{ij}$ in each combination of factor variables.\n",
      "\n",
      "- Model: \n",
      "    $$Y_{ijk} = \\mu + \\alpha_i + \\beta_j + (\\alpha \\beta)_{ij} +         \n",
      "    \\varepsilon_{ijk} , \\qquad \\varepsilon_{ijk} \\sim N(0, \\sigma^2).$$\n",
      "\n",
      "-   In kidney example, $r=3$ (weight gain), $m=2$ (duration of\n",
      "    treatment), $n_{ij}=10$ for all $(i,j)$.\n"
     ]
    },
    {
     "cell_type": "markdown",
     "metadata": {
      "slideshow": {
       "slide_type": "slide"
      }
     },
     "source": [
      "### Questions of interest\n",
      "\n",
      "\n",
      "Two-way ANOVA: main questions of interest\n",
      "\n",
      "-   Are there main effects for the grouping variables?\n",
      "    $$H_0:\\alpha_1 = \\dots = \\alpha_r = 0, \\qquad H_0: \\beta_1 = \\dots = \\beta_m = 0.$$\n",
      "\n",
      "-   Are there interaction effects:\n",
      "    $$H_0:(\\alpha\\beta)_{ij} = 0, 1 \\leq i \\leq r, 1 \\leq j \\leq m.$$"
     ]
    },
    {
     "cell_type": "markdown",
     "metadata": {
      "slideshow": {
       "slide_type": "slide"
      }
     },
     "source": [
      "### Interactions between factors\n",
      "\n",
      "We've already seen these interactions in the IT salary example. \n",
      "\n",
      "- An *additive model* says that the effects of the two factors\n",
      "occur additively -- such a model has no interactions.\n",
      "\n",
      "- An *interaction* is present whenever the additive model does not hold."
     ]
    },
    {
     "cell_type": "markdown",
     "metadata": {
      "slideshow": {
       "slide_type": "slide"
      }
     },
     "source": [
      "### Interaction plot\n"
     ]
    },
    {
     "cell_type": "code",
     "collapsed": false,
     "input": [
      "%%R\n",
      "interaction.plot(W, D, logDays, type='b', col=c('red',\n",
      "                  'blue'), lwd=2, pch=c(23,24))"
     ],
     "language": "python",
     "metadata": {
      "slideshow": {
       "slide_type": "fragment"
      }
     },
     "outputs": [
      {
       "metadata": {},
       "output_type": "display_data",
       "png": "[encoded data removed]"
      }
     ],
     "prompt_number": 16
    },
    {
     "cell_type": "markdown",
     "metadata": {
      "slideshow": {
       "slide_type": "fragment"
      }
     },
     "source": [
      "When these broken lines are not parallel, there is evidence of an interaction.\n",
      "The one thing missing from this plot are errorbars. The above broken lines\n",
      "are clearly not parallel but there is measurement error. If the\n",
      "error bars were large then we might consider there to be no interaction, otherwise we might."
     ]
    },
    {
     "cell_type": "markdown",
     "metadata": {
      "slideshow": {
       "slide_type": "slide"
      }
     },
     "source": [
      "### Parameterization\n",
      "\n",
      "-   Many constraints are needed, again for identifiability. Let\u2019s not\n",
      "    worry too much about the details\n",
      "\n",
      "-   Constraints:\n",
      "\n",
      "    -   $\\sum_{i=1}^r \\alpha_i = 0$\n",
      "\n",
      "    -   $\\sum_{j=1}^m \\beta_j = 0$\n",
      "\n",
      "    -   $\\sum_{j=1}^m (\\alpha\\beta)_{ij} = 0, 1 \\leq i \\leq r$\n",
      "\n",
      "    -   $\\sum_{i=1}^r (\\alpha\\beta)_{ij} = 0, 1 \\leq j \\leq m.$\n",
      "\n",
      "- We should convince ourselves that we know have exactly $r*m$ free parameters."
     ]
    },
    {
     "cell_type": "markdown",
     "metadata": {
      "slideshow": {
       "slide_type": "slide"
      }
     },
     "source": [
      "### Fitting the model\n",
      "\n",
      "-   Easy to fit when $n_{ij}=n$ (balanced)\n",
      "    $$\\widehat{Y}_{ijk}= \\overline{Y}_{ij\\cdot} = \\frac{1}{n}\\sum_{k=1}^{n} Y_{ijk}.$$\n",
      "\n",
      "-   Inference for combinations\n",
      "    $$\\text{Var} \\left(\\sum_{i=1}^r \\sum_{j=1}^m a_{ij} \\overline{Y}_{ij\\cdot}\\right) = \\frac{ \\sigma^2}{n} \\cdot \\sum_{i=1}^r \\sum_{j=1}^m{a_{ij}^2}.$$\n",
      "\n",
      "-   Usual $t$-tests, confidence intervals.\n"
     ]
    },
    {
     "cell_type": "code",
     "collapsed": false,
     "input": [
      "%%R\n",
      "kidney.lm = lm(logDays ~ D*W)\n",
      "summary(kidney.lm)"
     ],
     "language": "python",
     "metadata": {
      "slideshow": {
       "slide_type": "fragment"
      }
     },
     "outputs": [
      {
       "metadata": {},
       "output_type": "display_data",
       "text": [
        "\n",
        "Call:\n",
        "lm(formula = logDays ~ D * W)\n",
        "\n",
        "Residuals:\n",
        "     Min       1Q   Median       3Q      Max \n",
        "-1.33772 -0.51121  0.06302  0.62926  1.17950 \n",
        "\n",
        "Coefficients:\n",
        "            Estimate Std. Error t value Pr(>|t|)    \n",
        "(Intercept)   1.0212     0.2317   4.407 5.01e-05 ***\n",
        "D2           -0.1042     0.3277  -0.318   0.7517    \n",
        "W2            0.8439     0.3277   2.575   0.0128 *  \n",
        "W3            1.5271     0.3277   4.661 2.10e-05 ***\n",
        "D2:W2        -0.4231     0.4634  -0.913   0.3653    \n",
        "D2:W3        -0.4491     0.4634  -0.969   0.3368    \n",
        "---\n",
        "Signif. codes:  0 \u2018***\u2019 0.001 \u2018**\u2019 0.01 \u2018*\u2019 0.05 \u2018.\u2019 0.1 \u2018 \u2019 1 \n",
        "\n",
        "Residual standard error: 0.7327 on 54 degrees of freedom\n",
        "Multiple R-squared: 0.4076,\tAdjusted R-squared: 0.3528 \n",
        "F-statistic: 7.431 on 5 and 54 DF,  p-value: 2.301e-05 \n",
        "\n"
       ]
      }
     ],
     "prompt_number": 17
    },
    {
     "cell_type": "code",
     "collapsed": false,
     "input": [
      "%%R\n",
      "head(model.matrix(kidney.lm))"
     ],
     "language": "python",
     "metadata": {
      "slideshow": {
       "slide_type": "slide"
      }
     },
     "outputs": [
      {
       "metadata": {},
       "output_type": "display_data",
       "text": [
        "  (Intercept) D2 W2 W3 D2:W2 D2:W3\n",
        "1           1  0  0  0     0     0\n",
        "2           1  0  0  0     0     0\n",
        "3           1  0  0  0     0     0\n",
        "4           1  0  0  0     0     0\n",
        "5           1  0  0  0     0     0\n",
        "6           1  0  0  0     0     0\n"
       ]
      }
     ],
     "prompt_number": 18
    },
    {
     "cell_type": "markdown",
     "metadata": {
      "slideshow": {
       "slide_type": "slide"
      }
     },
     "source": [
      "### Finding predicted values\n",
      "\n",
      "The most direct way to compute predicted values is using the `predict` function"
     ]
    },
    {
     "cell_type": "code",
     "collapsed": false,
     "input": [
      "%%R\n",
      "predict(kidney.lm, list(D=factor(2),W=factor(3)), interval='confidence')"
     ],
     "language": "python",
     "metadata": {
      "slideshow": {
       "slide_type": "fragment"
      }
     },
     "outputs": [
      {
       "metadata": {},
       "output_type": "display_data",
       "text": [
        "       fit      lwr      upr\n",
        "1 1.994947 1.530422 2.459473\n"
       ]
      }
     ],
     "prompt_number": 19
    },
    {
     "cell_type": "markdown",
     "metadata": {
      "slideshow": {
       "slide_type": "slide"
      }
     },
     "source": [
      "### ANOVA table\n",
      "\n",
      "In the balanced case, everything can again be summarized\n",
      "from the ANOVA table"
     ]
    },
    {
     "cell_type": "code",
     "collapsed": false,
     "input": [
      "anova_twoway = [('Source', 'SS', '  df  ', r'$\\mathbb{E}(MS)$'), \n",
      "                ('A', r'$SSA=nm\\sum_{i=1}^r  \\left(\\overline{Y}_{i\\cdot\\cdot} - \\overline{Y}_{\\cdot\\cdot\\cdot}\\right)^2$',\n",
      "                 'r-1', r'$\\sigma^2 + nm\\frac{\\sum_{i=1}^r \\alpha_i^2}{r-1}$'),\n",
      "                ('B', r'$SSB=nr\\sum_{j=1}^m  \\left(\\overline{Y}_{\\cdot j\\cdot} - \\overline{Y}_{\\cdot\\cdot\\cdot}\\right)^2$',\n",
      "                 'm-1', r'$\\sigma^2 + nr\\frac{\\sum_{j=1}^m \\beta_j^2}{m-1}$'),\n",
      "                ('A:B', \n",
      "                 r'$SSAB = n\\sum_{i=1}^r \\sum_{j=1}^m  \\left(\\overline{Y}_{ij\\cdot} - \\overline{Y}_{i\\cdot\\cdot} - \\overline{Y}_{\\cdot j\\cdot} + \\overline{Y}_{\\cdot\\cdot\\cdot}\\right)^2$',\n",
      "                r'(m-1)(r-1)', r'$\\sigma^2 + n\\frac{\\sum_{i=1}^r\\sum_{j=1}^m (\\alpha\\beta)_{ij}^2}{(r-1)(m-1)}$'),\n",
      "                ('Error', r'$SSE = \\sum_{i=1}^r \\sum_{j=1}^m \\sum_{k=1}^{n}(Y_{ijk} - \\overline{Y}_{ij\\cdot})^2$',\n",
      "                 '(n-1)mr', r'$\\sigma^2$')]"
     ],
     "language": "python",
     "metadata": {
      "slideshow": {
       "slide_type": "skip"
      }
     },
     "outputs": [],
     "prompt_number": 20
    },
    {
     "cell_type": "code",
     "collapsed": false,
     "input": [
      "                                                               \n",
      "make_table(anova_twoway)   \n",
      "apply_theme('basic')"
     ],
     "language": "python",
     "metadata": {
      "slideshow": {
       "slide_type": "fragment"
      }
     },
     "outputs": [
      {
       "html": [
        "<table border=\"1\" cellpadding=\"3\" cellspacing=\"0\"  style=\"border:1px solid black;border-collapse:collapse;\"><tr><td  style=\"background-color:LightGray;\"><b>Source</b></td><td  style=\"background-color:LightGray;\"><b>SS</b></td><td  style=\"background-color:LightGray;\"><b>&nbsp&nbspdf&nbsp&nbsp</b></td><td  style=\"background-color:LightGray;\"><b>$\\mathbb{E}(MS)$</b></td></tr><tr><td  style=\"background-color:Ivory;\">A</td><td  style=\"background-color:Ivory;\">$SSA=nm\\sum_{i=1}^r&nbsp&nbsp\\left(\\overline{Y}_{i\\cdot\\cdot}&nbsp-&nbsp\\overline{Y}_{\\cdot\\cdot\\cdot}\\right)^2$</td><td  style=\"background-color:Ivory;\">r-1</td><td  style=\"background-color:Ivory;\">$\\sigma^2&nbsp+&nbspnm\\frac{\\sum_{i=1}^r&nbsp\\alpha_i^2}{r-1}$</td></tr><tr><td  style=\"background-color:AliceBlue;\">B</td><td  style=\"background-color:AliceBlue;\">$SSB=nr\\sum_{j=1}^m&nbsp&nbsp\\left(\\overline{Y}_{\\cdot&nbspj\\cdot}&nbsp-&nbsp\\overline{Y}_{\\cdot\\cdot\\cdot}\\right)^2$</td><td  style=\"background-color:AliceBlue;\">m-1</td><td  style=\"background-color:AliceBlue;\">$\\sigma^2&nbsp+&nbspnr\\frac{\\sum_{j=1}^m&nbsp\\beta_j^2}{m-1}$</td></tr><tr><td  style=\"background-color:Ivory;\">A:B</td><td  style=\"background-color:Ivory;\">$SSAB&nbsp=&nbspn\\sum_{i=1}^r&nbsp\\sum_{j=1}^m&nbsp&nbsp\\left(\\overline{Y}_{ij\\cdot}&nbsp-&nbsp\\overline{Y}_{i\\cdot\\cdot}&nbsp-&nbsp\\overline{Y}_{\\cdot&nbspj\\cdot}&nbsp+&nbsp\\overline{Y}_{\\cdot\\cdot\\cdot}\\right)^2$</td><td  style=\"background-color:Ivory;\">(m-1)(r-1)</td><td  style=\"background-color:Ivory;\">$\\sigma^2&nbsp+&nbspn\\frac{\\sum_{i=1}^r\\sum_{j=1}^m&nbsp(\\alpha\\beta)_{ij}^2}{(r-1)(m-1)}$</td></tr><tr><td  style=\"background-color:AliceBlue;\">Error</td><td  style=\"background-color:AliceBlue;\">$SSE&nbsp=&nbsp\\sum_{i=1}^r&nbsp\\sum_{j=1}^m&nbsp\\sum_{k=1}^{n}(Y_{ijk}&nbsp-&nbsp\\overline{Y}_{ij\\cdot})^2$</td><td  style=\"background-color:AliceBlue;\">(n-1)mr</td><td  style=\"background-color:AliceBlue;\">$\\sigma^2$</td></tr></table>"
       ],
       "metadata": {},
       "output_type": "pyout",
       "prompt_number": 21,
       "text": [
        "<ipy_table.IpyTable at 0x97fca70>"
       ]
      }
     ],
     "prompt_number": 21
    },
    {
     "cell_type": "markdown",
     "metadata": {
      "slideshow": {
       "slide_type": "slide"
      }
     },
     "source": [
      "### Tests using the ANOVA table\n",
      "\n",
      "* Rows of the ANOVA table can be used to test various\n",
      "of the hypotheses we started out with.\n",
      "\n",
      "* For instance, we see that under\n",
      "  $H_0:(\\alpha\\beta)_{ij}=0, \\forall i,j$ the expected value of $SSAB$\n",
      "  and $SSE$ is $\\sigma^2$ \u2013 use these for an $F$-test testing for an\n",
      "  interaction.\n",
      "  \n",
      "- Under $H_0$\n",
      "    $$F = \\frac{MSAB}{MSE} = \\frac{\\frac{SSAB}{(m-1)(r-1)}}{\\frac{SSE}{(n-1)mr}} \\sim F_{(m-1)(r-1), (n-1)mr}$$"
     ]
    },
    {
     "cell_type": "code",
     "collapsed": false,
     "input": [
      "%%R\n",
      "anova(kidney.lm)\n"
     ],
     "language": "python",
     "metadata": {
      "slideshow": {
       "slide_type": "fragment"
      }
     },
     "outputs": [
      {
       "metadata": {},
       "output_type": "display_data",
       "text": [
        "Analysis of Variance Table\n",
        "\n",
        "Response: logDays\n",
        "          Df  Sum Sq Mean Sq F value    Pr(>F)    \n",
        "D          1  2.3397  2.3397  4.3583   0.04156 *  \n",
        "W          2 16.9713  8.4856 15.8067 3.945e-06 ***\n",
        "D:W        2  0.6357  0.3178  0.5920   0.55675    \n",
        "Residuals 54 28.9892  0.5368                      \n",
        "---\n",
        "Signif. codes:  0 \u2018***\u2019 0.001 \u2018**\u2019 0.01 \u2018*\u2019 0.05 \u2018.\u2019 0.1 \u2018 \u2019 1 \n"
       ]
      }
     ],
     "prompt_number": 22
    },
    {
     "cell_type": "markdown",
     "metadata": {
      "slideshow": {
       "slide_type": "slide"
      }
     },
     "source": [
      "We can also test for interactions using our usual approach\n"
     ]
    },
    {
     "cell_type": "code",
     "collapsed": false,
     "input": [
      "%%R\n",
      "anova(lm(logDays ~ Duration + Weight), kidney.lm)"
     ],
     "language": "python",
     "metadata": {
      "slideshow": {
       "slide_type": "fragment"
      }
     },
     "outputs": [
      {
       "metadata": {},
       "output_type": "display_data",
       "text": [
        "Analysis of Variance Table\n",
        "\n",
        "Model 1: logDays ~ Duration + Weight\n",
        "Model 2: logDays ~ D * W\n",
        "  Res.Df    RSS Df Sum of Sq      F Pr(>F)\n",
        "1     57 29.630                           \n",
        "2     54 28.989  3   0.64045 0.3977 0.7552\n"
       ]
      }
     ],
     "prompt_number": 23
    },
    {
     "cell_type": "markdown",
     "metadata": {
      "slideshow": {
       "slide_type": "slide"
      }
     },
     "source": [
      "### Some caveats about `R` formulae\n",
      "\n",
      "While we see that it is straightforward to form the\n",
      "interactions test using our usual `anova` function approach, we generally\n",
      "*cannot* test for main effects by this approach. \n"
     ]
    },
    {
     "cell_type": "code",
     "collapsed": false,
     "input": [
      "%%R\n",
      "lm_no_main_Weight = lm(logDays ~ Duration + Weight:Duration)\n",
      "anova(lm_no_main_Weight, kidney.lm)"
     ],
     "language": "python",
     "metadata": {
      "slideshow": {
       "slide_type": "fragment"
      }
     },
     "outputs": [
      {
       "metadata": {},
       "output_type": "display_data",
       "text": [
        "Analysis of Variance Table\n",
        "\n",
        "Model 1: logDays ~ Duration + Weight:Duration\n",
        "Model 2: logDays ~ D * W\n",
        "  Res.Df    RSS Df Sum of Sq      F  Pr(>F)  \n",
        "1     57 33.031                              \n",
        "2     54 28.989  3    4.0417 2.5096 0.06841 .\n",
        "---\n",
        "Signif. codes:  0 \u2018***\u2019 0.001 \u2018**\u2019 0.01 \u2018*\u2019 0.05 \u2018.\u2019 0.1 \u2018 \u2019 1 \n"
       ]
      }
     ],
     "prompt_number": 24
    },
    {
     "cell_type": "markdown",
     "metadata": {
      "slideshow": {
       "slide_type": "slide"
      }
     },
     "source": [
      "In fact, these models are identical in terms of their *planes* or their\n",
      "*fitted values*. What has happened is that `R` has\n",
      "formed a different design matrix using its rules for `formula` objects."
     ]
    },
    {
     "cell_type": "code",
     "collapsed": false,
     "input": [
      "%%R\n",
      "lm1 = lm(logDays ~ Duration + Weight:Duration)\n",
      "lm2 = lm(logDays ~ Duration + Weight:Duration + Weight)\n",
      "anova(lm1, lm2)"
     ],
     "language": "python",
     "metadata": {
      "slideshow": {
       "slide_type": "fragment"
      }
     },
     "outputs": [
      {
       "metadata": {},
       "output_type": "display_data",
       "text": [
        "Analysis of Variance Table\n",
        "\n",
        "Model 1: logDays ~ Duration + Weight:Duration\n",
        "Model 2: logDays ~ Duration + Weight:Duration + Weight\n",
        "  Res.Df    RSS Df Sum of Sq      F   Pr(>F)   \n",
        "1     57 33.031                                \n",
        "2     56 29.125  1    3.9055 7.5092 0.008221 **\n",
        "---\n",
        "Signif. codes:  0 \u2018***\u2019 0.001 \u2018**\u2019 0.01 \u2018*\u2019 0.05 \u2018.\u2019 0.1 \u2018 \u2019 1 \n"
       ]
      }
     ],
     "prompt_number": 25
    },
    {
     "cell_type": "markdown",
     "metadata": {
      "slideshow": {
       "slide_type": "slide"
      }
     },
     "source": [
      "## ANOVA tables in general\n",
      "\n",
      "So far, we have used `anova` to compare two models. In this section,\n",
      "we produced tables for just 1 model. This also works for\n",
      "*any* regression model, though we have to be a little careful\n",
      "about interpretation.\n",
      "\n",
      "Let's revisit the job aptitude test data from last section."
     ]
    },
    {
     "cell_type": "code",
     "collapsed": false,
     "input": [
      "%%R\n",
      "url = 'http://stats191.stanford.edu/data/jobtest.table'\n",
      "jobtest.table <- read.table(url, header=T)\n",
      "jobtest.table$ETHN <- factor(jobtest.table$ETHN)\n",
      "jobtest.lm = lm(JPERF ~ TEST * ETHN, jobtest.table)\n",
      "summary(jobtest.lm)"
     ],
     "language": "python",
     "metadata": {
      "slideshow": {
       "slide_type": "slide"
      }
     },
     "outputs": [
      {
       "metadata": {},
       "output_type": "display_data",
       "text": [
        "\n",
        "Call:\n",
        "lm(formula = JPERF ~ TEST * ETHN, data = jobtest.table)\n",
        "\n",
        "Residuals:\n",
        "    Min      1Q  Median      3Q     Max \n",
        "-2.0734 -1.0594 -0.2548  1.2830  2.1980 \n",
        "\n",
        "Coefficients:\n",
        "            Estimate Std. Error t value Pr(>|t|)  \n",
        "(Intercept)   2.0103     1.0501   1.914   0.0736 .\n",
        "TEST          1.3134     0.6704   1.959   0.0677 .\n",
        "ETHN1        -1.9132     1.5403  -1.242   0.2321  \n",
        "TEST:ETHN1    1.9975     0.9544   2.093   0.0527 .\n",
        "---\n",
        "Signif. codes:  0 \u2018***\u2019 0.001 \u2018**\u2019 0.01 \u2018*\u2019 0.05 \u2018.\u2019 0.1 \u2018 \u2019 1 \n",
        "\n",
        "Residual standard error: 1.407 on 16 degrees of freedom\n",
        "Multiple R-squared: 0.6643,\tAdjusted R-squared: 0.6013 \n",
        "F-statistic: 10.55 on 3 and 16 DF,  p-value: 0.0004511 \n",
        "\n"
       ]
      }
     ],
     "prompt_number": 26
    },
    {
     "cell_type": "markdown",
     "metadata": {
      "slideshow": {
       "slide_type": "slide"
      }
     },
     "source": [
      "Now, let's look at the `anova` output. We'll see the results don't match."
     ]
    },
    {
     "cell_type": "code",
     "collapsed": false,
     "input": [
      "%%R\n",
      "anova(jobtest.lm)"
     ],
     "language": "python",
     "metadata": {
      "slideshow": {
       "slide_type": "fragment"
      }
     },
     "outputs": [
      {
       "metadata": {},
       "output_type": "display_data",
       "text": [
        "Analysis of Variance Table\n",
        "\n",
        "Response: JPERF\n",
        "          Df Sum Sq Mean Sq F value    Pr(>F)    \n",
        "TEST       1 48.723  48.723 24.6266 0.0001412 ***\n",
        "ETHN       1  5.247   5.247  2.6519 0.1229524    \n",
        "TEST:ETHN  1  8.666   8.666  4.3802 0.0526501 .  \n",
        "Residuals 16 31.655   1.978                      \n",
        "---\n",
        "Signif. codes:  0 \u2018***\u2019 0.001 \u2018**\u2019 0.01 \u2018*\u2019 0.05 \u2018.\u2019 0.1 \u2018 \u2019 1 \n"
       ]
      }
     ],
     "prompt_number": 27
    },
    {
     "cell_type": "markdown",
     "metadata": {
      "slideshow": {
       "slide_type": "slide"
      }
     },
     "source": [
      "The difference is how the `Sum Sq` columns is created. In the `anova` output, terms in the\n",
      "response are added sequentially.\n",
      "\n",
      "We can see this by comparing these two models directly. The `F` statistic doesn't agree\n",
      "because the `MSE` above is computed in the *fullest* model, but the `Sum of Sq` is correct."
     ]
    },
    {
     "cell_type": "code",
     "collapsed": false,
     "input": [
      "%%R\n",
      "anova(lm(JPERF ~ TEST, jobtest.table), lm(JPERF ~ TEST + ETHN, jobtest.table))"
     ],
     "language": "python",
     "metadata": {
      "slideshow": {
       "slide_type": "fragment"
      }
     },
     "outputs": [
      {
       "metadata": {},
       "output_type": "display_data",
       "text": [
        "Analysis of Variance Table\n",
        "\n",
        "Model 1: JPERF ~ TEST\n",
        "Model 2: JPERF ~ TEST + ETHN\n",
        "  Res.Df    RSS Df Sum of Sq      F Pr(>F)\n",
        "1     18 45.568                           \n",
        "2     17 40.322  1    5.2468 2.2121 0.1552\n"
       ]
      }
     ],
     "prompt_number": 28
    },
    {
     "cell_type": "markdown",
     "metadata": {
      "slideshow": {
       "slide_type": "slide"
      }
     },
     "source": [
      "Similarly, the first `Sum Sq` in `anova` can be found by:"
     ]
    },
    {
     "cell_type": "code",
     "collapsed": false,
     "input": [
      "%%R\n",
      "anova(lm(JPERF ~ 1, jobtest.table), lm(JPERF ~ TEST, jobtest.table))"
     ],
     "language": "python",
     "metadata": {
      "slideshow": {
       "slide_type": "fragment"
      }
     },
     "outputs": [
      {
       "metadata": {},
       "output_type": "display_data",
       "text": [
        "Analysis of Variance Table\n",
        "\n",
        "Model 1: JPERF ~ 1\n",
        "Model 2: JPERF ~ TEST\n",
        "  Res.Df    RSS Df Sum of Sq      F    Pr(>F)    \n",
        "1     19 94.291                                  \n",
        "2     18 45.568  1    48.723 19.246 0.0003555 ***\n",
        "---\n",
        "Signif. codes:  0 \u2018***\u2019 0.001 \u2018**\u2019 0.01 \u2018*\u2019 0.05 \u2018.\u2019 0.1 \u2018 \u2019 1 \n"
       ]
      }
     ],
     "prompt_number": 29
    },
    {
     "cell_type": "markdown",
     "metadata": {
      "slideshow": {
       "slide_type": "slide"
      }
     },
     "source": [
      "There are ways to produce an *ANOVA* table whose $p$-values agree with\n",
      "`summary`. This is done by an ANOVA table that uses Type-III sum of squares."
     ]
    },
    {
     "cell_type": "code",
     "collapsed": false,
     "input": [
      "%%R\n",
      "library(car)\n",
      "Anova(jobtest.lm, type=3)"
     ],
     "language": "python",
     "metadata": {
      "slideshow": {
       "slide_type": "fragment"
      }
     },
     "outputs": [
      {
       "metadata": {},
       "output_type": "display_data",
       "text": [
        "Loading required package: MASS\n",
        "Loading required package: nnet\n",
        "Anova Table (Type III tests)\n",
        "\n",
        "Response: JPERF\n",
        "            Sum Sq Df F value  Pr(>F)  \n",
        "(Intercept)  7.251  1  3.6647 0.07363 .\n",
        "TEST         7.594  1  3.8385 0.06775 .\n",
        "ETHN         3.052  1  1.5427 0.23211  \n",
        "TEST:ETHN    8.666  1  4.3802 0.05265 .\n",
        "Residuals   31.655 16                  \n",
        "---\n",
        "Signif. codes:  0 \u2018***\u2019 0.001 \u2018**\u2019 0.01 \u2018*\u2019 0.05 \u2018.\u2019 0.1 \u2018 \u2019 1 \n"
       ]
      }
     ],
     "prompt_number": 30
    },
    {
     "cell_type": "code",
     "collapsed": false,
     "input": [
      "%%R\n",
      "summary(jobtest.lm)"
     ],
     "language": "python",
     "metadata": {
      "slideshow": {
       "slide_type": "fragment"
      }
     },
     "outputs": [
      {
       "metadata": {},
       "output_type": "display_data",
       "text": [
        "\n",
        "Call:\n",
        "lm(formula = JPERF ~ TEST * ETHN, data = jobtest.table)\n",
        "\n",
        "Residuals:\n",
        "    Min      1Q  Median      3Q     Max \n",
        "-2.0734 -1.0594 -0.2548  1.2830  2.1980 \n",
        "\n",
        "Coefficients:\n",
        "            Estimate Std. Error t value Pr(>|t|)  \n",
        "(Intercept)   2.0103     1.0501   1.914   0.0736 .\n",
        "TEST          1.3134     0.6704   1.959   0.0677 .\n",
        "ETHN1        -1.9132     1.5403  -1.242   0.2321  \n",
        "TEST:ETHN1    1.9975     0.9544   2.093   0.0527 .\n",
        "---\n",
        "Signif. codes:  0 \u2018***\u2019 0.001 \u2018**\u2019 0.01 \u2018*\u2019 0.05 \u2018.\u2019 0.1 \u2018 \u2019 1 \n",
        "\n",
        "Residual standard error: 1.407 on 16 degrees of freedom\n",
        "Multiple R-squared: 0.6643,\tAdjusted R-squared: 0.6013 \n",
        "F-statistic: 10.55 on 3 and 16 DF,  p-value: 0.0004511 \n",
        "\n"
       ]
      }
     ],
     "prompt_number": 31
    },
    {
     "cell_type": "markdown",
     "metadata": {
      "slideshow": {
       "slide_type": "slide"
      }
     },
     "source": [
      "# Fixed and random effects\n",
      "\n",
      "-   In kidney & rehab examples, the categorical variables are\n",
      "    well-defined categories: below average fitness, long duration, etc.\n",
      "\n",
      "-   In some designs, the categorical variable is \u201csubject\u201d.\n",
      "\n",
      "-   Simplest example: repeated measures, where more than one (identical)\n",
      "    measurement is taken on the same individual.\n",
      "\n",
      "-   In this case, the \u201cgroup\u201d effect $\\alpha_i$ is best thought of as\n",
      "    random because we only sample a subset of the entire population.\n",
      "\n"
     ]
    },
    {
     "cell_type": "markdown",
     "metadata": {
      "slideshow": {
       "slide_type": "slide"
      }
     },
     "source": [
      "### When to use random effects?\n",
      "\n",
      "-   A \u201cgroup\u201d effect is random if we can think of the levels we observe\n",
      "    in that group to be samples from a larger population.\n",
      "\n",
      "-   Example: if collecting data from different medical centers, \u201ccenter\u201d\n",
      "    might be thought of as random.\n",
      "\n",
      "-   Example: if surveying students on different campuses, \u201ccampus\u201d may\n",
      "    be a random effect.\n",
      "\n"
     ]
    },
    {
     "cell_type": "markdown",
     "metadata": {
      "slideshow": {
       "slide_type": "slide"
      }
     },
     "source": [
      "### Example: sodium content in beer\n",
      "\n",
      "-   How much sodium is there in North American beer? How much does this\n",
      "    vary by brand?\n",
      "\n",
      "-   Observations: for 6 brands of beer, we recorded the sodium content\n",
      "    of 8 12 ounce bottles.\n",
      "\n",
      "-   Questions of interest: what is the \u201cgrand mean\u201d sodium content? How\n",
      "    much variability is there from brand to brand?\n",
      "\n",
      "-   \u201cIndividuals\u201d in this case are brands, repeated measures are the 8\n",
      "    bottles.\n"
     ]
    },
    {
     "cell_type": "code",
     "collapsed": false,
     "input": [
      "%%R\n",
      "url = 'http://stats191.stanford.edu/data/sodium.table'\n",
      "sodium.table = read.table(url, header=T)\n",
      "sodium.table$brand = factor(sodium.table$brand)\n",
      "sodium.lm = lm(sodium ~ brand, sodium.table)\n",
      "anova(sodium.lm)"
     ],
     "language": "python",
     "metadata": {
      "slideshow": {
       "slide_type": "fragment"
      }
     },
     "outputs": [
      {
       "metadata": {},
       "output_type": "display_data",
       "text": [
        "Analysis of Variance Table\n",
        "\n",
        "Response: sodium\n",
        "          Df Sum Sq Mean Sq F value    Pr(>F)    \n",
        "brand      5 854.53 170.906  238.71 < 2.2e-16 ***\n",
        "Residuals 42  30.07   0.716                      \n",
        "---\n",
        "Signif. codes:  0 \u2018***\u2019 0.001 \u2018**\u2019 0.01 \u2018*\u2019 0.05 \u2018.\u2019 0.1 \u2018 \u2019 1 \n"
       ]
      }
     ],
     "prompt_number": 32
    },
    {
     "cell_type": "markdown",
     "metadata": {
      "slideshow": {
       "slide_type": "slide"
      }
     },
     "source": [
      "### One-way random effects model\n",
      "\n",
      "-   Assuming that cell-sizes are the same, i.e. equal observations for\n",
      "    each \u201csubject\u201d (brand of beer).\n",
      "\n",
      "-   Observations\n",
      "    $$Y_{ij} \\sim \\mu_{\\cdot} + \\alpha_i + \\varepsilon_{ij}, 1 \\leq i \\leq r, 1 \\leq j \\leq n$$\n",
      "\n",
      "-   $\\varepsilon_{ij} \\sim N(0, \\sigma^2), 1 \\leq i \\leq r, 1 \\leq j \\leq n$\n",
      "\n",
      "-   $\\alpha_i \\sim N(0, \\sigma^2_{\\mu}), 1 \\leq  i \\leq r.$\n",
      "\n",
      "-   Parameters:\n",
      "\n",
      "    -   $\\mu$ is the population mean;\n",
      "\n",
      "    -   $\\sigma^2$ is the measurement variance (i.e. how variable are\n",
      "        the readings from the machine that reads the sodium content?);\n",
      "\n",
      "    -   $\\sigma^2_{\\mu}$ is the population variance (i.e. how variable\n",
      "\tis the sodium content of beer across brands)."
     ]
    },
    {
     "cell_type": "markdown",
     "metadata": {
      "slideshow": {
       "slide_type": "slide"
      }
     },
     "source": [
      "### Modelling the variance\n",
      "\n",
      "- In random effects model, the observations are no longer independent (even if $\\varepsilon$'s are independent\n",
      "   $$                                                                                                                                         \n",
      "   {\\rm Cov}(Y_{ij}, Y_{i'j'}) = \\left(\\sigma^2_{\\mu}  + \\sigma^2 \\delta_{j,j'} \\right) \\delta_{i,i'}.$$\n",
      "\n",
      "- In more complicated models, this makes ``maximum likelihood estimation'' more complicated: least squares is no longer the best solution. \n",
      "\n",
      "- **It's no longer a plane!**\n",
      "\n",
      "\n",
      "- This model has a very simple model for the *mean*, it just has a slightly\n",
      "more complex model for the *variance*.\n",
      "\n",
      "- Shortly we'll see other more complex models of the variance:\n",
      "    - Weighted Least Squares\n",
      "    - Correlated Errors"
     ]
    },
    {
     "cell_type": "markdown",
     "metadata": {
      "slideshow": {
       "slide_type": "slide"
      }
     },
     "source": [
      "### Fitting the model\n",
      "\n",
      "The *MLE (Maximum Likelihood Estimator)* is found by minimizing\n",
      "$$\n",
      "-2 \\log \\ell (\\mu, \\sigma^2, \\sigma^2_{\\mu}|Y) = \\sum_{i=1}^r \\biggl[ (Y_i - \\mu) (\\sigma^2 I_{n_i \\times n_i} + \\sigma^2_{\\mu} 11^T)^{-1} (Y_i - \\mu) + \\log \\left( \\det(\\sigma^2 I_{n_i \\times n_i} + \\sigma^2_{\\mu} 11^T)^{-1} \\right) \\biggr].\n",
      "$$\n",
      "\n",
      "THe function $\\ell(\\mu, \\sigma^2, \\sigma^2_{\\mu})$ is called the *likelihood function*."
     ]
    },
    {
     "cell_type": "markdown",
     "metadata": {
      "slideshow": {
       "slide_type": "slide"
      }
     },
     "source": [
      "### Fitting the model in balanced design\n",
      "\n",
      "Only one parameter in the mean function $\\mu_{\\cdot}.$\n",
      "- When cell sizes are the same (balanced),\n",
      "   $$                                                                           \n",
      "   \\widehat{\\mu}_{\\cdot} = \\overline{Y}_{\\cdot \\cdot} = \\frac{1}{nr} \\sum_{i,j} Y_{ij}.$$\n",
      "Unbalanced models: use numerical optimizer.\n",
      "\n",
      "- This also changes estimates of $\\sigma^2$ -- see ANOVA table. We\n",
      " might guess that $df=nr-1$ and\n",
      "   $$                                                                           \n",
      "   \\widehat{\\sigma}^2 = \\frac{1}{nr-1} \\sum_{i,j} (Y_{ij} - \\overline{Y}_{\\cdot\\cdot})^2.$$\n",
      "   But, this is not correct."
     ]
    },
    {
     "cell_type": "code",
     "collapsed": false,
     "input": [
      "%%R\n",
      "library(nlme)\n",
      "sodium.lme = lme(fixed=sodium~1,random=~1|brand, data=sodium.table)\n",
      "summary(sodium.lme)"
     ],
     "language": "python",
     "metadata": {
      "slideshow": {
       "slide_type": "slide"
      }
     },
     "outputs": [
      {
       "metadata": {},
       "output_type": "display_data",
       "text": [
        "Linear mixed-effects model fit by REML\n",
        " Data: sodium.table \n",
        "      AIC      BIC    logLik\n",
        "  154.923 160.4735 -74.46152\n",
        "\n",
        "Random effects:\n",
        " Formula: ~1 | brand\n",
        "        (Intercept)  Residual\n",
        "StdDev:    4.612346 0.8461397\n",
        "\n",
        "Fixed effects: sodium ~ 1 \n",
        "               Value Std.Error DF  t-value p-value\n",
        "(Intercept) 17.62917  1.886939 42 9.342733       0\n",
        "\n",
        "Standardized Within-Group Residuals:\n",
        "        Min          Q1         Med          Q3         Max \n",
        "-1.90551291 -0.68337933  0.08232268  0.79246858  1.64968961 \n",
        "\n",
        "Number of Observations: 48\n",
        "Number of Groups: 6 \n"
       ]
      }
     ],
     "prompt_number": 33
    },
    {
     "cell_type": "markdown",
     "metadata": {
      "slideshow": {
       "slide_type": "slide"
      }
     },
     "source": [
      "For reasons I'm not sure of, the degrees of freedom don't agree with our\n",
      "ANOVA, though we do find the correct `SE` for our estimate of $\\mu$:"
     ]
    },
    {
     "cell_type": "code",
     "collapsed": false,
     "input": [
      "%%R\n",
      "MSTR = anova(sodium.lm)$Mean[1]\n",
      "sqrt(MSTR/48)"
     ],
     "language": "python",
     "metadata": {
      "slideshow": {
       "slide_type": "fragment"
      }
     },
     "outputs": [
      {
       "metadata": {},
       "output_type": "display_data",
       "text": [
        "[1] 1.886939\n"
       ]
      }
     ],
     "prompt_number": 34
    },
    {
     "cell_type": "markdown",
     "metadata": {
      "slideshow": {
       "slide_type": "slide"
      }
     },
     "source": [
      "The intervals formed by `lme` use the 42 degrees of freedom, but \n",
      "are otherwise the same:"
     ]
    },
    {
     "cell_type": "code",
     "collapsed": false,
     "input": [
      "%%R\n",
      "intervals(sodium.lme)\n"
     ],
     "language": "python",
     "metadata": {
      "slideshow": {
       "slide_type": "fragment"
      }
     },
     "outputs": [
      {
       "metadata": {},
       "output_type": "display_data",
       "text": [
        "Approximate 95% confidence intervals\n",
        "\n",
        " Fixed effects:\n",
        "               lower     est.    upper\n",
        "(Intercept) 13.82117 17.62917 21.43716\n",
        "attr(,\"label\")\n",
        "[1] \"Fixed effects:\"\n",
        "\n",
        " Random Effects:\n",
        "  Level: brand \n",
        "                   lower     est.    upper\n",
        "sd((Intercept)) 2.475221 4.612346 8.594683\n",
        "\n",
        " Within-group standard error:\n",
        "    lower      est.     upper \n",
        "0.6832445 0.8461397 1.0478715 \n"
       ]
      }
     ],
     "prompt_number": 35
    },
    {
     "cell_type": "code",
     "collapsed": false,
     "input": [
      "%%R\n",
      "center = mean(sodium.table$sodium)\n",
      "lwr = center - sqrt(MSTR / 48) * qt(0.975,42)\n",
      "upr = center + sqrt(MSTR / 48) * qt(0.975,42)\n",
      "data.frame(lwr, center, upr)"
     ],
     "language": "python",
     "metadata": {
      "slideshow": {
       "slide_type": "fragment"
      }
     },
     "outputs": [
      {
       "metadata": {},
       "output_type": "display_data",
       "text": [
        "       lwr   center      upr\n",
        "1 13.82117 17.62917 21.43716\n"
       ]
      }
     ],
     "prompt_number": 36
    },
    {
     "cell_type": "markdown",
     "metadata": {
      "slideshow": {
       "slide_type": "slide"
      }
     },
     "source": [
      "Using our degrees of freedom as 7 yields slightly wider intervals"
     ]
    },
    {
     "cell_type": "code",
     "collapsed": false,
     "input": [
      "%%R\n",
      "center = mean(sodium.table$sodium)\n",
      "lwr = center - sqrt(MSTR / 48) * qt(0.975,7)\n",
      "upr = center + sqrt(MSTR / 48) * qt(0.975,7)\n",
      "data.frame(lwr, center, upr)"
     ],
     "language": "python",
     "metadata": {
      "slideshow": {
       "slide_type": "fragment"
      }
     },
     "outputs": [
      {
       "metadata": {},
       "output_type": "display_data",
       "text": [
        "       lwr   center      upr\n",
        "1 13.16727 17.62917 22.09107\n"
       ]
      }
     ],
     "prompt_number": 37
    },
    {
     "cell_type": "markdown",
     "metadata": {
      "slideshow": {
       "slide_type": "slide"
      }
     },
     "source": [
      "### ANOVA table\n",
      "\n",
      "Again, the information needed can be summarized in an\n",
      "ANOVA table."
     ]
    },
    {
     "cell_type": "code",
     "collapsed": false,
     "input": [
      "from ipy_table import *\n",
      "anova_oneway = [('Source', 'SS', 'df', r'$\\mathbb{E}(MS)$'), \n",
      "                ('Treatment', r'$SSTR=\\sum_{i=1}^r n_i \\left(\\overline{Y}_{i\\cdot} - \\overline{Y}_{\\cdot\\cdot}\\right)^2$', \n",
      "                'r-1', r'$\\sigma^2 + n \\sigma^2_{\\mu}$'),\n",
      "                ('Error', r'$SSE=\\sum_{i=1}^r \\sum_{j=1}^{n_i}(Y_{ij} - \\overline{Y}_{i\\cdot})^2$',\n",
      "                 r'$\\sum_{i=1}^r (n_i - 1)$', r'$\\sigma^2$')]\n",
      "    "
     ],
     "language": "python",
     "metadata": {
      "slideshow": {
       "slide_type": "skip"
      }
     },
     "outputs": [],
     "prompt_number": 38
    },
    {
     "cell_type": "code",
     "collapsed": false,
     "input": [
      "make_table(anova_oneway)   \n",
      "apply_theme('basic')"
     ],
     "language": "python",
     "metadata": {
      "slideshow": {
       "slide_type": "fragment"
      }
     },
     "outputs": [
      {
       "html": [
        "<table border=\"1\" cellpadding=\"3\" cellspacing=\"0\"  style=\"border:1px solid black;border-collapse:collapse;\"><tr><td  style=\"background-color:LightGray;\"><b>Source</b></td><td  style=\"background-color:LightGray;\"><b>SS</b></td><td  style=\"background-color:LightGray;\"><b>df</b></td><td  style=\"background-color:LightGray;\"><b>$\\mathbb{E}(MS)$</b></td></tr><tr><td  style=\"background-color:Ivory;\">Treatment</td><td  style=\"background-color:Ivory;\">$SSTR=\\sum_{i=1}^r&nbspn_i&nbsp\\left(\\overline{Y}_{i\\cdot}&nbsp-&nbsp\\overline{Y}_{\\cdot\\cdot}\\right)^2$</td><td  style=\"background-color:Ivory;\">r-1</td><td  style=\"background-color:Ivory;\">$\\sigma^2&nbsp+&nbspn&nbsp\\sigma^2_{\\mu}$</td></tr><tr><td  style=\"background-color:AliceBlue;\">Error</td><td  style=\"background-color:AliceBlue;\">$SSE=\\sum_{i=1}^r&nbsp\\sum_{j=1}^{n_i}(Y_{ij}&nbsp-&nbsp\\overline{Y}_{i\\cdot})^2$</td><td  style=\"background-color:AliceBlue;\">$\\sum_{i=1}^r&nbsp(n_i&nbsp-&nbsp1)$</td><td  style=\"background-color:AliceBlue;\">$\\sigma^2$</td></tr></table>"
       ],
       "metadata": {},
       "output_type": "pyout",
       "prompt_number": 39,
       "text": [
        "<ipy_table.IpyTable at 0x9810230>"
       ]
      }
     ],
     "prompt_number": 39
    },
    {
     "cell_type": "markdown",
     "metadata": {
      "slideshow": {
       "slide_type": "fragment"
      }
     },
     "source": [
      "- ANOVA table is still useful to setup tests: the same $F$ statistics for fixed or random will work here.\n",
      "\n",
      "- Test for random effect: $H_0:\\sigma^2_{\\mu}=0$ based on\n",
      "   $$\n",
      "   F = \\frac{MSTR}{MSE} \\sim F_{r-1, (n-1)r} \\qquad \\text{under $H_0$}.$$\n"
     ]
    },
    {
     "cell_type": "markdown",
     "metadata": {
      "slideshow": {
       "slide_type": "slide"
      }
     },
     "source": [
      "### Inference for $\\mu_{\\cdot}$\n",
      "\n",
      "- Easy to check that\n",
      "   $$\n",
      "   \\begin{aligned}\n",
      "   E(\\overline{Y}_{\\cdot \\cdot}) &= \\mu_{\\cdot}   \\\\\n",
      "   \\text{Var}(\\overline{Y}_{\\cdot \\cdot}) &= \\frac{\\sigma^2 + n\\sigma^2_{\\mu}}{rn}.\n",
      "   \\end{aligned}\n",
      "   $$\n",
      "\n",
      "- To come up with a $t$ statistic that we can use for test, CIs, we\n",
      "   need to find an estimate of $\\text{Var}(\\overline{Y}_{\\cdot \\cdot})$.\n",
      "  \n",
      "  \n",
      "- ANOVA table says $E(MSTR) = n\\sigma^2_{\\mu}+\\sigma^2$ which suggests\n",
      "   $$                                                                           \n",
      "   \\frac{\\overline{Y}_{\\cdot \\cdot} - \\mu_{\\cdot}}{\\sqrt{\\frac{MSTR}{rn}}} \\sim t_{r-1}.$$"
     ]
    },
    {
     "cell_type": "markdown",
     "metadata": {
      "slideshow": {
       "slide_type": "slide"
      }
     },
     "source": [
      "### Degrees of freedom\n",
      "\n",
      "- Why $r-1$ degrees of freedom?\n",
      " \n",
      "- Imagine we could record an infinite number of observations for each individu\\\n",
      "al, so that $\\overline{Y}_{i\\cdot} \\rightarrow \\mu_i$, or that $\\sigma^2_{\\mu}=0$.\n",
      "\n",
      "- To learn anything about $\\mu_{\\cdot}$ we still only have $r$ observations\n",
      "   $(\\mu_1, \\dots, \\mu_r)$.\n",
      "\n",
      "- Sampling more within an individual cannot narrow the CI for $\\mu_{\\cdot}$.\n"
     ]
    },
    {
     "cell_type": "markdown",
     "metadata": {
      "slideshow": {
       "slide_type": "slide"
      }
     },
     "source": [
      "### Estimating $\\sigma^2_{\\mu}$\n",
      "\n",
      "We have seen estimates of $\\mu_{\\cdot}$ and $\\sigma^2$. Only one parameter\n",
      "remains.\n",
      "\n",
      "- Based on the ANOVA table, we see that\n",
      "$$\n",
      "\\sigma^2_{\\mu} =  \\frac{1}{n}(\\mathbb{E}(MSTR) - \\mathbb{E}(MSE)).\n",
      "$$\n",
      "\n",
      "- This suggests the estimate\n",
      "$$\n",
      "\\hat{\\sigma^2}_{\\mu} = \\frac{1}{n} (MSTR-MSE).\n",
      "$$\n",
      "\n",
      "- However, this estimate can be negative!\n",
      "\n",
      "- Many such computational difficulties arise in random (and mixed) effects models.\n",
      "\n",
      "\n"
     ]
    },
    {
     "cell_type": "markdown",
     "metadata": {
      "slideshow": {
       "slide_type": "slide"
      }
     },
     "source": [
      "## Mixed effects model\n",
      "\n",
      "- The one-way random effects ANOVA is a special case of a so-called *mixed effects* model:\n",
      "$$\n",
      "\\begin{aligned}\n",
      "Y_{n \\times 1} &= X_{n \\times p}\\beta_{p \\times 1} + Z_{n \\times q}\\gamma_{q \\times 1} \\\\\n",
      "\\gamma &\\sim N(0, \\Sigma).\n",
      "\\end{aligned}\n",
      "$$\n",
      "\n",
      "- Various models also consider restrictions on $\\Sigma$ (e.g. diagonal, unrestricted, block diagonal, etc.)\n",
      "\n",
      "\n",
      "- Our multiple linear regression model is a mixed-effects model with $q=n$, \n",
      "$$\n",
      "\\begin{aligned}\n",
      "Z &= I_{n \\times n} \\\\\n",
      "\\Sigma &= \\sigma^2 I_{n \\times n}.\n",
      "\\end{aligned}\n",
      "$$"
     ]
    },
    {
     "cell_type": "code",
     "collapsed": false,
     "input": [],
     "language": "python",
     "metadata": {},
     "outputs": [],
     "prompt_number": 39
    }
   ],
   "metadata": {}
  }
 ]
}