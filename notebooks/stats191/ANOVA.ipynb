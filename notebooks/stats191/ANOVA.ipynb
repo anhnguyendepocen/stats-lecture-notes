{
 "metadata": {
  "name": ""
 },
 "nbformat": 3,
 "nbformat_minor": 0,
 "worksheets": [
  {
   "cells": [
    {
     "cell_type": "heading",
     "level": 3,
     "metadata": {},
     "source": [
      "One-way ANOVA"
     ]
    },
    {
     "cell_type": "code",
     "collapsed": false,
     "input": [
      "%%knitr\n",
      "url = 'http://stats191.stanford.edu/data/rehab.csv'\n",
      "rehab.table <- read.table(url, header=T, sep=',')\n",
      "rehab.table$Fitness <- factor(rehab.table$Fitness) \n",
      "attach(rehab.table)\n",
      "\n",
      "boxplot(Time ~ Fitness, col=c('red','green','blue'))"
     ],
     "language": "python",
     "metadata": {},
     "outputs": [
      {
       "metadata": {},
       "output_type": "display_data",
       "text": [
        "    url = \"http://stats191.stanford.edu/data/rehab.csv\"\n",
        "    rehab.table <- read.table(url, header = T, sep = \",\")\n",
        "    rehab.table$Fitness <- factor(rehab.table$Fitness)\n",
        "    attach(rehab.table)\n",
        "    \n",
        "    boxplot(Time ~ Fitness, col = c(\"red\", \"green\", \"blue\"))\n",
        "\u0000"
       ]
      },
      {
       "metadata": {},
       "output_type": "display_data",
       "png": "[encoded data removed]"
      }
     ],
     "prompt_number": 30
    },
    {
     "cell_type": "markdown",
     "metadata": {},
     "source": [
      "Fit the one-way ANOVA model"
     ]
    },
    {
     "cell_type": "code",
     "collapsed": false,
     "input": [
      "%%knitr\n",
      "rehab.lm <- lm(Time ~ Fitness)\n",
      "anova(rehab.lm)"
     ],
     "language": "python",
     "metadata": {},
     "outputs": [
      {
       "metadata": {},
       "output_type": "display_data",
       "text": [
        "    rehab.lm <- lm(Time ~ Fitness)\n",
        "    anova(rehab.lm)\n",
        "\u0000"
       ]
      },
      {
       "metadata": {},
       "output_type": "display_data",
       "text": [
        "    ## Analysis of Variance Table\n",
        "    ## \n",
        "    ## Response: Time\n",
        "    ##           Df Sum Sq Mean Sq F value  Pr(>F)    \n",
        "    ## Fitness    2    672     336      17 4.1e-05 ***\n",
        "    ## Residuals 21    416      20                    \n",
        "    ## ---\n",
        "    ## Signif. codes:  0 '***' 0.001 '**' 0.01 '*' 0.05 '.' 0.1 ' ' 1\n",
        "\u0000"
       ]
      }
     ],
     "prompt_number": 31
    },
    {
     "cell_type": "code",
     "collapsed": false,
     "input": [
      "%%knitr\n",
      "model.matrix(rehab.lm)"
     ],
     "language": "python",
     "metadata": {},
     "outputs": [
      {
       "metadata": {},
       "output_type": "display_data",
       "text": [
        "    model.matrix(rehab.lm)\n",
        "\u0000"
       ]
      },
      {
       "metadata": {},
       "output_type": "display_data",
       "text": [
        "    ##    (Intercept) Fitness2 Fitness3\n",
        "    ## 1            1        0        0\n",
        "    ## 2            1        0        0\n",
        "    ## 3            1        0        0\n",
        "    ## 4            1        0        0\n",
        "    ## 5            1        0        0\n",
        "    ## 6            1        0        0\n",
        "    ## 7            1        0        0\n",
        "    ## 8            1        0        0\n",
        "    ## 9            1        1        0\n",
        "    ## 10           1        1        0\n",
        "    ## 11           1        1        0\n",
        "    ## 12           1        1        0\n",
        "    ## 13           1        1        0\n",
        "    ## 14           1        1        0\n",
        "    ## 15           1        1        0\n",
        "    ## 16           1        1        0\n",
        "    ## 17           1        1        0\n",
        "    ## 18           1        1        0\n",
        "    ## 19           1        0        1\n",
        "    ## 20           1        0        1\n",
        "    ## 21           1        0        1\n",
        "    ## 22           1        0        1\n",
        "    ## 23           1        0        1\n",
        "    ## 24           1        0        1\n",
        "    ## attr(,\"assign\")\n",
        "    ## [1] 0 1 1\n",
        "    ## attr(,\"contrasts\")\n",
        "    ## attr(,\"contrasts\")$Fitness\n",
        "    ## [1] \"contr.treatment\"\n",
        "\u0000"
       ]
      }
     ],
     "prompt_number": 32
    },
    {
     "cell_type": "markdown",
     "metadata": {},
     "source": [
      "This means that the coefficient Fitness2 is the estimated\n",
      "   difference between the two groups.\n",
      "\n",
      "   "
     ]
    },
    {
     "cell_type": "code",
     "collapsed": false,
     "input": [
      "%%knitr\n",
      "summary(rehab.lm)"
     ],
     "language": "python",
     "metadata": {},
     "outputs": [
      {
       "metadata": {},
       "output_type": "display_data",
       "text": [
        "    summary(rehab.lm)\n",
        "\u0000"
       ]
      },
      {
       "metadata": {},
       "output_type": "display_data",
       "text": [
        "    ## \n",
        "    ## Call:\n",
        "    ## lm(formula = Time ~ Fitness)\n",
        "    ## \n",
        "    ## Residuals:\n",
        "    ##    Min     1Q Median     3Q    Max \n",
        "    ##   -9.0   -3.0   -0.5    3.0    8.0 \n",
        "    ## \n",
        "    ## Coefficients:\n",
        "    ##             Estimate Std. Error t value Pr(>|t|)    \n",
        "    ## (Intercept)    38.00       1.57   24.15  < 2e-16 ***\n",
        "    ## Fitness2       -6.00       2.11   -2.84   0.0098 ** \n",
        "    ## Fitness3      -14.00       2.40   -5.82  8.8e-06 ***\n",
        "    ## ---\n",
        "    ## Signif. codes:  0 '***' 0.001 '**' 0.01 '*' 0.05 '.' 0.1 ' ' 1 \n",
        "    ## \n",
        "    ## Residual standard error: 4.45 on 21 degrees of freedom\n",
        "    ## Multiple R-squared: 0.618,\tAdjusted R-squared: 0.581 \n",
        "    ## F-statistic:   17 on 2 and 21 DF,  p-value: 4.13e-05\n",
        "\u0000"
       ]
      }
     ],
     "prompt_number": 33
    },
    {
     "cell_type": "heading",
     "level": 3,
     "metadata": {},
     "source": [
      "Two-way ANOVA"
     ]
    },
    {
     "cell_type": "code",
     "collapsed": false,
     "input": [
      "%%knitr\n",
      "\n",
      "url = 'http://stats191.stanford.edu/data/kidney.table'\n",
      "kidney.table <- read.table(url, header=T)\n",
      "kidney.table$Duration <- factor(kidney.table$Duration)\n",
      "kidney.table$Weight <- factor(kidney.table$Weight)\n",
      "kidney.table$logDays <- log(kidney.table$Days + 1) # Use log days to \"stabilize\" variance\n",
      "attach(kidney.table)"
     ],
     "language": "python",
     "metadata": {},
     "outputs": [
      {
       "metadata": {},
       "output_type": "display_data",
       "text": [
        "    url = \"http://stats191.stanford.edu/data/kidney.table\"\n",
        "    kidney.table <- read.table(url, header = T)\n",
        "    kidney.table$Duration <- factor(kidney.table$Duration)\n",
        "    kidney.table$Weight <- factor(kidney.table$Weight)\n",
        "    kidney.table$logDays <- log(kidney.table$Days + 1)\n",
        "    attach(kidney.table)\n",
        "\u0000"
       ]
      }
     ],
     "prompt_number": 34
    },
    {
     "cell_type": "markdown",
     "metadata": {},
     "source": [
      "Plot data: is there visual evidence of interactions?"
     ]
    },
    {
     "cell_type": "code",
     "collapsed": false,
     "input": [
      "%%knitr\n",
      "interaction.plot(Weight, Duration, logDays, type='b', col=c('red',\n",
      "                  'blue'), lwd=2, pch=c(23,24))"
     ],
     "language": "python",
     "metadata": {},
     "outputs": [
      {
       "metadata": {},
       "output_type": "display_data",
       "text": [
        "    interaction.plot(Weight, Duration, logDays, type = \"b\", col = c(\"red\", \"blue\"), \n",
        "        lwd = 2, pch = c(23, 24))\n",
        "\u0000"
       ]
      },
      {
       "metadata": {},
       "output_type": "display_data",
       "png": "[encoded data removed]"
      }
     ],
     "prompt_number": 35
    },
    {
     "cell_type": "markdown",
     "metadata": {},
     "source": [
      "Let's fit a model and look at the ANOVA table."
     ]
    },
    {
     "cell_type": "code",
     "collapsed": false,
     "input": [
      "%%knitr\n",
      "kidney.lm <- lm(logDays ~ Duration * Weight)\n",
      "anova(kidney.lm)\n"
     ],
     "language": "python",
     "metadata": {},
     "outputs": [
      {
       "metadata": {},
       "output_type": "display_data",
       "text": [
        "    kidney.lm <- lm(logDays ~ Duration * Weight)\n",
        "    anova(kidney.lm)\n",
        "\u0000"
       ]
      },
      {
       "metadata": {},
       "output_type": "display_data",
       "text": [
        "    ## Analysis of Variance Table\n",
        "    ## \n",
        "    ## Response: logDays\n",
        "    ##                 Df Sum Sq Mean Sq F value  Pr(>F)    \n",
        "    ## Duration         1   2.34    2.34    4.36   0.042 *  \n",
        "    ## Weight           2  16.97    8.49   15.81 3.9e-06 ***\n",
        "    ## Duration:Weight  2   0.64    0.32    0.59   0.557    \n",
        "    ## Residuals       54  28.99    0.54                    \n",
        "    ## ---\n",
        "    ## Signif. codes:  0 '***' 0.001 '**' 0.01 '*' 0.05 '.' 0.1 ' ' 1\n",
        "\u0000"
       ]
      }
     ],
     "prompt_number": 36
    },
    {
     "cell_type": "markdown",
     "metadata": {},
     "source": [
      "We can test for interactions using our usual approach\n"
     ]
    },
    {
     "cell_type": "code",
     "collapsed": false,
     "input": [
      "%%knitr\n",
      "anova(lm(logDays ~ Duration + Weight), kidney.lm)"
     ],
     "language": "python",
     "metadata": {},
     "outputs": [
      {
       "metadata": {},
       "output_type": "display_data",
       "text": [
        "    anova(lm(logDays ~ Duration + Weight), kidney.lm)\n",
        "\u0000"
       ]
      },
      {
       "metadata": {},
       "output_type": "display_data",
       "text": [
        "    ## Analysis of Variance Table\n",
        "    ## \n",
        "    ## Model 1: logDays ~ Duration + Weight\n",
        "    ## Model 2: logDays ~ Duration * Weight\n",
        "    ##   Res.Df  RSS Df Sum of Sq    F Pr(>F)\n",
        "    ## 1     56 29.6                         \n",
        "    ## 2     54 29.0  2     0.636 0.59   0.56\n",
        "\u0000"
       ]
      }
     ],
     "prompt_number": 37
    },
    {
     "cell_type": "heading",
     "level": 3,
     "metadata": {},
     "source": [
      "Sums of squares"
     ]
    },
    {
     "cell_type": "markdown",
     "metadata": {},
     "source": [
      "There are different types of sums of squares (I,II,III and more).\n",
      "R uses type I by default but for balanced\n",
      "design you can code the dummy variables with contrasts\n",
      "to yield the same ANOVA table. The other two types,\n",
      "which are more common in practice\n",
      "can be found in the \"car\" library."
     ]
    },
    {
     "cell_type": "code",
     "collapsed": false,
     "input": [
      "%%knitr\n",
      "sum.lm = lm(logDays ~ Duration * Weight, contrasts=list(Duration=contr.sum, Weight=contr.sum))\n",
      "library(car)\n",
      "\n",
      "anova(sum.lm)\n",
      "Anova(sum.lm, type='II')\n",
      "Anova(sum.lm, type='III')"
     ],
     "language": "python",
     "metadata": {},
     "outputs": [
      {
       "metadata": {},
       "output_type": "display_data",
       "text": [
        "    sum.lm = lm(logDays ~ Duration * Weight, contrasts = list(Duration = contr.sum, \n",
        "        Weight = contr.sum))\n",
        "    library(car)\n",
        "    \n",
        "    anova(sum.lm)\n",
        "\u0000"
       ]
      },
      {
       "metadata": {},
       "output_type": "display_data",
       "text": [
        "    ## Analysis of Variance Table\n",
        "    ## \n",
        "    ## Response: logDays\n",
        "    ##                 Df Sum Sq Mean Sq F value  Pr(>F)    \n",
        "    ## Duration         1   2.34    2.34    4.36   0.042 *  \n",
        "    ## Weight           2  16.97    8.49   15.81 3.9e-06 ***\n",
        "    ## Duration:Weight  2   0.64    0.32    0.59   0.557    \n",
        "    ## Residuals       54  28.99    0.54                    \n",
        "    ## ---\n",
        "    ## Signif. codes:  0 '***' 0.001 '**' 0.01 '*' 0.05 '.' 0.1 ' ' 1\n",
        "\u0000"
       ]
      },
      {
       "metadata": {},
       "output_type": "display_data",
       "text": [
        "    Anova(sum.lm, type = \"II\")\n",
        "\u0000"
       ]
      },
      {
       "metadata": {},
       "output_type": "display_data",
       "text": [
        "    ## Anova Table (Type II tests)\n",
        "    ## \n",
        "    ## Response: logDays\n",
        "    ##                 Sum Sq Df F value  Pr(>F)    \n",
        "    ## Duration          2.34  1    4.36   0.042 *  \n",
        "    ## Weight           16.97  2   15.81 3.9e-06 ***\n",
        "    ## Duration:Weight   0.64  2    0.59   0.557    \n",
        "    ## Residuals        28.99 54                    \n",
        "    ## ---\n",
        "    ## Signif. codes:  0 '***' 0.001 '**' 0.01 '*' 0.05 '.' 0.1 ' ' 1\n",
        "\u0000"
       ]
      },
      {
       "metadata": {},
       "output_type": "display_data",
       "text": [
        "    Anova(sum.lm, type = \"III\")\n",
        "\u0000"
       ]
      },
      {
       "metadata": {},
       "output_type": "display_data",
       "text": [
        "    ## Anova Table (Type III tests)\n",
        "    ## \n",
        "    ## Response: logDays\n",
        "    ##                 Sum Sq Df F value  Pr(>F)    \n",
        "    ## (Intercept)      156.3  1  291.15 < 2e-16 ***\n",
        "    ## Duration           2.3  1    4.36   0.042 *  \n",
        "    ## Weight            17.0  2   15.81 3.9e-06 ***\n",
        "    ## Duration:Weight    0.6  2    0.59   0.557    \n",
        "    ## Residuals         29.0 54                    \n",
        "    ## ---\n",
        "    ## Signif. codes:  0 '***' 0.001 '**' 0.01 '*' 0.05 '.' 0.1 ' ' 1\n",
        "\u0000"
       ]
      }
     ],
     "prompt_number": 38
    },
    {
     "cell_type": "markdown",
     "metadata": {},
     "source": [
      "These sums of squares are different if you use the default\n",
      "contrast codings, i.e. contr.treatment\n",
      "   "
     ]
    },
    {
     "cell_type": "code",
     "collapsed": false,
     "input": [
      "%%knitr\n",
      "nosum.lm = lm(logDays ~ Duration * Weight)\n",
      "anova(nosum.lm)"
     ],
     "language": "python",
     "metadata": {},
     "outputs": [
      {
       "metadata": {},
       "output_type": "display_data",
       "text": [
        "    nosum.lm = lm(logDays ~ Duration * Weight)\n",
        "    anova(nosum.lm)\n",
        "\u0000"
       ]
      },
      {
       "metadata": {},
       "output_type": "display_data",
       "text": [
        "    ## Analysis of Variance Table\n",
        "    ## \n",
        "    ## Response: logDays\n",
        "    ##                 Df Sum Sq Mean Sq F value  Pr(>F)    \n",
        "    ## Duration         1   2.34    2.34    4.36   0.042 *  \n",
        "    ## Weight           2  16.97    8.49   15.81 3.9e-06 ***\n",
        "    ## Duration:Weight  2   0.64    0.32    0.59   0.557    \n",
        "    ## Residuals       54  28.99    0.54                    \n",
        "    ## ---\n",
        "    ## Signif. codes:  0 '***' 0.001 '**' 0.01 '*' 0.05 '.' 0.1 ' ' 1\n",
        "\u0000"
       ]
      }
     ],
     "prompt_number": 39
    },
    {
     "cell_type": "code",
     "collapsed": false,
     "input": [
      "%%knitr\n",
      "Anova(nosum.lm, type='II')"
     ],
     "language": "python",
     "metadata": {},
     "outputs": [
      {
       "metadata": {},
       "output_type": "display_data",
       "text": [
        "    Anova(nosum.lm, type = \"II\")\n",
        "\u0000"
       ]
      },
      {
       "metadata": {},
       "output_type": "display_data",
       "text": [
        "    ## Anova Table (Type II tests)\n",
        "    ## \n",
        "    ## Response: logDays\n",
        "    ##                 Sum Sq Df F value  Pr(>F)    \n",
        "    ## Duration          2.34  1    4.36   0.042 *  \n",
        "    ## Weight           16.97  2   15.81 3.9e-06 ***\n",
        "    ## Duration:Weight   0.64  2    0.59   0.557    \n",
        "    ## Residuals        28.99 54                    \n",
        "    ## ---\n",
        "    ## Signif. codes:  0 '***' 0.001 '**' 0.01 '*' 0.05 '.' 0.1 ' ' 1\n",
        "\u0000"
       ]
      }
     ],
     "prompt_number": 40
    },
    {
     "cell_type": "code",
     "collapsed": false,
     "input": [
      "%%knitr\n",
      "Anova(nosum.lm, type='III')"
     ],
     "language": "python",
     "metadata": {},
     "outputs": [
      {
       "metadata": {},
       "output_type": "display_data",
       "text": [
        "    Anova(nosum.lm, type = \"III\")\n",
        "\u0000"
       ]
      },
      {
       "metadata": {},
       "output_type": "display_data",
       "text": [
        "    ## Anova Table (Type III tests)\n",
        "    ## \n",
        "    ## Response: logDays\n",
        "    ##                 Sum Sq Df F value  Pr(>F)    \n",
        "    ## (Intercept)      10.43  1   19.42   5e-05 ***\n",
        "    ## Duration          0.05  1    0.10 0.75170    \n",
        "    ## Weight           11.70  2   10.90 0.00011 ***\n",
        "    ## Duration:Weight   0.64  2    0.59 0.55675    \n",
        "    ## Residuals        28.99 54                    \n",
        "    ## ---\n",
        "    ## Signif. codes:  0 '***' 0.001 '**' 0.01 '*' 0.05 '.' 0.1 ' ' 1\n",
        "\u0000"
       ]
      }
     ],
     "prompt_number": 41
    },
    {
     "cell_type": "heading",
     "level": 3,
     "metadata": {},
     "source": [
      "One way random effects ANOVA"
     ]
    },
    {
     "cell_type": "code",
     "collapsed": false,
     "input": [
      "%%knitr\n",
      "url = 'http://stats191.stanford.edu/data/sodium.table'\n",
      "sodium.table <- read.table(url, header=T)\n",
      "sodium.table$brand <- factor(sodium.table$brand)\n",
      "sodium.lm = lm(sodium ~ brand, sodium.table)\n",
      "anova(sodium.lm)"
     ],
     "language": "python",
     "metadata": {},
     "outputs": [
      {
       "metadata": {},
       "output_type": "display_data",
       "text": [
        "    url = \"http://stats191.stanford.edu/data/sodium.table\"\n",
        "    sodium.table <- read.table(url, header = T)\n",
        "    sodium.table$brand <- factor(sodium.table$brand)\n",
        "    sodium.lm = lm(sodium ~ brand, sodium.table)\n",
        "    anova(sodium.lm)\n",
        "\u0000"
       ]
      },
      {
       "metadata": {},
       "output_type": "display_data",
       "text": [
        "    ## Analysis of Variance Table\n",
        "    ## \n",
        "    ## Response: sodium\n",
        "    ##           Df Sum Sq Mean Sq F value Pr(>F)    \n",
        "    ## brand      5    855   170.9     239 <2e-16 ***\n",
        "    ## Residuals 42     30     0.7                   \n",
        "    ## ---\n",
        "    ## Signif. codes:  0 '***' 0.001 '**' 0.01 '*' 0.05 '.' 0.1 ' ' 1\n",
        "\u0000"
       ]
      }
     ],
     "prompt_number": 42
    },
    {
     "cell_type": "markdown",
     "metadata": {},
     "source": [
      "According to our slides in class, we can form a confidence interval as"
     ]
    },
    {
     "cell_type": "code",
     "collapsed": false,
     "input": [
      "%%knitr\n",
      "center = mean(sodium.table$sodium)"
     ],
     "language": "python",
     "metadata": {},
     "outputs": [
      {
       "metadata": {},
       "output_type": "display_data",
       "text": [
        "    center = mean(sodium.table$sodium)\n",
        "\u0000"
       ]
      }
     ],
     "prompt_number": 43
    },
    {
     "cell_type": "markdown",
     "metadata": {},
     "source": [
      "You can fit this model using `lme` in the `nlme` package. However, the degrees of freedom for the intercept is off. It doesn't agree with, e.g.\n",
      "Chapter 25 of [NKNW](http://www.amazon.com/Applied-Linear-Statistical-Models-Michael/dp/007310874X/ref=pd_sim_b_1)."
     ]
    },
    {
     "cell_type": "code",
     "collapsed": false,
     "input": [
      "%%knitr\n",
      "library(nlme)\n",
      "sodium.lme = lme(fixed=sodium~1,random=~1|brand, data=sodium.table)\n",
      "MSTR = anova(sodium.lm)$Mean[1]\n",
      "MSE = anova(sodium.lm)$Mean[2]\n",
      "summary(sodium.lme)\n",
      "intervals(sodium.lme)"
     ],
     "language": "python",
     "metadata": {},
     "outputs": [
      {
       "metadata": {},
       "output_type": "display_data",
       "text": [
        "    library(nlme)\n",
        "    sodium.lme = lme(fixed = sodium ~ 1, random = ~1 | brand, data = sodium.table)\n",
        "    MSTR = anova(sodium.lm)$Mean[1]\n",
        "    MSE = anova(sodium.lm)$Mean[2]\n",
        "    summary(sodium.lme)\n",
        "\u0000"
       ]
      },
      {
       "metadata": {},
       "output_type": "display_data",
       "text": [
        "    ## Linear mixed-effects model fit by REML\n",
        "    ##  Data: sodium.table \n",
        "    ##     AIC   BIC logLik\n",
        "    ##   154.9 160.5 -74.46\n",
        "    ## \n",
        "    ## Random effects:\n",
        "    ##  Formula: ~1 | brand\n",
        "    ##         (Intercept) Residual\n",
        "    ## StdDev:       4.612   0.8461\n",
        "    ## \n",
        "    ## Fixed effects: sodium ~ 1 \n",
        "    ##             Value Std.Error DF t-value p-value\n",
        "    ## (Intercept) 17.63     1.887 42   9.343       0\n",
        "    ## \n",
        "    ## Standardized Within-Group Residuals:\n",
        "    ##      Min       Q1      Med       Q3      Max \n",
        "    ## -1.90551 -0.68338  0.08232  0.79247  1.64969 \n",
        "    ## \n",
        "    ## Number of Observations: 48\n",
        "    ## Number of Groups: 6\n",
        "\u0000"
       ]
      },
      {
       "metadata": {},
       "output_type": "display_data",
       "text": [
        "    intervals(sodium.lme)\n",
        "\u0000"
       ]
      },
      {
       "metadata": {},
       "output_type": "display_data",
       "text": [
        "    ## Approximate 95% confidence intervals\n",
        "    ## \n",
        "    ##  Fixed effects:\n",
        "    ##             lower  est. upper\n",
        "    ## (Intercept) 13.82 17.63 21.44\n",
        "    ## attr(,\"label\")\n",
        "    ## [1] \"Fixed effects:\"\n",
        "    ## \n",
        "    ##  Random Effects:\n",
        "    ##   Level: brand \n",
        "    ##                 lower  est. upper\n",
        "    ## sd((Intercept)) 2.475 4.612 8.595\n",
        "    ## \n",
        "    ##  Within-group standard error:\n",
        "    ##  lower   est.  upper \n",
        "    ## 0.6832 0.8461 1.0479\n",
        "\u0000"
       ]
      }
     ],
     "prompt_number": 44
    },
    {
     "cell_type": "markdown",
     "metadata": {},
     "source": [
      "If we adjust our previous interval for the intercept to use the (incorrect) 42 degrees of freedom we get the same result as `lme`."
     ]
    },
    {
     "cell_type": "code",
     "collapsed": false,
     "input": [
      "%%knitr\n",
      "lwr.42 = center + sqrt(MSTR / 48) * qt(0.975,42)\n",
      "upr.42 = center - sqrt(MSTR / 48) * qt(0.975,42)\n",
      "data.frame(center,lwr.42,upr.42)"
     ],
     "language": "python",
     "metadata": {},
     "outputs": [
      {
       "metadata": {},
       "output_type": "display_data",
       "text": [
        "    lwr.42 = center + sqrt(MSTR/48) * qt(0.975, 42)\n",
        "    upr.42 = center - sqrt(MSTR/48) * qt(0.975, 42)\n",
        "    data.frame(center, lwr.42, upr.42)\n",
        "\u0000"
       ]
      },
      {
       "metadata": {},
       "output_type": "display_data",
       "text": [
        "    ##   center lwr.42 upr.42\n",
        "    ## 1  17.63  21.44  13.82\n",
        "\u0000"
       ]
      }
     ],
     "prompt_number": 45
    },
    {
     "cell_type": "code",
     "collapsed": false,
     "input": [],
     "language": "python",
     "metadata": {},
     "outputs": [],
     "prompt_number": 45
    },
    {
     "cell_type": "code",
     "collapsed": false,
     "input": [],
     "language": "python",
     "metadata": {},
     "outputs": [],
     "prompt_number": 45
    }
   ],
   "metadata": {}
  }
 ]
}