{
 "metadata": {
  "name": ""
 },
 "nbformat": 3,
 "nbformat_minor": 0,
 "worksheets": [
  {
   "cells": [
    {
     "cell_type": "markdown",
     "metadata": {
      "slideshow": {
       "slide_type": "slide"
      }
     },
     "source": [
      "# Multiple linear regression\n",
      "\n",
      "## Outline\n",
      "\n",
      "-   Specifying the model.\n",
      "\n",
      "-   Fitting the model: least squares.\n",
      "\n",
      "-   Interpretation of the coefficients.\n",
      "\n",
      "-   More on $F$-statistics.\n",
      "\n",
      "-   Matrix approach to linear regression.\n",
      "\n",
      "-   $T$-statistics revisited.\n",
      "\n",
      "-   More $F$ statistics.\n",
      "\n",
      "-   Tests involving more than one $\\beta$."
     ]
    },
    {
     "cell_type": "markdown",
     "metadata": {
      "slideshow": {
       "slide_type": "slide"
      }
     },
     "source": [
      "## Prostate data\n",
      "\n",
      "For more information on the [Gleason score](http://en.wikipedia.org/wiki/Gleason_Grading_System)."
     ]
    },
    {
     "cell_type": "code",
     "collapsed": false,
     "input": [
      "from ipy_table import *\n",
      "Description = ([\n",
      "        ['Variable','Description'],\n",
      "        ['lpsa', '(log) Prostate Specific Antigen'],\n",
      "        ['lcavol', '(log) Cancer Volume'],\n",
      "        ['lweight', '(log) Weight'],\n",
      "        ['age', 'Patient age'],\n",
      "        ['lbph', '(log) Vening Prostatic Hyperplasia'],\n",
      "        ['svi', 'Seminal Vesicle Invasion'],\n",
      "        ['lcp', '(log) Capsular Penetration'],\n",
      "        ['gleason', 'Gleason score'],\n",
      "        ['pgg45', 'Percent of Gleason score 4 or 5'],\n",
      "        ['lpsa', '(log) Prostate Specific Antigen'],\n",
      "        ['train', 'Label for test / training split']])"
     ],
     "language": "python",
     "metadata": {
      "slideshow": {
       "slide_type": "skip"
      }
     },
     "outputs": [],
     "prompt_number": 66
    },
    {
     "cell_type": "code",
     "collapsed": false,
     "input": [
      "make_table(Description)\n",
      "apply_theme('basic')"
     ],
     "language": "python",
     "metadata": {
      "slideshow": {
       "slide_type": "fragment"
      }
     },
     "outputs": [
      {
       "html": [
        "<table border=\"1\" cellpadding=\"3\" cellspacing=\"0\"  style=\"border:1px solid black;border-collapse:collapse;\"><tr><td  style=\"background-color:LightGray;\"><b>Variable</b></td><td  style=\"background-color:LightGray;\"><b>Description</b></td></tr><tr><td  style=\"background-color:Ivory;\">lpsa</td><td  style=\"background-color:Ivory;\">(log)&nbspProstate&nbspSpecific&nbspAntigen</td></tr><tr><td  style=\"background-color:AliceBlue;\">lcavol</td><td  style=\"background-color:AliceBlue;\">(log)&nbspCancer&nbspVolume</td></tr><tr><td  style=\"background-color:Ivory;\">lweight</td><td  style=\"background-color:Ivory;\">(log)&nbspWeight</td></tr><tr><td  style=\"background-color:AliceBlue;\">age</td><td  style=\"background-color:AliceBlue;\">Patient&nbspage</td></tr><tr><td  style=\"background-color:Ivory;\">lbph</td><td  style=\"background-color:Ivory;\">(log)&nbspVening&nbspProstatic&nbspHyperplasia</td></tr><tr><td  style=\"background-color:AliceBlue;\">svi</td><td  style=\"background-color:AliceBlue;\">Seminal&nbspVesicle&nbspInvasion</td></tr><tr><td  style=\"background-color:Ivory;\">lcp</td><td  style=\"background-color:Ivory;\">(log)&nbspCapsular&nbspPenetration</td></tr><tr><td  style=\"background-color:AliceBlue;\">gleason</td><td  style=\"background-color:AliceBlue;\">Gleason&nbspscore</td></tr><tr><td  style=\"background-color:Ivory;\">pgg45</td><td  style=\"background-color:Ivory;\">Percent&nbspof&nbspGleason&nbspscore&nbsp4&nbspor&nbsp5</td></tr><tr><td  style=\"background-color:AliceBlue;\">lpsa</td><td  style=\"background-color:AliceBlue;\">(log)&nbspProstate&nbspSpecific&nbspAntigen</td></tr><tr><td  style=\"background-color:Ivory;\">train</td><td  style=\"background-color:Ivory;\">Label&nbspfor&nbsptest&nbsp/&nbsptraining&nbspsplit</td></tr></table>"
       ],
       "metadata": {},
       "output_type": "pyout",
       "prompt_number": 67,
       "text": [
        "<ipy_table.IpyTable at 0x9854d70>"
       ]
      }
     ],
     "prompt_number": 67
    },
    {
     "cell_type": "code",
     "collapsed": false,
     "input": [],
     "language": "python",
     "metadata": {
      "slideshow": {
       "slide_type": "fragment"
      }
     },
     "outputs": [
      {
       "html": [
        "<table border=\"1\" cellpadding=\"3\" cellspacing=\"0\"  style=\"border:1px solid black;border-collapse:collapse;\"><tr><td  style=\"background-color:LightGray;\"><b>Variable</b></td><td  style=\"background-color:LightGray;\"><b>Description</b></td></tr><tr><td  style=\"background-color:Ivory;\">lpsa</td><td  style=\"background-color:Ivory;\">(log)&nbspProstate&nbspSpecific&nbspAntigen</td></tr><tr><td  style=\"background-color:AliceBlue;\">lcavol</td><td  style=\"background-color:AliceBlue;\">(log)&nbspCancer&nbspVolume</td></tr><tr><td  style=\"background-color:Ivory;\">lweight</td><td  style=\"background-color:Ivory;\">(log)&nbspWeight</td></tr><tr><td  style=\"background-color:AliceBlue;\">age</td><td  style=\"background-color:AliceBlue;\">Patient&nbspage</td></tr><tr><td  style=\"background-color:Ivory;\">lbph</td><td  style=\"background-color:Ivory;\">(log)&nbspVening&nbspProstatic&nbspHyperplasia</td></tr><tr><td  style=\"background-color:AliceBlue;\">svi</td><td  style=\"background-color:AliceBlue;\">Seminal&nbspVesicle&nbspInvasion</td></tr><tr><td  style=\"background-color:Ivory;\">lcp</td><td  style=\"background-color:Ivory;\">(log)&nbspCapsular&nbspPenetration</td></tr><tr><td  style=\"background-color:AliceBlue;\">gleason</td><td  style=\"background-color:AliceBlue;\">Gleason&nbspscore</td></tr><tr><td  style=\"background-color:Ivory;\">pgg45</td><td  style=\"background-color:Ivory;\">Percent&nbspof&nbspGleason&nbspscore&nbsp4&nbspor&nbsp5</td></tr><tr><td  style=\"background-color:AliceBlue;\">lpsa</td><td  style=\"background-color:AliceBlue;\">(log)&nbspProstate&nbspSpecific&nbspAntigen</td></tr><tr><td  style=\"background-color:Ivory;\">train</td><td  style=\"background-color:Ivory;\">Label&nbspfor&nbsptest&nbsp/&nbsptraining&nbspsplit</td></tr></table>"
       ],
       "metadata": {},
       "output_type": "pyout",
       "prompt_number": 14,
       "text": [
        "<ipy_table.IpyTable at 0x984a950>"
       ]
      }
     ],
     "prompt_number": 14
    },
    {
     "cell_type": "code",
     "collapsed": false,
     "input": [
      "%%R \n",
      "library(ElemStatLearn)\n",
      "data(prostate)\n",
      "pairs(prostate, pch=23, bg='orange',                                          \n",
      "      cex.labels=1.5) \n"
     ],
     "language": "python",
     "metadata": {
      "slideshow": {
       "slide_type": "slide"
      }
     },
     "outputs": [
      {
       "metadata": {},
       "output_type": "display_data",
       "png": "[encoded data removed]"
      }
     ],
     "prompt_number": 15
    },
    {
     "cell_type": "markdown",
     "metadata": {
      "slideshow": {
       "slide_type": "slide"
      }
     },
     "source": [
      "## Specifying the model\n",
      "\n",
      "-   Rather than one predictor, we have $p=6$ predictors.\n",
      "\n",
      "-   $$Y_i = \\beta_0 + \\beta_1 X_{i1} + \\dots + \\beta_p X_{ip} + \\varepsilon_i$$\n",
      "\n",
      "-   Errors $\\varepsilon$ are assumed independent $N(0,\\sigma^2)$, as in\n",
      "    simple linear regression.\n",
      "\n",
      "-   Coefficients are called (partial) regression coefficients because\n",
      "    they \u201callow\u201d for the effect of other variables."
     ]
    },
    {
     "cell_type": "markdown",
     "metadata": {
      "slideshow": {
       "slide_type": "fragment"
      }
     },
     "source": [
      "## Geometry of Least Squares\n",
      "\n",
      "<img src=\"figs/axes_multiple_full.svg\">\n"
     ]
    },
    {
     "cell_type": "markdown",
     "metadata": {
      "slideshow": {
       "slide_type": "slide"
      }
     },
     "source": [
      "## Fitting the model\n",
      "\n",
      "\n",
      "-   Just as in simple linear regression, model is fit by minimizing\n",
      "    $$\\begin{aligned}\n",
      "       SSE(\\beta_0, \\dots, \\beta_p) &= \\sum_{i=1}^n(Y_i - (\\beta_0 + \\sum_{j=1}^p \\beta_j \\\n",
      "X_{ij}))^2 \\\\\n",
      "       &= \\|Y - \\widehat{Y}(\\beta)\\|^2\n",
      "       \\end{aligned}$$\n",
      "\n",
      "-   Minimizers:\n",
      "    $\\widehat{\\beta} = (\\widehat{\\beta}_0, \\dots, \\widehat{\\beta}_p)$\n",
      "    are the \u201cleast squares estimates\u201d: are also normally distributed as\n",
      "    in simple linear regression."
     ]
    },
    {
     "cell_type": "code",
     "collapsed": false,
     "input": [
      "%%R\n",
      "prostate.lm = lm(lpsa ~ lcavol + lweight + age + lbph + svi + lcp + pgg45, data=prostate)\n",
      "prostate.lm"
     ],
     "language": "python",
     "metadata": {
      "slideshow": {
       "slide_type": "fragment"
      }
     },
     "outputs": [
      {
       "metadata": {},
       "output_type": "display_data",
       "text": [
        "\n",
        "Call:\n",
        "lm(formula = lpsa ~ lcavol + lweight + age + lbph + svi + lcp + \n",
        "    pgg45, data = prostate)\n",
        "\n",
        "Coefficients:\n",
        "(Intercept)       lcavol      lweight          age         lbph          svi  \n",
        "   0.494155     0.569546     0.614420    -0.020913     0.097353     0.752397  \n",
        "        lcp        pgg45  \n",
        "  -0.104959     0.005324  \n",
        "\n"
       ]
      }
     ],
     "prompt_number": 17
    },
    {
     "cell_type": "markdown",
     "metadata": {
      "slideshow": {
       "slide_type": "slide"
      }
     },
     "source": [
      "\n",
      "## Estimating $\\sigma^2$\n",
      "\n",
      "-   As in simple regression\n",
      "    $$\\widehat{\\sigma}^2 = \\frac{SSE}{n-p-1} \\sim \\sigma^2 \\cdot \\frac{\\chi^2_{n-p-1}}{n-p\\\n",
      "-1}$$\n",
      "    independent of $\\widehat{\\beta}$.\n",
      "\n",
      "-   Why $\\chi^2_{n-p-1}$? Typically, the degrees of freedom in the\n",
      "    estimate of $\\sigma^2$ is\n",
      "    $n-\\# \\text{number of parameters in regression function}$.\n"
     ]
    },
    {
     "cell_type": "code",
     "collapsed": false,
     "input": [
      "%%R\n",
      "print(prostate.lm$df.resid)\n",
      "sigma.hat = sqrt(sum(resid(prostate.lm)^2) / prostate.lm$df.resid)\n",
      "sigma.hat"
     ],
     "language": "python",
     "metadata": {
      "slideshow": {
       "slide_type": "fragment"
      }
     },
     "outputs": [
      {
       "metadata": {},
       "output_type": "display_data",
       "text": [
        "[1] 89\n",
        "[1] 0.6959559\n"
       ]
      }
     ],
     "prompt_number": 18
    },
    {
     "cell_type": "markdown",
     "metadata": {
      "slideshow": {
       "slide_type": "slide"
      }
     },
     "source": [
      "## Interpretation of $\\beta_j$\u2019s\n",
      "\n",
      "-   Take $\\beta_1=\\beta_{\\tt{lcavol}}$ for example. This is the amount the `lpsa`\n",
      "    rating increases for one \u201cunit\u201d of `lcavol`, keeping\n",
      "    everything else constant.\n",
      "\n",
      "-   We refer to this as the effect of `lcavol` *allowing\n",
      "    for* or *controlling for* the other variables.\n"
     ]
    },
    {
     "cell_type": "markdown",
     "metadata": {
      "slideshow": {
       "slide_type": "fragment"
      }
     },
     "source": [
      "## Partial regression coefficients\n",
      "\n",
      "-   The term *partial* refers to the fact that the coefficient $\\beta_j$\n",
      "    represent the partial effect of ${X}_j$ on ${Y}$, i.e. after\n",
      "    the effect of all other variables have been removed.\n",
      "\n",
      "-   Specifically,\n",
      "    $$Y_i - \\sum_{l=1, l \\neq j}^k X_{il} \\beta_l = \\beta_0 + \\beta_j X_{ij} + \\varepsilon_i.$$\n",
      "\n",
      "-   Let $e_{i,(j)}$ be the residuals from regressing ${Y}$ onto all\n",
      "    ${X}_{\\cdot}$\u2019s except ${X}_j$, and let $X_{i,(j)}$ be the\n",
      "    residuals from regressing ${X}_j$ onto all ${X}_{\\cdot}$\u2019s\n",
      "    except ${X}_j$, and let $X_{i,(j)}$.\n",
      "\n",
      "-   If we regress $e_{i,(j)}$ against $X_{i,(j)}$, the coefficient is\n",
      "    *exactly* the same as in the original model (see [R\n",
      "    code](http://stats191.stanford.edu/multiple.html)).\n"
     ]
    },
    {
     "cell_type": "code",
     "collapsed": false,
     "input": [
      "%%R\n",
      "summary(prostate.lm)"
     ],
     "language": "python",
     "metadata": {
      "slideshow": {
       "slide_type": "fragment"
      }
     },
     "outputs": [
      {
       "metadata": {},
       "output_type": "display_data",
       "text": [
        "\n",
        "Call:\n",
        "lm(formula = lpsa ~ lcavol + lweight + age + lbph + svi + lcp + \n",
        "    pgg45, data = prostate)\n",
        "\n",
        "Residuals:\n",
        "     Min       1Q   Median       3Q      Max \n",
        "-1.76395 -0.35764 -0.02143  0.37762  1.58178 \n",
        "\n",
        "Coefficients:\n",
        "             Estimate Std. Error t value Pr(>|t|)    \n",
        "(Intercept)  0.494155   0.873567   0.566  0.57304    \n",
        "lcavol       0.569546   0.085847   6.634 2.46e-09 ***\n",
        "lweight      0.614420   0.198449   3.096  0.00262 ** \n",
        "age         -0.020913   0.010978  -1.905  0.06000 .  \n",
        "lbph         0.097353   0.057584   1.691  0.09441 .  \n",
        "svi          0.752397   0.238180   3.159  0.00216 ** \n",
        "lcp         -0.104959   0.089347  -1.175  0.24323    \n",
        "pgg45        0.005324   0.003385   1.573  0.11923    \n",
        "---\n",
        "Signif. codes:  0 \u2018***\u2019 0.001 \u2018**\u2019 0.01 \u2018*\u2019 0.05 \u2018.\u2019 0.1 \u2018 \u2019 1 \n",
        "\n",
        "Residual standard error: 0.696 on 89 degrees of freedom\n",
        "Multiple R-squared: 0.663,\tAdjusted R-squared: 0.6365 \n",
        "F-statistic: 25.01 on 7 and 89 DF,  p-value: < 2.2e-16 \n",
        "\n"
       ]
      }
     ],
     "prompt_number": 19
    },
    {
     "cell_type": "markdown",
     "metadata": {
      "slideshow": {
       "slide_type": "slide"
      }
     },
     "source": [
      "Let's verify this interpretation of regression coefficients."
     ]
    },
    {
     "cell_type": "code",
     "collapsed": false,
     "input": [
      "%%R\n",
      "W = resid(lm(lcavol ~  lweight + age + lbph + svi + lcp + pgg45, data=prostate))\n",
      "Z = resid(lm(lpsa ~  lweight + age + lbph + svi + lcp + pgg45, data=prostate))\n",
      "summary(lm(Z~W))"
     ],
     "language": "python",
     "metadata": {
      "slideshow": {
       "slide_type": "fragment"
      }
     },
     "outputs": [
      {
       "metadata": {},
       "output_type": "display_data",
       "text": [
        "\n",
        "Call:\n",
        "lm(formula = Z ~ W)\n",
        "\n",
        "Residuals:\n",
        "     Min       1Q   Median       3Q      Max \n",
        "-1.76395 -0.35764 -0.02143  0.37762  1.58178 \n",
        "\n",
        "Coefficients:\n",
        "              Estimate Std. Error t value Pr(>|t|)    \n",
        "(Intercept) -1.226e-16  6.840e-02   0.000        1    \n",
        "W            5.695e-01  8.309e-02   6.854 7.15e-10 ***\n",
        "---\n",
        "Signif. codes:  0 \u2018***\u2019 0.001 \u2018**\u2019 0.01 \u2018*\u2019 0.05 \u2018.\u2019 0.1 \u2018 \u2019 1 \n",
        "\n",
        "Residual standard error: 0.6736 on 95 degrees of freedom\n",
        "Multiple R-squared: 0.3309,\tAdjusted R-squared: 0.3239 \n",
        "F-statistic: 46.98 on 1 and 95 DF,  p-value: 7.147e-10 \n",
        "\n"
       ]
      }
     ],
     "prompt_number": 21
    },
    {
     "cell_type": "markdown",
     "metadata": {
      "slideshow": {
       "slide_type": "slide"
      }
     },
     "source": [
      "## Goodness of fit for multiple regression\n",
      "\n",
      "\n",
      "\n",
      "$$\\begin{aligned}\n",
      "   SSE &= \\sum_{i=1}^n(Y_i - \\widehat{Y}_i)^2 \\\\\n",
      "   SSR &= \\sum_{i=1}^n(\\overline{Y} - \\widehat{Y}_i)^2 \\\\\n",
      "   SST &= \\sum_{i=1}^n(Y_i - \\overline{Y})^2 \\\\\n",
      "   R^2 &= \\frac{SSR}{SST}\n",
      "   \\end{aligned}$$ \n",
      "   \n",
      "   $R^2$ is called the *multiple correlation\n",
      "coefficient* of the model, or the *coefficient of multiple\n",
      "determination*.\n"
     ]
    },
    {
     "cell_type": "markdown",
     "metadata": {
      "slideshow": {
       "slide_type": "slide"
      }
     },
     "source": [
      "The sums of squares and $R^2$ are defined analogously\n",
      "to those in simple linear regression.\n"
     ]
    },
    {
     "cell_type": "code",
     "collapsed": false,
     "input": [
      "%%R\n",
      "Y = prostate$lpsa\n",
      "n = length(Y)\n",
      "SST = sum((Y - mean(Y))^2)\n",
      "MST = SST / (n - 1)\n",
      "SSE = sum(resid(prostate.lm)^2)\n",
      "MSE = SSE / prostate.lm$df.residual\n",
      "SSR = SST - SSE\n",
      "MSR = SSR / (n - 1 - prostate.lm$df.residual)\n",
      "print(c(MST,MSE,MSR))"
     ],
     "language": "python",
     "metadata": {
      "slideshow": {
       "slide_type": "fragment"
      }
     },
     "outputs": [
      {
       "metadata": {},
       "output_type": "display_data",
       "text": [
        "[1]  1.3324756  0.4843546 12.1157287 25.0141716\n"
       ]
      }
     ],
     "prompt_number": 23
    },
    {
     "cell_type": "markdown",
     "metadata": {
      "slideshow": {
       "slide_type": "slide"
      }
     },
     "source": [
      "\n",
      "## Adjusted $R^2$\n",
      "\n",
      "-   As we add more and more variables to the model \u2013 even random ones,\n",
      "    $R^2$ will increase to 1.\n",
      "\n",
      "-   Adjusted $R^2$ tries to take this into account by replacing sums of\n",
      "    squares by *mean squares*\n",
      "    $$R^2_a = 1 - \\frac{SSE/(n-p-1)}{SST/(n-1)} = 1 - \\frac{MSE}{MST}.$$\n"
     ]
    },
    {
     "cell_type": "markdown",
     "metadata": {
      "slideshow": {
       "slide_type": "fragment"
      }
     },
     "source": [
      "\n",
      "## Goodness of fit test\n",
      "\n",
      "\n",
      "-   As in simple linear regression, we measure the goodness of fit of\n",
      "    the regression model by\n",
      "    $$F = \\frac{MSR}{MSE} = \\frac{\\|\\overline{Y}\\cdot {1} - \\widehat{{Y}}\\|^2/p}{\\\\\n",
      "|Y - \\widehat{{Y}}\\|^2/(n-p-1)}.$$\n",
      "\n",
      "-   Under $H_0:\\beta_1 = \\dots = \\beta_p=0$, $$F \\sim F_{p, n-p-1}$$ so\n",
      "    reject $H_0$ at level $\\alpha$ if $F > F_{p,n-p-1,1-\\alpha}.$\n"
     ]
    },
    {
     "cell_type": "code",
     "collapsed": false,
     "input": [
      "%%R\n",
      "print(summary(prostate.lm))\n",
      "F = MSR / MSE\n",
      "F\n"
     ],
     "language": "python",
     "metadata": {
      "slideshow": {
       "slide_type": "slide"
      }
     },
     "outputs": [
      {
       "metadata": {},
       "output_type": "display_data",
       "text": [
        "\n",
        "Call:\n",
        "lm(formula = lpsa ~ lcavol + lweight + age + lbph + svi + lcp + \n",
        "    pgg45, data = prostate)\n",
        "\n",
        "Residuals:\n",
        "     Min       1Q   Median       3Q      Max \n",
        "-1.76395 -0.35764 -0.02143  0.37762  1.58178 \n",
        "\n",
        "Coefficients:\n",
        "             Estimate Std. Error t value Pr(>|t|)    \n",
        "(Intercept)  0.494155   0.873567   0.566  0.57304    \n",
        "lcavol       0.569546   0.085847   6.634 2.46e-09 ***\n",
        "lweight      0.614420   0.198449   3.096  0.00262 ** \n",
        "age         -0.020913   0.010978  -1.905  0.06000 .  \n",
        "lbph         0.097353   0.057584   1.691  0.09441 .  \n",
        "svi          0.752397   0.238180   3.159  0.00216 ** \n",
        "lcp         -0.104959   0.089347  -1.175  0.24323    \n",
        "pgg45        0.005324   0.003385   1.573  0.11923    \n",
        "---\n",
        "Signif. codes:  0 \u2018***\u2019 0.001 \u2018**\u2019 0.01 \u2018*\u2019 0.05 \u2018.\u2019 0.1 \u2018 \u2019 1 \n",
        "\n",
        "Residual standard error: 0.696 on 89 degrees of freedom\n",
        "Multiple R-squared: 0.663,\tAdjusted R-squared: 0.6365 \n",
        "F-statistic: 25.01 on 7 and 89 DF,  p-value: < 2.2e-16 \n",
        "\n",
        "[1] 25.01417\n"
       ]
      }
     ],
     "prompt_number": 24
    },
    {
     "cell_type": "markdown",
     "metadata": {
      "slideshow": {
       "slide_type": "slide"
      }
     },
     "source": [
      "## Geometry of Least Squares\n",
      "\n",
      "<img src=\"figs/axes_multiple_full.svg\">"
     ]
    },
    {
     "cell_type": "markdown",
     "metadata": {
      "slideshow": {
       "slide_type": "slide"
      }
     },
     "source": [
      "## Geometry of Least Squares\n",
      "\n",
      "<img src=\"figs/axes_multiple_reduced.svg\">"
     ]
    },
    {
     "cell_type": "markdown",
     "metadata": {
      "slideshow": {
       "slide_type": "slide"
      }
     },
     "source": [
      "## Geometry of Least Squares\n",
      "\n",
      "<img src=\"figs/axes_multiple.svg\">\n"
     ]
    },
    {
     "cell_type": "markdown",
     "metadata": {
      "slideshow": {
       "slide_type": "slide"
      }
     },
     "source": [
      "## Intuition behind the $F$ test\n",
      "\n",
      "-   The $F$ statistic is a ratio of lengths of orthogonal vectors\n",
      "    (divided by degrees of freedom).\n",
      "\n",
      "-   We can prove that our model implies $$\\begin{aligned}\n",
      "       \\mathbb{E}\\left(MSR\\right) &= \\sigma^2 + \\underbrace{\\|{\\mu} - \\overline{\\mu} \\cdot {1}\\|^2 / p}_{(*)} \\\\\n",
      "       \\mathbb{E}\\left(MSE\\right) &= \\sigma^2 \\\\\n",
      "       \\mu_i &= \\mathbb{E}(Y_i) = \\beta_0 + X_{i1} \\beta_1  + \\dots +  X_{ip} \\beta_p\n",
      "       \\end{aligned}$$ so $F$ should be not be too far from 1.\n",
      "\n",
      "-   If $F$ is large, it is evidence that $\\mathbb{E}\\left(MSR\\right) \\neq \\sigma^2$, i.e. $H_0$ is\n",
      "    false.\n"
     ]
    },
    {
     "cell_type": "markdown",
     "metadata": {
      "slideshow": {
       "slide_type": "slide"
      }
     },
     "source": [
      "## $F$-test revisited\n",
      "\n",
      "\n",
      "-   *Full (bigger) model :*\n",
      "\n",
      "    $$Y_i = \\beta_0 + \\beta_1 X_{i1} + \\dots \\beta_p X_{ip} + \\varepsilon_i$$\n",
      "\n",
      "-   *Reduced (smaller) model:*\n",
      "\n",
      "    $$Y_i = \\beta_0  + \\varepsilon_i$$\n",
      "\n",
      "-   The $F$-statistic has the form\n",
      "    $$F=\\frac{(SSE(R) - SSE(F)) / (df_R - df_F)}{SSE(F) / df_F}.$$\n"
     ]
    },
    {
     "cell_type": "markdown",
     "metadata": {
      "slideshow": {
       "slide_type": "slide"
      }
     },
     "source": [
      "## Geometry of Least Squares\n",
      "\n",
      "<img src=\"figs/axes_general.svg\">\n"
     ]
    },
    {
     "cell_type": "markdown",
     "metadata": {
      "slideshow": {
       "slide_type": "slide"
      }
     },
     "source": [
      "## Matrix formulation\n",
      "\n",
      "\n",
      "$${ Y}_{n \\times 1} = {X}_{n \\times (p + 1)} {\\beta}_{(p+1) \\times 1} + {\\varepsilon}_{n \\times 1}$$\n",
      "\n",
      "-   ${X}$ is called the *design matrix* of the model\n",
      "\n",
      "-   ${\\varepsilon} \\sim N(0, \\sigma^2 I_{n \\times n})$ is\n",
      "    multivariate normal\n",
      "\n",
      "## $SSE$ in matrix form\n",
      "\n",
      "$$SSE(\\beta) = ({Y} - {X} {\\beta})'({Y} - {X} {\\beta}) = \\|Y-X\\beta\\|^2_2$$"
     ]
    },
    {
     "cell_type": "markdown",
     "metadata": {
      "slideshow": {
       "slide_type": "slide"
      }
     },
     "source": [
      "## Design matrix\n",
      "\n",
      "Design matrix\n",
      "\n",
      "-   The design matrix is the $n \\times (p+1)$ matrix with entries\n",
      "    $$\\pmb{X} =\n",
      "       \\begin{pmatrix}\n",
      "       1 & X_{11} & X_{12} & \\dots & X_{1,p} \\\\\n",
      "       \\vdots &   \\vdots & \\ddots & \\vdots \\\\\n",
      "       1 & X_{n1} & X_{n2} &\\dots & X_{n,p} \\\\\n",
      "       \\end{pmatrix}$$\n"
     ]
    },
    {
     "cell_type": "markdown",
     "metadata": {
      "slideshow": {
       "slide_type": "slide"
      }
     },
     "source": [
      "## Least squares solution\n",
      "\n",
      "\n",
      "-   Normal equations\n",
      "    $$\\frac{\\partial}{\\partial \\beta_j} SSE \\biggl|_{\\beta = \\widehat{\\beta}_{}} = -2 \\left({Y\\\n",
      "} - {X} \\widehat{\\beta}_{} \\right)^T {X}_j = 0, \\qquad 0 \\leq j \\leq p.$$\n",
      "\n",
      "-   Equivalent to $$\\begin{aligned}\n",
      "       ({Y} - {X}{\\widehat{\\beta}_{}})^T{X} &= 0 \\\\\n",
      "       {\\widehat{\\beta}} &= ({X}^T{X})^{-1}{X}^T{Y}\n",
      "       \\end{aligned}$$\n",
      "\n",
      "-   Properties: $$\\widehat{\\beta} \\sim N(\\beta, \\sigma^2 (X^TX)^{-1}).$$"
     ]
    },
    {
     "cell_type": "code",
     "collapsed": false,
     "input": [
      "%%R\n",
      "n = length(Y)\n",
      "attach(prostate)\n",
      "X = cbind(rep(1,n), lcavol, lweight, age, lbph, svi, lcp, pgg45)\n",
      "detach(prostate)\n",
      "colnames(X)[1] = '(Intercept)'\n",
      "head(X)\n"
     ],
     "language": "python",
     "metadata": {
      "slideshow": {
       "slide_type": "fragment"
      }
     },
     "outputs": [
      {
       "metadata": {},
       "output_type": "display_data",
       "text": [
        "The following object(s) are masked from 'prostate (position 3)':\n",
        "\n",
        "    age, gleason, lbph, lcavol, lcp, lpsa, lweight, pgg45, svi, train\n",
        "     (Intercept)     lcavol  lweight age      lbph svi       lcp pgg45\n",
        "[1,]           1 -0.5798185 2.769459  50 -1.386294   0 -1.386294     0\n",
        "[2,]           1 -0.9942523 3.319626  58 -1.386294   0 -1.386294     0\n",
        "[3,]           1 -0.5108256 2.691243  74 -1.386294   0 -1.386294    20\n",
        "[4,]           1 -1.2039728 3.282789  58 -1.386294   0 -1.386294     0\n",
        "[5,]           1  0.7514161 3.432373  62 -1.386294   0 -1.386294     0\n",
        "[6,]           1 -1.0498221 3.228826  50 -1.386294   0 -1.386294     0\n"
       ]
      }
     ],
     "prompt_number": 28
    },
    {
     "cell_type": "markdown",
     "metadata": {
      "slideshow": {
       "slide_type": "slide"
      }
     },
     "source": [
      "The matrix X is the same as formed by `R`"
     ]
    },
    {
     "cell_type": "code",
     "collapsed": false,
     "input": [
      "%%R\n",
      "head(model.matrix(prostate.lm))"
     ],
     "language": "python",
     "metadata": {
      "slideshow": {
       "slide_type": "fragment"
      }
     },
     "outputs": [
      {
       "metadata": {},
       "output_type": "display_data",
       "text": [
        "  (Intercept)     lcavol  lweight age      lbph svi       lcp pgg45\n",
        "1           1 -0.5798185 2.769459  50 -1.386294   0 -1.386294     0\n",
        "2           1 -0.9942523 3.319626  58 -1.386294   0 -1.386294     0\n",
        "3           1 -0.5108256 2.691243  74 -1.386294   0 -1.386294    20\n",
        "4           1 -1.2039728 3.282789  58 -1.386294   0 -1.386294     0\n",
        "5           1  0.7514161 3.432373  62 -1.386294   0 -1.386294     0\n",
        "6           1 -1.0498221 3.228826  50 -1.386294   0 -1.386294     0\n"
       ]
      }
     ],
     "prompt_number": 25
    },
    {
     "cell_type": "markdown",
     "metadata": {
      "slideshow": {
       "slide_type": "slide"
      }
     },
     "source": [
      "## Least squares solution\n",
      "\n",
      "Let's verify our equations for $\\hat{\\beta}$.\n"
     ]
    },
    {
     "cell_type": "code",
     "collapsed": false,
     "input": [
      "%%R\n",
      "beta = solve(t(X) %*% X) %*% t(X) %*% Y\n",
      "print(beta)\n",
      "print(coef(prostate.lm))"
     ],
     "language": "python",
     "metadata": {
      "slideshow": {
       "slide_type": "fragment"
      }
     },
     "outputs": [
      {
       "metadata": {},
       "output_type": "display_data",
       "text": [
        "                    [,1]\n",
        "(Intercept)  0.494154754\n",
        "lcavol       0.569546032\n",
        "lweight      0.614419817\n",
        "age         -0.020913467\n",
        "lbph         0.097352535\n",
        "svi          0.752397342\n",
        "lcp         -0.104959408\n",
        "pgg45        0.005324465\n",
        " (Intercept)       lcavol      lweight          age         lbph          svi \n",
        " 0.494154754  0.569546032  0.614419817 -0.020913467  0.097352535  0.752397342 \n",
        "         lcp        pgg45 \n",
        "-0.104959408  0.005324465 \n"
       ]
      }
     ],
     "prompt_number": 30
    },
    {
     "cell_type": "heading",
     "level": 1,
     "metadata": {
      "slideshow": {
       "slide_type": "slide"
      }
     },
     "source": [
      "# Inference for multiple regression"
     ]
    },
    {
     "cell_type": "markdown",
     "metadata": {
      "slideshow": {
       "slide_type": "fragment"
      }
     },
     "source": [
      "## Regression function at one point\n",
      "\n",
      "-   One thing one might want to *learn* about the regression function in\n",
      "    the supervisor example is something about the regression function at\n",
      "    some fixed values of ${X}_{1}, \\dots, {X}_{6}$, i.e. what\n",
      "    can be said about\n",
      "\n",
      "    $$\n",
      "       \\beta_0 + 65 \\cdot \\beta_1  + 50 \\cdot \\beta_2  + 55 \\cdot \\beta_3 + 64 \\cdot \\beta_4 + 75 \\cdot \\beta_5 + 40 \\cdot \\beta_6   \\tag{*}$$\n",
      "\n",
      "    roughly the regression function at \u201ctypical\u201d values of the\n",
      "    predictors.\n",
      "\n",
      "-   The expression is equivalent to\n",
      "    $$\\sum_{j=0}^6 a_j \\beta_j, \\qquad a=(1,65,50,55,64,75,40).$$"
     ]
    },
    {
     "cell_type": "markdown",
     "metadata": {
      "slideshow": {
       "slide_type": "slide"
      }
     },
     "source": [
      "## Confidence interval for $\\sum_{j=0}^p a_j \\beta_j$\n",
      "\n",
      "-   Suppose we want a $(1-\\alpha)\\cdot 100\\%$ CI for\n",
      "    $\\sum_{j=0}^p a_j\\beta_j$.\n",
      "\n",
      "-   Just as in simple linear regression:\n",
      "\n",
      "    $$\\sum_{j=0}^p a_j \\widehat{\\beta}_j \\pm t_{1-\\alpha/2, n-p-1} \\cdot SE\\left(\\sum_{j=0}^p a_j\\widehat{\\beta}_j\\right).$$"
     ]
    },
    {
     "cell_type": "markdown",
     "metadata": {
      "slideshow": {
       "slide_type": "fragment"
      }
     },
     "source": [
      "`R` will form these coefficients for each coefficient separately when using the `confint` function. These linear combinations are of the form\n",
      "$$\n",
      "a_{\\tt lcavol} = (0,1,0,0,0,0,0,0)\n",
      "$$\n",
      "so that\n",
      "$$\n",
      "a_{\\tt lcavol}^T\\widehat{\\beta} = \\widehat{\\beta}_1 = {\\tt coef(prostate.lm)[2]}\n",
      "$$"
     ]
    },
    {
     "cell_type": "code",
     "collapsed": false,
     "input": [
      "%%R\n",
      "confint(prostate.lm, level=0.90)"
     ],
     "language": "python",
     "metadata": {
      "slideshow": {
       "slide_type": "slide"
      }
     },
     "outputs": [
      {
       "metadata": {},
       "output_type": "display_data",
       "text": [
        "                      5 %         95 %\n",
        "(Intercept) -0.9578488958  1.946158404\n",
        "lcavol       0.4268548240  0.712237239\n",
        "lweight      0.2845659251  0.944273708\n",
        "age         -0.0391601782 -0.002666755\n",
        "lbph         0.0016386253  0.193066445\n",
        "svi          0.3565053323  1.148289353\n",
        "lcp         -0.2534678904  0.043549074\n",
        "pgg45       -0.0003011464  0.010950077\n"
       ]
      }
     ],
     "prompt_number": 32
    },
    {
     "cell_type": "markdown",
     "metadata": {
      "slideshow": {
       "slide_type": "slide"
      }
     },
     "source": [
      "\n",
      "## $T$-statistics revisited\n",
      "\n",
      "-   Suppose we want to test $$H_0:\\sum_{j=0}^p a_j\\beta_j= h.$$ As in\n",
      "    simple linear regression, it is based on\n",
      "    $$T = \\frac{\\sum_{j=0}^p a_j \\widehat{\\beta}_j - h}{SE(\\sum_{j=0}^p a_j \\widehat{\\beta\\\n",
      "}_j)}.$$\n",
      "\n",
      "-   If $H_0$ is true, then $T \\sim t_{n-p-1}$, so we reject $H_0$ at\n",
      "    level $\\alpha$ if $$\\begin{aligned}\n",
      "       |T| &\\geq t_{1-\\alpha/2,n-p-1}, \\qquad \\text{ OR} \\\\\n",
      "       p-\\text{value} &= {\\tt 2*(1-pt(|T|, n-p-1))} \\leq \\alpha.\n",
      "       \\end{aligned}$$\n"
     ]
    },
    {
     "cell_type": "markdown",
     "metadata": {
      "slideshow": {
       "slide_type": "fragment"
      }
     },
     "source": [
      "`R` produces these in the `coef` table `summary` of the linear regression model. Again, each of these \n",
      "linear combinations is a vector $a$ with only one non-zero entry like $a_{\\tt lcavol}$ above."
     ]
    },
    {
     "cell_type": "code",
     "collapsed": false,
     "input": [
      "%%R \n",
      "summary(prostate.lm)$coef"
     ],
     "language": "python",
     "metadata": {
      "slideshow": {
       "slide_type": "fragment"
      }
     },
     "outputs": [
      {
       "metadata": {},
       "output_type": "display_data",
       "text": [
        "                Estimate  Std. Error    t value     Pr(>|t|)\n",
        "(Intercept)  0.494154754 0.873566764  0.5656749 5.730382e-01\n",
        "lcavol       0.569546032 0.085847096  6.6344240 2.461450e-09\n",
        "lweight      0.614419817 0.198449499  3.0961016 2.622121e-03\n",
        "age         -0.020913467 0.010977742 -1.9050792 5.999883e-02\n",
        "lbph         0.097352535 0.057584215  1.6906115 9.441057e-02\n",
        "svi          0.752397342 0.238179913  3.1589454 2.163265e-03\n",
        "lcp         -0.104959408 0.089346934 -1.1747399 2.432323e-01\n",
        "pgg45        0.005324465 0.003384528  1.5731780 1.192260e-01\n"
       ]
      }
     ],
     "prompt_number": 34
    },
    {
     "cell_type": "markdown",
     "metadata": {
      "slideshow": {
       "slide_type": "slide"
      }
     },
     "source": [
      "## One-sided tests\n",
      "\n",
      "-   Suppose, instead, we wanted to test the one-sided hypothesis\n",
      "    $$H_0:\\sum_{j=0}^p a_j\\beta_j \\leq  h, \\  \\text{vs.} \\ H_a: \\sum_{j=0}^p a_j\\beta_j > \\\n",
      " h$$\n",
      "\n",
      "-   If $H_0$ is true, then $T$ is no longer exactly $t_{n-p-1}$ but\n",
      "    $$\\mathbb{P}\\left(T > t_{1-\\alpha, n-p-1}\\right) \\leq 1 - \\alpha$$\n",
      "    so we reject $H_0$ at level $\\alpha$ if $$\\begin{aligned}\n",
      "       T &\\geq t_{1-\\alpha,n-p-1}, \\qquad \\text{ OR} \\\\\n",
      "       p-\\text{value} &= {\\tt (1-pt(T, n-p-1))} \\leq \\alpha.\n",
      "       \\end{aligned}$$"
     ]
    },
    {
     "cell_type": "markdown",
     "metadata": {
      "slideshow": {
       "slide_type": "slide"
      }
     },
     "source": [
      "## Standard error of $\\sum_{j=0}^p a_j \\widehat{\\beta}_j$\n",
      "\n",
      "- In order to form these $T$ statistics, we need the $SE$ of our estimate $\\sum_{j=0}^p a_j \\widehat{\\beta}_j$.\n",
      "\n",
      "-   Based on matrix approach to regression\n",
      "    $$SE\\left(\\sum_{j=0}^p a_j\\widehat{\\beta}_j \\right) = \\sqrt{\\widehat{\\sigma}^2 a (X^TX\\\n",
      ")^{-1} a^T}.$$\n",
      "\n",
      "-   Don\u2019t worry too much about specific implementation \u2013 for much of the effects\n",
      "    we want `R` will do this for you in\n",
      "    general.\n"
     ]
    },
    {
     "cell_type": "code",
     "collapsed": false,
     "input": [
      "%%R\n",
      "Y.hat = X %*% beta\n",
      "sigma.hat = sqrt(sum((Y - Y.hat)^2) / (n - ncol(X)))\n",
      "cov.beta = sigma.hat^2 * solve(t(X) %*% X)\n",
      "cov.beta"
     ],
     "language": "python",
     "metadata": {
      "slideshow": {
       "slide_type": "fragment"
      }
     },
     "outputs": [
      {
       "metadata": {},
       "output_type": "display_data",
       "text": [
        "             (Intercept)        lcavol       lweight           age\n",
        "(Intercept)  0.763118892  0.0099681848 -0.1127144885 -5.757711e-03\n",
        "lcavol       0.009968185  0.0073697239 -0.0032679207 -1.303787e-04\n",
        "lweight     -0.112714488 -0.0032679207  0.0393822036 -4.088331e-04\n",
        "age         -0.005757711 -0.0001303787 -0.0004088331  1.205108e-04\n",
        "lbph         0.024821341  0.0003981644 -0.0045409163 -1.471652e-04\n",
        "svi          0.010342177 -0.0026431642 -0.0041050647 -7.340636e-05\n",
        "                     lbph           svi           lcp         pgg45\n",
        "(Intercept)  0.0248213405  1.034218e-02  2.077485e-03  3.347700e-05\n",
        "lcavol       0.0003981644 -2.643164e-03 -3.502258e-03  7.077893e-06\n",
        "lweight     -0.0045409163 -4.105065e-03  6.198759e-05  6.876251e-05\n",
        "age         -0.0001471652 -7.340636e-05  1.429198e-04 -9.141775e-06\n",
        "lbph         0.0033159418  2.136331e-03 -1.416010e-04 -1.238514e-05\n",
        "svi          0.0021363312  5.672967e-02 -8.863127e-03 -5.227255e-05\n"
       ]
      }
     ],
     "prompt_number": 39
    },
    {
     "cell_type": "markdown",
     "metadata": {
      "slideshow": {
       "slide_type": "slide"
      }
     },
     "source": [
      "The standard errors of each coefficient estimate are the square root of the diagonal entries. They appear as the\n",
      "`Std. Error` column in the `coef` table."
     ]
    },
    {
     "cell_type": "code",
     "collapsed": false,
     "input": [
      "%%R\n",
      "sqrt(diag(cov.beta))"
     ],
     "language": "python",
     "metadata": {
      "slideshow": {
       "slide_type": "fragment"
      }
     },
     "outputs": [
      {
       "metadata": {},
       "output_type": "display_data",
       "text": [
        "(Intercept)      lcavol     lweight         age        lbph         svi \n",
        "0.873566764 0.085847096 0.198449499 0.010977742 0.057584215 0.238179913 \n",
        "        lcp       pgg45 \n",
        "0.089346934 0.003384528 \n"
       ]
      }
     ],
     "prompt_number": 36
    },
    {
     "cell_type": "markdown",
     "metadata": {
      "slideshow": {
       "slide_type": "slide"
      }
     },
     "source": [
      "Generally, we can find our estimate of the covariance function as follows:"
     ]
    },
    {
     "cell_type": "code",
     "collapsed": false,
     "input": [
      "%%R\n",
      "vcov(prostate.lm)"
     ],
     "language": "python",
     "metadata": {
      "slideshow": {
       "slide_type": "fragment"
      }
     },
     "outputs": [
      {
       "metadata": {},
       "output_type": "display_data",
       "text": [
        "             (Intercept)        lcavol       lweight           age\n",
        "(Intercept)  0.763118892  9.968185e-03 -1.127145e-01 -5.757711e-03\n",
        "lcavol       0.009968185  7.369724e-03 -3.267921e-03 -1.303787e-04\n",
        "lweight     -0.112714488 -3.267921e-03  3.938220e-02 -4.088331e-04\n",
        "age         -0.005757711 -1.303787e-04 -4.088331e-04  1.205108e-04\n",
        "lbph         0.024821341  3.981644e-04 -4.540916e-03 -1.471652e-04\n",
        "svi          0.010342177 -2.643164e-03 -4.105065e-03 -7.340636e-05\n",
        "lcp          0.002077485 -3.502258e-03  6.198759e-05  1.429198e-04\n",
        "pgg45        0.000033477  7.077893e-06  6.876251e-05 -9.141775e-06\n",
        "                     lbph           svi           lcp         pgg45\n",
        "(Intercept)  2.482134e-02  1.034218e-02  2.077485e-03  3.347700e-05\n",
        "lcavol       3.981644e-04 -2.643164e-03 -3.502258e-03  7.077893e-06\n",
        "lweight     -4.540916e-03 -4.105065e-03  6.198759e-05  6.876251e-05\n",
        "age         -1.471652e-04 -7.340636e-05  1.429198e-04 -9.141775e-06\n",
        "lbph         3.315942e-03  2.136331e-03 -1.416010e-04 -1.238514e-05\n",
        "svi          2.136331e-03  5.672967e-02 -8.863127e-03 -5.227255e-05\n",
        "lcp         -1.416010e-04 -8.863127e-03  7.982875e-03 -1.368737e-04\n",
        "pgg45       -1.238514e-05 -5.227255e-05 -1.368737e-04  1.145503e-05\n"
       ]
      }
     ],
     "prompt_number": 38
    },
    {
     "cell_type": "markdown",
     "metadata": {
      "slideshow": {
       "slide_type": "slide"
      }
     },
     "source": [
      "## Prediction interval\n",
      "\n",
      "-   Basically identical to simple linear regression.\n",
      "\n",
      "-   Prediction interval at $X_{1,new}, \\dots, X_{p,new}$:\n",
      "    $$\\begin{aligned}\n",
      "       \\widehat{\\beta}_0 + \\sum_{j=1}^p X_{j,new} \\widehat{\\beta}_j\\pm t_{1-\\alpha/2, n-p-1} \\times \\ \\sqrt{\\widehat{\\sigma}^2 + SE\\left(\\widehat{\\beta}_0 + \\sum_{j=1}^p X_{j,new}\\widehat{\\beta}_j\\right)^2}.\n",
      "       \\end{aligned}$$\n"
     ]
    },
    {
     "cell_type": "markdown",
     "metadata": {
      "slideshow": {
       "slide_type": "slide"
      }
     },
     "source": [
      "## Forming intervals by hand\n",
      "\n",
      "While `R` computes most of the intervals we need,\n",
      "we could write a function that\n",
      "explicitly computes a confidence interval\n",
      "(and can be used for predicition intervals \n",
      "with the \"extra\" argument).\n",
      "\n",
      "This exercise shows the calculations that R \n",
      "is doing under the hood: the function *predict*\n",
      "is generally going to be fine for our\n",
      "purposes."
     ]
    },
    {
     "cell_type": "code",
     "collapsed": false,
     "input": [
      "%%R\n",
      "CI.lm = function(cur.lm, a, level=0.95, extra=0) {\n",
      "\n",
      "     # the center of the confidence interval\n",
      "     center = sum(a*cur.lm$coef)\n",
      "\n",
      "     # the estimate of sigma^2\n",
      "     sigma.sq = sum(resid(cur.lm)^2) / cur.lm$df.resid\n",
      "\n",
      "     # the standard error of sum(a*cur.lm$coef)\n",
      "     se = sqrt(extra * sigma.sq + sum((a %*% vcov(cur.lm)) * a))\n",
      "\n",
      "     # the degrees of freedom for the t-statistic\n",
      "     df = cur.lm$df\n",
      "     \n",
      "     # the quantile used in the confidence interval\n",
      "\n",
      "     q = qt((1 - level)/2, df, lower.tail=FALSE)\n",
      "\n",
      "     # upper, lower limits\n",
      "     upr = center + se * q\n",
      "     lwr = center - se * q\n",
      "     return(data.frame(center, lwr, upr))\n",
      "}"
     ],
     "language": "python",
     "metadata": {
      "slideshow": {
       "slide_type": "slide"
      }
     },
     "outputs": [],
     "prompt_number": 53
    },
    {
     "cell_type": "code",
     "collapsed": false,
     "input": [
      "%%R\n",
      "print(CI.lm(prostate.lm, c(1, 1.3, 3.6, 64, 0.1, 0.2, -0.2, 24.3)))\n",
      "predict(prostate.lm,list(lcavol=1.3,lweight=3.6,age=64,lbph=0.1,svi=0.2,lcp=-0.2,pgg45=24.3), interval='confidence')"
     ],
     "language": "python",
     "metadata": {
      "slideshow": {
       "slide_type": "fragment"
      }
     },
     "outputs": [
      {
       "metadata": {},
       "output_type": "display_data",
       "text": [
        "    center      lwr      upr\n",
        "1 2.418605 2.277553 2.559657\n",
        "       fit      lwr      upr\n",
        "1 2.418605 2.277553 2.559657\n"
       ]
      }
     ],
     "prompt_number": 54
    },
    {
     "cell_type": "markdown",
     "metadata": {
      "slideshow": {
       "slide_type": "slide"
      }
     },
     "source": [
      "### Prediction intervals\n",
      "\n",
      "By using the *extra* argument, we can make\n",
      "prediction intervals."
     ]
    },
    {
     "cell_type": "code",
     "collapsed": false,
     "input": [
      "%%R\n",
      "print(CI.lm(prostate.lm, c(1, 1.3, 3.6, 64, 0.1, 0.2, -0.2, 24.3), extra=1))\n",
      "predict(prostate.lm,list(lcavol=1.3,lweight=3.6,age=64,lbph=0.1,svi=0.2,lcp=-0.2,pgg45=24.3), interval='prediction')\n"
     ],
     "language": "python",
     "metadata": {
      "slideshow": {
       "slide_type": "fragment"
      }
     },
     "outputs": [
      {
       "metadata": {},
       "output_type": "display_data",
       "text": [
        "    center      lwr     upr\n",
        "1 2.418605 1.028581 3.80863\n",
        "       fit      lwr     upr\n",
        "1 2.418605 1.028581 3.80863\n"
       ]
      }
     ],
     "prompt_number": 56
    },
    {
     "cell_type": "markdown",
     "metadata": {
      "slideshow": {
       "slide_type": "slide"
      }
     },
     "source": [
      "## Arbitrary contrasts\n",
      "\n",
      "If we want, we can set the intercept term to 0. This allows us to construct confidence interval for, say, how much the `lpsa` score will change will increase if we change `age` by 3 years and `svi` by 0.5 units, leaving everything else unchanged. \n",
      "\n",
      "Therefore, what we want is a confidence interval for 2 times the coefficient of `age` + 0.5 times the coefficient of `lbph`:\n",
      "$$\n",
      "2 \\cdot \\beta_{\\tt age} + 0.5  \\cdot \\beta_{\\tt svi}\n",
      "$$\n",
      "\n",
      "Most of the time, *predict* will do what you want so this \n",
      "won't be used too often.\n"
     ]
    },
    {
     "cell_type": "code",
     "collapsed": false,
     "input": [
      "%%R\n",
      "CI.lm(prostate.lm, c(0,0,0,2,0,0.5,0,0))"
     ],
     "language": "python",
     "metadata": {
      "slideshow": {
       "slide_type": "fragment"
      }
     },
     "outputs": [
      {
       "metadata": {},
       "output_type": "display_data",
       "text": [
        "     center        lwr       upr\n",
        "1 0.3343717 0.09496226 0.5737812\n"
       ]
      }
     ],
     "prompt_number": 59
    },
    {
     "cell_type": "markdown",
     "metadata": {
      "slideshow": {
       "slide_type": "slide"
      }
     },
     "source": [
      "## Questions about many (combinations) of $\\beta_j$\u2019s\n",
      "\n",
      "-   In multiple regression we can ask more complicated questions than in\n",
      "    simple regression.\n",
      "\n",
      "-   For instance, we could ask whether `lcp` and `pgg45` \n",
      "explains little of the variability in the data, and might be dropped\n",
      "from the regression model.\n",
      "\n",
      "-   These questions can be answered answered by $F$-statistics.\n",
      "\n",
      "- **Note:** This hypothesis should really be formed *before* looking at the output of\n",
      "`summary`.\n"
     ]
    },
    {
     "cell_type": "markdown",
     "metadata": {
      "slideshow": {
       "slide_type": "slide"
      }
     },
     "source": [
      "## Dropping one or more variables\n",
      "\n",
      "-   Suppose we wanted to test the above hypothesis\n",
      "    Formally, the null hypothesis is: $$ H_0: \\beta_{\\tt lcp}=\\beta_{\\tt pgg45}=0$$\n",
      "    and the alternative is\n",
      "    $$\n",
      "    H_a = \\text{one of $ \\beta_{\\tt lcp},\\beta_{\\tt pgg45}$ is not 0}. \n",
      "    $$\n",
      "\n",
      "-   This test is an $F$-test based on two models $$\\begin{aligned}\n",
      "       R: Y_i &= \\beta_0 + \\beta_{j=1}^7 X_{ij} \\beta_j + \\varepsilon_i \\\\\n",
      "       F: Y_i &= \\beta_0 + \\sum_{j=1}^5 \\beta_j X_{ij} + \\varepsilon_i \\\\\n",
      "       \\end{aligned}$$\n",
      "\n",
      "-   **Note:**\n",
      "\n",
      "    The reduced model $R$ must be a special case of the full model $F$\n",
      "    to use the $F$-test."
     ]
    },
    {
     "cell_type": "markdown",
     "metadata": {
      "slideshow": {
       "slide_type": "slide"
      }
     },
     "source": [
      "## Geometry of Least Squares\n",
      "\n",
      "<img src=\"figs/axes_general.svg\">\n"
     ]
    },
    {
     "cell_type": "markdown",
     "metadata": {
      "slideshow": {
       "slide_type": "slide"
      }
     },
     "source": [
      "## $SSE$ of a model\n",
      "\n",
      "-   In the graphic, a \u201cmodel\u201d, ${\\cal M}$ is a subspace of\n",
      "    $\\mathbb{R}^n$ = column space of $\\pmb{X}$.\n",
      "\n",
      "-   Least squares fit = projection onto the subspace of ${\\cal M}$,\n",
      "    yielding predicted values $\\widehat{Y}_{{\\cal M}}$\n",
      "\n",
      "-   Error sum of squares:\n",
      "    $$SSE({\\cal M}) = \\|Y - \\widehat{Y}_{{\\cal M}}\\|^2.$$\n"
     ]
    },
    {
     "cell_type": "markdown",
     "metadata": {
      "slideshow": {
       "slide_type": "fragment"
      }
     },
     "source": [
      "\n",
      "## $F$-statistic for $H_0:\\beta_2=\\beta_3=0$\n",
      "\n",
      "-   We compute the $F$ statistic the same to compare any models\n",
      "     $$\\begin{aligned}\n",
      "       F &=\\frac{\\frac{SSE(R) - SSE(F)}{2}}{\\frac{SSE(F)}{n-1-p}} \\\\\n",
      "       & \\sim F_{2, n-p-1}       \\qquad   (\\text{if $H_0$ is true})\n",
      "       \\end{aligned}$$\n",
      "\n",
      "-   Reject $H_0$ at level $\\alpha$ if $F > F_{1-\\alpha, 2, n-1-p}$.\n"
     ]
    },
    {
     "cell_type": "markdown",
     "metadata": {
      "slideshow": {
       "slide_type": "slide"
      }
     },
     "source": [
      "When comparing two models, one a special case of the other (i.e. \n",
      "one nested in the other), we can test if the smaller\n",
      "model (the special case) is roughly as good as the \n",
      "larger model in describing our outcome. This is typically\n",
      "tested using an *F* test based on comparing\n",
      "the two models. The following function does this.\n",
      " \n",
      " "
     ]
    },
    {
     "cell_type": "code",
     "collapsed": false,
     "input": [
      "%%R\n",
      "f.test.lm = function(R.lm, F.lm) {\n",
      "    SSE.R = sum(resid(R.lm)^2)\n",
      "    SSE.F = sum(resid(F.lm)^2)\n",
      "    df.num = R.lm$df - F.lm$df\n",
      "    df.den = F.lm$df\n",
      "    F = ((SSE.R - SSE.F) / df.num) / (SSE.F / df.den)\n",
      "    p.value = 1 - pf(F, df.num, df.den)\n",
      "    return(data.frame(F, df.num, df.den, p.value))\n",
      "}"
     ],
     "language": "python",
     "metadata": {
      "slideshow": {
       "slide_type": "fragment"
      }
     },
     "outputs": [],
     "prompt_number": 63
    },
    {
     "cell_type": "markdown",
     "metadata": {
      "slideshow": {
       "slide_type": "slide"
      }
     },
     "source": [
      "`R` has a function that does essentially the same thing as `f.test.lm`: the function is \n",
      "`anova`. It can be used several ways, but it can be used to compare two models."
     ]
    },
    {
     "cell_type": "code",
     "collapsed": false,
     "input": [
      "%%R\n",
      "reduced.lm = lm(lpsa ~ lcavol + lweight + age + lbph + svi, data=prostate)\n",
      "print(f.test.lm(reduced.lm, prostate.lm))\n",
      "anova(reduced.lm, prostate.lm)"
     ],
     "language": "python",
     "metadata": {
      "slideshow": {
       "slide_type": "fragment"
      }
     },
     "outputs": [
      {
       "metadata": {},
       "output_type": "display_data",
       "text": [
        "         F df.num df.den   p.value\n",
        "1 1.372057      2     89 0.2588958\n",
        "Analysis of Variance Table\n",
        "\n",
        "Model 1: lpsa ~ lcavol + lweight + age + lbph + svi\n",
        "Model 2: lpsa ~ lcavol + lweight + age + lbph + svi + lcp + pgg45\n",
        "  Res.Df    RSS Df Sum of Sq      F Pr(>F)\n",
        "1     91 44.437                           \n",
        "2     89 43.108  2    1.3291 1.3721 0.2589\n"
       ]
      }
     ],
     "prompt_number": 65
    },
    {
     "cell_type": "markdown",
     "metadata": {
      "slideshow": {
       "slide_type": "slide"
      }
     },
     "source": [
      "## Dropping an arbitrary subset\n",
      "\n",
      "- For an arbitrary model, suppose we want to test\n",
      "   $$    \\begin{aligned}\n",
      "   H_0:&\\beta_{i_1}=\\dots=\\beta_{i_j}=0 \\\\\n",
      "   H_a:& \\text{one of $\\beta_{i_1}, \\dots \\beta_{i_j} \\neq 0$}\n",
      "   \\end{aligned}\n",
      "   $$\n",
      "   for some subset $\\{i_1, \\dots, i_j\\} \\subset \\{0, \\dots, p\\}$.\n",
      "   \n",
      "-   You guessed it: it is based on the two models: $$\\begin{aligned}\n",
      "       R: Y_i &= \\sum_{l=0, l \\not \\in \\{i_1, \\dots, i_j\\}}^p \\beta_j X_{il} + \\varepsilon_i \\\\\n",
      "       F: Y_i &=  \\sum_{j=0}^p \\beta_j X_{il} + \\varepsilon_i \\\\\n",
      "       \\end{aligned}$$ where $X_{i0}=1$ for all $i$.\n"
     ]
    },
    {
     "cell_type": "markdown",
     "metadata": {
      "slideshow": {
       "slide_type": "fragment"
      }
     },
     "source": [
      " - $$\n",
      "   \\begin{aligned}\n",
      "   F &=\\frac{\\frac{SSE(R) - SSE(F)}{j}}{\\frac{SSE(F)}{n-p-1}} \\\\\n",
      "   & \\sim F_{j, n-p-1}     \\qquad    (\\text{if $H_0$ is true})\n",
      "   \\end{aligned}\n",
      "   $$\n",
      "   \n",
      " - Reject $H_0$ at level $\\alpha$ if $F > F_{1-\\alpha, j, n-1-p}$.\n",
      "\n"
     ]
    },
    {
     "cell_type": "markdown",
     "metadata": {
      "slideshow": {
       "slide_type": "slide"
      }
     },
     "source": [
      "## Geometry of Least Squares\n",
      "\n",
      "<img src=\"figs/axes_general_full.svg\">\n"
     ]
    },
    {
     "cell_type": "markdown",
     "metadata": {
      "slideshow": {
       "slide_type": "slide"
      }
     },
     "source": [
      "## Geometry of Least Squares\n",
      "\n",
      "<img src=\"figs/axes_general_reduced.svg\">\n"
     ]
    },
    {
     "cell_type": "markdown",
     "metadata": {
      "slideshow": {
       "slide_type": "slide"
      }
     },
     "source": [
      "## Geometry of Least Squares\n",
      "\n",
      "<img src=\"figs/axes_general.svg\">\n"
     ]
    },
    {
     "cell_type": "markdown",
     "metadata": {
      "slideshow": {
       "slide_type": "slide"
      }
     },
     "source": [
      "## General $F$-tests\n",
      "\n",
      "-   Given two models $R \\subset F$ (i.e. $R$ is a subspace of $F$), we\n",
      "    can consider testing $$ H~0: H_0: \\text{$R$ is adequate (i.e. $\\mathbb{E}(Y) \\in R$)} $$ vs. $$ H_a: \\text{$F$ is adequate (i.e. $\\mathbb{E}(Y) \\in F$)}\n",
      "    $$\n",
      "    \n",
      "    - The test statistic is $$ F = F = \\frac{(SSE(R) - SSE(F)) / (df_R - df_F)}{SSE(F)/df_F} $$\n",
      "\n",
      "-   If $H_0$ is true, $F \\sim F_{df_R-df_F, df_F}$ so we reject $H_0$ at\n",
      "    level $\\alpha$ if $F > F_{df_R-df_F, df_F, 1-\\alpha}$.\n"
     ]
    },
    {
     "cell_type": "markdown",
     "metadata": {},
     "source": [
      "## Constraining $\\beta_1=\\beta_3$ (after deciding $\\beta_2=\\beta_4=\\beta_5=\\beta_6=0$)"
     ]
    },
    {
     "cell_type": "markdown",
     "metadata": {},
     "source": [
      "In this example, we might suppose that the\n",
      "coefficients for *X1* and *X3* are the same\n",
      "and want to test this. We do this, again, by\n",
      "comparing a \"full model\" and a \"reduced model\".\n",
      "\n",
      "For simplicity, we will just consider a model with only variables \n",
      "*X1* and *X3* and test whether the coefficients of *X1* and *X3* are equal.\n"
     ]
    },
    {
     "cell_type": "markdown",
     "metadata": {},
     "source": [
      "-   Full model:\n",
      "    $$Y_i = \\beta_0 + \\beta_1 X_{i1}  + \\beta_3 X_{i3} + \\varepsilon_i$$\n",
      "\n",
      "-   Reduced model: $$\\begin{aligned}\n",
      "       Y_i &= \\beta_0 + \\tilde{\\beta}_1 X_{i1}  + \\tilde{\\beta}_1 X_{i3} + \\varepsilon_i \\\\\n",
      "       &= \\beta_0 + \\tilde{\\beta}_1 (X_{i1}  + X_{i3}) + \\varepsilon_i \\\\\n",
      "       \\end{aligned}$$"
     ]
    },
    {
     "cell_type": "code",
     "collapsed": false,
     "input": [
      "%%knitr\n",
      "reduced.lm = lm(Y~X1+X3)\n",
      "Z = X1 + X3\n",
      "equal.lm = lm(Y ~ Z)\n",
      "anova(equal.lm, reduced.lm)"
     ],
     "language": "python",
     "metadata": {},
     "outputs": [
      {
       "metadata": {},
       "output_type": "display_data",
       "text": [
        "    reduced.lm = lm(Y ~ X1 + X3)\n",
        "    Z = X1 + X3\n",
        "    equal.lm = lm(Y ~ Z)\n",
        "    anova(equal.lm, reduced.lm)\n",
        "\u0000"
       ]
      },
      {
       "metadata": {},
       "output_type": "display_data",
       "text": [
        "    ## Analysis of Variance Table\n",
        "    ## \n",
        "    ## Model 1: Y ~ Z\n",
        "    ## Model 2: Y ~ X1 + X3\n",
        "    ##   Res.Df  RSS Df Sum of Sq    F Pr(>F)  \n",
        "    ## 1     28 1425                           \n",
        "    ## 2     27 1255  1       170 3.66  0.066 .\n",
        "    ## ---\n",
        "    ## Signif. codes:  0 '***' 0.001 '**' 0.01 '*' 0.05 '.' 0.1 ' ' 1\n",
        "\u0000"
       ]
      }
     ],
     "prompt_number": 28
    },
    {
     "cell_type": "markdown",
     "metadata": {},
     "source": [
      "## Constraining $\\beta_1+\\beta_3=1$ (after deciding $\\beta_2=\\beta_4=\\beta_5=\\beta_6=0$)\n",
      "\n",
      "-   Full model:\n",
      "    $$Y_i = \\beta_0 + \\beta_1 X_{i1}  + \\beta_3 X_{i3} + \\varepsilon_i$$\n",
      "\n",
      "-   Reduced model: $$\\begin{aligned}\n",
      "       Y_i &= \\beta_0 + \\tilde{\\beta}_1 X_{i1}  + (1 - \\tilde{\\beta}_1) X_{i3} + \\varepsilon_i \\\\\n",
      "       Y_i - X_{i3} &= \\beta_0 + \\tilde{\\beta}_1 (X_{i1}  - X_{i3}) + \\varepsilon_i \\\\\n",
      "       \\end{aligned}$$\n"
     ]
    },
    {
     "cell_type": "markdown",
     "metadata": {},
     "source": [
      "### Back to interpretation of $\\beta_j$\u2019s\n",
      "\n",
      "-   Earlier, we said that $\\beta_1$ is the effect for \u201cHandles\n",
      "    complaints\u201d controlling for the other variables.\n",
      "\n",
      "-   Why? Let\u2019s look at the $T$ for testing $H_0:\\beta_1=0$:\n",
      "    $$T = \\frac{\\widehat{\\beta}_1}{SE(\\widehat{\\beta}_1)}$$\n",
      "\n",
      "-   Under $H_0:\\beta_1=0$, $T^2 \\sim F_{1, n-p-1}$ and $F$ tests are\n",
      "    \u201calways\u201d a comparison of two models.\n",
      "\n",
      "-   The full model has all variables while the reduced model has\n",
      "    $\\beta_1=0$. Hence, both model include or *control for* the other\n",
      "    variables.\n"
     ]
    },
    {
     "cell_type": "code",
     "collapsed": false,
     "input": [
      "%%knitr\n",
      "Z = X1 - X3\n",
      "W = Y - X3\n",
      "anova(lm(W ~ Z), reduced.lm)\n",
      "f.test.lm(lm(W ~ Z), reduced.lm)"
     ],
     "language": "python",
     "metadata": {},
     "outputs": [
      {
       "metadata": {},
       "output_type": "display_data",
       "text": [
        "    Z = X1 - X3\n",
        "    W = Y - X3\n",
        "    anova(lm(W ~ Z), reduced.lm)\n",
        "\u0000"
       ]
      },
      {
       "metadata": {},
       "output_type": "display_data",
       "text": [
        "    ## Warning: models with response \"Y\" removed because response differs from\n",
        "    ## model 1\n",
        "\u0000"
       ]
      },
      {
       "metadata": {},
       "output_type": "display_data",
       "text": [
        "    ## Analysis of Variance Table\n",
        "    ## \n",
        "    ## Response: W\n",
        "    ##           Df Sum Sq Mean Sq F value  Pr(>F)    \n",
        "    ## Z          1   1794    1794    37.8 1.2e-06 ***\n",
        "    ## Residuals 28   1330      47                    \n",
        "    ## ---\n",
        "    ## Signif. codes:  0 '***' 0.001 '**' 0.01 '*' 0.05 '.' 0.1 ' ' 1\n",
        "\u0000"
       ]
      },
      {
       "metadata": {},
       "output_type": "display_data",
       "text": [
        "    f.test.lm(lm(W ~ Z), reduced.lm)\n",
        "\u0000"
       ]
      },
      {
       "metadata": {},
       "output_type": "display_data",
       "text": [
        "    ##       F df.num df.den p.value\n",
        "    ## 1 1.612      1     27  0.2151\n",
        "\u0000"
       ]
      }
     ],
     "prompt_number": 29
    },
    {
     "cell_type": "markdown",
     "metadata": {},
     "source": [
      "What we had to do above was subtract *X3* from *Y* on the right hand\n",
      "side of the formula. R has a way to do this called using an *offset*."
     ]
    },
    {
     "cell_type": "code",
     "collapsed": false,
     "input": [
      "%%knitr\n",
      "anova(lm(Y ~ Z, offset=X3), reduced.lm)"
     ],
     "language": "python",
     "metadata": {},
     "outputs": [
      {
       "metadata": {},
       "output_type": "display_data",
       "text": [
        "    anova(lm(Y ~ Z, offset = X3), reduced.lm)\n",
        "\u0000"
       ]
      },
      {
       "metadata": {},
       "output_type": "display_data",
       "text": [
        "    ## Analysis of Variance Table\n",
        "    ## \n",
        "    ## Model 1: Y ~ Z\n",
        "    ## Model 2: Y ~ X1 + X3\n",
        "    ##   Res.Df  RSS Df Sum of Sq    F Pr(>F)\n",
        "    ## 1     28 1330                         \n",
        "    ## 2     27 1255  1      74.9 1.61   0.22\n",
        "\u0000"
       ]
      }
     ],
     "prompt_number": 30
    },
    {
     "cell_type": "markdown",
     "metadata": {},
     "source": [
      "Looking at the resulting models, they are almost identical, the \n",
      "$R^2$ is different because in the first model, the\n",
      "outcome is *Y*, and the second, the outcome is *Y-X3*."
     ]
    },
    {
     "cell_type": "code",
     "collapsed": false,
     "input": [
      "%%knitr\n",
      "summary(lm(Y ~ Z, offset=X3))\n",
      "summary(lm(W ~ Z))\n"
     ],
     "language": "python",
     "metadata": {},
     "outputs": [
      {
       "metadata": {},
       "output_type": "display_data",
       "text": [
        "    summary(lm(Y ~ Z, offset = X3))\n",
        "\u0000"
       ]
      },
      {
       "metadata": {},
       "output_type": "display_data",
       "text": [
        "    ## \n",
        "    ## Call:\n",
        "    ## lm(formula = Y ~ Z, offset = X3)\n",
        "    ## \n",
        "    ## Residuals:\n",
        "    ##    Min     1Q Median     3Q    Max \n",
        "    ## -9.799 -6.242  0.252  4.911 12.263 \n",
        "    ## \n",
        "    ## Coefficients:\n",
        "    ##             Estimate Std. Error t value Pr(>|t|)    \n",
        "    ## (Intercept)    1.167      1.708    0.68      0.5    \n",
        "    ## Z              0.694      0.113    6.15  1.2e-06 ***\n",
        "    ## ---\n",
        "    ## Signif. codes:  0 '***' 0.001 '**' 0.01 '*' 0.05 '.' 0.1 ' ' 1 \n",
        "    ## \n",
        "    ## Residual standard error: 6.89 on 28 degrees of freedom\n",
        "    ## Multiple R-squared: 0.75,\tAdjusted R-squared: 0.742 \n",
        "    ## F-statistic: 84.2 on 1 and 28 DF,  p-value: 6.2e-10\n",
        "\u0000"
       ]
      },
      {
       "metadata": {},
       "output_type": "display_data",
       "text": [
        "    summary(lm(W ~ Z))\n",
        "\u0000"
       ]
      },
      {
       "metadata": {},
       "output_type": "display_data",
       "text": [
        "    ## \n",
        "    ## Call:\n",
        "    ## lm(formula = W ~ Z)\n",
        "    ## \n",
        "    ## Residuals:\n",
        "    ##    Min     1Q Median     3Q    Max \n",
        "    ## -9.799 -6.242  0.252  4.911 12.263 \n",
        "    ## \n",
        "    ## Coefficients:\n",
        "    ##             Estimate Std. Error t value Pr(>|t|)    \n",
        "    ## (Intercept)    1.167      1.708    0.68      0.5    \n",
        "    ## Z              0.694      0.113    6.15  1.2e-06 ***\n",
        "    ## ---\n",
        "    ## Signif. codes:  0 '***' 0.001 '**' 0.01 '*' 0.05 '.' 0.1 ' ' 1 \n",
        "    ## \n",
        "    ## Residual standard error: 6.89 on 28 degrees of freedom\n",
        "    ## Multiple R-squared: 0.574,\tAdjusted R-squared: 0.559 \n",
        "    ## F-statistic: 37.8 on 1 and 28 DF,  p-value: 1.23e-06\n",
        "\u0000"
       ]
      }
     ],
     "prompt_number": 31
    },
    {
     "cell_type": "code",
     "collapsed": false,
     "input": [],
     "language": "python",
     "metadata": {},
     "outputs": []
    }
   ],
   "metadata": {}
  }
 ]
}