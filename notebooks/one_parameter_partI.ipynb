{
 "metadata": {
  "name": "one_parameter_partI"
 },
 "nbformat": 3,
 "nbformat_minor": 0,
 "worksheets": [
  {
   "cells": [
    {
     "cell_type": "heading",
     "level": 1,
     "metadata": {},
     "source": [
      "One parameter exponential families"
     ]
    },
    {
     "cell_type": "markdown",
     "metadata": {},
     "source": [
      "The world of exponential families bridges the gap between the Gaussian family and general distributions. Many properties\n",
      "of Gaussians carry through to exponential families in a fairly precise sense.\n",
      "\n",
      "<img src=\"files/images/venn.png\" width=\"500\">"
     ]
    },
    {
     "cell_type": "markdown",
     "metadata": {
      "slideshow": {
       "slide_type": "fragment"
      }
     },
     "source": [
      "$$\n",
      "\\newcommand{\\F}{{\\cal F}}\n",
      "\\newcommand{\\D}{{\\cal D}}\n",
      "\\newcommand{\\CGF}{\\Lambda}\n",
      "\\newcommand{\\norm}[1]{\\lVert #1 \\rVert}\n",
      "\\newcommand{\\innerp}[2]{\\langle #1 , #2 \\rangle}\n",
      "\\newcommand{\\argmax}{\\mathop{\\mathrm{argmax}}}\n",
      "\\newcommand{\\argmin}{\\mathop{\\mathrm{argmin}}}\n",
      "\\newcommand{\\minimize}{\\mathop{\\mathrm{minimize}}}\n",
      "\\newcommand{\\maximize}{\\mathop{\\mathrm{maximize}}}\n",
      "\\newcommand{\\Ee}{\\mathbb{E}}\n",
      "\\newcommand{\\Qq}{\\mathbb{Q}}\n",
      "\\newcommand{\\Zz}{\\mathbb{Z}}\n",
      "\\newcommand{\\Pp}{\\mathbb{P}}\n",
      "\\newcommand{\\real}{\\mathbb{R}}\n",
      "\\newcommand{\\Vv}{\\text{Var}}\n",
      "\\newcommand{\\Mm}{{\\cal M}}\n",
      "\\newcommand{\\I}{I}\n",
      "$$\n",
      "\n",
      "* In the Gaussian world, there exact small sample distributional results (i.e. $t$, $F$, $\\chi^2$).\n",
      "\n",
      "* In the exponential family world, there are approximate distributional results (i.e. deviance tests).\n",
      "\n",
      "* In the general setting, we can only appeal to asymptotics."
     ]
    },
    {
     "cell_type": "markdown",
     "metadata": {
      "slideshow": {
       "slide_type": "slide"
      }
     },
     "source": [
      "A one-parameter exponential family, $\\F$ is a one-parameter family of distributions of the form\n",
      "$$\n",
      "\\Pp_{\\eta}(dx) = \\exp\\left(\\eta \\cdot t(x) - \\CGF(\\eta)\\right) \\Pp_0(dx)\n",
      "$$\n",
      "for some probability measure $\\Pp_0$. The parameter $\\eta$ is called the *natural* or *canonical* parameter and the \n",
      "function $\\CGF$ is called the *cumulant\n",
      "generating function*, and is simply the normalization needed to make  \n",
      "$$\n",
      "f_{\\eta}(x) = \\frac{d\\Pp_{\\eta}}{d\\Pp_0}(x) = \\exp\\left(\\eta \\cdot t(x) - \\CGF(\\eta)\\right)\n",
      "$$\n",
      "a proper probability density. The random variable $t(X)$ is the *sufficient statistic*\n",
      "of the exponential family. \n",
      "\n",
      "Note that $\\Pp_0$ does not have to be a distribution on \n",
      "$\\real$, but these are of course the simplest examples."
     ]
    },
    {
     "cell_type": "heading",
     "level": 3,
     "metadata": {
      "slideshow": {
       "slide_type": "slide"
      }
     },
     "source": [
      "A first example: Gaussian with linear sufficient statistic"
     ]
    },
    {
     "cell_type": "markdown",
     "metadata": {
      "slideshow": {
       "slide_type": "fragment"
      }
     },
     "source": [
      "Consider the standard normal distribution\n",
      "$$\n",
      "\\Pp_0(A) = \\int_{A} \\frac{e^{-z^2/2}}{\\sqrt{2\\pi}} \\; dz\n",
      "$$\n",
      "and let $t(x) = x$. Then, the exponential family is \n",
      "$$\n",
      "\\Pp_{\\eta}(dx) \\propto \\frac{e^{\\eta \\cdot x-x^2/2}}{\\sqrt{2\\pi}}\n",
      "$$\n",
      "and we see that\n",
      "$$\n",
      "\\CGF(\\eta)=\\eta^2/2.\n",
      "$$"
     ]
    },
    {
     "cell_type": "code",
     "collapsed": false,
     "input": [
      "eta = np.linspace(-2,2,101)\n",
      "CGF = eta**2/2.\n",
      "plt.plot(eta, CGF)\n",
      "A = plt.gca()\n",
      "A.set_xlabel(r'$\\eta$', size=20)\n",
      "A.set_ylabel(r'$\\Lambda(\\eta)$', size=20)\n",
      "f = plt.gcf()"
     ],
     "language": "python",
     "metadata": {
      "slideshow": {
       "slide_type": "slide"
      }
     },
     "outputs": [
      {
       "output_type": "display_data",
       "png": "[encoded data removed]",
       "text": [
        "<matplotlib.figure.Figure at 0x10fec9e50>"
       ]
      }
     ],
     "prompt_number": 23
    },
    {
     "cell_type": "markdown",
     "metadata": {
      "slideshow": {
       "slide_type": "fragment"
      }
     },
     "source": [
      "Thus, the exponential family in this setting is the collection \n",
      "$$\n",
      "\\F = \\left\\{N(\\eta,1): \\eta \\in \\real \\right\\}.\n",
      "$$"
     ]
    },
    {
     "cell_type": "heading",
     "level": 3,
     "metadata": {
      "slideshow": {
       "slide_type": "slide"
      }
     },
     "source": [
      "Normal with quadratic sufficient statistic on $\\real^d$"
     ]
    },
    {
     "cell_type": "markdown",
     "metadata": {
      "slideshow": {
       "slide_type": "fragment"
      }
     },
     "source": [
      "As a second example, take $\\Pp_0=N(0, I_{d \\times d})$, i.e. the standard\n",
      "normal distribution on $\\real^d$. As sufficient statistic, we take $t(x)=\\|x\\|^2_2/2$. Then, the exponential family is \n",
      "$$\n",
      "\\Pp_{\\eta}(dx) \\propto e^{\\eta \\cdot \\|x\\|_2^2/2-\\|x\\|^2_2/2}\n",
      "$$\n",
      "and we see that the family is only defined for $\\eta < 1$. For $\\eta < 1$, \n",
      "$$\n",
      "\\CGF(\\eta)= -\\frac{d}{2} \\log(1-\\eta).\n",
      "$$\n",
      "We see that not all exponential families have all of $\\real$ as their parameter space.\n",
      "\n",
      "We might as well define $\\CGF$ over all of $\\real$:\n",
      "$$\n",
      "\\CGF(\\eta) = \\begin{cases}\n",
      "-\\frac{d}{2} \\log(1-\\eta) & \\eta < 1\\\\\n",
      "\\infty & \\eta \\geq 1.\n",
      "\\end{cases}\n",
      "$$"
     ]
    },
    {
     "cell_type": "markdown",
     "metadata": {
      "slideshow": {
       "slide_type": "fragment"
      }
     },
     "source": [
      "The exponential family here is\n",
      "$$\n",
      "\\F = \\left\\{N(0_{d \\times 1},(1-\\eta)^{-1} \\cdot I_{d \\times d}), \\eta < 1\\right\\}.\n",
      "$$"
     ]
    },
    {
     "cell_type": "code",
     "collapsed": false,
     "input": [
      "eta = np.linspace(-3,0.99,101)\n",
      "d = 3\n",
      "CGF = -d * np.log(1-eta)/2.\n",
      "plt.plot(eta, CGF)\n",
      "A = plt.gca()\n",
      "A.set_xlabel(r'$\\eta$', size=20)\n",
      "A.set_ylabel(r'$\\Lambda(\\eta)$', size=20)\n"
     ],
     "language": "python",
     "metadata": {
      "slideshow": {
       "slide_type": "slide"
      }
     },
     "outputs": [
      {
       "output_type": "pyout",
       "prompt_number": 24,
       "text": [
        "<matplotlib.text.Text at 0x1103c5650>"
       ]
      },
      {
       "output_type": "display_data",
       "png": "[encoded data removed]",
       "text": [
        "<matplotlib.figure.Figure at 0x10fb22290>"
       ]
      }
     ],
     "prompt_number": 24
    },
    {
     "cell_type": "heading",
     "level": 3,
     "metadata": {
      "slideshow": {
       "slide_type": "slide"
      }
     },
     "source": [
      "Tilts of triangular distribution"
     ]
    },
    {
     "cell_type": "markdown",
     "metadata": {
      "slideshow": {
       "slide_type": "fragment"
      }
     },
     "source": [
      "The previous two examples, we could express $\\CGF$ explicitly by simple integration. This is not always possible, though\n",
      "we can use the computer to do some calculations for us. Set $\\Pp_0$ to be the triangular distribution on $(-1,1)$ with\n",
      "sufficient statistic $t(x)=x$ so that\n",
      "$$\n",
      "\\Pp_{\\eta}(dx) = \\exp(\\eta \\cdot x - \\CGF(\\eta)) \\Pp_0(dx)\n",
      "$$\n",
      "with\n",
      "$$\n",
      "\\CGF(\\eta) =  \\log \\left(\\int_{-1}^1 e^{\\eta x} \\; dx \\right).\n",
      "$$"
     ]
    },
    {
     "cell_type": "code",
     "collapsed": false,
     "input": [
      "X = np.linspace(-1,1,501)\n",
      "dX = X[1]-X[0]\n",
      "\n",
      "def tilted_density(eta):\n",
      "    D = np.exp(eta*X) * np.minimum((1 + X), (1 - X))\n",
      "    CGF = np.log((np.exp(eta*X) * np.minimum((1 + X), (1 - X)) * dX).sum())\n",
      "    return D / np.exp(CGF)\n",
      "\n",
      "[plt.plot(X, tilted_density(eta), label=r'$\\eta=%d$' % eta) for eta in [0,1,2,3]]\n",
      "plt.gca().set_title('Tilts of the uniform distribution.')\n",
      "plt.legend(loc='upper left')"
     ],
     "language": "python",
     "metadata": {
      "slideshow": {
       "slide_type": "slide"
      }
     },
     "outputs": [
      {
       "output_type": "pyout",
       "prompt_number": 25,
       "text": [
        "<matplotlib.legend.Legend at 0x10e7700d0>"
       ]
      },
      {
       "output_type": "display_data",
       "png": "[encoded data removed]",
       "text": [
        "<matplotlib.figure.Figure at 0x10e770690>"
       ]
      }
     ],
     "prompt_number": 25
    },
    {
     "cell_type": "heading",
     "level": 3,
     "metadata": {
      "slideshow": {
       "slide_type": "slide"
      }
     },
     "source": [
      "Carrier measure"
     ]
    },
    {
     "cell_type": "markdown",
     "metadata": {
      "slideshow": {
       "slide_type": "fragment"
      }
     },
     "source": [
      "More generally, $\\Pp_0$ could be replaced by some measure $m_0$ that is not a probability density. \n",
      "\n",
      "For example,\n",
      "if $m_0$ is Lebesgue measure on $\\real$ and $t(x)=x^2/2$. Then, for all $\\eta < 0$ \n",
      "$$\n",
      "\\frac{d\\Pp_{\\eta}}{dm_0}(x) = \\frac{e^{\\eta x^2/2}}{\\sqrt{-2\\pi/\\eta}}\n",
      "$$\n",
      "corresponds to a $N(0,-\\eta^{-1})$ density. "
     ]
    },
    {
     "cell_type": "markdown",
     "metadata": {
      "slideshow": {
       "slide_type": "notes"
      }
     },
     "source": [
      "To find $\\CGF(\\eta)$, note that\n",
      "$$\n",
      "e^{\\CGF(\\eta)} = \\int_{\\real} e^{\\eta x^2/2} dm_0(x) = \\begin{cases}\n",
      "\\sqrt{2\\pi/-\\eta} & \\eta < 0 \\\\\n",
      "\\infty & \\text{otherwise.}\n",
      "\\end{cases}\n",
      "$$\n",
      "\n",
      "Therefore, for $\\eta < 0$\n",
      "$$\n",
      "\\CGF(\\eta) = -\\frac{1}{2}\\log(-\\eta) + \\frac{1}{2} \\log(2\\pi).\n",
      "$$"
     ]
    },
    {
     "cell_type": "markdown",
     "metadata": {
      "slideshow": {
       "slide_type": "fragment"
      }
     },
     "source": [
      "\n",
      "The exponential family is therefore\n",
      "$$\n",
      "\\left\\{N(0, -\\eta^{-1}), \\eta < 0\\right\\}.\n",
      "$$"
     ]
    },
    {
     "cell_type": "heading",
     "level": 2,
     "metadata": {
      "slideshow": {
       "slide_type": "slide"
      }
     },
     "source": [
      "Reparametrizing the family"
     ]
    },
    {
     "cell_type": "markdown",
     "metadata": {
      "slideshow": {
       "slide_type": "fragment"
      }
     },
     "source": [
      " \n",
      "\n",
      "Note that the exponential family is determined by the pair $(t(X), m_0)$. The choice of $m_0$ is somewhat arbitrary.\n",
      "We could fix some $\\eta_0$ and consider a new family with carrier measure $\\Pp_{\\eta_0} \\in \\F$:\n",
      "$$\n",
      "\\widetilde{\\F} = \\left\\{\\widetilde{\\Pp}_{\\widetilde{\\eta}} = \\exp\\left(\\widetilde{\\eta} \\cdot t(x) - \\widetilde{\\Lambda}(\\widetilde{\\eta}) \\right) \\Pp_{\\eta_0}(dx) \\right\\}\\\\\n",
      "$$\n",
      "\n",
      "But, a simple manipulation shows that\n",
      "$$\n",
      "\\begin{aligned}\n",
      "\\Pp_{\\eta}(dx) &= \\exp\\left(\\eta \\cdot t(x) - \\Lambda(\\eta) \\right) m_{0}(dx)\\\\\n",
      "&= \\exp\\left((\\eta - \\eta_0) \\cdot t(x) - (\\Lambda(\\eta)-\\Lambda(\\eta_0) \\right) \\Pp_{\\eta_0}(dx).\n",
      "\\end{aligned}\n",
      "$$"
     ]
    },
    {
     "cell_type": "markdown",
     "metadata": {
      "slideshow": {
       "slide_type": "fragment"
      }
     },
     "source": [
      "This shows that there is a 1:1 correspondence between $\\F$ and $\\widetilde{\\F}$. Namely\n",
      "$$\n",
      "\\begin{aligned}\n",
      "\\widetilde{\\F} \\ni \\widetilde{P}_{\\widetilde{\\eta}} \\mapsto \\Pp_{\\widetilde{\\eta} + \\eta_0} \\in \\F \\\\\n",
      "\\widetilde{\\Lambda}(\\widetilde{\\eta}) = \\Lambda(\\widetilde{\\eta}+\\eta_0) - \\Lambda(\\eta_0).\n",
      "\\end{aligned}\n",
      "$$"
     ]
    },
    {
     "cell_type": "heading",
     "level": 2,
     "metadata": {
      "slideshow": {
       "slide_type": "slide"
      }
     },
     "source": [
      "Domain of an exponential family"
     ]
    },
    {
     "cell_type": "markdown",
     "metadata": {
      "slideshow": {
       "slide_type": "fragment"
      }
     },
     "source": [
      "In the examples above, we saw that not all values of $\\eta$ lead to a probability distribution due to the sufficient statistic not being integrable with respect to $m_0$.\n",
      "The *domain* $\\D(\\F)$ can be thought of as the\n",
      "set of all natural parameters which lead to a probablity distribution. \n",
      "\n",
      "Formally, we define the domain as\n",
      "$$\n",
      "\\D(\\F) = \\D((t(X), m_0)) = \\left\\{\\eta:  \\CGF(\\eta) < \\infty \\right\\}.\n",
      "$$"
     ]
    },
    {
     "cell_type": "markdown",
     "metadata": {
      "slideshow": {
       "slide_type": "fragment"
      }
     },
     "source": [
      "The domain is also defined relative to the carrier measure $m_0$. As in the previous section on reparametrization, we see\n",
      "$$\n",
      "\\begin{aligned}\n",
      "\\D(\\widetilde{\\F}) &= \\D((t(X), \\Pp_{\\eta_0}) \\\\\n",
      "&= \\left\\{\\widetilde{\\eta}: \\widetilde{\\eta}+\\eta_0 \\in \\D(\\F)\\right\\} \\\\\n",
      "&= \\left\\{\\widetilde{\\eta}: \\CGF(\\widetilde{\\eta}+\\eta_0) - \\CGF(\\eta_0) < \\infty \\right\\}\n",
      "= \\D(\\F) \\oplus(-\\eta_0).\n",
      "\\end{aligned}\n",
      "$$\n",
      "Hence, the domain of two exponential families with different parametrizations determined by different\n",
      "canonical parameters are related  by a simple translation."
     ]
    },
    {
     "cell_type": "markdown",
     "metadata": {
      "exercise": {
       "number": 1
      },
      "slideshow": {
       "slide_type": "slide"
      }
     },
     "source": [
      "### *Exercise: convexity of $\\D(\\F)$*\n",
      "\n",
      "1. Show that $\\CGF$ is a (possibly infinite) convex function on $\\real$.\n",
      "\n",
      "2. Use this to show that $\\D(\\F)$ is convex, i.e. a (possibly infinite) interval."
     ]
    },
    {
     "cell_type": "markdown",
     "metadata": {
      "exercise": {
       "number": 1
      },
      "slideshow": {
       "slide_type": "fragment"
      }
     },
     "source": [
      "### *Exercise: half-Gaussian density*\n",
      "\n",
      "Consider the half-Gaussian distribution with density\n",
      "$$\n",
      "f(x) = \\frac{2 e^{-x^2/2}}{\\sqrt{2\\pi}}, \\qquad x \\geq 0. \n",
      "$$\n",
      "\n",
      "1. Use $f$ as carrier measure to create an exponential family with sufficient statistic $t(x)=-x$. \n",
      "\n",
      "2. Plot the density for $\\eta \\in [0,2,4,6]$. \n",
      "\n",
      "3. What is $\\D(\\F)$? \n",
      "\n",
      "4. What happens\n",
      "as $\\eta \\to \\infty$? What about $\\eta \\to -\\infty$?\n",
      "\n",
      "5. Can you renormalize the random variables with distributions in $\\F$ to get a \"nice\" limit at either $\\pm \\infty$? That is, suppose $Z_n \\sim \\Pp_{\\eta_n}$ with $\\eta_n \\rightarrow \\pm \\infty$ Can you define $W_n = c_n (Z_n - \\mu_n)$ so that $W_n$ converges in distribution?"
     ]
    },
    {
     "cell_type": "heading",
     "level": 2,
     "metadata": {
      "slideshow": {
       "slide_type": "slide"
      }
     },
     "source": [
      "Example: the Poisson family"
     ]
    },
    {
     "cell_type": "markdown",
     "metadata": {
      "slideshow": {
       "slide_type": "fragment"
      }
     },
     "source": [
      "An important example of a one-parameter family that we will revisit often is the Poisson family\n",
      "on the non-negative integers $\\Zz_{\\geq 0}=\\{0,1,2,\\dots\\}$. The carrier measure is\n",
      "$$\n",
      "m_0(dx) = \\frac{1}{x!} m(dx)\n",
      "$$\n",
      "with $m$ the counting measure on $\\Zz_{\\geq 0}$."
     ]
    },
    {
     "cell_type": "markdown",
     "metadata": {
      "slideshow": {
       "slide_type": "fragment"
      }
     },
     "source": [
      "Poisson random variables are usually parametrized by their expectation $\\lambda$. \n",
      "This is different than the canonical\n",
      "parametrization.\n",
      "\n",
      "Let's write this\n",
      "parameterization as \n",
      "$$\\Qq_{\\lambda}(dx)=\\frac{e^{-\\lambda} \\lambda^x}{x!} \\; m_0(dx).\n",
      "$$\n",
      "We see, then\n",
      "$$\n",
      "\\Pp_{\\eta}(dx) = \\exp(\\eta \\cdot x - \\CGF(\\eta)) m_0(dx).\n",
      "$$"
     ]
    },
    {
     "cell_type": "markdown",
     "metadata": {
      "slideshow": {
       "slide_type": "fragment"
      }
     },
     "source": [
      "The two parametrizations are related by\n",
      "$$\n",
      "\\begin{aligned}\n",
      "\\eta &= \\log(\\lambda) \\\\\n",
      "\\CGF(\\eta) &= e^{\\eta} = \\lambda\n",
      "\\end{aligned}\n",
      "$$"
     ]
    },
    {
     "cell_type": "markdown",
     "metadata": {
      "exercise": {
       "number": 1
      },
      "slideshow": {
       "slide_type": "slide"
      }
     },
     "source": [
      "### *Exercise: reparametrizing the Poisson family*\n",
      "\n",
      "Let $\\F=(x,m_0)$ denote the Poisson family. \n",
      "\n",
      "1. What is $\\D(\\F)$?\n",
      "1. Rewrite the Poisson family $\\Pp_{\\eta}$ so that the carrier measure is a Poisson distribution with mean 2. Call the exponential family with this\n",
      "carrier measure ${\\cal F}_2$. What is $\\D(\\F_2)$?\n",
      "\n",
      "2. Write the Poisson distribution with mean 6 as a point in $\\D(\\F)$ and as a point in $\\D(\\F_2)$. That is, in each case, find the canonical\n",
      "parameter such the corresponding distribution is a Poisson with mean 6.\n",
      "\n"
     ]
    },
    {
     "cell_type": "heading",
     "level": 2,
     "metadata": {
      "slideshow": {
       "slide_type": "slide"
      }
     },
     "source": [
      "Expectation and variances"
     ]
    },
    {
     "cell_type": "markdown",
     "metadata": {
      "slideshow": {
       "slide_type": "fragment"
      }
     },
     "source": [
      "The function $\\CGF$ is the *cumulant generating function* of the family  and differentiating it yields the cumulants of the random variable\n",
      "$t(X)$. Specifically,  if the carrier measure is a probability measure, it is the logarithm of the *moment generating function* of $t(X)$ under $\\Pp_{0}$.\n",
      "More generally, if the carrier measure is not a probability measure but just a measure on some sample space $\\Omega$, then for any $\\eta \\in \\D(\\F)$\n",
      "$$ \n",
      "\\Ee_{\\eta}(e^{\\theta \\cdot t(X)}) = \\int_{\\Omega} e^{(\\theta+\\eta)t(x) - \\CGF(\\eta)} \\; m_0(dx) = e^{\\CGF(\\theta+\\eta)-\\CGF(\\eta)}.\n",
      "$$"
     ]
    },
    {
     "cell_type": "markdown",
     "metadata": {
      "slideshow": {
       "slide_type": "fragment"
      }
     },
     "source": [
      "Note that\n",
      "$$\n",
      "e^{\\CGF(\\eta)} = \\int_{\\Omega} e^{\\eta \\cdot t(x)} \\; m_0(dx).\n",
      "$$\n",
      "Differentiating yields with respect to $\\eta$\n",
      "$$\n",
      "\\begin{aligned}\n",
      "\\dot{\\CGF}(\\eta) e^{\\CGF(\\eta)} \n",
      "&= \\int_{\\Omega} t(x) e^{\\eta \\cdot t(x)} \\; m_0(dx) \\\\\n",
      "&= e^{\\CGF(\\eta)} \\cdot \\int_{\\Omega} t(x) \\Pp_{\\eta}(dx) \\\\\n",
      "&= e^{\\CGF(\\eta)} \\cdot \\Ee_{\\eta}(t(X)).\n",
      "\\end{aligned}\n",
      "$$"
     ]
    },
    {
     "cell_type": "markdown",
     "metadata": {
      "slideshow": {
       "slide_type": "slide"
      }
     },
     "source": [
      "Differentiating a second time yields\n",
      "$$\n",
      "\\begin{aligned}\n",
      "\\left(\\ddot{\\CGF}(\\eta) + \\dot{\\CGF}(\\eta)^2 \\right) e^{\\CGF(\\eta)} &= \\int_{\\Omega} t(x)^2 e^{\\eta \\cdot t(x)} \\; m_0(dx) \\\\ \n",
      "&= e^{\\CGF(\\eta)} \\Ee_{\\eta}(t(X)^2).\n",
      "\\end{aligned}\n",
      "$$\n",
      "\n",
      "Summarizing,\n",
      "$$\n",
      "\\begin{aligned}\n",
      "\\dot{\\CGF}(\\eta) &= \\Ee_{\\eta}(t(X)) \\\\\n",
      "\\ddot{\\CGF}(\\eta) &= \\Ee_{\\eta}[(t(X) - \\Ee_{\\eta}(t(X))^2] = \\Vv_{\\eta}(t(X))\n",
      "\\end{aligned}\n",
      "$$\n",
      "\n",
      "The above also motivates definition of another space related to $\\F$, the set of realizable expected values\n",
      "$$\n",
      "\\Mm(\\F) = \\left\\{\\dot{\\CGF}(\\eta): \\eta \\in \\D(\\F)\\right\\} = \\dot{\\CGF}(\\D(\\F)).\n",
      "$$"
     ]
    },
    {
     "cell_type": "heading",
     "level": 3,
     "metadata": {
      "slideshow": {
       "slide_type": "slide"
      }
     },
     "source": [
      "Parametrization by the mean"
     ]
    },
    {
     "cell_type": "markdown",
     "metadata": {
      "slideshow": {
       "slide_type": "fragment"
      }
     },
     "source": [
      "The above calculation yields a parameterization\n",
      "$$\n",
      "\\mu(\\eta) = \\Ee_{\\eta}(t(X)) = \\dot{\\CGF}(\\eta).\n",
      "$$"
     ]
    },
    {
     "cell_type": "markdown",
     "metadata": {
      "slideshow": {
       "slide_type": "fragment"
      }
     },
     "source": [
      "As\n",
      "$$\n",
      "\\frac{d\\mu}{d\\eta} = \\ddot{\\CGF}(\\eta) = \\Vv_{\\eta}(t(X)) \\geq 0\n",
      "$$\n",
      "we see that the mapping is 1:1 and non-decreasing and is invertible as long as the random variable $t(X)$ is not constant under $\\Pp_{\\eta}$.\n",
      " "
     ]
    },
    {
     "cell_type": "markdown",
     "metadata": {
      "slideshow": {
       "slide_type": "fragment"
      }
     },
     "source": [
      "   \n",
      "Further, as the moment generating function of $t(X)$ under $\\Pp_{\\eta}$ is defined for all\n",
      "$\\eta \\in \\D(\\F)$. This map is infinitely differentiable on $\\D(\\F)$."
     ]
    },
    {
     "cell_type": "heading",
     "level": 2,
     "metadata": {
      "slideshow": {
       "slide_type": "slide"
      }
     },
     "source": [
      "Skewness and kurtosis"
     ]
    },
    {
     "cell_type": "markdown",
     "metadata": {
      "slideshow": {
       "slide_type": "fragment"
      }
     },
     "source": [
      "We saw above that the moment generating function of $t(X)$ under $\\Pp_{\\eta}$ can be expressed as \n",
      "$$\n",
      "\\Ee_{\\eta}(e^{\\theta \\cdot t(X)}) = e^{\\CGF(\\theta+\\eta)-\\CGF(\\eta)}.\n",
      "$$\n",
      "Taking the logs and expanding yields the cumulants of $t(X)$ under $\\Pp_{\\eta}$. That is,\n",
      "$$\n",
      "\\CGF(\\theta+\\eta)-\\CGF(\\eta) = k_1 \\theta + k_2 \\frac{\\theta^2}{2} + k_3 \\frac{\\theta^3}{6} + \\dots\n",
      "$$\n",
      "where $$k_i=\\CGF^{(i)}(\\eta)$$ are the cumulants of $t(X)$ under $\\Pp_{\\eta}$."
     ]
    },
    {
     "cell_type": "markdown",
     "metadata": {
      "slideshow": {
       "slide_type": "fragment"
      }
     },
     "source": [
      "The skewness of a random variable defined as\n",
      "$$\n",
      "\\text{Skew}(Y) = \\text{Skew}(Y, {\\cal L}_Y) = \\frac{\\Ee[(Y-\\Ee(Y))^3]}{\\Vv(Y)^{3/2}} \\overset{\\Delta}{=} \\gamma = \\frac{k_3}{k_2^{3/2}}\n",
      "$$\n",
      "and kurtosis is defined as\n",
      "$$\n",
      "\\text{Kurtosis}(Y) = \\text{Kurtosis}(Y, {\\cal L}_Y) =  \\frac{\\Ee[(Y-\\Ee(Y))^4]}{\\Vv(Y)^{2}} - 3 \\overset{\\Delta}{=} \\delta = \\frac{k_4}{k_2^2}.\n",
      "$$"
     ]
    },
    {
     "cell_type": "markdown",
     "metadata": {
      "slideshow": {
       "slide_type": "slide"
      }
     },
     "source": [
      "For a one-parameter exponential family, we see that\n",
      "$$\n",
      "\\begin{aligned}\n",
      "\\gamma(\\eta) &= \\text{Skew}(t(X), \\Pp_{\\eta}) \\\\ &= \\frac{\\CGF^{(3)}(\\eta)}{\\ddot{\\CGF}(\\eta)^{3/2}} \\\\\n",
      "\\delta(\\eta) &= \\text{Kurtosis}(t(X), \\Pp_{\\eta}) \\\\ &= \\frac{\\CGF^{(4)}(\\eta)}{\\ddot{\\CGF}(\\eta)^{2}} \\\\\n",
      "\\end{aligned}\n",
      "$$"
     ]
    },
    {
     "cell_type": "markdown",
     "metadata": {
      "exercise": {
       "number": 1
      },
      "slideshow": {
       "slide_type": "slide"
      }
     },
     "source": [
      "### *Exercise: skewness and kurtosis of the Poisson family*\n",
      "\n",
      "1. Plot the skewness and kurtosis of the Poisson family as a function of $\\eta$.\n",
      "\n",
      "2. What happens as $\\eta \\rightarrow \\infty$? Is this expected?"
     ]
    },
    {
     "cell_type": "heading",
     "level": 2,
     "metadata": {
      "slideshow": {
       "slide_type": "slide"
      }
     },
     "source": [
      "Cumulants in the mean parametrization"
     ]
    },
    {
     "cell_type": "markdown",
     "metadata": {
      "slideshow": {
       "slide_type": "fragment"
      }
     },
     "source": [
      "Above, we see that the most natural parameterization of cumulants (and skewness, kurtosis) is in terms of the \n",
      "canonical parameter $\\eta$. However, we now have this alternative parametrization in terms of the mean $\\mu$.\n",
      "Given a quantity like $\\gamma(\\eta)$ we can reparametrize this as\n",
      "$$\n",
      "\\tilde{\\gamma}(\\mu) = \\text{Skew}(t(X), \\Pp_{\\eta(\\mu)}) = \\gamma(\\eta(\\mu)) = \\frac{\\CGF^{(3)}(\\eta(\\mu))}{\\Vv_{\\eta(\\mu)}(t(X))^{3/2}}.\n",
      "$$\n",
      "\n",
      "This new parametrization yields some interesting relations."
     ]
    },
    {
     "cell_type": "markdown",
     "metadata": {
      "exercise": {
       "number": 1
      },
      "slideshow": {
       "slide_type": "slide"
      }
     },
     "source": [
      "### *Exercise: reparametrization of skewness*\n",
      "\n",
      "Show that \n",
      "$$\n",
      "\\tilde{\\gamma}(\\mu) = 2 \\frac{d}{d\\mu} \\left(\\Vv_{\\eta(\\mu)} \\right)^{1/2}.\n",
      "$$"
     ]
    },
    {
     "cell_type": "markdown",
     "metadata": {
      "exercise": {
       "number": 1
      },
      "slideshow": {
       "slide_type": "slide"
      }
     },
     "source": [
      "### *Exercise: estimation of $\\mu$ and $\\eta$*\n",
      "\n",
      "Suppose $X \\sim \\Pp_{\\eta}$, then, from the calculations we have seen above\n",
      "$$\n",
      "\\Ee_{\\eta}(t(X)) = \\dot{\\CGF}(\\eta) = \\mu(\\eta).\n",
      "$$\n",
      "Can we find an unbiased estimate of $\\eta$? For this exercise, assume $\\Omega=\\real, t(x)=x$ and the carrier measure has a density with respect to \n",
      "Lebesgue measure and write $\\D(\\F)=[m,M]$ (with one or both of $m,M$ possibly infinite). That is,\n",
      "$$\n",
      "\\Pp_{\\eta}(dx) = \n",
      "\\begin{cases}\n",
      "e^{\\eta \\cdot x - \\CGF(\\eta)} g_{0}(x) \\; dx & m \\leq x \\leq M \\\\\n",
      "0 & \\text{otherwise.}\n",
      "\\end{cases}\n",
      "$$\n",
      "with $\\CGF(0)=0$.\n",
      "\n",
      "Define\n",
      "$$\n",
      "\\ell_0(x) = \\log(g_0(x)).\n",
      "$$\n",
      "Show that\n",
      "$$\n",
      "\\Ee_{\\eta}\\left[-\\frac{d}{dx}\\ell_0(x) \\right] = \\eta - \\left[g_{\\eta}(M)-g_{\\eta}(m)\\right].\n",
      "$$\n",
      "\n",
      "Try this estimator out numerically for the half-Gaussian family."
     ]
    },
    {
     "cell_type": "heading",
     "level": 2,
     "metadata": {
      "slideshow": {
       "slide_type": "slide"
      }
     },
     "source": [
      "Repeated sampling"
     ]
    },
    {
     "cell_type": "markdown",
     "metadata": {
      "slideshow": {
       "slide_type": "fragment"
      }
     },
     "source": [
      "One of the very nice properties of exponential families is the behaviour under IID sampling. Specifically, let \n",
      "$$X_1, \\dots, X_n \\overset{IID}{\\sim} \\Pp_{\\eta}$$\n",
      "with\n",
      "$$\n",
      "\\frac{d\\Pp_{\\eta}}{dm_0}(x) = \\exp(\\eta \\cdot t(x) - \\CGF(\\eta)).\n",
      "$$"
     ]
    },
    {
     "cell_type": "markdown",
     "metadata": {
      "slideshow": {
       "slide_type": "fragment"
      }
     },
     "source": [
      "The joint density has a very simple expression:\n",
      "$$\n",
      "\\prod_{i=1}^n \\left[\\exp(\\eta \\cdot t(x_i) - \\CGF(\\eta)) \\; m_0(dx_i)\\right]\n",
      " = \\exp \\left(n \\cdot\\left[ \\eta \\cdot \\overline{t(X)} - \\CGF(\\eta) \\right] \\right) \\prod_{i=1}^n m_0(dx_i)\n",
      "$$\n",
      "with \n",
      "$$\n",
      "\\overline{t(X)} = \\frac{1}{n} \\sum_{i=1}^n t(X_i).\n",
      "$$"
     ]
    },
    {
     "cell_type": "markdown",
     "metadata": {
      "slideshow": {
       "slide_type": "fragment"
      }
     },
     "source": [
      "This is a one-parameter exponential family with  parameter $\\eta$, sufficient statistic\n",
      "$$\n",
      "n \\cdot \\overline{t(X)} = \\sum_{i=1}^n t(X_i)\n",
      "$$\n",
      "and carrier measure $\\prod_{i=1}^n m_0(dx_i)$ defined on $\\Omega^n$ where $\\Omega$ is the sample space for each of the $X_i$s."
     ]
    },
    {
     "cell_type": "markdown",
     "metadata": {
      "exercise": {
       "number": 1
      },
      "slideshow": {
       "slide_type": "slide"
      }
     },
     "source": [
      "### *Exercise: cumulants of sum*\n",
      "\n",
      "1. What is the cumulant generating function of the above exponential family? Call it $\\CGF_n$.\n",
      "\n",
      "2. Relate the first 4 cumulants, as a function of $\\eta$, of $\\CGF_n$ to the mean, variance, skewness and kurtosis of $\\sum_{i=1}^n t(X_i)$.\n",
      "\n",
      "3. Repeat 2. for the random variable $\\overline{t(X)}$.\n",
      "\n",
      "\n",
      "### *Exercise: sufficiency*\n",
      "\n",
      "For this question, assume $m_0=\\Pp_0$ is a probability distribution.\n",
      "\n",
      "1. Relate the one-parameter exponential family of distributions on  $\\Omega^n$ above, to a one-parameter exponential family of\n",
      "distributions on $\\real$.\n",
      "\n",
      "2. What is the carrier measure of this exponential family? What is its $\\CGF$, $\\D(\\F)$?\n",
      "\n",
      "3. How does this relate to sufficiency?"
     ]
    },
    {
     "cell_type": "heading",
     "level": 2,
     "metadata": {
      "slideshow": {
       "slide_type": "slide"
      }
     },
     "source": [
      "Examples"
     ]
    },
    {
     "cell_type": "markdown",
     "metadata": {},
     "source": [
      "### Binomial: $\\text{Bin}(n,p)$\n",
      "\n",
      "Suppose that $X \\sim \\text{Binomial}(n,\\pi)$. Then,\n",
      "$$\n",
      "\\Pp(X=j) = \\binom{n}{j} \\pi^j (1-\\pi)^{n-j} = \\binom{n}{j} \\exp\\left(\\log\\left(\\frac{\\pi}{1-\\pi}\\right) \\cdot j + n \\cdot \\log(1-\\pi) \\right)\n",
      "$$"
     ]
    },
    {
     "cell_type": "markdown",
     "metadata": {
      "slideshow": {
       "slide_type": "fragment"
      }
     },
     "source": [
      "This is a one-parameter family whose carrier measure we can take as  having a density\n",
      "$$\n",
      "m_0(j) = \\begin{cases}\n",
      "\\binom{n}{j} & 0 \\leq j \\leq n \\\\\n",
      "0 & \\text{otherwise.}\n",
      "\\end{cases}\n",
      "$$\n",
      "with respect to counting measure on $\\mathbb{Z}$."
     ]
    },
    {
     "cell_type": "markdown",
     "metadata": {
      "slideshow": {
       "slide_type": "fragment"
      }
     },
     "source": [
      "The natural parameter is $\\eta=\\log \\left(\\frac{\\pi}{1-\\pi} \\right)$ with $\\D=(-\\infty,\\infty)$ and cumulant generating function\n",
      "$$\n",
      "\\CGF(\\eta) = n \\log(1 + e^{\\eta}). \n",
      "$$\n",
      "\n",
      "We see that\n",
      "$$\n",
      "\\dot{\\CGF}(\\eta) = \\frac{n e^{\\eta}}{1+e^{\\eta}} = n\\pi\n",
      "$$\n",
      "and\n",
      "$$\n",
      "\\ddot{\\CGF}(\\eta) = n \\cdot \\frac{e^{\\eta}(1+e^{\\eta}) - e^{2\\eta}}{(1+\\eta)^2} = n \\cdot \\pi ( 1- \\pi).\n",
      "$$"
     ]
    },
    {
     "cell_type": "markdown",
     "metadata": {
      "exercise": {
       "number": 1
      },
      "slideshow": {
       "slide_type": "slide"
      }
     },
     "source": [
      "### *Exercise: Gamma with fixed shape*\n",
      "\n",
      "Suppose we consider the Gamma family with fixed shape parameter $k$ and unknown scale. The Gamma density is\n",
      "$$\n",
      "f_{\\lambda,k}(x) = \\frac{1}{\\Gamma(k) \\lambda^k} x^{k-1} e^{-x/\\lambda} , \\qquad x \\geq 0.\n",
      "$$\n",
      "\n",
      "1. Write this as a one-parameter exponential family. What is the canonical parameter?\n",
      "\n",
      "2. Compute the mean, variance, skewness and kurtosis of this family.\n",
      "\n",
      "### *Exercise: Gamma with a fixed scale*\n",
      "\n",
      "Suppose that, instead of fixing the shape of the Gamma family, we fix the scale at some value $\\lambda$. Can you write this as\n",
      "a one-parameter exponential family?\n",
      "\n",
      "### *Exercise: Negative binomial*\n",
      "\n",
      "The negative binomial arises when waiting for a fixed number, $k$ of failures in IID $\\text{Bernoulli}(\\pi)$ trials. Specifically, \n",
      "$$\n",
      "\\Pp(X=n) = \\binom{n+k-1}{k} (1-\\pi)^k \\pi^{n}.\n",
      "$$\n",
      "\n",
      "1. Write this as a one-parameter exponential family. \n",
      "\n",
      "2. Compute the mean, variance and skewness as a function of $\\pi$."
     ]
    },
    {
     "cell_type": "heading",
     "level": 3,
     "metadata": {
      "slideshow": {
       "slide_type": "slide"
      }
     },
     "source": [
      "Inverse Gaussian"
     ]
    },
    {
     "cell_type": "markdown",
     "metadata": {
      "slideshow": {
       "slide_type": "fragment"
      }
     },
     "source": [
      "This distribution arises from the hitting time of standard Brownian motion with drift to cross the boundary 1.\n",
      "If the drift is $1/\\mu$, then the density has the form\n",
      "$$\n",
      "g_{\\mu}(x) = \\frac{1}{\\sqrt{2\\pi x^3}} e^{-\\frac{(x-\\mu)^2}{2 \\mu^2x}}.\n",
      "$$\n",
      "\n"
     ]
    },
    {
     "cell_type": "heading",
     "level": 1,
     "metadata": {
      "slideshow": {
       "slide_type": "slide"
      }
     },
     "source": [
      "Basic results on exponential families"
     ]
    },
    {
     "cell_type": "heading",
     "level": 2,
     "metadata": {
      "slideshow": {
       "slide_type": "slide"
      }
     },
     "source": [
      "MLE"
     ]
    },
    {
     "cell_type": "markdown",
     "metadata": {
      "slideshow": {
       "slide_type": "fragment"
      }
     },
     "source": [
      "Recall the joint density under repeated IID sampling\n",
      "$$\n",
      "\\prod_{i=1}^n\\Pp_{\\eta}(dx_i) = \\prod_{i=1}^n \\left[\\exp(\\eta \\cdot t(x_i) - \\CGF(\\eta)) m_0(dx_i)\\right] = \\exp \\left(n \\cdot\\left[ \\eta \\cdot \\overline{t(X)} - \\CGF(\\eta) \\right] \\right) \\prod_{i=1}^n m_0(dx_i).\n",
      "$$"
     ]
    },
    {
     "cell_type": "markdown",
     "metadata": {
      "slideshow": {
       "slide_type": "fragment"
      }
     },
     "source": [
      "From this, we see that the *log-likelihood* has a very compact expression\n",
      "$$\n",
      "\\ell(\\eta) = \\log \\left(\\prod_{i=1}^n\\Pp_{\\eta}(dx_i) \\right) = n \\cdot\\left[ \\eta \\cdot \\overline{t(X)} - \\CGF(\\eta) \\right].\n",
      "$$\n",
      "\n",
      "The *score function* is defined as\n",
      "$$\n",
      "\\dot{\\ell}(\\eta) = \\frac{d}{d\\eta}\\ell(\\eta).\n",
      "$$"
     ]
    },
    {
     "cell_type": "heading",
     "level": 2,
     "metadata": {
      "slideshow": {
       "slide_type": "slide"
      }
     },
     "source": [
      "The MLE map"
     ]
    },
    {
     "cell_type": "markdown",
     "metadata": {
      "slideshow": {
       "slide_type": "fragment"
      }
     },
     "source": [
      "The *maximum likelihood estimator*  of the canonical parameter is\n",
      "$$\n",
      "\\widehat{\\eta} = \\argmax_{\\eta \\in \\D} \\ell(\\eta)\n",
      "$$\n",
      "and they satisfy (assuming the maximum is achieved in the interior of $\\D(\\F)$)\n",
      "$$\n",
      "0=\\dot{\\ell}(\\widehat{\\eta}) = n \\cdot \\left[\\overline{t(X)} - \\dot{\\CGF}(\\widehat{\\eta}) \\right].\n",
      "$$"
     ]
    },
    {
     "cell_type": "markdown",
     "metadata": {
      "slideshow": {
       "slide_type": "fragment"
      }
     },
     "source": [
      "In words, the MLE of $\\eta$ is chosen so that, under $\\Pp_{\\widehat{\\eta}}$ the expected value of \n",
      "the sufficient statistic is the observed value $\\overline{t(X)}$."
     ]
    },
    {
     "cell_type": "markdown",
     "metadata": {
      "slideshow": {
       "slide_type": "fragment"
      }
     },
     "source": [
      "\n",
      "\n",
      "Solving the MLE equations therefore determine a map from $\\Mm(\\F)$, the set of all possible\n",
      "mean values for $\\F$ to $\\D(\\F)$ the canonical parameter space. This map is effectively the inverse\n",
      "of $\\dot{\\CGF}$. That is,\n",
      "$$\n",
      "\\widehat{\\eta}(t(X)) = \\dot{\\CGF}^{-1}(t(X)) = \\argmax_{\\eta} \\left(\\eta \\cdot \\left[\\frac{1}{n} \\sum_{i=1}^n t(X_i)\\right] -  \\CGF(\\eta) \\right).\n",
      "$$"
     ]
    },
    {
     "cell_type": "heading",
     "level": 3,
     "metadata": {
      "slideshow": {
       "slide_type": "slide"
      }
     },
     "source": [
      "Fenchel-Legendre transform"
     ]
    },
    {
     "cell_type": "markdown",
     "metadata": {
      "slideshow": {
       "slide_type": "fragment"
      }
     },
     "source": [
      "Consider the maximized log-likelihood, as a function of $\\overline{t(X)}$\n",
      "$$\n",
      "\\sup_{\\eta \\in \\D} \\left(\\eta \\cdot t -  \\CGF(\\eta) \\right).\n",
      "$$\n",
      "\n",
      "In convex analysis, this function is called the *Fenchel-Legendre* transform of $\\CGF$ and is often\n",
      "denoted by $\\CGF^*$. That is,\n",
      "$$\n",
      "\\CGF^*(t) = \\sup_{\\eta \\in \\D} \\left(\\eta \\cdot t -  \\CGF(\\eta) \\right).\n",
      "$$"
     ]
    },
    {
     "cell_type": "markdown",
     "metadata": {
      "slideshow": {
       "slide_type": "fragment"
      }
     },
     "source": [
      "Another general fact from convex analysis says that\n",
      "$$\n",
      "\\frac{d}{dt}\\CGF^*(t) = \\argmax_{\\eta \\in D} \\left(\\eta \\cdot t -  \\CGF(\\eta) \\right).\n",
      "$$"
     ]
    },
    {
     "cell_type": "markdown",
     "metadata": {
      "slideshow": {
       "slide_type": "slide"
      }
     },
     "source": [
      "Sometimes, the Fenchel-Legendre transform may fail to be differentiable. In this case, the argmax\n",
      "above is a set, called the *subdifferential* of $\\CGF^*$ at $t$. This would correspond to there being more than one MLE, which will not happen\n",
      "for one-parameter exponential families."
     ]
    },
    {
     "cell_type": "markdown",
     "metadata": {
      "slideshow": {
       "slide_type": "fragment"
      }
     },
     "source": [
      "In any case, $\\CGF^*$ provides the MLE map. That is,\n",
      "$$\n",
      "\\eta(\\mu) = \\dot{\\CGF}^*(\\mu).\n",
      "$$\n",
      "\n",
      "Another property of this map is \n",
      "$$\n",
      "\\CGF^*(\\mu) = \\eta(\\mu) \\cdot \\mu - \\CGF(\\eta(\\mu)).\n",
      "$$"
     ]
    },
    {
     "cell_type": "markdown",
     "metadata": {
      "slideshow": {
       "slide_type": "fragment"
      }
     },
     "source": [
      "In turn, this implies\n",
      "$$\n",
      "\\dot{\\CGF}(\\dot{\\CGF}^*(\\mu)) = \\dot{\\CGF}(\\eta(\\mu)) = \\Ee_{\\eta(\\mu)}[t(X)] = \\mu.\n",
      "$$\n",
      "\n",
      "This implies that $\\dot{\\CGF} \\circ \\dot{\\CGF}^*$ is the identity on $\\Mm$. And therefore,\n",
      "$\\dot{\\CGF}^* \\circ \\dot{\\CGF}$ is the identity on $\\D$. In other words, $\\dot{\\CGF}^{-1} = \\dot{\\CGF}^*$."
     ]
    },
    {
     "cell_type": "heading",
     "level": 3,
     "metadata": {
      "slideshow": {
       "slide_type": "slide"
      }
     },
     "source": [
      "Likelihood as a function of $\\mu$"
     ]
    },
    {
     "cell_type": "markdown",
     "metadata": {
      "slideshow": {
       "slide_type": "fragment"
      }
     },
     "source": [
      "Alternatively, we might try computing the MLE in the mean parametrization. In this case, we write the likelihood as\n",
      "$$\n",
      "\\begin{aligned}\n",
      "\\tilde{\\ell}(\\mu) &= \\ell(\\dot{\\CGF}^*(\\mu)) \\\\\n",
      "\\end{aligned}\n",
      "$$"
     ]
    },
    {
     "cell_type": "markdown",
     "metadata": {
      "slideshow": {
       "slide_type": "fragment"
      }
     },
     "source": [
      "Differentiating\n",
      "$$\n",
      "\\begin{aligned}\n",
      "\\frac{d}{d\\mu} \\tilde{\\ell}(\\mu) &= n \\frac{\\frac{d}{d\\eta} \\left(\\eta \\cdot  \\overline{t(X)} -  \\CGF(\\eta) \\right)}{\\frac{d\\mu}{d\\eta}} \\\\\n",
      "&= n \\cdot  \\frac{\\overline{t(X)} -  \\mu}{\\Vv_{\\eta(\\mu)}(t(X))} \\\\\n",
      "&= n \\cdot \\ddot{\\CGF}^*(\\mu) \\cdot \\left[\\overline{t(X)} -  \\mu \\right]\n",
      "\\end{aligned}\n",
      "$$\n",
      "which shows $\\widehat{\\mu}=\\overline{t(X)}$."
     ]
    },
    {
     "cell_type": "markdown",
     "metadata": {
      "exercise": {
       "number": 1
      },
      "slideshow": {
       "slide_type": "slide"
      }
     },
     "source": [
      "### *Exercise: density in $\\Mm$ parametrization*\n",
      "\n",
      "1. Show that  \n",
      "$$\n",
      "\\frac{d\\Pp_{\\eta(\\mu)}}{d\\Pp_0}(x) = \\exp\\left(\\CGF^*(\\mu)-(\\mu-t(x))\\dot{\\CGF}^*(\\mu) \\right)\n",
      "$$\n",
      "\n",
      "2. Rederive the score for $\\mu$ above directly with this formula.\n",
      "\n",
      "### *Exercise: computing $\\Lambda^*$*\n",
      "\n",
      "1. Compute $\\Lambda^*$ for the Poisson family.\n",
      "\n",
      "2. Knowing the relationship between $\\mu$ and $\\lambda$ implied by $\\mu(\\eta)=\\dot{\\CGF}(\\eta)$, show $\\widehat{\\eta}$ computed with $\\Lambda^*$ agrees with the \n",
      "the usual MLE rule by plugging in $\\widehat{\\mu}$ into this relationship."
     ]
    },
    {
     "cell_type": "heading",
     "level": 3,
     "metadata": {
      "slideshow": {
       "slide_type": "slide"
      }
     },
     "source": [
      "Score for arbitrary parameters"
     ]
    },
    {
     "cell_type": "markdown",
     "metadata": {
      "slideshow": {
       "slide_type": "fragment"
      }
     },
     "source": [
      "In general, the score function for some (invertible) function of $\\eta$, i.e. $\\xi=h(\\eta)$ is \n",
      "$$\n",
      "\\frac{d}{d\\xi} \\ell(h^{-1}(\\xi)) = \\frac{\\frac{d}{d\\eta}\\ell(\\eta) \\biggl|_{\\eta=h^{-1}(\\xi)}}{\\frac{dh}{d\\eta} \\biggl|_{\\eta=h^{-1}(\\xi)}}.\n",
      "$$"
     ]
    },
    {
     "cell_type": "markdown",
     "metadata": {
      "slideshow": {
       "slide_type": "fragment"
      }
     },
     "source": [
      "One key property of the score function is\n",
      "$$\n",
      "\\begin{aligned}\n",
      "\\Ee_{\\eta} \\left[ \\frac{d}{d\\zeta}\\ell(\\zeta) \\biggl|_{\\zeta=\\eta}\\right] &= \n",
      "n \\left[\\Ee_{\\eta}[\\overline{t(X)}] - \\dot{\\CGF}(\\eta) \\right] \\\\\n",
      "&= n \\left[\\mu(\\eta) - \\mu(\\eta) \\right] \\\\\n",
      "&= 0\n",
      "\\end{aligned}\n",
      "$$\n",
      "This is also true for the score of any $\\xi=h(\\eta)$."
     ]
    },
    {
     "cell_type": "heading",
     "level": 2,
     "metadata": {
      "slideshow": {
       "slide_type": "slide"
      }
     },
     "source": [
      "Fisher information"
     ]
    },
    {
     "cell_type": "markdown",
     "metadata": {
      "slideshow": {
       "slide_type": "fragment"
      }
     },
     "source": [
      "The Fisher information in $(X_1, \\dots, X_n)$ for $\\xi=h(\\eta)$ at $\\eta \\in \\D$ is given by $\\Vv_{\\eta(\\xi)}\\left(\\frac{d}{d\\xi} \\ell(h^{-1}(\\xi)) \\right)$. That is,\n",
      "$$\n",
      "\\begin{aligned}\n",
      "\\I^{(n)}_{\\eta}(h(\\eta)) &= \\Ee_{\\eta} \\left(\\frac{d}{d\\xi} \\ell(h^{-1}(\\xi))^2 \\biggl|_{\\xi=h(\\eta)}\\right) \\\\\n",
      "&= \\frac{\\I^{(n)}_{\\eta}}{\\dot{h}(\\eta)^2}.\n",
      "\\end{aligned}\n",
      "$$"
     ]
    },
    {
     "cell_type": "markdown",
     "metadata": {
      "slideshow": {
       "slide_type": "fragment"
      }
     },
     "source": [
      "Above, \n",
      "$$\n",
      "\\I^{(n)}_{\\eta} = \\I^{(n)}_{\\eta}(\\eta) = n \\Ee_{\\eta}\\left((t(X)-\\dot{\\CGF}(\\eta))^2\\right) = n \\cdot \\Vv_{\\eta}(t(X))\n",
      "$$\n",
      "where $\\Vv_{\\eta}(t(X))$ is the Fisher information for $\\eta$ in one observation."
     ]
    },
    {
     "cell_type": "markdown",
     "metadata": {
      "slideshow": {
       "slide_type": "fragment"
      }
     },
     "source": [
      "On reinspection of the loglikelihood $\\ell(\\eta)$ we see that\n",
      "$$\n",
      "-\\ddot{\\ell}(\\eta) = n \\Vv_{\\eta}(t(X)).\n",
      "$$\n",
      "So, the second derivative of the likelihood is in fact not random and we can write\n",
      "$$\n",
      "\\I^{(n)}_{\\eta} = - \\ddot{\\ell}(\\eta).\n",
      "$$"
     ]
    },
    {
     "cell_type": "markdown",
     "metadata": {
      "exercise": {
       "number": 1
      },
      "slideshow": {
       "slide_type": "slide"
      }
     },
     "source": [
      "### *Exercise: Fisher information for the mean*\n",
      "\n",
      "Compute the Fisher information for the mean parameter in an IID sample $(X_1, \\dots, X_n)$."
     ]
    },
    {
     "cell_type": "markdown",
     "metadata": {
      "exercise": {
       "number": 1
      },
      "slideshow": {
       "slide_type": "fragment"
      }
     },
     "source": [
      "### *Exercise: Fisher information as a pullback*\n",
      "\n",
      "Consider the map \n",
      "$$\\real \\ni \\eta \\overset{\\Psi}{\\mapsto} \\left(\\frac{d\\Pp_{\\eta}}{dm_0} \\right)^{1/2} = \\exp \\left(\\frac{1}{2} \\left(\\eta \\cdot t(x) - \\CGF(\\eta) \\right)\\right) \\in L^2(\\Omega, m_0).\n",
      "$$\n",
      "\n",
      "1. Show that the derivative of this map is\n",
      "$$\n",
      "\\frac{\\partial \\Psi}{\\partial \\eta} = \\frac{1}{2} \\left(t(x) - \\dot{\\CGF}(\\eta) \\right)  \\cdot \\exp \\left(\\frac{1}{2} \\left(\\eta \\cdot t(x) - \\CGF(\\eta) \\right)\\right)   \\in L^2(\\Omega, m_0).\n",
      "$$\n",
      "\n",
      "2. Show that\n",
      "$$\n",
      "\\I_{\\eta} = 4 \\left\\|\\frac{\\partial \\Psi}{\\partial \\eta} \\right\\|^2_{L^2(\\Omega, m_0)}.\n",
      "$$\n",
      "\n",
      "Geometrically, this says that the Fisher information is the *pull-back* of the inner product determined by [Hellinger distance](http://en.wikipedia.org/wiki/Hellinger_distance).\n",
      "In other words, the *length* of a curve\n",
      "$$\n",
      "\\int_a^b \\sqrt{\\I_{\\eta}} \\; d\\eta\n",
      "$$\n",
      "in a one-parameter exponential family is, up to the constant factor 2, equal to *arclength* in the Hilbert structure induced by Hellinger distance."
     ]
    },
    {
     "cell_type": "heading",
     "level": 3,
     "metadata": {
      "slideshow": {
       "slide_type": "slide"
      }
     },
     "source": [
      "Cramer-Rao lower bound"
     ]
    },
    {
     "cell_type": "markdown",
     "metadata": {
      "slideshow": {
       "slide_type": "fragment"
      }
     },
     "source": [
      "The Cramer-Rao lower bound for an unbiased estimator $\\hat{\\xi}$ of $\\xi=h(\\eta)$ based on an\n",
      "IID sample $(X_1, \\dots, X_n)$ from $\\Pp_{\\eta}$ is\n",
      "$$\n",
      "\\Vv_{\\eta}(\\hat{\\xi}) \\geq \\frac{1}{\\I^{(n)}_{\\eta}(h(\\eta))} = \\frac{\\dot{h}(\\eta)^2}{n \\cdot \\Vv_{\\eta}(t(X))}.\n",
      "$$\n",
      "\n",
      "Applying this to $\\mu=\\dot{\\CGF}(\\eta)$ yields\n",
      "$$\n",
      "\\Vv_{\\eta}(\\hat{\\mu}) \\geq \\frac{\\ddot{\\CGF}(\\eta)^2}{n \\cdot \\Vv_{\\eta}(t(X))} = \\frac{\\Vv_{\\eta}(t(X))}{n}\n",
      "$$\n",
      "and\n",
      "$$\n",
      "\\hat{\\mu} = \\overline{t(X)}\n",
      "$$\n",
      "achieves the Cramer-Rao lower bound. This happens for linear functions of $\\mu$ but generally not for $\\eta$.\n",
      "\n",
      "The Cramer-Rao bound applies for unbiased estimators. In general the MLE $\\hat{\\xi}=h(\\hat{\\eta})$ is not unbiased and the bias should be included. Nevertheless, the delta rule approximation\n",
      "$$\n",
      "\\Vv(\\hat{\\xi}) \\approx \\frac{\\dot{h}(\\eta)^2}{n \\Vv_{\\eta}(t(X))}\n",
      "$$\n",
      "is usually reasonable. In practice, of course we don't know $\\eta$ so we must use\n",
      "$$\n",
      "\\widehat{\\Vv(\\hat{\\xi})} \\approx \\frac{\\dot{h}(\\widehat{\\eta})^2}{n \\Vv_{\\widehat{\\eta}}(t(X))}\n",
      "$$"
     ]
    },
    {
     "cell_type": "heading",
     "level": 3,
     "metadata": {
      "slideshow": {
       "slide_type": "slide"
      }
     },
     "source": [
      "Deviance"
     ]
    },
    {
     "cell_type": "markdown",
     "metadata": {
      "slideshow": {
       "slide_type": "fragment"
      }
     },
     "source": [
      "The *deviance* (also known as *mutual information*, *Kullback Leibler (KL) divergence*) between probability measures\n",
      "is defined as\n",
      "$$\n",
      "D(\\Pp_1;\\Pp_2) =\n",
      "\\begin{cases}\n",
      "2 \\cdot \\Ee_{1} \\left(\\log \\frac{d\\Pp_1}{d\\Pp_2}\\right) & \\Pp_2 \\ll \\Pp_1 \\\\\n",
      "\\infty & \\text{otherwise.}\n",
      "\\end{cases}\n",
      "$$\n",
      "\n",
      "This notation is  slightly different then the usual notation for [KL divergence](http://en.wikipedia.org/wiki/Kullback%E2%80%93Leibler_divergence):\n",
      "$$\n",
      "D_{KL}(\\Pp|| \\mathbb{Q}) = \\Ee_{\\Pp}\\left(\\frac{d\\mathbb{Q}}{d\\Pp}\\right).\n",
      "$$\n",
      "\n",
      "I have used the same indexing as Brad Efron's notes: the first parameter is the one the integral is computed with respect to."
     ]
    },
    {
     "cell_type": "markdown",
     "metadata": {
      "exercise": {
       "number": 1
      },
      "slideshow": {
       "slide_type": "slide"
      }
     },
     "source": [
      "### *Exercise: deviance in exponential families*\n",
      "\n",
      "1. Show that, in a one-parameter exponential family $\\F$, for any $\\eta_1, \\eta_2 \\in \\D(\\F)$\n",
      "$$\n",
      "\\begin{aligned}\n",
      "D(\\eta_1;\\eta_2) &\\overset{\\Delta}{=} D(\\Pp_{\\eta_1}, \\Pp_{\\eta_2}) \\\\\n",
      "&= 2 \\cdot \\left[ \\CGF(\\eta_2) - \\CGF(\\eta_1) + (\\eta_1-\\eta_2) \\cdot \\dot{\\CGF}(\\eta_1) \\right].\n",
      "\\end{aligned}\n",
      "$$\n",
      "\n",
      "2. Give a direct argument based on convexity that shows that $D(\\eta_1;\\eta_2) \\geq 0$."
     ]
    },
    {
     "cell_type": "heading",
     "level": 3,
     "metadata": {
      "slideshow": {
       "slide_type": "slide"
      }
     },
     "source": [
      "Convexity picture"
     ]
    },
    {
     "cell_type": "markdown",
     "metadata": {
      "slideshow": {
       "slide_type": "fragment"
      }
     },
     "source": [
      "The form of the deviance in one-parameter exponential families shows that it is in fact\n",
      "a remainder in a Taylor series\n",
      "$$\n",
      "\\CGF(\\eta_2) = \\CGF(\\eta_1) + (\\eta_2-\\eta_1) \\cdot \\dot{\\CGF}(\\eta_1) + R(\\eta_1;\\eta_2)\n",
      "$$\n",
      "with \n",
      "$$\n",
      "R(\\eta_1;\\eta_2) = \\frac{1}{2} D(\\eta_1;\\eta_2) = \\frac{1}{2} \\ddot{\\CGF}(\\theta) (\\eta_1-\\eta_2)^2\n",
      "$$\n",
      "for some $\\theta=\\theta(\\eta_1,\\eta_2) \\in [\\eta_1,\\eta_2]$."
     ]
    },
    {
     "cell_type": "markdown",
     "metadata": {
      "slideshow": {
       "slide_type": "slide"
      }
     },
     "source": [
      "Let's make a simple exponential family, which we suppose has\n",
      "$$\n",
      "\\begin{aligned}\n",
      "\\CGF(\\eta) &= 5 \\eta^2 - \\log(\\eta) \\\\\n",
      "\\dot{\\CGF}(\\eta) &= 10 \\eta - \\eta^{-1}\n",
      "\\end{aligned}\n",
      "$$"
     ]
    },
    {
     "cell_type": "code",
     "collapsed": false,
     "input": [
      "# Two points in the domain\n",
      "\n",
      "eta1 = 1.5\n",
      "d_eta1 = 1\n",
      "eta2 = eta1 + d_eta1\n",
      "\n",
      "# Our CGF\n",
      "\n",
      "def CGF(eta):\n",
      "    return 5*eta**2 - np.log(eta)\n",
      "\n",
      "# Derivative of the CGF\n",
      "\n",
      "def dotCGF(eta):\n",
      "    return 10*eta - 1/eta"
     ],
     "language": "python",
     "metadata": {
      "slideshow": {
       "slide_type": "fragment"
      }
     },
     "outputs": [],
     "prompt_number": 26
    },
    {
     "cell_type": "markdown",
     "metadata": {
      "slideshow": {
       "slide_type": "slide"
      }
     },
     "source": [
      "Here is our deviance function on the $\\eta$ scale"
     ]
    },
    {
     "cell_type": "code",
     "collapsed": false,
     "input": [
      "# Deviance on the natural parameter scale\n",
      "\n",
      "def deviance(eta2, eta1=eta1):\n",
      "    return 2 * (CGF(eta2) - CGF(eta1) + (eta1-eta2) * dotCGF(eta1))\n",
      "\n",
      "deviance(eta2, eta1)"
     ],
     "language": "python",
     "metadata": {
      "slideshow": {
       "slide_type": "fragment"
      }
     },
     "outputs": [
      {
       "output_type": "pyout",
       "prompt_number": 27,
       "text": [
        "10.311682085801348"
       ]
      }
     ],
     "prompt_number": 27
    },
    {
     "cell_type": "markdown",
     "metadata": {
      "slideshow": {
       "slide_type": "fragment"
      }
     },
     "source": [
      "We can plot the deviance as the difference, at $\\eta_2$ between the tangent approximation to the graph of $\\CGF$ at $\\eta_1$ and the true\n",
      "$\\CGF(\\eta_2)$."
     ]
    },
    {
     "cell_type": "code",
     "collapsed": false,
     "input": [
      "# Plotting points\n",
      "\n",
      "eta = np.linspace(eta1- d_eta1,eta1+1.5 * d_eta1,101)\n",
      "plt.figure(figsize=(8,8))\n",
      "\n",
      "# Plot the CGF\n",
      "\n",
      "plt.plot(eta, CGF(eta), label=r'$\\Lambda(\\eta)$', linewidth=4)\n",
      "\n",
      "# First order Taylor approximaton at eta1\n",
      "\n",
      "plt.plot(eta, CGF(eta1) + (eta-eta1) * dotCGF(eta1), label=r'$\\Lambda(\\eta_1) + \\dot{\\Lambda}(\\eta_1) (\\eta-\\eta_1)$', linewidth=4)\n",
      "\n",
      "# Difference between CGF and approximation: half the deviance\n",
      "\n",
      "plt.plot([eta2,eta2],[CGF(eta2), CGF(eta1) + d_eta1 * dotCGF(eta1)], label=r'$D(\\eta_1;\\eta_2)/2$', linewidth=4)\n",
      "\n",
      "# Markers for where the two points are\n",
      "\n",
      "plt.plot([eta1,eta1],[0,CGF(eta1)], linestyle='--', color='gray', linewidth=4)\n",
      "plt.plot([eta2,eta2],[0,CGF(eta2)-deviance(eta2,eta1)/2], linestyle='--', color='gray', linewidth=4)\n",
      "\n",
      "# Labelling\n",
      "\n",
      "a = plt.gca()\n",
      "a.set_xticks([eta1,eta2])\n",
      "a.set_xticklabels([r'$\\eta_1$', r'$\\eta_2$'], size=15)\n",
      "a.set_xlim(sorted([eta1-.8*d_eta1, eta1+1.2*d_eta1]))\n",
      "a.set_ylim([0,40])\n",
      "a.set_xlabel(r'$\\eta \\in {\\cal D}$', size=20)\n",
      "a.set_ylabel(r'$\\Lambda(\\eta)$', size=20)\n",
      "\n",
      "# Add a legend and title\n",
      "\n",
      "plt.legend(loc='upper left')\n",
      "a.set_title(r'Convexity picture on ${\\cal D}$ at $(\\eta_1,\\eta_2)=(%0.1f,%0.1f)$' % (eta1,eta2), size=20)\n",
      "f = plt.gcf()\n",
      "plt.close()"
     ],
     "language": "python",
     "metadata": {
      "slideshow": {
       "slide_type": "slide"
      }
     },
     "outputs": [],
     "prompt_number": 28
    },
    {
     "cell_type": "markdown",
     "metadata": {
      "slideshow": {
       "slide_type": "slide"
      }
     },
     "source": [
      "Finally, here is our rendered figure."
     ]
    },
    {
     "cell_type": "code",
     "collapsed": false,
     "input": [
      "f"
     ],
     "language": "python",
     "metadata": {
      "slideshow": {
       "slide_type": "fragment"
      }
     },
     "outputs": [
      {
       "output_type": "pyout",
       "png": "[encoded data removed]",
       "prompt_number": 29,
       "text": [
        "<matplotlib.figure.Figure at 0x11112eed0>"
       ]
      }
     ],
     "prompt_number": 29
    },
    {
     "cell_type": "markdown",
     "metadata": {
      "exercise": {
       "number": 1
      },
      "slideshow": {
       "slide_type": "slide"
      }
     },
     "source": [
      "### *Exercise: convexity picture for Poisson family*\n",
      "\n",
      "1. Plot the convexity picture for the  Poisson family with $\\eta_1$ corresponding to a mean of 10 and $\\eta_2$ to a mean of 20."
     ]
    },
    {
     "cell_type": "heading",
     "level": 3,
     "metadata": {
      "slideshow": {
       "slide_type": "slide"
      }
     },
     "source": [
      "Hoeffding's formula"
     ]
    },
    {
     "cell_type": "markdown",
     "metadata": {
      "slideshow": {
       "slide_type": "fragment"
      }
     },
     "source": [
      "Let $\\widehat{\\eta}(t(x)) = \\dot{\\CGF}^*(t(x))$ denote the\n",
      "MLE of $\\eta$ having observed $t(x)$ as  sufficient statistic. Then, using the identity\n",
      "$$\n",
      "t(x) = \\dot{\\CGF}(\\widehat{\\eta}(t(x))),\n",
      "$$\n",
      "we arrive at\n",
      "$$\n",
      "\\frac{d\\Pp_{\\eta}}{d\\Pp_{\\widehat{\\eta}}}(x) = e^{-D(\\widehat{\\eta}(t(x));\\eta)/2}.\n",
      "$$"
     ]
    },
    {
     "cell_type": "markdown",
     "metadata": {
      "slideshow": {
       "slide_type": "fragment"
      }
     },
     "source": [
      "This leads to a scaled version of the likelihood having maximum value 1.\n",
      "$$\n",
      "L(\\eta) = \\exp\\left(-D(\\widehat{\\eta}(t(X)); \\eta)/2\\right) = \\exp \\left(\\eta \\cdot t(X) - \\CGF(\\eta) - \\CGF^*(t(X)) \\right).\n",
      "$$\n",
      "In the $\\Mm$ parametrization, this reads as\n",
      "$$\n",
      "\\tilde{L}(\\mu)=L(\\eta(\\mu)) =  \\exp\\left(-D(\\eta(\\widehat{\\mu}); \\eta(\\mu))/2\\right) = \\exp \\left(-\\tilde{D}(t(X);\\mu)/2 \\right).\n",
      "$$\n",
      "\n",
      "The other point we see here is that *maximum likelihood estimation* is the same as\n",
      "*minimum deviance* or *minimum KL estimation*. That is,\n",
      "$$\n",
      "\\argmax_{\\eta}  \\left[\\eta\\cdot  t(X) - \\CGF(\\eta) \\right] = \\argmin_{\\eta} D(\\eta(t(X));\\eta).\n",
      "$$"
     ]
    },
    {
     "cell_type": "markdown",
     "metadata": {
      "exercise": {
       "number": 1
      },
      "slideshow": {
       "slide_type": "slide"
      }
     },
     "source": [
      "### *Exercise: the Normal deviance*\n",
      "\n",
      "1. When the family is the Normal family with unknown mean and known variance $\\sigma^2$, \n",
      "show that\n",
      "$$\n",
      "\\eta(\\mu) = \\dot{\\CGF}^*(\\mu) = \\frac{\\mu}{2 \\sigma^2}.\n",
      "$$\n",
      "\n",
      "2. Conclude that\n",
      "$$\n",
      "\\tilde{D}(t(X);\\mu) = \\frac{(t(X)-\\mu)^2}{\\sigma^2}\n",
      "$$\n",
      "\n",
      "### *Exercise: familiar deviances*\n",
      "\n",
      "In both the $\\Mm$ and $\\D$ parameterization, compute the deviances for the following families:\n",
      "\n",
      "1. Poisson with mean parameter $\\mu \\in \\Mm$.\n",
      "\n",
      "2. Binomial with $n$ trials having probability of success $n \\cdot \\pi \\in \\Mm$ ($n$ is fixed).\n",
      "\n",
      "3. Gamma with fixed shape parameter $k$ and mean $k \\cdot \\mu \\in \\Mm$."
     ]
    },
    {
     "cell_type": "heading",
     "level": 3,
     "metadata": {
      "slideshow": {
       "slide_type": "slide"
      }
     },
     "source": [
      "Deviance under IID sampling"
     ]
    },
    {
     "cell_type": "markdown",
     "metadata": {
      "slideshow": {
       "slide_type": "fragment"
      }
     },
     "source": [
      "Suppose we observe $n$ IID samples from a one-parameter exponential family $\\F$. Then, the total deviance\n",
      "is\n",
      "$$\n",
      "\\begin{aligned}\n",
      "D^{(n)}(\\eta_1;\\eta_2) = 2 n D(\\eta_1;\\eta_2).\n",
      "\\end{aligned}\n",
      "$$"
     ]
    },
    {
     "cell_type": "heading",
     "level": 3,
     "metadata": {
      "slideshow": {
       "slide_type": "slide"
      }
     },
     "source": [
      "Deviance and Fisher information"
     ]
    },
    {
     "cell_type": "markdown",
     "metadata": {
      "slideshow": {
       "slide_type": "fragment"
      }
     },
     "source": [
      "So, as with Fisher information, the deviance grows with $n$. The first and second order\n",
      "versions of Taylor's theorem imply\n",
      "$$\n",
      "\\begin{aligned}\n",
      "\\CGF(\\eta_2) &= \\CGF(\\eta_1) + \\dot{\\CGF}(\\eta_1) \\cdot (\\eta_1-\\eta_2) - \\frac{1}{2} D(\\eta_1;\\eta_2) \\\\\n",
      "&= \\CGF(\\eta_1) + \\dot{\\CGF}(\\eta_1) \\cdot (\\eta_1-\\eta_2) + \\frac{1}{2} \\ddot{\\CGF}(\\eta_1-\\eta_2)^2 + \\CGF^{(3)}(\\theta) \\frac{(\\eta_1-\\eta_2)^3}{6}\n",
      "\\end{aligned}\n",
      "$$\n",
      "for some $\\theta \\in [\\eta_1,\\eta_2]$. We see, then, that\n",
      "$$\n",
      "\\left|D(\\eta_1;\\eta_2) - \\I_{\\eta_1} (\\eta_1-\\eta_2)^2 \\right| \\leq C(\\eta_1; |\\eta_1-\\eta_2|) \\cdot \\frac{ (\\eta_1-\\eta_2)^3}{6}\n",
      "$$\n",
      "where \n",
      "$$\n",
      "C(\\eta;r) = \\sup_{\\theta:|\\theta-\\eta|\\leq r} \\frac{|\\ddot{\\CGF}(\\theta) - \\ddot{\\CGF}(\\eta)|}{|\\theta-\\eta|} = \n",
      " \\sup_{\\theta:|\\theta-\\eta|\\leq r} \\frac{|\\I_{\\theta} - \\I_{\\eta}|}{|\\theta-\\eta|}\n",
      "$$\n",
      "is a local Lipschitz constant or modulus of continuity for $\\I$  at $\\eta$."
     ]
    },
    {
     "cell_type": "markdown",
     "metadata": {
      "exercise": {
       "number": 1
      },
      "slideshow": {
       "slide_type": "slide"
      }
     },
     "source": [
      "### *Exercise: dual version of convexity picture*\n",
      "\n",
      "In this exercise, we parameterize the deviance by $\\mu$ instead of $\\eta$. \n",
      "\n",
      "1. Show that\n",
      "$$\n",
      "\\CGF^*(\\mu) = \\dot{\\CGF}^*(\\mu) \\cdot \\mu - \\CGF(\\dot{\\CGF}^*(\\mu)).\n",
      "$$\n",
      "\n",
      "2. Verify $\\CGF^*$ in the code below.\n",
      "\n",
      "3. Use this to verify the convexity picture below for\n",
      "$$\n",
      "\\tilde{D}(\\mu_1;\\mu_2) \\overset{\\Delta}{=} D(\\eta(\\mu_1);\\eta(\\mu_2))\n",
      "$$\n",
      "as above in the $\\mu$ parametrization.\n",
      "\n",
      "4. From the picture below, give an explicit formula for $\\tilde{D}(\\mu_1;\\mu_2)$.\n"
     ]
    },
    {
     "cell_type": "markdown",
     "metadata": {
      "slideshow": {
       "slide_type": "slide"
      }
     },
     "source": [
      "Based on our previous exponential family, here are the conjugate and its derivative.\n",
      "Note that we only need to compute the MLE map to compute $\\CGF^*$."
     ]
    },
    {
     "cell_type": "code",
     "collapsed": false,
     "input": [
      "# Based on the previous family, the MLE map\n",
      "\n",
      "def dotCGFstar(mu):\n",
      "    return (mu + np.sqrt(mu**2+40)) / 20.\n",
      "\n",
      "# A general formula for CGF^*\n",
      "\n",
      "def CGFstar(mu):\n",
      "    return dotCGFstar(mu)*mu-CGF(dotCGFstar(mu))"
     ],
     "language": "python",
     "metadata": {
      "slideshow": {
       "slide_type": "fragment"
      }
     },
     "outputs": [],
     "prompt_number": 30
    },
    {
     "cell_type": "code",
     "collapsed": false,
     "input": [
      "# Find the two corresponding points from natural parameter scale\n",
      "\n",
      "mu1 = dotCGF(eta1)\n",
      "mu2 = dotCGF(eta2)\n",
      "d_mu2 = mu1 - mu2\n",
      "\n",
      "mu = np.linspace(mu2- d_mu2,mu2+1.5 * d_mu2,101)\n",
      "plt.figure(figsize=(8,8))\n",
      "\n",
      "# Plot CGF^*\n",
      "\n",
      "plt.plot(mu, CGFstar(mu), label=r'$\\Lambda^*(\\mu)$', linewidth=4)\n",
      "\n",
      "# The first order Taylor approximation\n",
      "\n",
      "plt.plot(mu, CGFstar(mu2) + (mu-mu2) * dotCGFstar(mu2), label=r'$\\Lambda^*(\\mu_2) + \\dot{\\Lambda}^*(\\mu_2) (\\mu-\\mu_2)$', linewidth=4)\n",
      "\n",
      "# The difference between CGF^* and the Taylor approximation at mu1\n",
      "\n",
      "plt.plot([mu1,mu1],[CGFstar(mu1), CGFstar(mu2) + d_mu2 * dotCGFstar(mu2)], label=r'$\\tilde{D}(\\mu_1;\\mu_2)/2$', linewidth=4)\n",
      "\n",
      "# Mark where the points are\n",
      "\n",
      "plt.plot([mu1,mu1],[0,CGFstar(mu1)-deviance(eta1,eta2)/2], linestyle='--', color='gray', linewidth=4)\n",
      "plt.plot([mu2,mu2],[0,CGFstar(mu2)], linestyle='--', color='gray', linewidth=4)\n",
      "\n",
      "# Labelling \n",
      "\n",
      "a = plt.gca()\n",
      "a.set_xticks([mu1,mu2])\n",
      "a.set_xticklabels([r'$\\mu_1$', r'$\\mu_2$'], size=15)\n",
      "a.set_xlim(sorted([mu2-1.2*d_mu2, mu2+1.2*d_mu2]))\n",
      "a.set_xlabel(r'$\\mu \\in {\\cal M}$', size=20)\n",
      "a.set_ylabel(r'$\\Lambda^*(\\mu)$', size=20)\n",
      "\n",
      "plt.legend(loc='upper left')\n",
      "\n",
      "# Add a legend and title\n",
      "\n",
      "a.set_title(r\"\"\"Convexity picture  on ${\\cal M}$ at \n",
      "$(\\mu_1,\\mu_2)=(\\dot{\\Lambda}^*(%0.1f), \\dot{\\Lambda}^*(%0.1f)\\approx(%0.2f,%0.2f))$\"\"\" % (eta1,eta2,mu1,mu2), size=20)\n",
      "\n",
      "f = plt.gcf()\n",
      "plt.close()"
     ],
     "language": "python",
     "metadata": {
      "slideshow": {
       "slide_type": "slide"
      }
     },
     "outputs": [],
     "prompt_number": 31
    },
    {
     "cell_type": "markdown",
     "metadata": {
      "slideshow": {
       "slide_type": "slide"
      }
     },
     "source": [
      "Here is our rendered figure."
     ]
    },
    {
     "cell_type": "code",
     "collapsed": false,
     "input": [
      "f"
     ],
     "language": "python",
     "metadata": {
      "slideshow": {
       "slide_type": "subslide"
      }
     },
     "outputs": [
      {
       "output_type": "pyout",
       "png": "[encoded data removed]",
       "prompt_number": 32,
       "text": [
        "<matplotlib.figure.Figure at 0x1103c2810>"
       ]
      }
     ],
     "prompt_number": 32
    },
    {
     "cell_type": "heading",
     "level": 2,
     "metadata": {
      "slideshow": {
       "slide_type": "slide"
      }
     },
     "source": [
      "Deviance residuals"
     ]
    },
    {
     "cell_type": "markdown",
     "metadata": {
      "slideshow": {
       "slide_type": "fragment"
      }
     },
     "source": [
      "For the normal family, you showed in your homework that, in the mean parameter, the deviance has the form \n",
      "$$\n",
      "\\tilde{D}(\\hat{\\mu};\\mu) = \\frac{(\\hat{\\mu}-\\mu)^2}{\\sigma^2}.\n",
      "$$\n",
      "Hence, it is like a normalized residual squared. To recover the original residual, one would compute\n",
      "$$\n",
      "r(\\hat{\\mu};\\mu) = \\sqrt{\\tilde{D}(\\hat{\\mu};\\mu)} \\cdot \\text{sign}(\\hat{\\mu}-\\mu).\n",
      "$$\n",
      "This is the general form of a *deviance residual*."
     ]
    },
    {
     "cell_type": "markdown",
     "metadata": {
      "slideshow": {
       "slide_type": "slide"
      }
     },
     "source": [
      "In the repeated sampling setting, we observe a *sample* of deviance residuals. Namely,\n",
      "$$\n",
      "r_i = r(\\overline{t(X)};t(X_i)).\n",
      "$$\n",
      "There is also a deviance residual for $\\overline{t(X)}$ with respect to $\\mu$\n",
      "$$\n",
      "\\begin{aligned}\n",
      "R_D &= \\text{sign}(\\overline{t(X)}-\\mu) \\cdot \\sqrt{\\tilde{D}_n(\\overline{t(X)};\\mu)}\\\\\n",
      "&= \\text{sign}(\\overline{t(X)}-\\mu) \\cdot \\sqrt{n \\cdot \\tilde{D}(\\overline{t(X)};\\mu)}\\\\\n",
      "\\end{aligned}\n",
      "$$"
     ]
    },
    {
     "cell_type": "markdown",
     "metadata": {
      "slideshow": {
       "slide_type": "fragment"
      }
     },
     "source": [
      "We might compare this with the *Pearson residual*\n",
      "$$\n",
      "\\begin{aligned}\n",
      "R_P = \\frac{\\overline{t(X)}-\\mu}{\\sqrt{\\Vv_{\\eta}(t(X)) / n}}.\n",
      "\\end{aligned}\n",
      "$$\n",
      "\n",
      "Below are comparisons of the two residuals for a sample of size 10 from $\\text{Poisson}(1)$. Generally speaking, the deviance residuals are closer to normal than Pearson residuals."
     ]
    },
    {
     "cell_type": "code",
     "collapsed": false,
     "input": [
      "%%R\n",
      "mu = 10\n",
      "nsim = 10000\n",
      "Y = rpois(nsim, mu)\n",
      "\n",
      "dev.resid = sign(Y-mu)*sqrt(2*(Y*log(Y/mu)-(Y-mu)))\n",
      "qqnorm(dev.resid)\n",
      "abline(0,1)"
     ],
     "language": "python",
     "metadata": {
      "slideshow": {
       "slide_type": "slide"
      }
     },
     "outputs": [
      {
       "output_type": "display_data",
       "png": "[encoded data removed]"
      }
     ],
     "prompt_number": 33
    },
    {
     "cell_type": "code",
     "collapsed": false,
     "input": [
      "%%R\n",
      "pearson.resid = (Y-mu) / sqrt(mu)\n",
      "qqnorm(pearson.resid)\n",
      "abline(0,1)"
     ],
     "language": "python",
     "metadata": {
      "slideshow": {
       "slide_type": "slide"
      }
     },
     "outputs": [
      {
       "output_type": "display_data",
       "png": "[encoded data removed]"
      }
     ],
     "prompt_number": 34
    },
    {
     "cell_type": "markdown",
     "metadata": {
      "slideshow": {
       "slide_type": "fragment"
      }
     },
     "source": [
      "Of course, for Poisson the residuals can't be exactly normal: there is some lattice effect. We do see that the deviance residuals are closer to the diagonal than the Pearson residuals in the tails, though in the center, the approximation looks reasonable."
     ]
    },
    {
     "cell_type": "heading",
     "level": 3,
     "metadata": {
      "slideshow": {
       "slide_type": "slide"
      }
     },
     "source": [
      "Bias and variance correction of deviance residuals"
     ]
    },
    {
     "cell_type": "markdown",
     "metadata": {
      "slideshow": {
       "slide_type": "fragment"
      }
     },
     "source": [
      "(From Appendix C, McCullagh and Nelder)\n",
      "\n",
      "The deviance residual of $\\overline{t(X)}$ for $\\mu$ is asymptotically \n",
      "$$\n",
      "N(B_n, V_n)\n",
      "$$\n",
      "with\n",
      "$$\n",
      "\\begin{aligned}\n",
      "B_n &= \\frac{ \\rho_3}{6}\\\\\n",
      "V_n &= \\left (1 + \\frac{7}{36} \\rho_3^2 - \\frac{\\rho_4}{8} \\right)^2\n",
      "\\end{aligned}\n",
      "$$\n",
      "where\n",
      "$$\n",
      "\\begin{aligned}\n",
      "\\rho_3 &= \\text{Skew}(\\overline{t(X)},\\Pp_{\\eta}) \\\\\n",
      "\\rho_4 &= \\text{Kurtosis}(\\overline{t(X)},\\Pp_{\\eta}) \\\\\n",
      "\\end{aligned}\n",
      "$$"
     ]
    },
    {
     "cell_type": "markdown",
     "metadata": {
      "slideshow": {
       "slide_type": "slide"
      }
     },
     "source": [
      "Hence, families whose sufficient statistics are highly skewed will have poorer approximations by the normal distribution.\n",
      "\n",
      "The corresponding result for the deviance itself is \n",
      "$$\n",
      "D_n(\\overline{t(X)};\\mu) \\approx \\left(1 + \\frac{5 \\rho_3^2 - 3 \\rho_4}{12} \\right) \\cdot \\chi^2_1.\n",
      "$$\n",
      "\n",
      "These results extend to multiparameter versions as well."
     ]
    },
    {
     "cell_type": "markdown",
     "metadata": {
      "exercise": {
       "number": 1
      },
      "slideshow": {
       "slide_type": "slide"
      }
     },
     "source": [
      "### *Exercise*\n",
      "\n",
      "In this exercise, we use the Gamma exponential family with fixed shape parameter set to 1.\n",
      "That is, $t(x)=x$ and\n",
      "$$\n",
      "\\Pp_{\\eta}(dx) = e^{\\eta \\cdot x - \\CGF(\\eta)} \\; dx \\qquad x \\geq 0.\n",
      "$$\n",
      "\n",
      "1. Compute the skewness and kurtosis of $\\overline{t(X)}=\\bar{X}_n$ for an IID sample of size\n",
      "$n$.\n",
      "\n",
      "2. Set $\\eta=1$ and simulate the deviance residual for $\\bar{X}_n$ with respect to $\\eta$. Compare this distribution to $N(B_n, V_n)$ for various values of $n$. \n",
      "\n",
      "3. Try to choose the sample size $n$, so that $B_n$ is approximately 1/2."
     ]
    },
    {
     "cell_type": "heading",
     "level": 2,
     "metadata": {
      "slideshow": {
       "slide_type": "slide"
      }
     },
     "source": [
      "References"
     ]
    },
    {
     "cell_type": "markdown",
     "metadata": {
      "slideshow": {
       "slide_type": "fragment"
      }
     },
     "source": [
      "* Efron, B. [Defining the Curvature of a Statistical Problem (with Applications to Second Order Efficiency)](http://projecteuclid.org/euclid.aos/1176343282)\n",
      "\n",
      "* Efron, B. [The geometry of exponential families]( http://projecteuclid.org/euclid.aos/1176344130)\n",
      "\n",
      "* McCullagh, P. and Nelder, J., Appendix C [Generalized Linear Models](http://www.amazon.com/Generalized-Edition-Monographs-Statistics-Probability/dp/0412317605/ref=sr_1_1?ie=UTF8&qid=1364859736&sr=8-1&keywords=mccullagh+nelder)"
     ]
    },
    {
     "cell_type": "code",
     "collapsed": false,
     "input": [],
     "language": "python",
     "metadata": {},
     "outputs": [],
     "prompt_number": 34
    },
    {
     "cell_type": "code",
     "collapsed": false,
     "input": [],
     "language": "python",
     "metadata": {},
     "outputs": [],
     "prompt_number": 34
    }
   ],
   "metadata": {}
  }
 ]
}