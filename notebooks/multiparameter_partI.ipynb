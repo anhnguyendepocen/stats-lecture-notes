{
 "metadata": {
  "name": "multiparameter_partI"
 },
 "nbformat": 3,
 "nbformat_minor": 0,
 "worksheets": [
  {
   "cells": [
    {
     "cell_type": "heading",
     "level": 1,
     "metadata": {
      "slideshow": {
       "slide_type": "slide"
      }
     },
     "source": [
      "Multiparameter exponential families"
     ]
    },
    {
     "cell_type": "heading",
     "level": 2,
     "metadata": {
      "slideshow": {
       "slide_type": "slide"
      }
     },
     "source": [
      "General definitions"
     ]
    },
    {
     "cell_type": "markdown",
     "metadata": {
      "slideshow": {
       "slide_type": "fragment"
      }
     },
     "source": [
      "Not surprisingly, a *multi-parameter* exponential family, $\\F$ is a multi-parameter family of distributions of the form\n",
      "$$\n",
      "\\Pp_{\\eta}(dx) = \\exp\\left(\\eta^T t(x) - \\CGF(\\eta)\\right) m_0(dx), \\eta \\in \\real^p.\n",
      "$$\n",
      "for some reference measure $m_0$ on $\\Omega$.\n",
      "\n",
      "Nothing really changes except $\\eta \\cdot t(x)$ has changed to\n",
      "$\\eta^Tt(x)$.\n",
      "This indicates that there is a vector $\\eta=(\\eta_1, \\dots, \\eta_p)$ of *natural\n",
      "parameters* as well as a vector $t(x)=(t_1(x), \\dots, t_p(x))$ of *sufficient statistics*."
     ]
    },
    {
     "cell_type": "markdown",
     "metadata": {
      "slideshow": {
       "slide_type": "slide"
      }
     },
     "source": [
      "Again, $\\CGF:\\real^p \\rightarrow \\real$ is the normalizing constant needed to make $\\Pp_{\\eta}$ a proper probability distribution\n",
      "$$\n",
      "e^{\\CGF(\\eta)}= \\int_{\\Omega} e^{\\eta^T t(x)} \\; m_0(dx).\n",
      "$$\n",
      "    \n",
      "The *domain* is \n",
      "$$\n",
      "\\D(\\F) = \\left\\{\\eta: \\CGF(\\eta) < \\infty \\right\\}.\n",
      "$$\n",
      "\n",
      "    "
     ]
    },
    {
     "cell_type": "markdown",
     "metadata": {
      "slideshow": {
       "slide_type": "slide"
      }
     },
     "source": [
      "### *Exercise: normal family*\n",
      "\n",
      "1. Show that the family of distributions\n",
      "$$\n",
      "\\Pp_{\\eta} = {\\cal L}\\left((X_1, \\dots, X_N) \\overset{IID} \\sim N(\\mu,\\sigma^2) \\right)\n",
      "$$\n",
      "can be written as a 2-dimensional exponential family with sufficient statistic\n",
      "$$\n",
      "t(x_1, \\dots, x_m) = \\left( \\frac{1}{n} \\sum_{i=1}^N x_i, \\frac{1}{n} \\sum_{i=1}^N {x_i^2}\\right).\n",
      "$$\n",
      "\n",
      "2. What is the carrier measure?\n"
     ]
    },
    {
     "cell_type": "markdown",
     "metadata": {
      "slideshow": {
       "slide_type": "fragment"
      }
     },
     "source": [
      "In this family all of the information about $(\\mu,\\sigma^2)$ is contained in \n",
      "a 2-dimensional statistic. This, of course, is the basis of *sufficiency*.\n",
      "\n"
     ]
    },
    {
     "cell_type": "markdown",
     "metadata": {
      "slideshow": {
       "slide_type": "slide"
      }
     },
     "source": [
      "In general, if we observe $(X_1, \\dots, X_n) \\overset{IID}{\\sim} \\Pp_{\\eta}$\n",
      "there is a corresponding $p$-dimensional exponential family of distributions on \n",
      "$\\real^p$ which we might denote by\n",
      "$$\n",
      "\\tilde{\\Pp}_{\\eta}(A) \\overset{\\Delta}{=} \\Pp_{\\eta}(t(X) \\in A)\n",
      "$$\n",
      "which is the just the *push-forward* of $\\Pp_{\\eta}$ under $t:\\Omega \\rightarrow \\real^p$."
     ]
    },
    {
     "cell_type": "markdown",
     "metadata": {
      "slideshow": {
       "slide_type": "fragment"
      }
     },
     "source": [
      "### *Exercise: the pushed forward family*\n",
      "\n",
      "1. What is the sufficient statistic of the family $\\tilde{F} = \\left\\{\\tilde{\\Pp}_{\\eta}\\right\\}$?\n",
      "\n",
      "2. What is the reference measure?\n",
      "\n",
      "3. What is the domain of $\\tilde{F}$?"
     ]
    },
    {
     "cell_type": "heading",
     "level": 2,
     "metadata": {
      "slideshow": {
       "slide_type": "slide"
      }
     },
     "source": [
      "Expectation and variances"
     ]
    },
    {
     "cell_type": "markdown",
     "metadata": {
      "slideshow": {
       "slide_type": "fragment"
      }
     },
     "source": [
      "As in the case of a one-parameter family, the expected values of the sufficient statistic\n",
      "is determined by the CGF, $\\CGF$. That is,\n",
      "$$\n",
      "\\Ee_{\\eta}(t(X)) = \\nabla \\CGF(\\eta).\n",
      "$$\n",
      "\n",
      "This motivates the definition of the *mean parameter space* \n",
      "$$\n",
      "\\Mm(\\F) = \\text{conv} \\left(\\left\\{t(x): x \\in \\Omega\\right\\}\\right) = \\text{conv}(t(\\Omega))\n",
      "$$\n",
      "where\n",
      "$\n",
      "\\text{conv}(S)\n",
      "$ is the convex hull of $S$. \n",
      "\n",
      "(Brad Efron's notes and papers, typically refer to $\\CGF(\\D)$ as $B$ and $\\D$ as $A$, notation we may come back to at some point.)"
     ]
    },
    {
     "cell_type": "markdown",
     "metadata": {
      "slideshow": {
       "slide_type": "fragment"
      }
     },
     "source": [
      "Unlike in the one-parameter case, it is possible that\n",
      "$$\n",
      "\\nabla \\CGF(\\D) \\subsetneq \\Mm(\\F).\n",
      "$$\n",
      "\n",
      "See [Geometry of Exponential Families](http://projecteuclid.org/euclid.aos/1176344130) for an example, albeit slightly unnatural. I say unnatural, because the construction uses a carrier measure with \n",
      "a  support that is singular (in a certain sense).\n",
      "\n",
      "As in the one-parameter case variances are also obtained from the $\\CGF$ via\n",
      "$$\n",
      "\\Vv_{\\eta}(t(X)) = \\nabla^2 \\CGF(\\eta).\n",
      "$$"
     ]
    },
    {
     "cell_type": "markdown",
     "metadata": {
      "slideshow": {
       "slide_type": "slide"
      }
     },
     "source": [
      "### *Exercise: convexity*\n",
      "\n",
      "1. Prove that $\\D$ is convex.\n",
      "\n",
      "2. Show that $\\nabla \\CGF(\\D) \\subset \\Mm$."
     ]
    },
    {
     "cell_type": "heading",
     "level": 2,
     "metadata": {
      "slideshow": {
       "slide_type": "slide"
      }
     },
     "source": [
      "The univariate normal family"
     ]
    },
    {
     "cell_type": "markdown",
     "metadata": {
      "slideshow": {
       "slide_type": "fragment"
      }
     },
     "source": [
      "Consider the family\n",
      "$$\n",
      "\\Pp_{\\eta}(dx) = e^{\\eta_1 \\cdot x - \\eta_2 \\cdot x^2/2 - \\CGF(\\eta_1,\\eta_2)} \\; dx.\n",
      "$$\n",
      "The sufficient statistics here are $t(x) = (x,-x^2/2)$. We assume that we have observed\n",
      "$N$ IID samples so\n",
      "the family is\n",
      "$$\n",
      "\\F = \\left\\{\\Pp^N_{\\eta}\\left(\\prod_{i=1}^N dx_i\\right) = e^{N \\cdot[\\eta^Tt(x)  - \\CGF(\\eta_1,\\eta_2)]} \\; \\prod_{i=1}^N dx_i \\right\\}\n",
      "$$\n",
      "with\n",
      "$$\n",
      "t(x)=t(x_1, \\dots, x_N) = \\left(\\frac{1}{N} \\sum_{i=1}^N x_i, -\\frac{1}{2N} \\sum_{i=1}^N x_i^2 \\right)\n",
      "$$"
     ]
    },
    {
     "cell_type": "markdown",
     "metadata": {
      "slideshow": {
       "slide_type": "slide"
      }
     },
     "source": [
      "We see that this is a parameterization of the univariate normal family with \n",
      "$$\n",
      "e^{\\CGF(\\eta_1,\\eta_2)} = \\int_{\\real} e^{\\eta_1 x - \\eta_2 x^2/2} \\; dx = \\sqrt{2\\pi/\\eta_2} \\cdot  e^{\\eta_1^2/2\\eta_2}.\n",
      "$$\n",
      "so that\n",
      "$$\n",
      "\\CGF(\\eta_1,\\eta_2) = \\frac{1}{2} \\left[\\log(2\\pi)- \\log(\\eta_2) + \\frac{\\eta_1^2 }{\\eta_2} \\right]\n",
      "$$\n",
      "\n",
      "The  domain is the upper half plane\n",
      "$$\n",
      "\\D = \\left\\{(\\eta_1, \\eta_2): \\eta_2 > 0 \\right\\}\n",
      "$$\n"
     ]
    },
    {
     "cell_type": "heading",
     "level": 4,
     "metadata": {
      "slideshow": {
       "slide_type": "slide"
      }
     },
     "source": [
      "Means and variances for the normal family"
     ]
    },
    {
     "cell_type": "markdown",
     "metadata": {
      "slideshow": {
       "slide_type": "fragment"
      }
     },
     "source": [
      "Straightforward calculations yield\n",
      "$$\n",
      "\\begin{aligned}\n",
      "\\nabla \\CGF(\\eta) &= \\left( \\frac{\\eta_1}{\\eta_2}, -\\frac{1}{2} \\left( \\frac{1}{\\eta_2} + \\frac{\\eta_1^2}{\\eta_2^2} \\right)\n",
      "\\right) \\\\\n",
      "\\nabla^2 \\CGF(\\eta) &= \\begin{pmatrix}\n",
      "\\frac{1}{\\eta_2} & - \\frac{\\eta_1}{\\eta_2^2} \\\\\n",
      "- \\frac{\\eta_1}{\\eta_2^2} &  \\frac{1}{2\\eta_2^2} + \\frac{\\eta_1^2}{\\eta_2^3}\n",
      "\\end{pmatrix}\n",
      "\\end{aligned}\n",
      "$$"
     ]
    },
    {
     "cell_type": "markdown",
     "metadata": {
      "slideshow": {
       "slide_type": "slide"
      }
     },
     "source": [
      "Here is an example of the family based on a sample of size 10."
     ]
    },
    {
     "cell_type": "code",
     "collapsed": false,
     "input": [
      "C = np.log(2*np.pi)\n",
      "\n",
      "def CGFnormal(eta, N=10):\n",
      "    \"\"\"\n",
      "    The univariate normal CGF for a sample of size N\n",
      "\n",
      "    .. math::\n",
      "\n",
      "        \\frac{1}{2} \\left[\\log(2\\pi)- \\log(\\eta_2) + \\frac{\\eta_1^2 }{\\eta_2} \\right]\n",
      "    \"\"\"\n",
      "    eta = np.asarray(eta)\n",
      "    return N * (C - np.log(eta[1]) + eta[0]**2 / eta[1]) / 2."
     ],
     "language": "python",
     "metadata": {
      "slideshow": {
       "slide_type": "fragment"
      }
     },
     "outputs": [],
     "prompt_number": 1
    },
    {
     "cell_type": "code",
     "collapsed": false,
     "input": [
      "def dotCGFnormal(eta, N=10):\n",
      "    \"\"\"\n",
      "    The gradient of the univariate normal CGF for a sample of size N\n",
      "    \"\"\"\n",
      "    eta = np.asarray(eta)\n",
      "    return N * np.array([eta[0] / eta[1], (-eta[0]**2/eta[1]**2 - 1. / eta[1]) / 2.])"
     ],
     "language": "python",
     "metadata": {
      "slideshow": {
       "slide_type": "slide"
      }
     },
     "outputs": [],
     "prompt_number": 2
    },
    {
     "cell_type": "code",
     "collapsed": false,
     "input": [
      "def ddotCGFnormal(eta, N=10):\n",
      "    \"\"\"\n",
      "    The Hessian of the univariate normal CGF for a sample of size N\n",
      "    \"\"\"\n",
      "    eta = np.asarray(eta)\n",
      "    H = np.zeros((2,2))\n",
      "    H[0,0] = 1. / eta[1]\n",
      "    H[0,1] = H[1,0] = - eta[0] / eta[1]**2\n",
      "    H[1,1] = 0.5 / eta[1]**2 + eta[0]**2 / eta[1]**3\n",
      "    return N*H"
     ],
     "language": "python",
     "metadata": {
      "slideshow": {
       "slide_type": "fragment"
      }
     },
     "outputs": [],
     "prompt_number": 3
    },
    {
     "cell_type": "markdown",
     "metadata": {
      "slideshow": {
       "slide_type": "slide"
      }
     },
     "source": [
      "We can wrap this in a class, to make it more formal."
     ]
    },
    {
     "cell_type": "code",
     "collapsed": false,
     "input": [
      "class normal(object):\n",
      "    \"\"\"\n",
      "    The univariate normal family for a sample of size N\n",
      "    \"\"\"\n",
      "    def __init__(self, N):\n",
      "        self.N = N\n",
      "        \n",
      "    def value(self, eta):\n",
      "        return CGFnormal(eta, self.N)\n",
      "    \n",
      "    def grad(self, eta, v=None):\n",
      "        \"\"\"\n",
      "        The gradient at eta in the direction v, if v is not None\n",
      "        \"\"\"\n",
      "        g = dotCGFnormal(eta, self.N)\n",
      "        if v is not None:\n",
      "            return (v*g).sum()\n",
      "        return g\n",
      "    \n",
      "    def hess(self, eta, vw=None):\n",
      "        \"\"\"\n",
      "        The hessian at eta in the directions v,w = vw\n",
      "        \"\"\"\n",
      "        h = ddotCGFnormal(eta, self.N)\n",
      "        if vw is not None:\n",
      "            v, w = vw\n",
      "            return (v * np.dot(h, w)).sum()\n",
      "        return h"
     ],
     "language": "python",
     "metadata": {
      "slideshow": {
       "slide_type": "fragment"
      }
     },
     "outputs": [],
     "prompt_number": 4
    },
    {
     "cell_type": "markdown",
     "metadata": {
      "slideshow": {
       "slide_type": "slide"
      }
     },
     "source": [
      "While $\\CGF$ is convex and $\\nabla \\CGF$ maps\n",
      "natural parameters to mean values, the image of $\\D$ under $\\nabla \\CGF$ is not necessarily convex.\n",
      "In fact, even the image of one-parameter subfamilies may be curved.\n",
      "\n",
      "For example, let's restrict our family to an affine line (which I'll call a ray since we only plot some of it)\n",
      "$$\n",
      "{\\cal L} = \\left\\{\\eta=\\eta(s) = \\eta_0 + s \\cdot v \\in \\real^2, s \\in \\real\\right\\}\n",
      "$$\n",
      "bearing in mind that we might hit the boundary of $\\D$ with such a ray."
     ]
    },
    {
     "cell_type": "markdown",
     "metadata": {
      "slideshow": {
       "slide_type": "fragment"
      }
     },
     "source": [
      "We can look at the paths\n",
      "$$\n",
      "s \\mapsto \\eta(s) \\in \\D,\n",
      "$$\n",
      "and \n",
      "$$\n",
      "s \\mapsto  \\nabla \\CGF(\\eta(s)) \\in \\Mm.\n",
      "$$"
     ]
    },
    {
     "cell_type": "markdown",
     "metadata": {
      "slideshow": {
       "slide_type": "slide"
      }
     },
     "source": [
      "Since it is a ray in $\\D$, it is not surprising that it looks like a ray..."
     ]
    },
    {
     "cell_type": "code",
     "collapsed": false,
     "input": [
      "eta_0 = np.array([0, 0.01])\n",
      "v = np.array([12.5, .1])\n",
      "\n",
      "ray = np.linspace(0,1,101)\n",
      "eta = np.array([eta_0 + s*v for s in ray])\n",
      "plt.plot(eta[:,0], eta[:,1])\n",
      "a = plt.gca()\n",
      "a.set_xlabel(r'$\\eta_1$', size=20)\n",
      "a.set_ylabel(r'$\\eta_2$', size=20)\n",
      "a.set_title(r'${\\cal D}$ coordinates', size=20)"
     ],
     "language": "python",
     "metadata": {
      "slideshow": {
       "slide_type": "fragment"
      }
     },
     "outputs": [
      {
       "output_type": "pyout",
       "prompt_number": 5,
       "text": [
        "<matplotlib.text.Text at 0x10b770c10>"
       ]
      },
      {
       "output_type": "display_data",
       "png": "[encoded data removed]",
       "text": [
        "<matplotlib.figure.Figure at 0x108447b10>"
       ]
      }
     ],
     "prompt_number": 5
    },
    {
     "cell_type": "markdown",
     "metadata": {
      "slideshow": {
       "slide_type": "slide"
      }
     },
     "source": [
      "However, in $\\Mm$, it does not look straight, it is *curved*."
     ]
    },
    {
     "cell_type": "code",
     "collapsed": false,
     "input": [
      "family = normal(1)\n",
      "mu = np.array([family.grad(eta_0+t*v) for t in ray])\n",
      "plt.plot(mu[:,0], mu[:,1])\n",
      "a = plt.gca()\n",
      "a.set_xlabel(r'$\\mu_1$', size=20)\n",
      "a.set_ylabel(r'$\\mu_2$', size=20)\n",
      "a.set_title(r'${\\cal M}$ coordinates', size=20)"
     ],
     "language": "python",
     "metadata": {
      "slideshow": {
       "slide_type": "fragment"
      }
     },
     "outputs": [
      {
       "output_type": "pyout",
       "prompt_number": 6,
       "text": [
        "<matplotlib.text.Text at 0x102023810>"
       ]
      },
      {
       "output_type": "display_data",
       "png": "[encoded data removed]",
       "text": [
        "<matplotlib.figure.Figure at 0x108447390>"
       ]
      }
     ],
     "prompt_number": 6
    },
    {
     "cell_type": "markdown",
     "metadata": {
      "slideshow": {
       "slide_type": "slide"
      }
     },
     "source": [
      "### *Exercise*\n",
      "\n",
      "1. Repeat the above plots, but start at point $\\eta_0=(2,2)$ and move along the ray\n",
      "$d\\eta=(1,1)$. Is this expected?\n",
      "\n"
     ]
    },
    {
     "cell_type": "heading",
     "level": 2,
     "metadata": {
      "slideshow": {
       "slide_type": "slide"
      }
     },
     "source": [
      "Estimation "
     ]
    },
    {
     "cell_type": "markdown",
     "metadata": {
      "slideshow": {
       "slide_type": "fragment"
      }
     },
     "source": [
      "Generally speaking, the images of flat lines are curves under \n",
      "$\\nabla \\CGF$. This makes it seem like our nice picture from one parameter families is going\n",
      "to fail when it comes to maximum likelihood. We'll see that all is not really lost.\n",
      "\n",
      "First of all, the map\n",
      "$$\n",
      "s \\mapsto \\CGF(\\eta(s)) - \\eta(s)^T t\n",
      "$$\n",
      "is convex, so finding the MLE of $\\CGF$ restricted to ${\\cal R}$ is a convex problem."
     ]
    },
    {
     "cell_type": "markdown",
     "metadata": {
      "slideshow": {
       "slide_type": "fragment"
      }
     },
     "source": [
      "In fact, it can essentially be solved by Newton-Raphson using\n",
      "$$\n",
      "\\begin{aligned}\n",
      "\\frac{d\\CGF(\\eta(s))}{ds} &= v^T \\nabla \\CGF(\\eta(s)) \\\\\n",
      "\\frac{d^2\\CGF(\\eta(s))}{ds^2} &= v^T \\nabla^2 \\CGF(\\eta(s)) v.\n",
      "\\end{aligned}\n",
      "$$\n",
      "However, we must be careful to not have Newton-Raphson force us to take too big a step. In particular, we must stay in $\\D$."
     ]
    },
    {
     "cell_type": "heading",
     "level": 4,
     "metadata": {
      "slideshow": {
       "slide_type": "slide"
      }
     },
     "source": [
      "Notation for multivariate derivatives"
     ]
    },
    {
     "cell_type": "markdown",
     "metadata": {
      "slideshow": {
       "slide_type": "fragment"
      }
     },
     "source": [
      "It is sometimes convenient to write\n",
      "$$\n",
      "\\begin{aligned}\n",
      "v^T \\nabla \\CGF(\\eta) &= \\nabla \\CGF_{\\eta} (v) \\\\\n",
      " &= \\nabla \\CGF (v) \\bigl|_{\\eta} \\\\\n",
      "v^T \\nabla^2 \\CGF(\\eta(s)) w &= \\nabla^2_{\\eta} \\CGF(v,w) \\\\\n",
      "&= \\nabla^2\\CGF(v,w)\\bigl|_{\\eta} \\\\\n",
      "\\end{aligned}\n",
      "$$\n",
      "This makes higher order derivatives easy to express in two (similar) fashions\n",
      "$$\n",
      "\\nabla^k_{\\eta} \\CGF(v_1, \\dots, v_k)= \\nabla^k \\CGF(v_1, \\dots, v_k) \\bigl|_{\\eta}.\n",
      "$$"
     ]
    },
    {
     "cell_type": "markdown",
     "metadata": {
      "slideshow": {
       "slide_type": "slide"
      }
     },
     "source": [
      "Here is what happens with the naive Newton-Raphson iteration\n",
      "$$\n",
      "s^{(k+1)} = s^{(k)} -  \\left(\\nabla^2 \\CGF(v,v) \\bigl|_{\\eta_0+s^{(k)}v} \\right)^{-1}  \\left(\\nabla \\CGF(v) \\bigl|_{\\eta_0 + s^{(k)}v} - t\\right)\n",
      "$$"
     ]
    },
    {
     "cell_type": "code",
     "collapsed": false,
     "input": [
      "s = 10\n",
      "eta_0 = np.array([10,2])\n",
      "v = np.array([1.1,.2])\n",
      "tx = np.array([.2,-2])\n",
      "grad, hess = np.inf, np.inf # initial values\n",
      "for i in range(5):\n",
      "    print 's, grad, hess = %s' % (`(s, grad, hess)`)\n",
      "    print 'eta = %s' % (`(eta_0+s*v)`,)\n",
      "    grad = (v*(family.grad(eta_0+s*v)-tx)).sum()\n",
      "    hess = family.hess(eta_0+s*v, (v,v))\n",
      "    s = s - grad / hess\n",
      "    "
     ],
     "language": "python",
     "metadata": {
      "slideshow": {
       "slide_type": "fragment"
      }
     },
     "outputs": [
      {
       "output_type": "stream",
       "stream": "stdout",
       "text": [
        "s, grad, hess = (10, inf, inf)\n",
        "eta = array([ 21.,   4.])\n",
        "s, grad, hess = (-1682.6666666666467, 3.1737500000000005, 0.0018750000000000225)\n",
        "eta = array([-1840.93333333,  -334.53333333])\n",
        "s, grad, hess = (-18045209.467520244, 3.2052980303192289, 1.7764254547883605e-07)\n",
        "eta = array([-19849720.41427227,  -3609039.89350405])\n",
        "s, grad, hess = (-2087284487739199.8, 3.2050000277081927, 1.5354878907224692e-15)\n",
        "eta = array([ -2.29601294e+15,  -4.17456898e+14])\n",
        "s, grad, hess = (-8.1256403474629461e+31, 3.2050000000000014, 3.9443045261050625e-32)\n",
        "eta = array([ -8.93820438e+31,  -1.62512807e+31])\n"
       ]
      },
      {
       "output_type": "stream",
       "stream": "stderr",
       "text": [
        "-c:11: RuntimeWarning: divide by zero encountered in double_scalars\n"
       ]
      }
     ],
     "prompt_number": 7
    },
    {
     "cell_type": "markdown",
     "metadata": {
      "slideshow": {
       "slide_type": "slide"
      }
     },
     "source": [
      "We see that after three steps, we jumped outside of $\\D$. Here is a slightly modified\n",
      "algorithm that just takes a descent step, but makes sure not to step outside of \n",
      "$\\D$."
     ]
    },
    {
     "cell_type": "code",
     "collapsed": false,
     "input": [
      "s = 10 # initial point\n",
      "s_iterates = [s] # sequence of values of s\n",
      "\n",
      "value = np.inf # initial value\n",
      "value_iterates = [value] # sequence of objective\n",
      "step_size = 1 # how big a step do we try to take\n",
      "\n",
      "step_increase_time = 5 # how often do we try to take a bigger step\n",
      "tol = 1.e-7 # tolerance for stopping -- based on objective\n",
      "\n",
      "max_iters = 100"
     ],
     "language": "python",
     "metadata": {
      "slideshow": {
       "slide_type": "fragment"
      }
     },
     "outputs": [],
     "prompt_number": 8
    },
    {
     "cell_type": "code",
     "collapsed": false,
     "input": [
      "for i in range(max_iters):\n",
      "    grad = (v*(family.grad(eta_0+s*v)-tx)).sum()\n",
      "    count = 0\n",
      "    while True:\n",
      "        proposed_s =  s - step_size * grad \n",
      "        proposed_eta = eta_0 + proposed_s * v\n",
      "        proposed_value = family.value(proposed_eta) - (tx*proposed_eta).sum()\n",
      "        \n",
      "        # if the step is leads outside the domain, or is not a descent, take\n",
      "        # a smaller step\n",
      "        \n",
      "        if proposed_eta[1] < 0 or proposed_value > value:\n",
      "            step_size *= 0.9\n",
      "        else:\n",
      "            break  \n",
      "\n",
      "    # when do we stop?\n",
      "    if i > 1 and np.fabs((value - proposed_value) / value) < tol:\n",
      "        break\n",
      "    \n",
      "    value = proposed_value\n",
      "    s = proposed_s\n",
      "    s_iterates.append(s)\n",
      "    value_iterates.append(family.value(eta_0+s*v)-(tx*(eta_0+s*v)).sum())\n",
      "    \n",
      "    # try to take a bigger step, if possible   \n",
      "    if i % step_increase_time == 0:\n",
      "        step_size *= 2\n",
      "        \n"
     ],
     "language": "python",
     "metadata": {
      "slideshow": {
       "slide_type": "slide"
      }
     },
     "outputs": [
      {
       "output_type": "stream",
       "stream": "stderr",
       "text": [
        "-c:12: RuntimeWarning: invalid value encountered in log\n"
       ]
      }
     ],
     "prompt_number": 9
    },
    {
     "cell_type": "markdown",
     "metadata": {
      "slideshow": {
       "slide_type": "slide"
      }
     },
     "source": [
      "Let's look at how many steps it took and how quickly our objective dropped."
     ]
    },
    {
     "cell_type": "code",
     "collapsed": false,
     "input": [
      "plt.plot(np.log(value_iterates))\n",
      "a = plt.gca()\n",
      "a.set_xlabel('Iteration $k$')\n",
      "a.set_ylabel(r'$\\log(\\Lambda(\\eta_0+s^{(k)}v) - (\\eta_0+s^{(k)}v)^T t(x))$')\n",
      "print grad, s"
     ],
     "language": "python",
     "metadata": {
      "slideshow": {
       "slide_type": "fragment"
      }
     },
     "outputs": [
      {
       "output_type": "stream",
       "stream": "stdout",
       "text": [
        "-0.00227092592604 -9.03573683393\n"
       ]
      },
      {
       "output_type": "display_data",
       "png": "[encoded data removed]",
       "text": [
        "<matplotlib.figure.Figure at 0x102023e10>"
       ]
      }
     ],
     "prompt_number": 10
    },
    {
     "cell_type": "markdown",
     "metadata": {
      "slideshow": {
       "slide_type": "slide"
      }
     },
     "source": [
      "How about the actual point on the ray?"
     ]
    },
    {
     "cell_type": "code",
     "collapsed": false,
     "input": [
      "plt.plot(s_iterates)\n",
      "a = plt.gca()\n",
      "a.set_xlabel('Iteration $k$')\n",
      "a.set_ylabel(r'$s^{(k)}$')\n"
     ],
     "language": "python",
     "metadata": {
      "slideshow": {
       "slide_type": "fragment"
      }
     },
     "outputs": [
      {
       "output_type": "pyout",
       "prompt_number": 11,
       "text": [
        "<matplotlib.text.Text at 0x109f51390>"
       ]
      },
      {
       "output_type": "display_data",
       "png": "[encoded data removed]",
       "text": [
        "<matplotlib.figure.Figure at 0x1020443d0>"
       ]
      }
     ],
     "prompt_number": 11
    },
    {
     "cell_type": "heading",
     "level": 2,
     "metadata": {
      "slideshow": {
       "slide_type": "slide"
      }
     },
     "source": [
      "MLE map"
     ]
    },
    {
     "cell_type": "markdown",
     "metadata": {
      "slideshow": {
       "slide_type": "fragment"
      }
     },
     "source": [
      "The curved picture above hides a little structure from us and makes things\n",
      "seem worse than they really are. What is really going on is that we have not\n",
      "properly taken into account the fact that we were going to restrict our attention \n",
      "to a fixed affine line.\n",
      "\n",
      "Let's first consider the unrestricted MLE problem. That is, having observed\n",
      "$t(X)=t$, let's estimate $\\eta$. The problem we must solve is\n",
      "$$\n",
      "\\hat{\\eta}(t) = \\argmax_{\\eta \\in \\D} \\eta^T t - \\CGF(\\eta).\n",
      "$$"
     ]
    },
    {
     "cell_type": "markdown",
     "metadata": {
      "slideshow": {
       "slide_type": "fragment"
      }
     },
     "source": [
      "The Fenchel-Legendre transform (convex conjugate) extends to arbitrary dimensions\n",
      "$$\n",
      "\\CGF^*(t) = \\sup_{\\eta \\in D} \\eta^T t - \\CGF(\\eta).\n",
      "$$\n",
      "Again, by general convex analysis, we see that\n",
      "$$\n",
      "\\hat{\\eta}(t) = \\nabla \\CGF^*(t).\n",
      "$$"
     ]
    },
    {
     "cell_type": "heading",
     "level": 4,
     "metadata": {
      "slideshow": {
       "slide_type": "slide"
      }
     },
     "source": [
      "Subdifferential"
     ]
    },
    {
     "cell_type": "markdown",
     "metadata": {
      "slideshow": {
       "slide_type": "fragment"
      }
     },
     "source": [
      "If the MLE is not unique, then we can describe the set of MLE estimates as\n",
      "$$\n",
      "\\hat{\\eta}(t) \\in \\partial \\CGF^*(t) = \\left\\{ \\eta: \\eta^Tt-\\CGF(\\eta) = \\CGF^*(t) \\right\\}.\n",
      "$$\n",
      "In words, these are the $\\eta$'s that achieved the maximum value of the likelihood. The\n",
      "notation $\\partial f(x)$ is referred to as the *subdifferential* of $f$ at $x$. For\n",
      "an arbitrary function with domain $\\D(f)=\\{x:f(x) < \\infty\\}$ it is defined as\n",
      "$$\n",
      "\\partial f(x) = \\left \\{v: f(y)-f(x) \\geq v^T(y-x)  \\  \\forall x \\in \\D(f) \\right\\}.\n",
      "$$"
     ]
    },
    {
     "cell_type": "markdown",
     "metadata": {
      "slideshow": {
       "slide_type": "slide"
      }
     },
     "source": [
      "### *Exercise*\n",
      "\n",
      "Show, from the definition of $\\partial \\CGF^*$ that, if $\\CGF^*(t) < \\infty$\n",
      "$$\n",
      "\\partial \\CGF^*(t) = \\left\\{ \\eta: \\eta^Tt-\\CGF(\\eta) = \\CGF^*(t) \\right\\}.\n",
      "$$"
     ]
    },
    {
     "cell_type": "heading",
     "level": 2,
     "metadata": {
      "slideshow": {
       "slide_type": "slide"
      }
     },
     "source": [
      "MLE in a restricted model"
     ]
    },
    {
     "cell_type": "markdown",
     "metadata": {
      "slideshow": {
       "slide_type": "fragment"
      }
     },
     "source": [
      "Let's go back to our ray in the two-dimensional family above. The ray can be described by a 1-dimensional constraint. If $a$ is normal to $d\\eta$, then the ray is the set\n",
      "$$\n",
      "\\left\\{\\eta: a^T\\eta =a^T\\eta_0 = b\\right\\}\n",
      "$$\n",
      "for some $b \\in \\real$. \n",
      "\n",
      "To perform MLE in this model, we should consider the problem\n",
      "$$\n",
      "\\hat{\\eta}(t,b) = \\argmax_{\\eta \\in D} \\eta^T t -  \\CGF(\\eta)\n",
      "$$\n",
      "subject to the additional constraint $\\eta^Ta=b$. "
     ]
    },
    {
     "cell_type": "heading",
     "level": 3,
     "metadata": {
      "slideshow": {
       "slide_type": "slide"
      }
     },
     "source": [
      "Lagrange multipliers"
     ]
    },
    {
     "cell_type": "markdown",
     "metadata": {
      "slideshow": {
       "slide_type": "fragment"
      }
     },
     "source": [
      "Standard multivariate calculus says we should\n",
      "use a Lagrange multiplier. Then, we need to\n",
      "find the appropriate value of the Lagrange multiplier and solve the equations\n",
      "$$\n",
      "t - \\nabla \\CGF(\\hat{\\eta}(u)) + u \\cdot a = 0,  \\qquad u \\in \\real\n",
      "$$\n",
      "which are the critical point equations for solving\n",
      "$$\n",
      "\\hat{\\eta}(t,u) = \\argmin_{\\eta} \\eta^T t - \\CGF(\\eta) + u \\cdot (\\eta^Ta - b)\n",
      "$$"
     ]
    },
    {
     "cell_type": "markdown",
     "metadata": {
      "slideshow": {
       "slide_type": "fragment"
      }
     },
     "source": [
      "Then, we should find the correct Lagrange multiplier $u=u(t,b)$ so that the solution to the above problem \n",
      "actually satisfy $\\hat{\\eta}(t,u)^Ta=b$.\n",
      "\n",
      "This trick is used over and over in optimization and is referred to as forming a *Lagrangian*\n",
      "$$\n",
      "L(\\eta;u) = \\eta^Tt - \\CGF(\\eta) + u \\cdot( \\eta^Ta-b).\n",
      "$$"
     ]
    },
    {
     "cell_type": "heading",
     "level": 3,
     "metadata": {
      "slideshow": {
       "slide_type": "slide"
      }
     },
     "source": [
      "Dual function"
     ]
    },
    {
     "cell_type": "markdown",
     "metadata": {
      "slideshow": {
       "slide_type": "fragment"
      }
     },
     "source": [
      "Maximizing this over $\\eta$ yields a function \n",
      "$$\n",
      "g(u) = \\sup_{\\eta \\in \\D} \\eta^T t - \\CGF(\\eta) + u \\cdot( \\eta^T a -b) = \\CGF^*(t + u \\cdot a) - ub.\n",
      "$$\n",
      "\n",
      "So, our old friend $\\CGF^*$ appears. Since it is convex, we see that the problem of minimizing\n",
      "$g(u)$ is a convex problem. Having found \n",
      "$$\n",
      "\\hat{u}(t,b) = \\argmin_u \\CGF^*(t + u \\cdot a) - ub\n",
      "$$\n",
      "we can then solve\n",
      "$$\n",
      "\\maximize_{\\eta} \\eta^Tt - \\CGF(\\eta) + \\hat{u}(t,b)  \\cdot (\\eta^T a  - b).\n",
      "$$\n"
     ]
    },
    {
     "cell_type": "markdown",
     "metadata": {
      "slideshow": {
       "slide_type": "slide"
      }
     },
     "source": [
      "This last problem can be solved explicitly as\n",
      "$$\n",
      "\\hat{\\eta}(t,b) = \\nabla \\CGF^*(t +  \\hat{u}(t,b) \\cdot a).\n",
      "$$\n",
      "\n",
      "By the famous [KKT conditions](http://en.wikipedia.org/wiki/Karush%E2%80%93Kuhn%E2%80%93Tucker_conditions), this is actually a solution to our restricted problem."
     ]
    },
    {
     "cell_type": "markdown",
     "metadata": {
      "slideshow": {
       "slide_type": "fragment"
      }
     },
     "source": [
      "Specifically, the KKT conditions that at this pair $(\\hat{\\eta}(t,b), \\hat{u}(t,b))$\n",
      "we have\n",
      "$$\n",
      "\\begin{aligned}\n",
      "\\nabla_{\\eta} L(\\eta;u) &= t +  u \\cdot a -  \\nabla \\CGF(\\eta) \\\\\n",
      "&= 0 \\\\\n",
      "\\nabla_u L(\\eta;u) &= \\eta^T a  - b \\\\\n",
      "&= 0\n",
      "\\end{aligned}\n",
      "$$"
     ]
    },
    {
     "cell_type": "markdown",
     "metadata": {
      "slideshow": {
       "slide_type": "slide"
      }
     },
     "source": [
      "### *Exercise: estimation via $\\CGF^*$*\n",
      "\n",
      "1. In our normal family, show that\n",
      "$$\n",
      "\\CGF^*(t_1,t_2) = -\\frac{1}{2} \\left[\\log(2t_2 + t_1^2) + \\log(2\\pi) + 1\\right].\n",
      "$$\n",
      "What is the domain  $\\D(\\CGF^*)=\\left\\{(t_1,t_2): \\CGF^*(t_1,t_2) < \\infty \\right\\}$?\n",
      "\n",
      "2. What is the MLE map $\\nabla \\CGF^*$? Describe it in terms of the\n",
      "usual MLE $(\\hat{\\mu}, \\hat{\\sigma})$ from IID $N(\\mu, \\sigma^2)$.\n",
      "Does the MLE exist when $N=1$?\n",
      "\n",
      "3. Consider the ray \n",
      "$$\n",
      "{\\cal R} = \\left\\{\\eta = \\eta(s) = (10+11 \\cdot s, 2 + .2 \\cdot s): \\eta \\in \\D , s \\in \\real \\right\\}\n",
      "$$\n",
      "Find a suitable $(a,b)$ such that\n",
      "$$\n",
      "{\\cal R} = \\left\\{\\eta: a^T\\eta=b, \\eta \\in \\D \\right\\}.\n",
      "$$\n",
      "\n",
      "4. Suppose we observed $tx = [.2,-2]$. Find the MLE of the restriction to ${\\cal R}$ as above. That is solve,\n",
      "$$\n",
      "\\minimize_s \\CGF(\\eta(s)) - x \\cdot \\eta_1(s) + x^2/2 \\cdot \\eta_2(s).\n",
      "$$\n",
      "\n",
      "4. Plot the function\n",
      "$$\n",
      "g(u) = \\CGF^*(t + u \\cdot a) - u \\cdot b\n",
      "$$\n",
      "and find \n",
      "$$\n",
      "\\hat{u}(t,b) = \\argmin_u \\CGF^*(t + u \\cdot a) - u \\cdot b.\n",
      "$$\n",
      "Compare $\\hat{\\eta}(t,b) = \\nabla \\CGF^*(t + \\hat{u}(t,b) \\cdot a)$ with your solution to\n",
      "3.\n",
      "\n"
     ]
    },
    {
     "cell_type": "markdown",
     "metadata": {
      "slideshow": {
       "slide_type": "slide"
      }
     },
     "source": [
      "Here's my solution (without the code, of course)"
     ]
    },
    {
     "cell_type": "code",
     "collapsed": false,
     "input": [
      "%run scripts/normal_family_exercise.py\n"
     ],
     "language": "python",
     "metadata": {
      "slideshow": {
       "slide_type": "fragment"
      }
     },
     "outputs": [
      {
       "output_type": "stream",
       "stream": "stdout",
       "text": [
        "original solution: [ 0.30787664  1.82377958]\n",
        "dual solution: [ 0.3080008   1.82378183]\n"
       ]
      },
      {
       "output_type": "stream",
       "stream": "stderr",
       "text": [
        "scripts/normal_family_exercise.py:21: RuntimeWarning: invalid value encountered in log\n",
        "  return N * (C - np.log(eta[1]) + eta[0]**2 / eta[1]) / 2.\n"
       ]
      }
     ],
     "prompt_number": 15
    },
    {
     "cell_type": "heading",
     "level": 2,
     "metadata": {
      "slideshow": {
       "slide_type": "slide"
      }
     },
     "source": [
      "Examples"
     ]
    },
    {
     "cell_type": "heading",
     "level": 3,
     "metadata": {
      "slideshow": {
       "slide_type": "fragment"
      }
     },
     "source": [
      "Beta family"
     ]
    },
    {
     "cell_type": "markdown",
     "metadata": {
      "slideshow": {
       "slide_type": "fragment"
      }
     },
     "source": [
      "In this family, we set $m_0(dx)=1_{[0,1]}(x) \\; dx$ and\n",
      "$$\n",
      "t(x) = (\\log(x), \\log(1-x)).\n",
      "$$\n",
      "Or,\n",
      "$$\n",
      "\\Pp_{\\eta}(dx) = e^{\\eta_1 \\log(x) + \\eta_2 \\log (1-x) - \\CGF(\\eta)} m_0(dx).\n",
      "$$\n",
      "We see that\n",
      "$$\n",
      "e^{\\CGF(\\eta)} = B(\\eta_1+1,\\eta_2+1) = \\int_0^1 x^{\\eta_1} (1-x)^{\\eta_2} \\;dx.\n",
      "$$\n",
      "\n"
     ]
    },
    {
     "cell_type": "markdown",
     "metadata": {
      "slideshow": {
       "slide_type": "fragment"
      }
     },
     "source": [
      "### *Exercise: Beta family*\n",
      "\n",
      "1. What is $\\D(\\F)$ for the Beta family?\n",
      "\n",
      "2. Compute $\\nabla \\CGF(\\eta)$, $\\nabla^2 \\CGF(\\eta)$."
     ]
    },
    {
     "cell_type": "heading",
     "level": 3,
     "metadata": {
      "slideshow": {
       "slide_type": "slide"
      }
     },
     "source": [
      "Multinomial"
     ]
    },
    {
     "cell_type": "markdown",
     "metadata": {
      "slideshow": {
       "slide_type": "fragment"
      }
     },
     "source": [
      "For $n, k$ positive integers, set\n",
      "$$\n",
      "m_0(dx) = \\binom{n}{x_1, \\dots, x_k} 1_{A_{n,k}}(x) \\; m(dx)\n",
      "$$\n",
      "where $m(dx)$ is counting measure on $\\mathbb{Z}^k$ and\n",
      "$$\n",
      "A_{n,k} = \\left\\{(x_1, \\dots, x_k) \\in \\mathbb{Z}^k : x_i \\geq 0, \\sum_{i=1}^k x_i =n \\right\\}.\n",
      "$$"
     ]
    },
    {
     "cell_type": "markdown",
     "metadata": {
      "slideshow": {
       "slide_type": "fragment"
      }
     },
     "source": [
      "The multinomial family can be written as \n",
      "$$\n",
      "\\Pp_{\\eta}(dx) = \\exp( x^T\\eta - \\CGF(\\eta)) m_0(dx)\n",
      "$$\n",
      "where\n",
      "$$\n",
      "e^{\\CGF(\\eta)} = \\sum_{x \\in A_{n,k}} \\binom{n}{x_1, \\dots, x_k} \\prod_{i=1}^k e^{x_i\\eta_i}.\n",
      "$$"
     ]
    },
    {
     "cell_type": "markdown",
     "metadata": {
      "slideshow": {
       "slide_type": "slide"
      }
     },
     "source": [
      "We see that $\\CGF$ is invariant under multiples of $\\pmb{1}$. That is,\n",
      "for any $\\alpha \\in \\real$\n",
      "$$\n",
      "\\CGF(\\eta + \\alpha \\cdot \\pmb{1}) = \\CGF(\\eta).\n",
      "$$\n",
      "This is essentially an issue of *identifiability* as it says that the map\n",
      "$$\n",
      "\\eta \\mapsto \\Pp_{\\eta}\n",
      "$$\n",
      "is many to 1."
     ]
    },
    {
     "cell_type": "markdown",
     "metadata": {
      "slideshow": {
       "slide_type": "fragment"
      }
     },
     "source": [
      "In turn, this will manifest itself in the Fisher information\n",
      "$$\n",
      "\\nabla^2 \\CGF(\\pmb{1}, \\pmb{1})\\bigl|_{\\eta} = 0.\n",
      "$$\n",
      "This shows that $\\CGF$ is not strongly convex so $\\nabla {\\CGF}^*$ is not smooth. \n",
      "As $\\nabla{\\CGF}^*$ is our MLE map, this says that the MLE will not be easy to find -- it is not\n",
      "even unique."
     ]
    },
    {
     "cell_type": "markdown",
     "metadata": {
      "slideshow": {
       "slide_type": "slide"
      }
     },
     "source": [
      "### *Exercise: reparametrizing the multinomial*\n",
      "\n",
      "An alternative to avoid the identifiability\n",
      "issues in the multinomial is to reparametrize by taking\n",
      "$$\n",
      "\\tilde{\\D} = \\left\\{\\eta: \\eta^T\\pmb{1}=0 \\right\\}.\n",
      "$$\n",
      "\n",
      "1. Define\n",
      "$$\n",
      "\\tilde{\\CGF}(\\eta) = \\CGF(\\eta) + \n",
      "{\\cal P}(\\eta)$$\n",
      "where\n",
      "$$\n",
      "{\\cal P}(\\eta) = \\begin{cases} 0 & \\eta^T \\pmb{1} = 0 \\\\ \\infty & \\text{otherwise}.\n",
      "\\end{cases}\n",
      "$$\n",
      "Argue that\n",
      "$$\n",
      "\\D(\\tilde{\\CGF}) = \\tilde{\\D}\n",
      "$$\n",
      "as above."
     ]
    },
    {
     "cell_type": "heading",
     "level": 3,
     "metadata": {
      "slideshow": {
       "slide_type": "slide"
      }
     },
     "source": [
      "Dirichlet family"
     ]
    },
    {
     "cell_type": "markdown",
     "metadata": {
      "slideshow": {
       "slide_type": "fragment"
      }
     },
     "source": [
      "There are at least two ways to define the Dirichlet distribution with parameters\n",
      "$\\alpha \\in \\real^k$. The first is a distribution on $\\real^{k-1}$. \n",
      "\n",
      "Set \n",
      "$$\n",
      "m_0 \\left(dx \\right) = 1_{\\tilde{S}_k}(x) \\; dx, \\qquad x \\in \\real^{k-1}\n",
      "$$\n",
      "where $dx$ is Lebesgue measure on $\\real^{k-1}$ and\n",
      "$$\n",
      "\\tilde{S}_k = \\left\\{(x_1, \\dots, x_{k-1}) \\in \\real^{k-1}: x_i \\geq 0, \\sum_{i=1}^{k-1} x_i \\leq 1 \\right\\}\n",
      "$$\n",
      "are the first $(k-1)$ coordinates of the simplex\n",
      "$$\n",
      "S_k = \\left\\{(x_1, \\dots, x_k) \\in \\real^k: x_i \\geq 0, \\sum_{i=1}^k x_i = 1 \\right\\}\n",
      "$$"
     ]
    },
    {
     "cell_type": "markdown",
     "metadata": {
      "slideshow": {
       "slide_type": "slide"
      }
     },
     "source": [
      "Take \n",
      "$$\n",
      "t(x) = \\left(\\log(x_1), \\log(x_2), \\dots, \\log(x_{k-1}), \\log \\left(1 - \\sum_{i=1}^{k-1}x_i \\right)\\right) \\in \\real^k\n",
      "$$\n",
      "and set\n",
      "$$\n",
      "\\frac{d\\Pp_{\\eta}}{dm_0}(x) = e^{\\eta^Tt(x) - \\CGF(\\eta)}\n",
      "$$\n",
      "with\n",
      "$$\n",
      "e^{\\CGF(\\eta)} = \\int_{\\tilde{S}_k} \\left(1 - \\sum_{i=1}^{k-1}x_i \\right)^{\\eta_k} \\prod_{i=1}^{k-1} x_i^{\\eta_i} dx\n",
      "$$"
     ]
    },
    {
     "cell_type": "markdown",
     "metadata": {
      "slideshow": {
       "slide_type": "slide"
      }
     },
     "source": [
      "### *Exercise: Dirichlet on the simplex*\n",
      "\n",
      "Write the Dirichlet distribution as a $k$-parameter exponential family on \n",
      "$S_k$. What is its reference measure?\n",
      "\n"
     ]
    },
    {
     "cell_type": "heading",
     "level": 3,
     "metadata": {
      "slideshow": {
       "slide_type": "slide"
      }
     },
     "source": [
      "The multivariate normal family: linear sufficient statistic"
     ]
    },
    {
     "cell_type": "markdown",
     "metadata": {
      "slideshow": {
       "slide_type": "fragment"
      }
     },
     "source": [
      "Probably the most common of all multiparameter exponential families is the normal model on \n",
      "$\\real^p$ with fixed covariance. Of course, the most \n",
      "common choice from a modelling standpoint is probably to choose a $p$-vector of IID $N(0,1)$ random variables, i.e. covariance to be $I_{p \\times p}$. We will start with reference measure\n",
      "$$\n",
      "\\Pp_0 = N(0,\\Sigma).\n",
      "$$"
     ]
    },
    {
     "cell_type": "markdown",
     "metadata": {
      "slideshow": {
       "slide_type": "fragment"
      }
     },
     "source": [
      "If $\\Sigma > 0$, i.e. it is positive definite, then $\\Pp_0$ has density\n",
      "$$\n",
      "\\Pp_0(dx) =  \\det(2\\pi\\Sigma)^{-1/2} e^{-x^T\\Sigma^{-1}x/2} \\; dx.\n",
      "$$\n",
      "If we take sufficient statistic $t(x)=x$ we see that\n",
      "$$\n",
      "\\frac{d\\Pp_{\\eta}}{d\\Pp_0} = e^{x^T\\eta - \\CGF(\\eta)}\n",
      "$$\n",
      "and\n",
      "$$\n",
      "e^{\\CGF(\\eta)} = e^{\\eta^T\\Sigma \\eta/2}.\n",
      "$$"
     ]
    },
    {
     "cell_type": "markdown",
     "metadata": {
      "slideshow": {
       "slide_type": "fragment"
      }
     },
     "source": [
      "Further,\n",
      "$$\n",
      "\\nabla \\CGF(\\eta) = \\Sigma \\eta\n",
      "$$\n",
      "so that\n",
      "$$\n",
      "\\F = \\left\\{N(\\Sigma \\eta, \\Sigma), \\eta \\in \\real^p \\right\\}.\n",
      "$$"
     ]
    },
    {
     "cell_type": "markdown",
     "metadata": {
      "slideshow": {
       "slide_type": "slide"
      }
     },
     "source": [
      "### *Exercise: computing $\\nabla \\CGF^*$ for the normal means model*\n",
      "\n",
      "1. Compute $\\CGF^*$ for the normal means model with reference\n",
      "$\\Pp_0=N(0,\\Sigma)$ and sufficient statistic $t(x)=x$.\n",
      "That is, find\n",
      "$$\n",
      "\\CGF^*(t) = \\sup_{\\eta} \\eta^T t- \\frac{1}{2} \\eta^T\\Sigma \\eta.\n",
      "$$\n",
      "\n",
      "2. What happens to $\\CGF^*$ when $\\Sigma$ is not positive definite, but only \n",
      "nonnegative definite? \n",
      "\n",
      "3. Can you modify $\\CGF$ as in the multinomial family to yield an identifiable model?\n"
     ]
    },
    {
     "cell_type": "heading",
     "level": 3,
     "metadata": {
      "slideshow": {
       "slide_type": "slide"
      }
     },
     "source": [
      "The multivariate normal family: quadratic sufficient statistic"
     ]
    },
    {
     "cell_type": "markdown",
     "metadata": {
      "slideshow": {
       "slide_type": "fragment"
      }
     },
     "source": [
      "In this section, we again consider the normal family, but \n",
      "we focus on an exponential family for the covariance of the normal family. \n",
      "    \n",
      "As in the 1-dimensional case, we see that the natural\n",
      "parameters are related to the inverse of variance, or the so-called\n",
      "*precision* or *concentration* matrix\n",
      "$$\n",
      "\\Theta = \\Sigma^{-1}.\n",
      " $$\n",
      "    \n",
      "    "
     ]
    },
    {
     "cell_type": "markdown",
     "metadata": {
      "slideshow": {
       "slide_type": "fragment"
      }
     },
     "source": [
      "We will take the reference measure  to be $m_0(dx)= (2\\pi)^{-p/2} dx$, Lebesgue measure on $\\real^p$.\n",
      "With this reference $N(0,\\Theta^{-1})$ family has density\n",
      "$$\n",
      "\\det(\\Sigma)^{-1/2} \\exp(-x^T\\Theta x / 2).\n",
      "$$\n",
      "    "
     ]
    },
    {
     "cell_type": "markdown",
     "metadata": {
      "slideshow": {
       "slide_type": "slide"
      }
     },
     "source": [
      "We can write\n",
      "$$\n",
      "\\begin{aligned}\n",
      "x^T \\Theta x &= \\text{Tr}(xx^T \\Theta)\n",
      "\\end{aligned}\n",
      "$$\n",
      "and hence our sufficient statistic is\n",
      "$$\n",
      "t(x) = -xx^T/2 \\in \\real^{p \\times p}.\n",
      "$$\n",
      "  "
     ]
    },
    {
     "cell_type": "markdown",
     "metadata": {
      "slideshow": {
       "slide_type": "slide"
      }
     },
     "source": [
      "  \n",
      "After repeated sampling we see that\n",
      "$$\n",
      "\\overline{t(x)} = -\\frac{1}{2n} \\sum_{i=1}^n x_ix_i^T\n",
      "$$\n",
      "which is the minus half the MLE of $\\Sigma$ under $N(0,\\Sigma)$. (Well, it certainly seems to be the MLE... more in a moment).\n",
      " \n"
     ]
    },
    {
     "cell_type": "markdown",
     "metadata": {
      "slideshow": {
       "slide_type": "fragment"
      }
     },
     "source": [
      "   \n",
      "In any case, from the explicit form our density, we see that\n",
      "$$\n",
      "\\CGF(\\Theta) = -\\frac{1}{2} \\log \\det(\\Sigma).\n",
      "$$\n",
      "\n",
      "The MLE map is therefore\n",
      "$$\n",
      "\\CGF^*(T) =  \\sup_{\\Theta} \\text{Tr}(T\\Theta) + \\frac{1}{2} \\log \\det(\\Theta).\n",
      "$$\n",
      "\n"
     ]
    },
    {
     "cell_type": "markdown",
     "metadata": {
      "slideshow": {
       "slide_type": "slide"
      }
     },
     "source": [
      "### *Exercise: domain of $\\CGF(\\Theta)$*\n",
      "\n",
      "Suppose $\\Theta$ is not symmetric. Can you still make sense of\n",
      "$\\CGF(\\Theta)$? What is $\\D(\\CGF)$?\n",
      "\n",
      "### *Exercise: computing $\\CGF^*(S)$*\n",
      "\n",
      "1. Suppose $f(\\theta) = -1 /2 \\log(\\theta)$. Show that\n",
      "$$\n",
      "f^*(s) = -1/2 + \\log(-2s) / 2.\n",
      "$$\n",
      "\n",
      "2. Argue that\n",
      "$$\n",
      "\\CGF^*(T) = C - \\frac{1}{2} \\log \\det(-2T).\n",
      "$$\n",
      "\n",
      "3. What is $\\D(\\CGF^*)$?"
     ]
    },
    {
     "cell_type": "markdown",
     "metadata": {
      "slideshow": {
       "slide_type": "slide"
      }
     },
     "source": [
      "Finally, we see that, the MLE map, is\n",
      "$$\n",
      "\\Theta = \\nabla \\log \\det(S)\n",
      "$$\n",
      "where $S = -2 \\overline{t(x)} = \\frac{1}{n}\\sum_{i=1}^n x_i x_i^T$ is the usual \n",
      "estimate of the covariance matrix.\n",
      "\n",
      "It remains to compute $\\nabla \\log \\det(A)$ for some symmetric $A > 0$. A very useful formula tells us that\n",
      "$$\n",
      "\\nabla \\log \\det(A) = A^{-1}.\n",
      "$$\n",
      "That is,\n",
      "$$\n",
      "\\nabla \\log \\det(T) \\bigl|_A = \\text{Tr}(A^{-1}T).\n",
      "$$\n",
      "\n",
      "The Hessian also has a nice form, analgous to the Hessian of $\\log$ on $\\real$\n",
      "$$\n",
      "\\nabla^2 \\log \\det(V, W)\\bigl|_{A} = -\\text{Tr}(A^{-1}VA^{-1}W).\n",
      "$$"
     ]
    },
    {
     "cell_type": "markdown",
     "metadata": {
      "slideshow": {
       "slide_type": "fragment"
      }
     },
     "source": [
      "### *Exercise: MLE for covariance matrices*\n",
      "\n",
      "If $n < p$ is the MLE $\\hat{\\Theta}$ well defined?"
     ]
    }
   ],
   "metadata": {}
  }
 ]
}