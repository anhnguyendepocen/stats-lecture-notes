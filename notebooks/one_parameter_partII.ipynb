{
 "metadata": {
  "name": "one_parameter_partII"
 },
 "nbformat": 3,
 "nbformat_minor": 0,
 "worksheets": [
  {
   "cells": [
    {
     "cell_type": "heading",
     "level": 1,
     "metadata": {
      "slideshow": {
       "slide_type": "slide"
      }
     },
     "source": [
      "Probabilistic results"
     ]
    },
    {
     "cell_type": "heading",
     "level": 2,
     "metadata": {
      "slideshow": {
       "slide_type": "fragment"
      }
     },
     "source": [
      "Chernoff bound"
     ]
    },
    {
     "cell_type": "markdown",
     "metadata": {
      "slideshow": {
       "slide_type": "fragment"
      }
     },
     "source": [
      "$$\n",
      "\\newcommand{\\F}{{\\cal F}}\n",
      "\\newcommand{\\D}{{\\cal D}}\n",
      "\\newcommand{\\CGF}{\\Lambda}\n",
      "\\newcommand{\\norm}[1]{\\lVert #1 \\rVert}\n",
      "\\newcommand{\\innerp}[2]{\\langle #1 , #2 \\rangle}\n",
      "\\newcommand{\\argmax}{\\mathop{\\mathrm{argmax}}}\n",
      "\\newcommand{\\argmin}{\\mathop{\\mathrm{argmin}}}\n",
      "\\newcommand{\\minimize}{\\mathop{\\mathrm{minimize}}}\n",
      "\\newcommand{\\maximize}{\\mathop{\\mathrm{maximize}}}\n",
      "\\newcommand{\\Ee}{\\mathbb{E}}\n",
      "\\newcommand{\\Qq}{\\mathbb{Q}}\n",
      "\\newcommand{\\Zz}{\\mathbb{Z}}\n",
      "\\newcommand{\\Pp}{\\mathbb{P}}\n",
      "\\newcommand{\\real}{\\mathbb{R}}\n",
      "\\newcommand{\\Vv}{\\text{Var}}\n",
      "\\newcommand{\\Mm}{{\\cal M}}\n",
      "\\newcommand{\\I}{I}\n",
      "$$\n",
      "\n",
      "The simplest result for bounding the tail probability of the\n",
      "sufficient statistic is Chernoff's bound, based on\n",
      "Markov's inequality and the cumulant generating function."
     ]
    },
    {
     "cell_type": "markdown",
     "metadata": {
      "slideshow": {
       "slide_type": "fragment"
      }
     },
     "source": [
      "For every $s \\geq 0$ and $u \\geq \\Ee_{\\eta}(t(X))$ we have\n",
      "$$\n",
      "\\begin{aligned}\n",
      "\\Pp_{\\eta}(t(X) \\geq u) &\\leq \\frac{\\Ee_{\\eta}(e^{s \\cdot t(X)})}{e^{su}} \\\\\n",
      "&= \\Ee_{\\eta}(e^{s \\cdot t(X) - su}) \\\\\n",
      "&= \\exp \\left(\\CGF(s+\\eta) - su - \\CGF(\\eta) \\right) \\\\\n",
      "&= \\exp \\left(\\tilde{\\CGF}_{\\eta}(s) - su \\right) \\\\\n",
      "\\end{aligned}\n",
      "$$\n",
      "where $$\\tilde{\\CGF}_{\\eta}(s)=\\CGF(\\eta+s)-\\CGF(s)$$ is the cumulant generating function of $t(X)$ under $\\Pp_{\\eta}$."
     ]
    },
    {
     "cell_type": "markdown",
     "metadata": {
      "slideshow": {
       "slide_type": "fragment"
      }
     },
     "source": [
      "Optimizing over $s$ yields\n",
      "$$\n",
      "\\begin{aligned}\n",
      "\\Pp_{\\eta}(t(X) \\geq u) &\\leq \\exp \\left(-\\sup_{s \\geq 0} \\left[us - \\tilde{\\CGF}_{\\eta}(s)\\right] \\right) \\\\\n",
      "&= \\exp(-\\tilde{\\CGF}^*_{\\eta}(u)).\n",
      "\\end{aligned}\n",
      "$$\n",
      "In the transition from the second to the third line above we have implicitly assumed that \n",
      "$$\n",
      "\\begin{aligned}\n",
      "\\tilde{\\CGF}^*_{\\eta}(u) &= \\sup_{s} \\left[us - \\tilde{\\CGF}_{\\eta}(s)\\right] \\\\\n",
      "&= \\sup_{s \\geq 0} \\left[us - \\tilde{\\CGF}_{\\eta}(s)\\right].\n",
      "\\end{aligned}\n",
      "$$\n",
      "That is, we assumed that the supremum was achieved at a positive $s$. This follows from the fact that in order to tilt $\\Pp_{\\eta}$ to have mean $u > \\Ee_{\\eta}(t(X))$ we must tilt with a positive exponent. This also follows from monotonicity of the mapping $\\eta \\mapsto \\mu(\\eta)$."
     ]
    },
    {
     "cell_type": "markdown",
     "metadata": {
      "slideshow": {
       "slide_type": "fragment"
      }
     },
     "source": [
      "Recall that\n",
      "$\\dot{\\CGF}^*_{\\eta}(u)$ can be interpreted as the $s=s(u)$ chosen so that\n",
      "$$\n",
      "\\Ee_{\\eta+s}(t(X))=u.\n",
      "$$\n",
      "The quantity $\\tilde{\\CGF}^*_{\\eta}$ can be thought of as the *cost* of tilting \n",
      "$\\Pp_{\\eta}$ so that it has mean $\\mu$. \n",
      "\n",
      "Chernoff's bound therefore says that\n",
      "the probability that $t(X) > u$ under $\\Pp_{\\eta}$ is exponential in the cost of tilting\n",
      "$\\Pp_{\\eta}$ to have mean $u$.\n",
      "\n",
      "There is a corresponding lower version of Chernoff's bound. For any $u < \\Ee_{\\eta}(t(X))$\n",
      "$$\n",
      "\\begin{aligned}\n",
      "\\Pp_{\\eta}(t(X) < u) & \\leq \\exp \\left(-\\sup_{s \\leq 0} su - \\CGF_{\\eta}(s) \\right) \\\\\n",
      "&= \\exp(-\\CGF^*_{\\eta}(u)).\n",
      "\\end{aligned}\n",
      "$$"
     ]
    },
    {
     "cell_type": "markdown",
     "metadata": {
      "exercise": {
       "number": "2"
      },
      "slideshow": {
       "slide_type": "slide"
      }
     },
     "source": [
      "### *Exercise: Poisson Chernoff bound*\n",
      "\n",
      "Suppose $X \\sim \\text{Poisson}(\\lambda)$. \n",
      "\n",
      "1. Compute $\\CGF^*(\\mu)$ with $\\CGF$ the cumulant generating function of $X$ (i.e.\n",
      "consider the Poisson family to have carrier measure $\\text{Poisson}(\\lambda)$). \n",
      "\n",
      "2. For $\\lambda=4$, compute the Chernoff bound for \n",
      "$$\n",
      "\\Pp(X > 10).\n",
      "$$"
     ]
    },
    {
     "cell_type": "markdown",
     "metadata": {
      "exercise": {
       "number": "2"
      },
      "slideshow": {
       "slide_type": "fragment"
      }
     },
     "source": [
      "### *Exercise: exponential Chernoff bound*\n",
      "\n",
      "Suppose $X \\sim \\text{Exponential}(\\lambda)$. \n",
      "\n",
      "1. Compute $\\CGF^*(\\mu)$  with $\\CGF$ the cumulant generating function of $X$. \n",
      "\n",
      "2. For $\\lambda=4$, compute the Chernoff bound for \n",
      "$$\n",
      "\\Pp(X > 10).\n",
      "$$"
     ]
    },
    {
     "cell_type": "markdown",
     "metadata": {
      "slideshow": {
       "slide_type": "slide"
      }
     },
     "source": [
      "## Saddle point approximation"
     ]
    },
    {
     "cell_type": "markdown",
     "metadata": {
      "slideshow": {
       "slide_type": "fragment"
      }
     },
     "source": [
      "The saddle point approximation is an approximation for the density of \n",
      "$\\overline{t(X)}$  having observed an IID sample of size $n$ under $\\Pp_{\\eta}$.\n",
      "\n",
      "The approximation is\n",
      "$$\n",
      "\\begin{aligned}\n",
      "f_{\\overline{t(X)}}(t) &\\approx \n",
      " \\left(2 \\pi \\Vv_{\\eta(t)}(\\overline{t(X)})\\right)^{-1/2} e^{-\\sup_{s} \\left[ts-n\\CGF_{\\eta}(s/n) \\right]} \\\\\n",
      "&= \\left(2 \\pi \\Vv_{\\eta(t)}(\\overline{t(X)})\\right)^{-1/2} e^{-\\CGF^{n \\, *}_{\\eta}(t)} \\\\\n",
      "\\end{aligned}\n",
      "$$\n",
      "where\n",
      "$$\n",
      "\\CGF^n_{\\eta}(s) = \\Ee_{\\eta}(e^{s \\overline{t(X)}}) = n\\CGF_{\\eta}(s/n) = n \\left[\\CGF(\\eta+s/n) - \\CGF(\\eta)\\right]\n",
      "$$\n",
      "is the CGF of $\\overline{t(X)}$ under $\\Pp_{\\eta}$.\n",
      "\n",
      "In short,\n",
      "$$\n",
      "\\CGF^{n \\, *}_{\\eta}(t) = n \\CGF^*_{\\eta}(t)\n",
      "$$\n",
      "is the cost needed to tilt $\\overline{t(X)}$ to have mean $t$. The multiplier in front\n",
      "is a term that comes up from the fact that, after tilting $\\overline{t(X)}$ to have mean\n",
      "$t$, the quantity $\\overline{t(X)}-t$ is roughly normally distributed under\n",
      "the new distribution.\n",
      "\n",
      "See, for example [Explaining the Saddlepoint Approximation](http://www.jstor.org/stable/2686100).\n",
      "\n",
      "One simple way to think of the saddlepoint approximation for the density at some point $t$ for any one parameter exponential family is:\n",
      "    \n",
      "1. The exponential part is the cost it takes to tilt the family to have mean $t$.\n",
      "    \n",
      "2. The premultiplier is the implied variance of the local CLT after tilting."
     ]
    },
    {
     "cell_type": "markdown",
     "metadata": {
      "exercise": {
       "number": "2"
      },
      "slideshow": {
       "slide_type": "slide"
      }
     },
     "source": [
      "### *Exercise*\n",
      "\n",
      "1. Show that\n",
      "$$\n",
      "\\CGF^{n \\, *}_{\\eta}(t) = n \\CGF^*_{\\eta}(t).\n",
      "$$\n",
      "\n",
      "2. Show that \n",
      "$$\n",
      "n \\CGF^*_{\\eta}(t) = \\tilde{D}^n(t;\\Ee_{\\eta}(t(X)))/2.\n",
      "$$"
     ]
    },
    {
     "cell_type": "markdown",
     "metadata": {
      "exercise": {
       "number": "2"
      },
      "slideshow": {
       "slide_type": "fragment"
      }
     },
     "source": [
      "### *Exercise: Gamma density*\n",
      "\n",
      "1. Compute the saddlepoint approximation to the Gamma density with shape parameter 5 and scale parameter 1 at some fixed $t$.\n",
      "\n",
      "2. Plot your approximation.\n",
      "\n",
      "3. Repeat for shape parameter 12.3."
     ]
    },
    {
     "cell_type": "heading",
     "level": 2,
     "metadata": {
      "slideshow": {
       "slide_type": "slide"
      }
     },
     "source": [
      "Subgaussianity"
     ]
    },
    {
     "cell_type": "markdown",
     "metadata": {
      "slideshow": {
       "slide_type": "fragment"
      }
     },
     "source": [
      "A common condition seen in many high-dimensional statistics problems these days\n",
      "is *subgaussianity*. A random variable $Z$ is *subgaussian* with scale factor\n",
      "$\\sigma > 0$, \n",
      "$$\n",
      "\\Ee(\\exp(tZ)) \\leq e^{t^2 \\sigma^2/2}.\n",
      "$$\n",
      "\n",
      "Exponential families all satisfy a local form of this property. Specifically, set\n",
      "$$\n",
      "Z = t(X) - \\Ee_{\\eta}(t(X)).\n",
      "$$\n",
      "Then, as long as $t+\\eta \\in \\D(\\F)$\n",
      "$$\n",
      "\\begin{aligned}\n",
      "\\Ee_{\\eta}(\\exp^{tZ}) &= \\exp \\left(\\CGF(t+\\eta)-\\CGF(\\eta)- t \\dot{\\CGF}(\\eta) \\right) \\\\\n",
      "& \\leq \\exp\\left(\\frac{t^2}{2} C(t,\\eta) \\right)\n",
      "\\end{aligned}\n",
      "$$\n",
      "where\n",
      "$$\n",
      "C(t,\\eta) = \\sup_{|r|<t} \\ddot{\\CGF}(\\eta+r)\n",
      "$$\n",
      "is a local bound on $\\Vv_{\\eta}(t(X))$. \n",
      "\n",
      "In particular, if \n",
      "$$\n",
      "\\sup_{\\eta \\in \\D(\\F)} \\Vv_{\\eta}(t(X)) = C_2 < \\infty.\n",
      "$$\n",
      "\n",
      "Then, $t(X)-\\Ee_{\\eta}(t(X))$ is subgaussian with scale factor $\\sqrt{C_2}$."
     ]
    },
    {
     "cell_type": "markdown",
     "metadata": {
      "exercise": {
       "number": "2"
      },
      "slideshow": {
       "slide_type": "slide"
      }
     },
     "source": [
      "### *Exercise: subgaussianity*\n",
      "\n",
      "1. Give an example of a one parameter exponential family that is subgaussian.\n",
      "\n",
      "2. Give an example of a one parameter exponential family that is not subgaussian."
     ]
    },
    {
     "cell_type": "markdown",
     "metadata": {},
     "source": [
      "# Hypothesis testing\n",
      "\n",
      "## Neyman-Pearson"
     ]
    },
    {
     "cell_type": "markdown",
     "metadata": {},
     "source": [
      "# Bayesian models and exponential families\n",
      "\n",
      "## Tweedie's formula\n",
      "\n",
      "## Conjugate priors\n",
      "\n"
     ]
    },
    {
     "cell_type": "code",
     "collapsed": false,
     "input": [],
     "language": "python",
     "metadata": {},
     "outputs": []
    }
   ],
   "metadata": {}
  }
 ]
}