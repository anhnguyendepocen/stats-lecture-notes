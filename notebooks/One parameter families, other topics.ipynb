{
 "metadata": {
  "name": "One parameter families, other topics"
 },
 "nbformat": 3,
 "nbformat_minor": 0,
 "worksheets": [
  {
   "cells": [
    {
     "cell_type": "markdown",
     "metadata": {},
     "source": [
      "# Hypothesis testing\n",
      "\n",
      "## Neyman-Pearson"
     ]
    },
    {
     "cell_type": "markdown",
     "metadata": {},
     "source": [
      "# Bayesian models and exponential families\n",
      "\n",
      "## Tweedie's formula\n",
      "\n",
      "## Conjugate priors\n",
      "\n"
     ]
    },
    {
     "cell_type": "markdown",
     "metadata": {},
     "source": [
      "# Probabilistic results\n",
      "\n",
      "\n",
      "## Saddle point approximation\n",
      "\n",
      "## Lugannani-Rice tail approximation\n",
      "\n",
      "## Chernoff bound\n",
      "\n",
      "## Subexponential, subgaussian\n",
      "\n",
      "\n"
     ]
    },
    {
     "cell_type": "code",
     "collapsed": false,
     "input": [],
     "language": "python",
     "metadata": {},
     "outputs": []
    }
   ],
   "metadata": {}
  }
 ]
}