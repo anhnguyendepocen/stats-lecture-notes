{
 "metadata": {
  "name": "",
  "signature": "sha256:dc258ad543a31bf5a15c5c7a970084b61fa26950e84ce74ed90204e3e702008f"
 },
 "nbformat": 3,
 "nbformat_minor": 0,
 "worksheets": [
  {
   "cells": [
    {
     "cell_type": "markdown",
     "metadata": {},
     "source": [
      "## Example 9.8\n",
      "\n",
      "Although the data for Example 9.8 is meant for the paired T-test, we will use it \n",
      "to illustrate use of the other two-sample T tests.\n",
      "\n",
      "To emphasize the difference in calculations, it is helpful to have groups of\n",
      "different sizes so we set $Z$ to be the first 5 entries of $Y$."
     ]
    },
    {
     "cell_type": "code",
     "collapsed": false,
     "input": [
      "%%R\n",
      "X = c(0.430, 0.266, 0.567, 0.531, 0.707, 0.716)\n",
      "Y = c(0.415, 0.238, 0.390, 0.410, 0.605, 0.609)\n",
      "Z = Y[1:5]"
     ],
     "language": "python",
     "metadata": {},
     "outputs": [],
     "prompt_number": 13
    },
    {
     "cell_type": "markdown",
     "metadata": {},
     "source": [
      "## Pooled test"
     ]
    },
    {
     "cell_type": "code",
     "collapsed": false,
     "input": [
      "%%R\n",
      "print(t.test(X,Z,var.equal=TRUE))"
     ],
     "language": "python",
     "metadata": {},
     "outputs": [
      {
       "metadata": {},
       "output_type": "display_data",
       "text": [
        "\n",
        "\tTwo Sample t-test\n",
        "\n",
        "data:  X and Z\n",
        "t = 1.3316, df = 9, p-value = 0.2157\n",
        "alternative hypothesis: true difference in means is not equal to 0\n",
        "95 percent confidence interval:\n",
        " -0.08704433  0.33617766\n",
        "sample estimates:\n",
        "mean of x mean of y \n",
        "0.5361667 0.4116000 \n",
        "\n"
       ]
      }
     ],
     "prompt_number": 14
    },
    {
     "cell_type": "code",
     "collapsed": false,
     "input": [
      "%%R\n",
      "num = mean(X) - mean(Z)\n",
      "pooled_S = sqrt((5 * var(X) + 4 * var(Z)) / 9)\n",
      "den = pooled_S * sqrt(1/6 + 1/5)\n",
      "print(num/den)"
     ],
     "language": "python",
     "metadata": {},
     "outputs": [
      {
       "metadata": {},
       "output_type": "display_data",
       "text": [
        "[1] 1.331639\n"
       ]
      }
     ],
     "prompt_number": 16
    },
    {
     "cell_type": "markdown",
     "metadata": {},
     "source": [
      "## Unequal variance"
     ]
    },
    {
     "cell_type": "code",
     "collapsed": false,
     "input": [
      "%%R\n",
      "print(t.test(X,Z))"
     ],
     "language": "python",
     "metadata": {},
     "outputs": [
      {
       "metadata": {},
       "output_type": "display_data",
       "text": [
        "\n",
        "\tWelch Two Sample t-test\n",
        "\n",
        "data:  X and Z\n",
        "t = 1.3679, df = 8.957, p-value = 0.2047\n",
        "alternative hypothesis: true difference in means is not equal to 0\n",
        "95 percent confidence interval:\n",
        " -0.08159073  0.33072406\n",
        "sample estimates:\n",
        "mean of x mean of y \n",
        "0.5361667 0.4116000 \n",
        "\n"
       ]
      }
     ],
     "prompt_number": 17
    },
    {
     "cell_type": "code",
     "collapsed": false,
     "input": [
      "%%R\n",
      "df_estimate = (sd(X)^2 / 6 + sd(Z)^2 / 5)^2 / (sd(X)^4 / (5 * 36) + sd(Z)^4 / (4 * 25))\n",
      "print(df_estimate)"
     ],
     "language": "python",
     "metadata": {},
     "outputs": [
      {
       "metadata": {},
       "output_type": "display_data",
       "text": [
        "[1] 8.957221\n"
       ]
      }
     ],
     "prompt_number": 21
    },
    {
     "cell_type": "code",
     "collapsed": false,
     "input": [
      "%%R\n",
      "T = num / sqrt(sd(X)^2 / 6 + sd(Z)^2 / 5)\n",
      "print(T)"
     ],
     "language": "python",
     "metadata": {},
     "outputs": [
      {
       "metadata": {},
       "output_type": "display_data",
       "text": [
        "[1] 1.367861\n"
       ]
      }
     ],
     "prompt_number": 22
    },
    {
     "cell_type": "markdown",
     "metadata": {},
     "source": [
      "## Paired test"
     ]
    },
    {
     "cell_type": "code",
     "collapsed": false,
     "input": [
      "%%R\n",
      "print(t.test(X-Y))"
     ],
     "language": "python",
     "metadata": {},
     "outputs": [
      {
       "metadata": {},
       "output_type": "display_data",
       "text": [
        "\n",
        "\tOne Sample t-test\n",
        "\n",
        "data:  X - Y\n",
        "t = 3.6998, df = 5, p-value = 0.014\n",
        "alternative hypothesis: true mean is not equal to 0\n",
        "95 percent confidence interval:\n",
        " 0.02797823 0.15535510\n",
        "sample estimates:\n",
        " mean of x \n",
        "0.09166667 \n",
        "\n"
       ]
      }
     ],
     "prompt_number": 7
    },
    {
     "cell_type": "code",
     "collapsed": false,
     "input": [
      "%%R\n",
      "num = mean(X-Y)\n",
      "den = sd(X-Y) / sqrt(6)\n",
      "T = num / den\n",
      "print(T)"
     ],
     "language": "python",
     "metadata": {},
     "outputs": [
      {
       "metadata": {},
       "output_type": "display_data",
       "text": [
        "[1] 3.699834\n"
       ]
      }
     ],
     "prompt_number": 23
    },
    {
     "cell_type": "markdown",
     "metadata": {},
     "source": [
      "## Wilcoxon rank sum test"
     ]
    },
    {
     "cell_type": "code",
     "collapsed": false,
     "input": [
      "%%R\n",
      "print(wilcox.test(X,Y))"
     ],
     "language": "python",
     "metadata": {},
     "outputs": [
      {
       "metadata": {},
       "output_type": "display_data",
       "text": [
        "\n",
        "\tWilcoxon rank sum test\n",
        "\n",
        "data:  X and Y\n",
        "W = 25, p-value = 0.3095\n",
        "alternative hypothesis: true location shift is not equal to 0\n",
        "\n"
       ]
      }
     ],
     "prompt_number": 25
    }
   ],
   "metadata": {}
  }
 ]
}