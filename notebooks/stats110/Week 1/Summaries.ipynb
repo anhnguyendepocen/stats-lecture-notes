{
 "metadata": {
  "name": "",
  "signature": "sha256:8de63761ae85b5e20564b60470c9207ed94951f244e292d55021a38a45fba60d"
 },
 "nbformat": 3,
 "nbformat_minor": 0,
 "worksheets": [
  {
   "cells": [
    {
     "cell_type": "markdown",
     "metadata": {},
     "prompt_number": 1,
     "source": [
      "Let's make a histogram using [R](http://cran.r-project.org/). The software is installed on `corn.stanford.edu` and other Stanford servers if you don't want to install it on your own computer.\n",
      "\n",
      "## Using provided count data\n",
      "\n",
      "We are given the following data from 1.2.23 in the textbook on the length of tantrums:\n",
      "\n",
      "Duration  | Count\n",
      "----------|-------\n",
      "[0,2)     |  136\n",
      "[2,4)     |  92\n",
      "[4,11)    |  71\n",
      "[11,20)   |  26\n",
      "[20,30)   |  7\n",
      "[30,40)   |  3\n",
      "\n"
     ]
    },
    {
     "cell_type": "code",
     "collapsed": false,
     "input": [
      "%%R\n",
      "counts = c(136,92,71,26,7,3)\n",
      "widths = c(2,2,7,9,10,10)\n",
      "heights = (counts / widths) / sum(counts) * 100\n",
      "barplot(heights, width=widths, xlim=c(0,40), space=0, ylab='% per unit', xlab='Units',\n",
      "       names=c('[0,2)', '[2,4)','[4,11)','[11,20)','[20,30)','[30,40)'))"
     ],
     "language": "python",
     "metadata": {},
     "outputs": [],
     "prompt_number": 1
    },
    {
     "cell_type": "markdown",
     "metadata": {},
     "prompt_number": 2,
     "source": [
      "## Saving figure to upload\n",
      "\n",
      "Suppose we want to save this figure to a PNG file. The following code saves it in the file `myhist.png`. "
     ]
    },
    {
     "cell_type": "code",
     "collapsed": false,
     "input": [
      "%%R\n",
      "png('myhist.png')\n",
      "counts = c(136,92,71,26,7,3)\n",
      "widths = c(2,2,7,9,10,10)\n",
      "heights = (counts / widths) / sum(counts) * 100\n",
      "barplot(heights, width=widths, xlim=c(0,40), space=0, ylab='% per unit', xlab='Units',\n",
      "       names=c('[0,2)', '[2,4)','[4,11)','[11,20)','[20,30)','[30,40)'))\n",
      "dev.off()"
     ],
     "language": "python",
     "metadata": {},
     "outputs": [],
     "prompt_number": 2
    },
    {
     "cell_type": "markdown",
     "metadata": {},
     "prompt_number": 3,
     "source": [
      "Here is the generated figure (embedded in the webpage):\n",
      "\n",
      "<img src=\"myhist.png\">\n",
      "\n",
      "To upload for an assignment we can use a site like [imgur](http://imgur.com).\n",
      "I uploaded this file to [http://imgur.com/C2hrIVP](http://imgur.com/C2hrIVP)."
     ]
    },
    {
     "cell_type": "markdown",
     "metadata": {},
     "prompt_number": 3,
     "source": [
      "## Using a sample of numbers\n",
      "\n",
      "More commonly, we have a sample of numbers for which we want to form \n",
      "a histogram. This means specifying the bins, then forming the above table.\n",
      "\n",
      "Most software packages have some defaults for choosing the number of bins to make\n",
      "a reasonable histogram.\n",
      "\n",
      "We will take a random sample of numbers and form a histogram."
     ]
    },
    {
     "cell_type": "code",
     "collapsed": false,
     "input": [
      "%%R\n",
      "random_sample = rnorm(100)\n",
      "print(random_sample)\n",
      "hist(random_sample)"
     ],
     "language": "python",
     "metadata": {},
     "outputs": [],
     "prompt_number": 3
    },
    {
     "cell_type": "markdown",
     "metadata": {},
     "prompt_number": 4,
     "source": [
      "## Mean, median and SD"
     ]
    },
    {
     "cell_type": "code",
     "collapsed": false,
     "input": [
      "%%R\n",
      "mean(random_sample)"
     ],
     "language": "python",
     "metadata": {},
     "outputs": [],
     "prompt_number": 4
    },
    {
     "cell_type": "code",
     "collapsed": false,
     "input": [
      "%%R\n",
      "median(random_sample)"
     ],
     "language": "python",
     "metadata": {},
     "outputs": [],
     "prompt_number": 5
    },
    {
     "cell_type": "code",
     "collapsed": false,
     "input": [
      "%%R\n",
      "sd(random_sample)"
     ],
     "language": "python",
     "metadata": {},
     "outputs": [],
     "prompt_number": 6
    },
    {
     "cell_type": "markdown",
     "metadata": {},
     "prompt_number": 7,
     "source": [
      "## Palo alto maximum temperature\n",
      "\n",
      "Below are the daily maximum temperature in Palo Alto, averaged over many years."
     ]
    },
    {
     "cell_type": "code",
     "collapsed": false,
     "input": [
      "%%R\n",
      "temp = c(56, 57, 55, 56, 56, 56, 56, 56, 57, 57, 57, 57, 57, 58, 58, 58, 58, 58, 59,\n",
      "         58, 58, 58, 59, 59, 58, 58, 59, 58, 58, 58, 59, 59, 59, 60, 61, 60, 60, 60,\n",
      "         61, 60, 60, 61, 61, 61, 61, 61, 61, 60, 61, 61, 62, 63, 63, 62, 63, 62, 63,\n",
      "         62, 63, 64, 62, 62, 62, 62, 63, 62, 63, 64, 64, 63, 63, 62, 63, 63, 65, 64,\n",
      "         64, 65, 66, 67, 65, 64, 64, 65, 64, 64, 66, 67, 67, 67, 66, 66, 66, 67, 69,\n",
      "         69, 68, 67, 68, 68, 68, 68, 69, 70, 69, 70, 69, 68, 67, 67, 68, 67, 68, 68,\n",
      "         68, 68, 69, 70, 71, 70, 71, 70, 69, 71, 71, 71, 71, 71, 72, 71, 71, 72, 73, \n",
      "         73, 72, 73, 74, 74, 75, 73, 74, 73, 74, 74, 73, 74, 73, 73, 75, 74, 75, 76,\n",
      "         76, 76, 75, 75, 76, 76, 76, 76, 76, 75, 76, 75, 75, 77, 78, 78, 78, 79, 78,\n",
      "         79, 79, 80, 80, 79, 80, 80, 79, 79, 79, 78, 79, 79, 78, 78, 78, 78, 78, 77,\n",
      "         80, 80, 80, 79, 79, 79, 79, 79, 79, 80, 79, 79, 78, 78, 78, 77, 78, 79, 78,\n",
      "         77, 77, 77, 78, 78, 79, 78, 78, 78, 79, 81, 80, 79, 79, 78, 78, 78, 78, 78,\n",
      "         79, 79, 78, 77, 77, 77, 78, 78, 79, 79, 77, 78, 79, 79, 79, 79, 78, 79, 79,\n",
      "         78, 79, 79, 79, 80, 79, 78, 79, 78, 78, 77, 77, 77, 77, 77, 77, 78, 79, 79,\n",
      "         78, 78, 79, 78, 77, 77, 77, 77, 76, 76, 75, 76, 76, 76, 76, 75, 76, 75, 75,\n",
      "         74, 75, 75, 75, 73, 73, 74, 73, 72, 71, 71, 71, 71, 71, 70, 70, 70, 69, 69,\n",
      "         69, 69, 69, 69, 69, 68, 68, 68, 68, 67, 67, 66, 66, 65, 64, 62, 63, 63, 62,\n",
      "         63, 63, 62, 61, 61, 62, 62, 63, 62, 61, 62, 61, 61, 61, 61, 60, 60, 59, 59,\n",
      "         60, 59, 58, 59, 59, 57, 58, 58, 58, 59, 59, 57, 57, 57, 56, 56, 56, 56, 57,\n",
      "         57, 57, 57, 57, 57)\n",
      "plot(temp)"
     ],
     "language": "python",
     "metadata": {},
     "outputs": [],
     "prompt_number": 7
    },
    {
     "cell_type": "markdown",
     "metadata": {},
     "prompt_number": 8,
     "source": [
      "Here is a stem and leaf plot"
     ]
    },
    {
     "cell_type": "code",
     "collapsed": false,
     "input": [
      "%%R\n",
      "stem(temp, scale=0.5)"
     ],
     "language": "python",
     "metadata": {},
     "outputs": [],
     "prompt_number": 8
    },
    {
     "cell_type": "markdown",
     "metadata": {},
     "prompt_number": 9,
     "source": [
      "## Boxplots\n",
      "\n",
      "Here is the data (and a boxplot) from Example 20 in the slides. "
     ]
    },
    {
     "cell_type": "code",
     "collapsed": false,
     "input": [
      "%%R\n",
      "nitrogen = c(9.69,13.16,17.09,18.12,23.70,24.07,\n",
      "             24.29,26.43,30.75,31.54,35.07,36.99,\n",
      "             40.32,42.51,45.64,48.22,49.98,50.06,\n",
      "             55.02,57.00,58.41,61.31,64.25,65.24,\n",
      "             66.14,67.68,81.40,90.80,92.17,92.42,\n",
      "             100.82,101.94,103.61,106.28,106.80,\n",
      "             108.69,114.61,120.86,124.54,143.27,\n",
      "             143.75,149.64,167.79,182.50,192.55,\n",
      "             193.53,271.57,292.61,321.45,352.09,\n",
      "             371.47,444.68,460.86,563.92,690.11,826.54,1529.35)\n",
      "boxplot(nitrogen)"
     ],
     "language": "python",
     "metadata": {},
     "outputs": [],
     "prompt_number": 9
    },
    {
     "cell_type": "markdown",
     "metadata": {},
     "prompt_number": 10,
     "source": [
      "## Using R with SSH\n",
      "\n",
      "R can be installed on your own computer by downloading an installer from the\n",
      "[R project](http://cran.r-project.org). For those of you who want to use it \n",
      "on Stanford's computer, this will be easiest from a Mac along with `ssh`.\n",
      "\n",
      "One requirement you will need is the [X11](http://xquartz.macosforge.org/landing/) system, which can be installed\n",
      "with a simple installer.\n",
      "\n",
      "After this, run `ssh -XC SUNET@corn` after replacing `SUNET` with your SUNET ID. It will ask for a password, use your SUNET password. Following this, you can start R by typing `R`."
     ]
    },
    {
     "cell_type": "code",
     "collapsed": false,
     "input": [],
     "language": "python",
     "metadata": {},
     "outputs": [],
     "prompt_number": 10
    }
   ],
   "metadata": {}
  }
 ]
}