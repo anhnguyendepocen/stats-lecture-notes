{
 "metadata": {
  "name": "",
  "signature": "sha256:35a887bee1902958638184dda18d07d353e01343087295c66ad45988e32fc5e5"
 },
 "nbformat": 3,
 "nbformat_minor": 0,
 "worksheets": [
  {
   "cells": [
    {
     "cell_type": "markdown",
     "metadata": {},
     "source": [
      "# Using the Normal distribution in R"
     ]
    },
    {
     "cell_type": "code",
     "collapsed": false,
     "input": [
      "%%R\n",
      "values = seq(-4,4,length=501)\n",
      "plot(values, dnorm(values), type='l')"
     ],
     "language": "python",
     "metadata": {},
     "outputs": [
      {
       "metadata": {},
       "output_type": "display_data",
       "png": "[encoded data removed]"
      }
     ],
     "prompt_number": 1
    },
    {
     "cell_type": "markdown",
     "metadata": {},
     "source": [
      "## Finding quantiles\n",
      "\n",
      "The book uses the notation $z_{\\alpha}$ for the $1-\\alpha$ quantile of the\n",
      "standard Normal. So,\n",
      "$$\n",
      "\\begin{aligned}\n",
      "z_{0.05} &\\approx 1.65 \\\\\n",
      "z_{0.025} & \\approx 1.96\n",
      "\\end{aligned}\n",
      "$$"
     ]
    },
    {
     "cell_type": "code",
     "collapsed": false,
     "input": [
      "%%R\n",
      "qvals = c(0.9,0.95,0.975,0.99,0.995)\n",
      "qnorm(qvals)"
     ],
     "language": "python",
     "metadata": {},
     "outputs": [
      {
       "metadata": {},
       "output_type": "display_data",
       "text": [
        "[1] 1.281552 1.644854 1.959964 2.326348 2.575829\n"
       ]
      }
     ],
     "prompt_number": 2
    },
    {
     "cell_type": "markdown",
     "metadata": {},
     "source": [
      "## Cumulative distribution function\n",
      "\n",
      "This is the function\n",
      "$$\n",
      "\\Phi(z) = \\int_{-\\infty}^z \\frac{e^{-t^2/2}}{\\sqrt{2 \\pi}} \\; dz\n",
      "$$\n"
     ]
    },
    {
     "cell_type": "code",
     "collapsed": false,
     "input": [
      "%%R\n",
      "print(pnorm(1.96))\n",
      "print(pnorm(1.96, lower.tail=FALSE))"
     ],
     "language": "python",
     "metadata": {},
     "outputs": [
      {
       "metadata": {},
       "output_type": "display_data",
       "text": [
        "[1] 0.9750021\n",
        "[1] 0.0249979\n"
       ]
      }
     ],
     "prompt_number": 3
    },
    {
     "cell_type": "markdown",
     "metadata": {},
     "source": [
      "## Example 4.16\n",
      "\n",
      "A model of reaction time is given in which $T \\sim N(1.25, 0.46^2)$. \n",
      "\n",
      "What is \n",
      "$$\n",
      "P(1 \\leq T \\leq 1.75)?\n",
      "$$"
     ]
    },
    {
     "cell_type": "markdown",
     "metadata": {},
     "source": [
      "The answer is\n",
      "$$\n",
      "F_T(1.75) - F_T(1).\n",
      "$$\n"
     ]
    },
    {
     "cell_type": "code",
     "collapsed": false,
     "input": [
      "%%R\n",
      "print(pnorm(1.75, mean=1.25, sd=0.46) - pnorm(1, mean=1.25, sd=0.46))"
     ],
     "language": "python",
     "metadata": {},
     "outputs": [
      {
       "metadata": {},
       "output_type": "display_data",
       "text": [
        "[1] 0.5680717\n"
       ]
      }
     ],
     "prompt_number": 6
    },
    {
     "cell_type": "markdown",
     "metadata": {},
     "source": [
      "Another way is to note\n",
      "$$\n",
      "F_T(t) = P(0.46*Z + 1.25 \\leq t) = \\Phi((t - 1.25) / 0.46)\n",
      "$$\n",
      "where $Z \\sim N(0,1)$."
     ]
    },
    {
     "cell_type": "code",
     "collapsed": false,
     "input": [
      "%%R\n",
      "U = (1.75 - 1.25) / 0.46\n",
      "L = (1 - 1.25) / 0.46\n",
      "print(pnorm(U) - pnorm(L))"
     ],
     "language": "python",
     "metadata": {},
     "outputs": [
      {
       "metadata": {},
       "output_type": "display_data",
       "text": [
        "[1] 0.5680717\n"
       ]
      }
     ],
     "prompt_number": 7
    },
    {
     "cell_type": "markdown",
     "metadata": {},
     "source": [
      "## Example 4.18\n",
      "\n",
      "Amount of distilled water $W \\sim N(64, 0.78^2)$. Find $c$ such that\n",
      "$$\n",
      "P(W > c ) = 0.005.\n",
      "$$\n",
      "Or,\n",
      "$$\n",
      "P(W \\leq c) = 0.995\n",
      "$$\n",
      "\n",
      "It is asking us for the 99.5-th percentile."
     ]
    },
    {
     "cell_type": "code",
     "collapsed": false,
     "input": [
      "%%R\n",
      "value = qnorm(0.995, mean=64, sd=0.78)\n",
      "print(value)\n",
      "print(pnorm(value, mean=64, sd=0.78))"
     ],
     "language": "python",
     "metadata": {},
     "outputs": [
      {
       "metadata": {},
       "output_type": "display_data",
       "text": [
        "[1] 66.00915\n",
        "[1] 0.995\n"
       ]
      }
     ],
     "prompt_number": 10
    },
    {
     "cell_type": "markdown",
     "metadata": {},
     "source": [
      "We can used standardized units also. The general relation between quantiles of\n",
      "$X \\sim N(\\mu, \\sigma^2)$ and $Z \\sim N(0,1)$ is\n",
      "$$\n",
      "x_{\\alpha} = \\sigma \\cdot z_{\\alpha} + \\mu.\n",
      "$$"
     ]
    },
    {
     "cell_type": "code",
     "collapsed": false,
     "input": [
      "%%R\n",
      "new_value = 0.78 * qnorm(0.995) + 64\n",
      "print(new_value)"
     ],
     "language": "python",
     "metadata": {},
     "outputs": [
      {
       "metadata": {},
       "output_type": "display_data",
       "text": [
        "[1] 66.00915\n"
       ]
      }
     ],
     "prompt_number": 11
    },
    {
     "cell_type": "markdown",
     "metadata": {},
     "source": [
      "Why does this work? Well, I claim.\n",
      "$$\n",
      "P(W \\leq \\sigma * z_{0.005} + \\mu) = 0.995\n",
      "$$\n",
      "where $W \\sim N(\\mu, \\sigma^2)$ ($\\mu=64, \\sigma=0.78$) and\n",
      "$$\n",
      "\\Phi(z_{0.005}) = 0.995\n",
      "$$\n",
      "so \n",
      "$$\n",
      "z_{\\alpha} = {\\tt qnorm(1-\\alpha)}.\n",
      "$$\n",
      "\n",
      "Let's prove the claim.\n",
      "We can write\n",
      "$$\n",
      "P(W \\leq \\sigma * z_{0.005} + \\mu) = P(\\sigma * Z + \\mu \\leq \\sigma * z_{0.005} + \\mu) = P(Z \\leq z_{0.005}) = \\Phi(z_{0.005}) = 0.995.\n",
      "$$\n",
      "where $Z \\sim N(0,1)$."
     ]
    },
    {
     "cell_type": "markdown",
     "metadata": {},
     "source": [
      "## Normal approximation to binomial\n",
      "\n",
      "Suppose $X \\sim \\text{Binomial}(n,p)$ with $np \\geq 10$ and $n(1-p) \\geq 10$. \n",
      "Then, we can approximate the distribution of $X$ as \n",
      "$$\n",
      "Z \\sim N(np, np(1-p)).\n",
      "$$"
     ]
    },
    {
     "cell_type": "code",
     "collapsed": false,
     "input": [
      "%%R\n",
      "n = 40\n",
      "p = 0.3\n",
      "values = seq(8,16,1)\n",
      "plot(values, pbinom(values, n, p), type='l', lwd=4, col='red')\n",
      "lines(values, pnorm(values + 0.5, n*p, sqrt(n*p*(1-p))), lty=2, lwd=4, col='blue')"
     ],
     "language": "python",
     "metadata": {},
     "outputs": [
      {
       "metadata": {},
       "output_type": "display_data",
       "png": "[encoded data removed]"
      }
     ],
     "prompt_number": 4
    },
    {
     "cell_type": "markdown",
     "metadata": {},
     "source": [
      "## Example 4.20\n",
      "\n",
      "Suppose 25% of students receive financial aid. Take a random sample of size 50\n",
      "and let $X$ be the number of students receiving financial aid.\n",
      "\n",
      "1. Approximate the probability at most 10 (i.e. 10 or fewer) students receive financial aid.\n",
      "\n",
      "2. $P(5 \\leq X \\leq 15)$"
     ]
    },
    {
     "cell_type": "code",
     "collapsed": false,
     "input": [
      "%%R\n",
      "n = 50\n",
      "p = .25\n",
      "muX = n*p\n",
      "sdX = sqrt(n*p*(1-p))\n",
      "\n",
      "# exact\n",
      "print(pbinom(10, n, p))\n",
      "# approximation\n",
      "print(pnorm(10+0.5, mean=muX, sd=sdX))"
     ],
     "language": "python",
     "metadata": {},
     "outputs": [
      {
       "metadata": {},
       "output_type": "display_data",
       "text": [
        "[1] 0.2622023\n",
        "[1] 0.2568146\n"
       ]
      }
     ],
     "prompt_number": 25
    },
    {
     "cell_type": "code",
     "collapsed": false,
     "input": [
      "%%R\n",
      "# part 2\n",
      "print(pnorm(15.5, muX, sdX) - pnorm(4.5, muX, sdX))\n",
      "print(pbinom(15,n,p) - pbinom(4,n,p))"
     ],
     "language": "python",
     "metadata": {},
     "outputs": [
      {
       "metadata": {},
       "output_type": "display_data",
       "text": [
        "[1] 0.8319162\n",
        "[1] 0.8348084\n"
       ]
      }
     ],
     "prompt_number": 26
    },
    {
     "cell_type": "markdown",
     "metadata": {},
     "source": [
      "# Gamma distributions\n",
      "\n",
      "In `R`, the functions `pgamma, dgamma, qgamma, rgamma` are used to simulate Gamma random variables. These random variables have density\n",
      "determined by two parameters $(\\alpha, \\beta)$\n",
      "$$\n",
      "f(x;\\alpha,\\beta) =\n",
      "\\begin{cases}\n",
      "\\frac{1}{\\beta^{\\alpha}\\Gamma(\\alpha)} x^{\\alpha-1} e^{-x/\\beta} & x \\geq 0\\\\\n",
      "0 & \\text{otherwise.}\n",
      "\\end{cases}\n",
      "$$\n",
      "\n",
      "We write\n",
      "$$\n",
      "X \\sim \\text{Gamma}(\\alpha,\\beta)\n",
      "$$"
     ]
    },
    {
     "cell_type": "markdown",
     "metadata": {},
     "source": [
      "In `R`, the parameter `shape` is $\\alpha$ and `scale` is $\\beta$."
     ]
    },
    {
     "cell_type": "markdown",
     "metadata": {},
     "source": []
    },
    {
     "cell_type": "markdown",
     "metadata": {},
     "source": [
      "## Example 4.23\n",
      "\n",
      "$X$ is standard Gamma with $\\alpha=2$, i.e. $X \\sim \\text{Gamma}(2,1)$.\n",
      "Compute\n",
      "\n",
      "1. $P(3 \\leq X \\leq 5)$?\n",
      "\n",
      "2. $P(X > 4)$?"
     ]
    },
    {
     "cell_type": "code",
     "collapsed": false,
     "input": [
      "%%R\n",
      "# part 1\n",
      "print(pgamma(5,2) - pgamma(3,2))\n",
      "\n",
      "# part 2\n",
      "print(pgamma(4, 2, lower.tail=FALSE))"
     ],
     "language": "python",
     "metadata": {},
     "outputs": [
      {
       "metadata": {},
       "output_type": "display_data",
       "text": [
        "[1] 0.1587206\n",
        "[1] 0.09157819\n"
       ]
      }
     ],
     "prompt_number": 17
    },
    {
     "cell_type": "markdown",
     "metadata": {},
     "source": [
      "## Example 4.24\n",
      "\n",
      "Let $X$ be the survival time in weeks for a male mouse exposed to radiation.\n",
      "We are told $X \\sim \\text{Gamma}(8,15)$.\n",
      "\n",
      "1. What is the expected survival time, $E(X)$?\n",
      "\n",
      "2. The variance $\\text{Var}(X)$?\n",
      "\n",
      "3. $P(60 \\leq X \\leq 120)$?\n",
      "\n",
      "4. $P(X \\geq 30)?$"
     ]
    },
    {
     "cell_type": "markdown",
     "metadata": {},
     "source": [
      "### Answers\n",
      "\n",
      "Here $(\\alpha, \\beta) = (8,15)$.\n",
      "\n",
      "1. $E(X) = \\alpha \\beta = 8*15=120$.\n",
      "\n",
      "2. $\\text{Var}(X)$ = \\alpha \\beta^2 = 8 * 225= 1800."
     ]
    },
    {
     "cell_type": "code",
     "collapsed": false,
     "input": [
      "%%R\n",
      "# P(60 <= X <= 120)\n",
      "print(pgamma(120, 8, scale=15) - pgamma(60, 8, scale=15))\n",
      "print(pgamma(120, 8, 1/15) - pgamma(60, 8, 1/15))\n",
      "print(pgamma(120, 8, rate=1/15) - pgamma(60, 8, rate=1/15))"
     ],
     "language": "python",
     "metadata": {},
     "outputs": []
    },
    {
     "cell_type": "code",
     "collapsed": false,
     "input": [
      "%%R\n",
      "# P(X >= 30)\n",
      "print(1 - pgamma(30, 8, scale=15))\n",
      "print(pgamma(30, 8, scale=15, lower.tail=FALSE))"
     ],
     "language": "python",
     "metadata": {},
     "outputs": [
      {
       "metadata": {},
       "output_type": "display_data",
       "text": [
        "[1] 0.4959056\n",
        "[1] 0.4959056\n",
        "[1] 0.4959056\n",
        "[1] 0.9989033\n",
        "[1] 0.9989033\n"
       ]
      }
     ],
     "prompt_number": 16
    },
    {
     "cell_type": "markdown",
     "metadata": {},
     "source": [
      "## Problem 4.61\n",
      "\n",
      "Rainfall duration at Toronto airport (in hours) $$X \\sim \\text{Exp}(1/2.725)$$.\n",
      "\n",
      "1. What is the probabilty that duration of an event is at least 2 hours?\n",
      "\n",
      "2. Probability rainfall exceeds the mean by more than 2 standard deviations? One standard deviation?"
     ]
    },
    {
     "cell_type": "markdown",
     "metadata": {},
     "source": [
      "## Problem 4.64\n",
      "\n",
      "Evaluate:\n",
      "1. $\\Gamma(6)$\n",
      "\n",
      "2. $\\Gamma(5/2)$ (you can use the fact $\\Gamma(1/2)=\\sqrt{\\pi}$)\n",
      "\n",
      "3. $IG(4;5)$ where $IG$ is the incomplete gamma function\n",
      "$$\n",
      "IG(x;\\alpha) = \\int_0^x u^{\\alpha-1} e^{-u} \\; du.\n",
      "$$\n",
      "\n",
      "4. $IG(5;4)$.\n",
      "\n",
      "5. $IG(0;4)$."
     ]
    },
    {
     "cell_type": "markdown",
     "metadata": {},
     "source": [
      "## The $\\chi^2$ distribution\n",
      "\n",
      "This is a special case of the $\\Gamma$ distribution with $\\beta=2$ and\n",
      " a parameter $\\nu$ called the `degrees of freedom`. The relationship to the\n",
      " Gamma is\n",
      " $$\n",
      " \\chi^2_{\\nu} \\sim \\text{Gamma}(\\nu/2, 2).\n",
      " $$\n",
      " \n",
      " The functions in `R` are `pchisq,dchisq,qchisq,rchisq`."
     ]
    },
    {
     "cell_type": "code",
     "collapsed": false,
     "input": [
      "%%R\n",
      "df = 20\n",
      "values = seq(15,25,length=51)\n",
      "plot(values, pchisq(values, df), col='red', lwd=8, type='l')\n",
      "lines(values, pgamma(values, shape=df/2, scale=2), col='blue', lwd=4)"
     ],
     "language": "python",
     "metadata": {},
     "outputs": [
      {
       "metadata": {},
       "output_type": "display_data",
       "png": "[encoded data removed]"
      }
     ],
     "prompt_number": 5
    },
    {
     "cell_type": "code",
     "collapsed": false,
     "input": [],
     "language": "python",
     "metadata": {},
     "outputs": [],
     "prompt_number": 5
    }
   ],
   "metadata": {}
  }
 ]
}