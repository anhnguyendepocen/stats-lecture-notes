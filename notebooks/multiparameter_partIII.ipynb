{
 "metadata": {
  "name": "multiparameter_partIII"
 },
 "nbformat": 3,
 "nbformat_minor": 0,
 "worksheets": [
  {
   "cells": [
    {
     "cell_type": "heading",
     "level": 2,
     "metadata": {
      "slideshow": {
       "slide_type": "slide"
      }
     },
     "source": [
      "Conjugate priors"
     ]
    },
    {
     "cell_type": "markdown",
     "metadata": {
      "slideshow": {
       "slide_type": "fragment"
      }
     },
     "source": [
      "Just as in the one parameter case,  conjugate priors \n",
      "for the natural parameter of $k$-parameter families involve the $\\CGF$ involve\n",
      "the $\\CGF$ as a sufficient statistic.\n",
      "\n",
      "\n",
      "Given a prior\n",
      "$$\n",
      "\\pi(\\eta) \\; d\\eta = e^{\\alpha \\left[\\omega \\cdot \\eta - \\CGF(\\eta) \\right]} \\; d\\eta\n",
      "$$\n",
      "sampling data leads to a posterior of the form\n",
      "$$\n",
      "\\pi(\\eta|y)  \\propto \\exp\\left( \\left(\\alpha \\omega + y \\right)\\cdot \\eta - (\\alpha + 1) \\CGF(\\eta) \\right).\n",
      "$$"
     ]
    },
    {
     "cell_type": "markdown",
     "metadata": {
      "exercise": {
       "input": false,
       "output": false,
       "start": false
      },
      "slideshow": {
       "slide_type": "fragment"
      }
     },
     "source": [
      "This is a $(k+1)$-dimensional exponential family with reference measure\n",
      "$d\\eta$. To avoid confusion, let's call the natural parameters\n",
      "$(\\theta_1,\\theta_2)$ for this exponential family. The density has the form\n",
      "$$\n",
      "\\frac{d\\Pp_{\\theta}}{d\\eta} = \\exp( \\theta_1^T\\eta - \\theta_2 \\CGF(\\eta) - G(\\theta_1,\\theta_2)).\n",
      "$$"
     ]
    },
    {
     "cell_type": "markdown",
     "metadata": {
      "exercise": {
       "input": true,
       "start": true
      },
      "slideshow": {
       "slide_type": "fragment"
      }
     },
     "source": [
      "The sufficient statistics are $(\\eta, \\CGF(\\eta)) \\in \\real^{k+1}$ and \n",
      "the cumulant generating function is\n",
      "$$\n",
      "G(\\theta_1, \\theta_2) = \\int_{\\D} \\exp (\\theta_1^T\\eta - \\theta_2 \\CGF(\\eta)) \\; d\\eta.\n",
      "$$"
     ]
    },
    {
     "cell_type": "markdown",
     "metadata": {
      "slideshow": {
       "slide_type": "fragment"
      }
     },
     "source": [
      "As in the one-parameter case, sampling data induces a translation in the\n",
      "parameters of this exponential family.\n",
      "\n",
      "Specifically, if we sample $n$ points IID, we see that\n",
      "$$\n",
      "\\pi(\\eta|y) \\propto \\exp\\left( n \\cdot \\overline{y}^T \\eta + \\theta_1^T \\eta - (n + \\theta_2) \\CGF(\\eta) \\right).\n",
      "$$\n",
      "\n",
      "The map could be expressed as\n",
      "$$\n",
      "(\\theta_1, \\theta_2) \\mapsto (n \\cdot \\overline{y}^T + \\theta_1, n + \\theta_2).\n",
      "$$"
     ]
    },
    {
     "cell_type": "markdown",
     "metadata": {
      "exercise": {
       "input": true
      },
      "slideshow": {
       "slide_type": "slide"
      }
     },
     "source": [
      "### *Exercise: domain of the conjugate prior*\n",
      "\n",
      "What can you say about the domain of $G$? What can you say about the support\n",
      "of the conjugate family?"
     ]
    },
    {
     "cell_type": "heading",
     "level": 2,
     "metadata": {
      "slideshow": {
       "slide_type": "slide"
      }
     },
     "source": [
      "Multivariate normal family"
     ]
    },
    {
     "cell_type": "markdown",
     "metadata": {
      "slideshow": {
       "slide_type": "fragment"
      }
     },
     "source": [
      "Let's now consider the full multivariate normal family on $\\real^k$\n",
      "$$\n",
      "\\frac{d\\Pp_{\\eta, \\Theta}}{dm} = \\exp \\left(\\eta^Tx - \\frac{1}{2} \\text{Tr}(xx^T\\Theta) \\right)\n",
      "$$\n",
      "where $m(dx) = (2\\pi)^{-k/2} dx$ is a constant multiple of the Lebesgue measure on $\\real^k$.\n",
      "This is, as written a $k + k^2$ dimensional exponential family of distributions on $\\real^k$. We can assume $\\Theta$ is symmetric and positive definite (why?) leading to a parameter space in $\\real^k \\times \\text{Sym}_+(\\real^{k \\times k})$."
     ]
    },
    {
     "cell_type": "markdown",
     "metadata": {
      "slideshow": {
       "slide_type": "fragment"
      }
     },
     "source": [
      "We see that the CGF is\n",
      "$$\n",
      "e^{\\CGF(\\eta, \\Theta) } = \\det(\\Theta)^{-1/2} \\exp\\left(\\eta^T\\Theta^{-1}\\eta/2 \\right)\n",
      "$$\n",
      "or\n",
      "$$\n",
      "\\CGF(\\eta,\\Theta) = -\\frac{1}{2} \\log \\det(\\Theta) + \\frac{1}{2} \\text{Tr}(\\eta \\eta^T \\Theta^{-1}).\n",
      "$$"
     ]
    },
    {
     "cell_type": "markdown",
     "metadata": {
      "exercise": {
       "input": true,
       "start": true
      },
      "slideshow": {
       "slide_type": "slide"
      }
     },
     "source": [
      "### *Exercise: multivariate normal calculations*\n",
      "\n",
      "1. Compute the mean map $\\nabla \\CGF(\\eta,\\Theta)$, identify the parameters $(\\eta, \\Theta)$ in terms of the usual mean $(\\mu, \\Sigma)$ parameterization of the $N(\\mu,\\Sigma)$ family.\n",
      "\n",
      "2. Compute the Fisher information, i.e. $\\nabla^2 \\CGF(\\eta, \\Theta)$.\n",
      "\n"
     ]
    },
    {
     "cell_type": "heading",
     "level": 2,
     "metadata": {
      "slideshow": {
       "slide_type": "slide"
      }
     },
     "source": [
      "Exponential random graphs"
     ]
    },
    {
     "cell_type": "markdown",
     "metadata": {
      "slideshow": {
       "slide_type": "fragment"
      }
     },
     "source": [
      "Set $G_n$ to be the set of all undirected graphs on the vertex set $\\{1, \\dots, n\\}$. A formal definition of this set is\n",
      "$$\n",
      "G_n = \\left\\{A \\in \\{0,1\\}^n: A_{ii}=0, A=A^T \\right\\}\n",
      "$$\n",
      "where $A$ is referred to as the adjacency matrix of the graph.\n",
      "\n",
      "We can take counting measure $m$ on $\\{0,1\\}^n$ as our reference measure and consider models for random graphs. These are called *exponential random graphs*. "
     ]
    },
    {
     "cell_type": "markdown",
     "metadata": {
      "exercise": {
       "input": true,
       "start": true
      },
      "slideshow": {
       "slide_type": "fragment"
      }
     },
     "source": [
      "One model specifies a logistic model with parameters $\\theta \\in \\real^n$\n",
      "$$\n",
      "\\Pp(A_{ij}=1) = \\frac{e^{\\theta_i+\\theta_j}}{1 + e^{\\theta_i + \\theta_j}}.\n",
      "$$\n",
      "independently across all edges $(i,j)$.\n",
      "\n",
      "It turns out that this is an exponential family with natural parameters $\\theta_i$."
     ]
    },
    {
     "cell_type": "markdown",
     "metadata": {
      "exercise": {
       "input": true
      },
      "slideshow": {
       "slide_type": "slide"
      }
     },
     "source": [
      "### *Exercise: the degree model*\n",
      "\n",
      "Consider the logistic random graph model\n",
      "$$\n",
      "\\Pp(A_{ij}=1) = \\frac{ e^{\\theta_i+\\theta_j}}{1 + e^{\\theta_i + \\theta_j}}\n",
      "$$\n",
      "independently across all edges $i < j$\n",
      "\n",
      "1. Write out the likelihood as a function of $\\theta \\in \\real^n$.\n",
      "\n",
      "2. Show that this is an exponential family with natural parameters $\\theta$. What is the \n",
      "sufficient statistic?"
     ]
    },
    {
     "cell_type": "heading",
     "level": 3,
     "metadata": {
      "slideshow": {
       "slide_type": "slide"
      }
     },
     "source": [
      "Edge-triangle model"
     ]
    },
    {
     "cell_type": "markdown",
     "metadata": {
      "slideshow": {
       "slide_type": "fragment"
      }
     },
     "source": [
      "There are many other examples of exponential random graphs. For example, define a triangle in a graph to be a tuple $(i,j,k)$ such that $A_{ij}=A_{jk}=A_{ki}=1$. The number of triangles in\n",
      "a graph is a function only of the adjacency matrix $A$, hence one could consider the exponential family\n",
      "$$\n",
      "\\frac{d\\Pp_{\\eta}}{dm} = \\exp \\left(\\eta_1 \\cdot \\text{$\\#$ edges in $A$} + \\eta_2 \\cdot  \\text{$\\#$ triangles in $A$} - \\CGF(\\eta) \\right)\n",
      "$$\n",
      "with CGF\n",
      "$$\n",
      "\\CGF(\\eta) = \\sum_{A \\in \\{0,1\\}^n:A_{ii}=0, A=A^T} \\exp \\left(\\eta_1 \\cdot  \\text{$\\#$ edges in $A$} + \\eta_2 \\cdot \\text{$\\#$ triangles in $A$} \\right).\n",
      "$$\n",
      "\n",
      "Like the Ising model, this is in general a horribly complicated object to compute."
     ]
    },
    {
     "cell_type": "markdown",
     "metadata": {
      "exercise": {
       "input": true,
       "start": true
      },
      "slideshow": {
       "slide_type": "slide"
      }
     },
     "source": [
      "### *Exercise: Gibbs sampler*\n",
      "\n",
      "Describe the Gibbs sampler for the edge/triangle model."
     ]
    },
    {
     "cell_type": "markdown",
     "metadata": {
      "exercise": {
       "input": true,
       "start": true
      },
      "slideshow": {
       "slide_type": "fragment"
      }
     },
     "source": [
      "### *Exercise: partially observed data* \n",
      "\n",
      "`(Note: this exercise should be moved, but this might mess up ordering of assigned problems)`\n",
      "\n",
      "Suppose we start off with a family\n",
      "$$\n",
      "\\frac{d\\Pp_{\\eta}}{dm} = \\exp(\\eta^Tt(x) - \\CGF(\\eta))\n",
      "$$\n",
      "but we only observe $x$ if $x \\in A$. Show that the family\n",
      "$$\n",
      "\\tilde{\\Pp}_{\\eta,A}(\\cdot) = \\Pp_{\\eta} (\\cdot | A)\n",
      "$$\n",
      "is an exponential family.\n",
      "\n",
      "1. What do you take as reference measure?\n",
      "\n",
      "2. What is the sufficient statistic?\n",
      "\n",
      "3. What is the CGF?"
     ]
    },
    {
     "cell_type": "heading",
     "level": 2,
     "metadata": {
      "slideshow": {
       "slide_type": "slide"
      }
     },
     "source": [
      "Example: correlated binary variables"
     ]
    },
    {
     "cell_type": "markdown",
     "metadata": {
      "slideshow": {
       "slide_type": "fragment"
      }
     },
     "source": [
      "This little example puts together some of the things we have just seen. Namely, \n",
      "the Gibbs sampler, stochastic approximation and pseudo likelihood.\n",
      "\n",
      "We consider correlated binary (OK, $\\{1,-1\\}$ valued) variables $w,x,y,z$ in this example.\n",
      "The sample space is $\\{0,1\\}^4$ with counting measure as reference and our\n",
      "sufficient statistics are $(wz+xz+yz,z)$."
     ]
    },
    {
     "cell_type": "markdown",
     "metadata": {
      "slideshow": {
       "slide_type": "slide"
      }
     },
     "source": [
      "The CGF is\n",
      "$$\n",
      "e^{\\CGF(a,b)} = \\sum_{(w,x,y,z) \\in \\{-1,1\\}^4} e^{ a(wz+xz+yz)+bz }\n",
      "$$"
     ]
    },
    {
     "cell_type": "markdown",
     "metadata": {
      "slideshow": {
       "slide_type": "fragment"
      }
     },
     "source": [
      "The expected value of the sufficient statistics are\n",
      "$$\n",
      "\\begin{aligned}\n",
      "\\nabla \\CGF(a,b) &= e^{-\\CGF(a,b)} \\cdot \\nabla e^{\\CGF(a,b)} \\\\\n",
      "&=  e^{-\\CGF(a,b)} \\cdot \\sum_{(w,x,y,z) \\in \\{-1,1\\}^4} (wz+xz+yz,z) e^{ a(wz+xz+yz)+bz }\n",
      "\\end{aligned}\n",
      "$$"
     ]
    },
    {
     "cell_type": "markdown",
     "metadata": {
      "slideshow": {
       "slide_type": "fragment"
      }
     },
     "source": [
      "The variance is determined by the formula\n",
      "$$\n",
      "\\begin{aligned}\n",
      "\\nabla^2 \\CGF(a,b) + \\nabla \\CGF(a,b) \\nabla \\CGF(a,b)^T\n",
      "&=  e^{-\\CGF(a,b)} \\cdot \\sum_{(w,x,y,z) \\in \\{-1,1\\}^4}  e^{ a(wz+xz+yz)+bz } \\cdot \\\\ \n",
      "&  \\qquad \\begin{pmatrix}(wz+xz+yz)^2 & z(wz+xz+yz) \\\\\n",
      "z(wz+xz+yz) & z^2 \\end{pmatrix}\n",
      " \\\\\n",
      "\\end{aligned}\n",
      "$$"
     ]
    },
    {
     "cell_type": "markdown",
     "metadata": {
      "slideshow": {
       "slide_type": "slide"
      }
     },
     "source": [
      "While it may be possible to compute the maximum by hand here, we use it as an example of the\n",
      "different concepts we've seen."
     ]
    },
    {
     "cell_type": "code",
     "collapsed": false,
     "input": [
      "import itertools\n",
      "\n",
      "def CGF(a, b):\n",
      "    \"\"\"\n",
      "    Compute the cumulant generating function as well as its gradient\n",
      "    and Hessian for the correlated binary random variables.\n",
      "    \"\"\"\n",
      "    cgf = 0\n",
      "    grad = np.zeros(2)\n",
      "    hessian = np.zeros((2,2))\n",
      "    \n",
      "    for w, x, y, z in itertools.product(*[[-1,1] for _ in range(4)]):\n",
      "        t = np.array([z*(w+x+y), z])\n",
      "        E = exponential_term = np.exp(np.dot(t, [a,b]))\n",
      "        cgf += E\n",
      "        grad += t * E\n",
      "        hessian += np.multiply.outer(t, t) * E\n",
      "    cgf = np.log(cgf)\n",
      "    grad /= np.exp(cgf)\n",
      "    hessian /= np.exp(cgf)\n",
      "    hessian -= np.multiply.outer(grad, grad)\n",
      "    return cgf, grad, hessian\n"
     ],
     "language": "python",
     "metadata": {
      "slideshow": {
       "slide_type": "fragment"
      }
     },
     "outputs": [],
     "prompt_number": 1
    },
    {
     "cell_type": "code",
     "collapsed": false,
     "input": [
      "CGF(0.3, 0.2)"
     ],
     "language": "python",
     "metadata": {
      "slideshow": {
       "slide_type": "fragment"
      }
     },
     "outputs": [
      {
       "output_type": "pyout",
       "prompt_number": 2,
       "text": [
        "(2.9254791038576093,\n",
        " array([ 0.87393784,  0.19737532]),\n",
        " array([[ 2.74541089,  0.        ],\n",
        "       [ 0.        ,  0.96104298]]))"
       ]
      }
     ],
     "prompt_number": 2
    },
    {
     "cell_type": "heading",
     "level": 3,
     "metadata": {
      "slideshow": {
       "slide_type": "slide"
      }
     },
     "source": [
      "Maximum likelihood estimation using Newton-Raphson"
     ]
    },
    {
     "cell_type": "markdown",
     "metadata": {
      "slideshow": {
       "slide_type": "fragment"
      }
     },
     "source": [
      "Now that we have the CGF, this can be used with, e.g. Newton-Raphson to estimate $(a,b)$. Note that the off-diagonal parts of the Hessian happen to be zero for this $\\CGF$. Suppose we observe\n",
      "$$\n",
      "(W,X,Y,Z) = (-1,1,-1,1).\n",
      "$$\n",
      "\n"
     ]
    },
    {
     "cell_type": "code",
     "collapsed": false,
     "input": [
      "w, x, y, z = observed = (-1,1,-1,1)\n",
      "tobs = np.array([(w+x+y)*z,z])"
     ],
     "language": "python",
     "metadata": {
      "slideshow": {
       "slide_type": "fragment"
      }
     },
     "outputs": [],
     "prompt_number": 3
    },
    {
     "cell_type": "code",
     "collapsed": false,
     "input": [
      "ab = np.array([0.,0.])\n",
      "abvals = []\n",
      "objvals = []\n",
      "value = np.inf\n",
      "tol = 1.e-6"
     ],
     "language": "python",
     "metadata": {
      "slideshow": {
       "slide_type": "fragment"
      }
     },
     "outputs": [],
     "prompt_number": 4
    },
    {
     "cell_type": "code",
     "collapsed": false,
     "input": [
      "for i in range(100):\n",
      "    grad, hessian = CGF(*ab)[1:]\n",
      "    ab = ab - np.dot(np.linalg.inv(hessian), grad - tobs)\n",
      "    objval = CGF(*ab)[0] - np.dot(tobs, ab)\n",
      "    objvals.append(objval)\n",
      "    abvals.append(ab.copy())\n",
      "    \n",
      "    if i > 1 and np.fabs((value - objval) / value) < tol:\n",
      "        break\n",
      "    value = objval \n",
      "abvals = np.array(abvals)\n",
      "objvals = np.array(objvals)"
     ],
     "language": "python",
     "metadata": {
      "slideshow": {
       "slide_type": "slide"
      }
     },
     "outputs": [],
     "prompt_number": 5
    },
    {
     "cell_type": "markdown",
     "metadata": {
      "slideshow": {
       "slide_type": "slide"
      }
     },
     "source": [
      "The objective converges very quickly"
     ]
    },
    {
     "cell_type": "code",
     "collapsed": false,
     "input": [
      "plt.plot(objvals)\n",
      "a = plt.gca()\n",
      "a.set_xlabel(r'Iteration number, $k$')\n",
      "a.set_ylabel(r'$\\Lambda(a^{(k)},b^{(k)})-t_{obs}^T(a^{(k)},b^{(k)})$', size=20)"
     ],
     "language": "python",
     "metadata": {
      "slideshow": {
       "slide_type": "fragment"
      }
     },
     "outputs": [
      {
       "output_type": "pyout",
       "prompt_number": 6,
       "text": [
        "<matplotlib.text.Text at 0x108e80050>"
       ]
      },
      {
       "output_type": "display_data",
       "png": "[encoded data removed]",
       "text": [
        "<matplotlib.figure.Figure at 0x1087b5e10>"
       ]
      }
     ],
     "prompt_number": 6
    },
    {
     "cell_type": "markdown",
     "metadata": {
      "slideshow": {
       "slide_type": "slide"
      }
     },
     "source": [
      "Here are the $a$ values. They converge rather quickly."
     ]
    },
    {
     "cell_type": "code",
     "collapsed": false,
     "input": [
      "plt.plot(abvals[:,0])\n",
      "a = plt.gca()\n",
      "a.set_xlabel(r'Iteration number, $k$')\n",
      "a.set_ylabel(r'$a^{(k)}$')"
     ],
     "language": "python",
     "metadata": {
      "slideshow": {
       "slide_type": "fragment"
      }
     },
     "outputs": [
      {
       "output_type": "pyout",
       "prompt_number": 7,
       "text": [
        "<matplotlib.text.Text at 0x10ab00990>"
       ]
      },
      {
       "output_type": "display_data",
       "png": "[encoded data removed]",
       "text": [
        "<matplotlib.figure.Figure at 0x1081067d0>"
       ]
      }
     ],
     "prompt_number": 7
    },
    {
     "cell_type": "markdown",
     "metadata": {
      "slideshow": {
       "slide_type": "slide"
      }
     },
     "source": [
      "Here are the $b$ values. They are actually diverging. Why?"
     ]
    },
    {
     "cell_type": "code",
     "collapsed": false,
     "input": [
      "plt.plot(abvals[:,1])\n",
      "a = plt.gca()\n",
      "a.set_xlabel(r'Iteration number, $k$')\n",
      "a.set_ylabel(r'$b^{(k)}$')"
     ],
     "language": "python",
     "metadata": {
      "slideshow": {
       "slide_type": "fragment"
      }
     },
     "outputs": [
      {
       "output_type": "pyout",
       "prompt_number": 8,
       "text": [
        "<matplotlib.text.Text at 0x10ab19ad0>"
       ]
      },
      {
       "output_type": "display_data",
       "png": "[encoded data removed]",
       "text": [
        "<matplotlib.figure.Figure at 0x107f7d9d0>"
       ]
      }
     ],
     "prompt_number": 8
    },
    {
     "cell_type": "markdown",
     "metadata": {
      "slideshow": {
       "slide_type": "slide"
      }
     },
     "source": [
      "For comparison to pseudolikelihood later, we store a copy of the MLEs."
     ]
    },
    {
     "cell_type": "code",
     "collapsed": false,
     "input": [
      "ab_MLE = ab.copy()"
     ],
     "language": "python",
     "metadata": {
      "slideshow": {
       "slide_type": "fragment"
      }
     },
     "outputs": [],
     "prompt_number": 9
    },
    {
     "cell_type": "heading",
     "level": 3,
     "metadata": {
      "slideshow": {
       "slide_type": "slide"
      }
     },
     "source": [
      "Gibbs sampler"
     ]
    },
    {
     "cell_type": "markdown",
     "metadata": {
      "slideshow": {
       "slide_type": "fragment"
      }
     },
     "source": [
      "As each variable is binary (well, actually $\\{-1,1\\}$ valued) all of the conditional laws will\n",
      "also be binary. By conditionals we mean conditional laws of the form\n",
      "$\n",
      "W |  X, Y, Z.\n",
      "$\n",
      "\n",
      "Looking at the structure of the sufficient statistics, we see that $W,X,Y$ are independent given $Z$ and,\n",
      "$$\n",
      "\\Pp_{(a,b)}(W=1|(X,Y,Z)=(x,y,z)) = \\frac{e^{az}}{e^{az} + e^{-az}}.\n",
      "$$"
     ]
    },
    {
     "cell_type": "markdown",
     "metadata": {
      "slideshow": {
       "slide_type": "slide"
      }
     },
     "source": [
      "This leads to the following Gibbs sampler step for $W$."
     ]
    },
    {
     "cell_type": "code",
     "collapsed": false,
     "input": [
      "def step_w(ab, wxyz):\n",
      "    w, x, y, z = wxyz\n",
      "    a, b = ab\n",
      "    E = a*z\n",
      "    p = np.exp(E) / (np.exp(E) + np.exp(-E))\n",
      "    return (2 * np.random.binomial(1,p) - 1, x, y, z)\n"
     ],
     "language": "python",
     "metadata": {
      "slideshow": {
       "slide_type": "fragment"
      }
     },
     "outputs": [],
     "prompt_number": 10
    },
    {
     "cell_type": "markdown",
     "metadata": {
      "slideshow": {
       "slide_type": "slide"
      }
     },
     "source": [
      "Similarly, we see the steps for $X$ and $Y$ are:"
     ]
    },
    {
     "cell_type": "code",
     "collapsed": false,
     "input": [
      "def step_x(ab, wxyz):\n",
      "    w, x, y, z = wxyz\n",
      "    a, b = ab\n",
      "    E = a*z\n",
      "    p = np.exp(E) / (np.exp(E) + np.exp(-E))\n",
      "    return (w, 2 * np.random.binomial(1,p) - 1, y, z)\n",
      "\n",
      "def step_y(ab, wxyz):\n",
      "    w, x, y, z = wxyz\n",
      "    a, b = ab\n",
      "    E = a*z\n",
      "    p = np.exp(E) / (np.exp(E) + np.exp(-E))\n",
      "    return (w, x, 2 * np.random.binomial(1,p) - 1, z)\n"
     ],
     "language": "python",
     "metadata": {
      "slideshow": {
       "slide_type": "fragment"
      }
     },
     "outputs": [],
     "prompt_number": 11
    },
    {
     "cell_type": "markdown",
     "metadata": {
      "slideshow": {
       "slide_type": "slide"
      }
     },
     "source": [
      "Finally, for $Z$, we see that the appropriate step is"
     ]
    },
    {
     "cell_type": "code",
     "collapsed": false,
     "input": [
      "def step_z(ab, wxyz):\n",
      "    w, x, y, z = wxyz\n",
      "    a, b = ab\n",
      "    E = a*(w+x+y)+b\n",
      "    p = np.exp(E) / (np.exp(E) + np.exp(-E))\n",
      "    return (w, x, y, 2 * np.random.binomial(1,p) - 1)"
     ],
     "language": "python",
     "metadata": {
      "slideshow": {
       "slide_type": "fragment"
      }
     },
     "outputs": [],
     "prompt_number": 12
    },
    {
     "cell_type": "markdown",
     "metadata": {
      "slideshow": {
       "slide_type": "slide"
      }
     },
     "source": [
      "1. Given these steps, the Gibbs sampler is simple to run. Let's run it at parameter values $(0.3, 0.2)$. Typically, there will be some *burn-in* period before the Markov chain reaches (i.e. converges to) its stationary distribution. \n",
      "\n",
      "2. We will start recording the steps the chain makes after this *burn-in* stage. Deciding on how long to let the chain burn-in is generally\n",
      "a non-trivial task.\n",
      "    "
     ]
    },
    {
     "cell_type": "code",
     "collapsed": false,
     "input": [
      "gibbs_steps = {'w':step_w,'x':step_x,'y':step_y,'z':step_z}\n",
      "ntime = 20000\n",
      "burnin = 10000\n",
      "\n",
      "ab = (.3, .2)\n",
      "state = initial_state = (1,1,1,1)\n",
      "\n",
      "history = []\n",
      "\n",
      "for i in range(ntime):\n",
      "    for coord in 'wxyz':\n",
      "        state = gibbs_steps[coord](ab, state)\n",
      "        if i > burnin:\n",
      "            history.append(state)\n",
      "history = np.array(history)"
     ],
     "language": "python",
     "metadata": {
      "slideshow": {
       "slide_type": "slide"
      }
     },
     "outputs": [],
     "prompt_number": 13
    },
    {
     "cell_type": "markdown",
     "metadata": {
      "slideshow": {
       "slide_type": "slide"
      }
     },
     "source": [
      "Here is a plot of the trajectory for the $w$ coordinate. We see that it made about\n",
      "10 transitions in 100 steps of the chain."
     ]
    },
    {
     "cell_type": "code",
     "collapsed": false,
     "input": [
      "plt.scatter(np.arange(100), history[-100:,0])\n",
      "a = plt.gca()\n",
      "a.set_ylim([-1.1,1.1])"
     ],
     "language": "python",
     "metadata": {
      "slideshow": {
       "slide_type": "fragment"
      }
     },
     "outputs": [
      {
       "output_type": "pyout",
       "prompt_number": 14,
       "text": [
        "(-1.1, 1.1)"
       ]
      },
      {
       "output_type": "display_data",
       "png": "[encoded data removed]",
       "text": [
        "<matplotlib.figure.Figure at 0x108e805d0>"
       ]
      }
     ],
     "prompt_number": 14
    },
    {
     "cell_type": "markdown",
     "metadata": {
      "slideshow": {
       "slide_type": "slide"
      }
     },
     "source": [
      "Because the Gibbs sampler chain has $\\Pp_{(a,b)}$ as its stationary distribution, if we compute the average of any reasonable function of the chain along its history, ergodicity tells us this\n",
      "should converge to the average of the same quantity under $\\Pp_{(a,b)}$. "
     ]
    },
    {
     "cell_type": "markdown",
     "metadata": {
      "slideshow": {
       "slide_type": "fragment"
      }
     },
     "source": [
      "For example, the average of our sufficient statistics, averaged over time, should converge\n",
      "to their average under $\\Pp_{(a,b)}$."
     ]
    },
    {
     "cell_type": "code",
     "collapsed": false,
     "input": [
      "w,x,y,z = history.T\n",
      "t = np.array([z*(w+x+y), z])\n",
      "print t.mean(1)\n",
      "print CGF(*ab)[1]"
     ],
     "language": "python",
     "metadata": {
      "slideshow": {
       "slide_type": "fragment"
      }
     },
     "outputs": [
      {
       "output_type": "stream",
       "stream": "stdout",
       "text": [
        "[ 0.86938694  0.18471847]\n",
        "[ 0.87393784  0.19737532]\n"
       ]
      }
     ],
     "prompt_number": 15
    },
    {
     "cell_type": "heading",
     "level": 3,
     "metadata": {
      "slideshow": {
       "slide_type": "slide"
      }
     },
     "source": [
      "Stochastic approximation"
     ]
    },
    {
     "cell_type": "markdown",
     "metadata": {
      "slideshow": {
       "slide_type": "fragment"
      }
     },
     "source": [
      "The Gibbs sampler can be combined with stochastic approximation to estimate\n",
      "parameters when the CGF is difficult to compute. The main point here is that,\n",
      "if the current natural parameters are $(a^{(k)}, b^{(k)})$, \n",
      "one can use Gibbs sampler\n",
      "to estimate\n",
      "$$\n",
      "\\Ee_{(a^{(k)}, b^{(k)})} \\left(t(X)\\right).\n",
      "$$\n",
      "Here is a simple\n",
      "implementation of stochastic approximation."
     ]
    },
    {
     "cell_type": "markdown",
     "metadata": {
      "slideshow": {
       "slide_type": "slide"
      }
     },
     "source": [
      "First, we wrap up the Gibbs sampler into a little function."
     ]
    },
    {
     "cell_type": "code",
     "collapsed": false,
     "input": [
      "def gibbs_sampler_gradient(a, b, nstep=5000, burnin=1000):\n",
      "    state = (1,1,1,1)\n",
      "    history = []\n",
      "    for i in range(nstep):\n",
      "        for coord in 'wxyz':\n",
      "            state = gibbs_steps[coord](ab, state)\n",
      "            if i > burnin:\n",
      "                history.append(state)\n",
      "    history = np.array(history, np.float).T\n",
      "    w,x,y,z = history\n",
      "    t = np.array([z*(w+x+y), z])\n",
      "    return t.mean(1)"
     ],
     "language": "python",
     "metadata": {
      "slideshow": {
       "slide_type": "fragment"
      }
     },
     "outputs": [],
     "prompt_number": 16
    },
    {
     "cell_type": "markdown",
     "metadata": {
      "slideshow": {
       "slide_type": "slide"
      }
     },
     "source": [
      "The stochastic approximation steps are now pretty straightforward. "
     ]
    },
    {
     "cell_type": "code",
     "collapsed": false,
     "input": [
      "ab = np.zeros(2)\n",
      "objvals = []\n",
      "abvals = []\n",
      "for i in range(1, 1000):\n",
      "    # these steps diverge in sum, but converge in sum of squares\n",
      "    step = i**(-0.51)\n",
      "    a, b = ab\n",
      "    grad = gibbs_sampler_gradient(a, b, nstep=1500, burnin=1000)\n",
      "    ab = ab - step * (grad - tobs)\n",
      "    objval = CGF(*ab)[0] - np.dot(tobs, ab)\n",
      "    objvals.append(objval)\n",
      "    abvals.append(ab.copy())\n",
      "\n",
      "ab_STOCH = ab.copy()"
     ],
     "language": "python",
     "metadata": {
      "slideshow": {
       "slide_type": "fragment"
      }
     },
     "outputs": [],
     "prompt_number": 17
    },
    {
     "cell_type": "markdown",
     "metadata": {
      "slideshow": {
       "slide_type": "slide"
      }
     },
     "source": [
      "Here is a plot of the $a,b$ coordinates and the objective values."
     ]
    },
    {
     "cell_type": "code",
     "collapsed": false,
     "input": [
      "abvals = np.array(abvals)\n",
      "plt.plot(abvals[:,0])\n",
      "a = plt.gca()\n",
      "a.set_xlabel(r'Iteration number $k$')\n",
      "a.set_ylabel(r'$a^{(k)}$', size=20)\n"
     ],
     "language": "python",
     "metadata": {
      "slideshow": {
       "slide_type": "fragment"
      }
     },
     "outputs": [
      {
       "output_type": "pyout",
       "prompt_number": 18,
       "text": [
        "<matplotlib.text.Text at 0x10fbd5dd0>"
       ]
      },
      {
       "output_type": "display_data",
       "png": "[encoded data removed]",
       "text": [
        "<matplotlib.figure.Figure at 0x10df92950>"
       ]
      }
     ],
     "prompt_number": 18
    },
    {
     "cell_type": "code",
     "collapsed": false,
     "input": [
      "abvals = np.array(abvals)\n",
      "plt.plot(abvals[:,1])\n",
      "a = plt.gca()\n",
      "a.set_xlabel(r'Iteration number $k$')\n",
      "a.set_ylabel(r'$b^{(k)}$', size=20)\n"
     ],
     "language": "python",
     "metadata": {
      "slideshow": {
       "slide_type": "slide"
      }
     },
     "outputs": [
      {
       "output_type": "pyout",
       "prompt_number": 19,
       "text": [
        "<matplotlib.text.Text at 0x10fbd2610>"
       ]
      },
      {
       "output_type": "display_data",
       "png": "[encoded data removed]",
       "text": [
        "<matplotlib.figure.Figure at 0x10df9d0d0>"
       ]
      }
     ],
     "prompt_number": 19
    },
    {
     "cell_type": "code",
     "collapsed": false,
     "input": [
      "objvals = np.array(objvals)\n",
      "plt.plot(objvals)\n",
      "a = plt.gca()\n",
      "a.set_xlabel(r'Iteration number $k$')\n",
      "a.set_ylabel(r'$\\Lambda(a^{(k)},b^{(k)})-t_{obs}^T(a^{(k)},b^{(k)})$', size=20)"
     ],
     "language": "python",
     "metadata": {
      "slideshow": {
       "slide_type": "slide"
      }
     },
     "outputs": [
      {
       "output_type": "pyout",
       "prompt_number": 20,
       "text": [
        "<matplotlib.text.Text at 0x10fc0cc50>"
       ]
      },
      {
       "output_type": "display_data",
       "png": "[encoded data removed]",
       "text": [
        "<matplotlib.figure.Figure at 0x10fbe7990>"
       ]
      }
     ],
     "prompt_number": 20
    },
    {
     "cell_type": "heading",
     "level": 3,
     "metadata": {
      "slideshow": {
       "slide_type": "slide"
      }
     },
     "source": [
      "Pseudo-likelihood"
     ]
    },
    {
     "cell_type": "markdown",
     "metadata": {
      "slideshow": {
       "slide_type": "fragment"
      }
     },
     "source": [
      "The pseudo-likelihood for $(a,b)$ has contributions for each\n",
      "of $(W,X,Y,Z)$. For $W$, the contribution from $W$ comes from the\n",
      "conditional law $W|X,Y,Z$."
     ]
    },
    {
     "cell_type": "markdown",
     "metadata": {
      "slideshow": {
       "slide_type": "fragment"
      }
     },
     "source": [
      "As we saw in the Gibbs sampler step, $W|X,Y,Z$ is a $\\{-1,1\\}$ valued random variable.\n",
      "It is an exponential family with respect to counting measure on $\\{-1,1\\}$\n",
      "with natural parameter $az$ and CGF\n",
      "$$\n",
      "\\CGF_{W|XYZ}(a,b) = \\log (e^{aZ} + e^{-aZ}).\n",
      "$$"
     ]
    },
    {
     "cell_type": "markdown",
     "metadata": {
      "slideshow": {
       "slide_type": "slide"
      }
     },
     "source": [
      "In other words\n",
      "$$\n",
      "\\begin{aligned}\n",
      "\\Pp_{(a,b)}(W=w|XYZ) & \\propto e^{waZ}, \\qquad w \\in \\{-1,1\\}\n",
      "\\end{aligned}\n",
      "$$"
     ]
    },
    {
     "cell_type": "markdown",
     "metadata": {
      "slideshow": {
       "slide_type": "fragment"
      }
     },
     "source": [
      "Hence, the contribution to the pseudo-likelihood for $(a,b)$ from $W$ is\n",
      "having observed $(W,X,Y,Z)=(w,x,y,z)$ is\n",
      "$$\n",
      "wz \\cdot a - \\log(e^{az} + e^{-az}).\n",
      "$$\n",
      "A similar calculation holds for $X,Y$. "
     ]
    },
    {
     "cell_type": "markdown",
     "metadata": {
      "slideshow": {
       "slide_type": "fragment"
      }
     },
     "source": [
      "As for $Z$, the contribution is\n",
      "$$\n",
      "\\Pp_{(a,b)}(Z=z|XYZ)  \\propto e^{z(a(W+X+Y)+b)}\n",
      "$$\n",
      "yielding a contribution of\n",
      "$$\n",
      "z \\cdot(a(w+x+y)+b) - \\log(e^{a(w+x+y)+b} + e^{-a(w+x+y)-b})\n",
      "$$"
     ]
    },
    {
     "cell_type": "markdown",
     "metadata": {
      "slideshow": {
       "slide_type": "slide"
      }
     },
     "source": [
      "Hence, the total pseudolikelihood is\n",
      "$$\n",
      "\\begin{aligned}\n",
      "\\ell_{pseudo}(a,b) &= 2 (w+x+y) \\cdot z \\cdot a + z \\cdot b \\\\ \n",
      "& \\qquad - 3 \\log(e^{az} + e^{-az}) - \\log(e^{a(w+x+y)+b} + e^{-a(w+x+y)-b}).\n",
      "\\end{aligned}\n",
      "$$"
     ]
    },
    {
     "cell_type": "markdown",
     "metadata": {
      "slideshow": {
       "slide_type": "slide"
      }
     },
     "source": [
      "Its (negative) gradient $-\\nabla \\ell_{pseudo}(a,b)$ is \n",
      "$$\n",
      "\\hskip{-1in}-\\begin{pmatrix}\n",
      "2(w+x+y)z - 3 z \\left(1 - \\frac{2 e^{-az}}{e^{az}+e^{-az}} \\right)\n",
      "                          - (w+x+y) \\left(1 - \\frac{2 e^{-a(w+x+y)-b}}{e^{a(w+x+y)+b} + e^{-a(w+x+y)-b}} \\right), \\\\\n",
      "  z - \\left(1 - \\frac{2 e^{-a(w+x+y)-b}}{e^{a(w+x+y)+b} + e^{-a(w+x+y)-b}} \\right) \\\\\n",
      "\\end{pmatrix}\n",
      "$$\n",
      "\n"
     ]
    },
    {
     "cell_type": "markdown",
     "metadata": {
      "slideshow": {
       "slide_type": "slide"
      }
     },
     "source": [
      "Its (negative) Hessian, $-\\nabla^2 \\ell_{pseudo}(a,b)$ is\n",
      "$$\n",
      "\\hskip{-1in}\n",
      "\\begin{pmatrix}\n",
      "\\frac{12z^2}{(e^{az}+e^{-az})^2} + \\frac{4(w+x+y)^2}{\\left(e^{a(w+x+y)+b} + e^{-a(w+x+y)-b}\\right)^2} & \\frac{4(w+x+y)}{\\left(e^{a(w+x+y)+b} + e^{-a(w+x+y)-b}\\right)^2} \\\\\n",
      "\\frac{4(w+x+y)}{\\left(e^{a(w+x+y)+b} + e^{-a(w+x+y)-b}\\right)^2} &\n",
      "\\frac{4}{\\left(e^{a(w+x+y)+b} + e^{-a(w+x+y)-b}\\right)^2}\n",
      "\\end{pmatrix}\n",
      "$$"
     ]
    },
    {
     "cell_type": "markdown",
     "metadata": {
      "slideshow": {
       "slide_type": "slide"
      }
     },
     "source": [
      "We can use the pseudolikelihood for estimation, i.e. we can try maximizing\n",
      "it over $(a,b)$ or minimize its negative. "
     ]
    },
    {
     "cell_type": "code",
     "collapsed": false,
     "input": [
      "def pseudo_likelihood(ab, observed):\n",
      "    \"\"\"\n",
      "    Compute (negative) value, gradient and Hessian of pseudo-likelihood.\n",
      "    \"\"\"\n",
      "    w, x, y, z = observed\n",
      "    a, b = ab\n",
      "    tmp0 = a*(w+x+y)\n",
      "    tmp1 = np.exp(a*z)+np.exp(-a*z)\n",
      "    tmp2 = np.exp(tmp0+b)+np.exp(-tmp0-b)\n",
      "    \n",
      "    value = -(2*(w+x+y)*z*a + z*b - 3 * np.log(tmp1)\n",
      "             - np.log(tmp2))\n",
      "    grad = np.array([2*(w+x+y)*z - 3 * z * (1 - 2 * np.exp(-a*z) / tmp1) -\n",
      "                     (w+x+y) * (1 - 2 * np.exp(-tmp0-b) / tmp2),\n",
      "                     z - (1 - 2 * np.exp(-tmp0-b) / tmp2)])\n",
      "    grad = -grad\n",
      "    hess = np.zeros((2,2))\n",
      "    hess[0,0] = 12*z**2 / tmp1**2 + 4*(w+x+y)**2 / tmp2**2\n",
      "    hess[0,1] = hess[1,0] = 4*(w+x+y) / tmp2**2\n",
      "    hess[1,1] = 4 / tmp2**2\n",
      " \n",
      "    return value, grad, hess\n",
      "    "
     ],
     "language": "python",
     "metadata": {
      "slideshow": {
       "slide_type": "fragment"
      }
     },
     "outputs": [],
     "prompt_number": 21
    },
    {
     "cell_type": "code",
     "collapsed": false,
     "input": [
      "ab = np.zeros(2)\n",
      "max_iters = 500\n",
      "value = np.inf\n",
      "ab_iterates = []\n",
      "value_iterates = []\n",
      "tol = 1.e-6"
     ],
     "language": "python",
     "metadata": {
      "slideshow": {
       "slide_type": "slide"
      }
     },
     "outputs": [],
     "prompt_number": 22
    },
    {
     "cell_type": "code",
     "collapsed": false,
     "input": [
      "for i in range(max_iters):\n",
      "    a, b = ab\n",
      "    grad, hess = pseudo_likelihood(ab, observed)[1:]\n",
      "    count = 0\n",
      "    step_size = 1.\n",
      "    while True:\n",
      "        proposed_ab =  ab - step_size * grad  \n",
      "        proposed_value = pseudo_likelihood(proposed_ab, observed)[0]\n",
      "        \n",
      "        # if the step is not a descent, take\n",
      "        # a smaller step\n",
      "                \n",
      "        if proposed_value > value:\n",
      "            step_size *= 0.9\n",
      "        else:\n",
      "            break  \n",
      "        count += 1\n",
      "        \n",
      "    # when do we stop?\n",
      "    if i > 1 and np.fabs((value - proposed_value) / value) < tol:\n",
      "        break\n",
      "    \n",
      "    value = proposed_value\n",
      "    ab = proposed_ab\n",
      "    ab_iterates.append(ab)\n",
      "    value_iterates.append(pseudo_likelihood(ab, observed)[0])\n",
      "    "
     ],
     "language": "python",
     "metadata": {
      "slideshow": {
       "slide_type": "slide"
      }
     },
     "outputs": [],
     "prompt_number": 23
    },
    {
     "cell_type": "code",
     "collapsed": false,
     "input": [
      "plt.plot(value_iterates)\n",
      "a = plt.gca()\n",
      "a.set_ylabel(r'$-\\ell_{pseudo}(a^{(k)}, b^{(k)})$')\n",
      "a.set_xlabel(r'Iteration number $k$')"
     ],
     "language": "python",
     "metadata": {
      "slideshow": {
       "slide_type": "slide"
      }
     },
     "outputs": [
      {
       "output_type": "pyout",
       "prompt_number": 24,
       "text": [
        "<matplotlib.text.Text at 0x10fba7e90>"
       ]
      },
      {
       "output_type": "display_data",
       "png": "[encoded data removed]",
       "text": [
        "<matplotlib.figure.Figure at 0x10dfdb610>"
       ]
      }
     ],
     "prompt_number": 24
    },
    {
     "cell_type": "code",
     "collapsed": false,
     "input": [
      "ab_PL = ab.copy()"
     ],
     "language": "python",
     "metadata": {
      "slideshow": {
       "slide_type": "fragment"
      }
     },
     "outputs": [],
     "prompt_number": 25
    },
    {
     "cell_type": "code",
     "collapsed": false,
     "input": [
      "print 'MLE:', ab_MLE\n",
      "print 'MLE: stochastic', ab_STOCH\n",
      "print 'pseudoMLE:', ab_PL"
     ],
     "language": "python",
     "metadata": {
      "slideshow": {
       "slide_type": "slide"
      }
     },
     "outputs": [
      {
       "output_type": "stream",
       "stream": "stdout",
       "text": [
        "MLE: [-0.34657359  7.10144685]\n",
        "MLE: stochastic [-0.34986928  2.71728602]\n",
        "pseudoMLE: [-0.36325174  2.29628073]\n"
       ]
      }
     ],
     "prompt_number": 26
    },
    {
     "cell_type": "markdown",
     "metadata": {
      "slideshow": {
       "slide_type": "slide"
      }
     },
     "source": [
      "One thing we might notice is that the pseudo-likelihood objective may converge a little slower\n",
      "than using the actual likelihood. That is, to reach the same level\n",
      "of tolerance, the pseudolikelihood took a few more steps."
     ]
    },
    {
     "cell_type": "markdown",
     "metadata": {
      "slideshow": {
       "slide_type": "fragment"
      }
     },
     "source": [
      "A statistical explanation of this might be to say that the\n",
      "pseudolikelihood estimator may be a slightly less efficient estimator than\n",
      "the MLE. What does this have to do with the number of iterations? "
     ]
    },
    {
     "cell_type": "markdown",
     "metadata": {
      "slideshow": {
       "slide_type": "fragment"
      }
     },
     "source": [
      "The efficiency is of course related to variance, which is related to the \n",
      "Hessian of the objective. The Hessian is also related to the speed at which\n",
      "Newton-Raphson converges..."
     ]
    }
   ],
   "metadata": {}
  }
 ]
}