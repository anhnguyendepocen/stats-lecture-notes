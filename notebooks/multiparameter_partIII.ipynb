{
 "metadata": {
  "name": "multiparameter_partIII"
 },
 "nbformat": 3,
 "nbformat_minor": 0,
 "worksheets": [
  {
   "cells": [
    {
     "cell_type": "heading",
     "level": 2,
     "metadata": {},
     "source": [
      "Conjugate priors"
     ]
    },
    {
     "cell_type": "markdown",
     "metadata": {},
     "source": [
      "Just as in the one parameter case,  conjugate priors \n",
      "for the natural parameter of $k$-parameter families involve the $\\CGF$ involve\n",
      "the $\\CGF$ as a sufficient statistic.\n",
      "\n",
      "\n",
      "Given a prior\n",
      "$$\n",
      "\\pi(\\eta) \\; d\\eta = e^{\\alpha \\left[\\omega \\cdot \\eta - \\CGF(\\eta) \\right]} \\; d\\eta\n",
      "$$\n",
      "sampling data leads to a posterior of the form\n",
      "$$\n",
      "\\pi(\\eta|y)  \\propto \\exp\\left( \\left(\\alpha \\omega + y \\right)\\cdot \\eta - (\\alpha + 1) \\CGF(\\eta) \\right).\n",
      "$$"
     ]
    },
    {
     "cell_type": "markdown",
     "metadata": {},
     "source": [
      "This is a $(k+1)$-dimensional exponential family with reference measure\n",
      "$d\\eta$. To avoid confusion, let's call the natural parameters\n",
      "$(\\theta_1,\\theta_2)$ for this exponential family. The density has the form\n",
      "$$\n",
      "\\frac{d\\Pp_{\\theta}}{d\\eta} = \\exp( \\theta_1^T\\eta - \\theta_2 \\CGF(\\eta) - G(\\theta_1,\\theta_2)).\n",
      "$$\n",
      "\n",
      "The sufficient statistics are $(\\eta, \\CGF(\\eta))$ and \n",
      "the cumulant generating function is\n",
      "$$\n",
      "G(\\theta_1, \\theta_2) = \\int_{\\D} \\exp (\\theta_1^T\\eta - \\theta_2 \\CGF(\\eta)) \\; d\\eta.\n",
      "$$"
     ]
    },
    {
     "cell_type": "markdown",
     "metadata": {},
     "source": [
      "As in the one-parameter case, sampling data induces a translation in the\n",
      "parameters of this exponential family.\n",
      "\n",
      "Specifically, if we sample $n$ points IID, we see that\n",
      "$$\n",
      "\\pi(\\eta|y) \\propto \\exp\\left( n \\cdot \\overline{y}^T \\eta + \\theta_1^T \\eta - (n + \\theta_2) \\CGF(\\eta) \\right).\n",
      "$$\n",
      "\n",
      "The map could be expressed as\n",
      "$$\n",
      "(\\theta_1, \\theta_2) \\mapsto (n \\cdot \\overline{y}^T + \\theta_1, n + \\theta_2).\n",
      "$$"
     ]
    },
    {
     "cell_type": "markdown",
     "metadata": {},
     "source": [
      "### *Exercise: domain of the conjugate prior*\n",
      "\n",
      "What is the domain of $G$?"
     ]
    },
    {
     "cell_type": "heading",
     "level": 2,
     "metadata": {},
     "source": [
      "Multivariate normal family"
     ]
    },
    {
     "cell_type": "markdown",
     "metadata": {},
     "source": [
      "Let's now consider the full multivariate normal family on $\\real^k$\n",
      "$$\n",
      "\\frac{d\\Pp_{\\eta, \\Theta}}{dm} = \\exp \\left(\\eta^Tx - \\frac{1}{2} \\text{Tr}(xx^T\\Theta) \\right)\n",
      "$$\n",
      "where $m(dx) = (2\\pi)^{-k/2} dx$ is a constant multiple of the Lebesgue measure on $\\real^k$.\n",
      "This is, as written a $k + k^2$ dimensional exponential family of distributions on $\\real^k$. We can assume $\\Theta$ is symmetric and positive definite (why?) leading to a parameter space in $\\real^k \\times \\text{Sym}_+(\\real^{k \\times k})$.\n",
      "\n",
      "We see that the CGF is\n",
      "$$\n",
      "e^{\\CGF(\\eta, \\Theta) } = \\det(\\Theta)^{-1/2} \\exp\\left(\\eta^T\\Theta^{-1}\\eta/2 \\right)\n",
      "$$\n",
      "or\n",
      "$$\n",
      "\\CGF(\\eta,\\Theta) = -\\frac{1}{2} \\log \\det(\\Theta) + \\frac{1}{2} \\text{Tr}(\\eta \\eta^T \\Theta^{-1}).\n",
      "$$"
     ]
    },
    {
     "cell_type": "markdown",
     "metadata": {},
     "source": [
      "### *Exercise: multivariate normal calculations*\n",
      "\n",
      "1. Compute the mean map $\\nabla \\CGF(\\eta,\\Theta)$, identify the parameters $(\\eta, \\Theta)$ in terms of the usual mean $(\\mu, \\Sigma)$ parameterization of the $N(\\mu,\\Sigma)$ family.\n",
      "\n",
      "2. Compute the Fisher information, i.e. $\\nabla^2 \\CGF(\\eta, \\Theta)$.\n",
      "\n"
     ]
    },
    {
     "cell_type": "heading",
     "level": 2,
     "metadata": {},
     "source": [
      "Exponential random graphs"
     ]
    },
    {
     "cell_type": "markdown",
     "metadata": {},
     "source": [
      "Set $G_n$ to be the set of all undirected graphs on the vertex set $\\{1, \\dots, n\\}$. A formal definition of this set is\n",
      "$$\n",
      "G_n = \\left\\{A \\in {0,1}^n: A_{ii}=0, A=A^T \\right\\}\n",
      "$$\n",
      "where $A$ is referred to as the adjacency matrix of the graph.\n",
      "\n",
      "We can take counting measure $m$ on $\\{0,1\\}^n$ as our reference measure and consider models for random graphs. These are called *exponential random graphs*. \n",
      "\n",
      "One model would be to specify a sort of logistic model with parameters $\\theta \\in \\real^n$\n",
      "$$\n",
      "\\Pp(A_{ij}=1) = \\frac{e^{\\theta_i+\\theta_j}}{1 + e^{\\theta_i + \\theta_j}}.\n",
      "$$\n",
      "independently across all edges $(i,j)$.\n",
      "\n",
      "It turns out that this is an exponential family with natural parameters $\\theta_i$.\n",
      "\n"
     ]
    },
    {
     "cell_type": "markdown",
     "metadata": {},
     "source": [
      "### *Exercise: the degree model*\n",
      "\n",
      "Consider the logistic random graph model\n",
      "$$\n",
      "\\Pp(A_{ij}=1) = \\frac{ e^{\\theta_i+\\theta_j}}{1 + e^{\\theta_i + \\theta_j}}\n",
      "$$\n",
      "independently across all edges $i < j$\n",
      "\n",
      "1. Write out the likelihood as a function of $\\theta \\in \\real^n$.\n",
      "\n",
      "2. Show that this is an exponential family with natural parameters $\\theta$. What is the \n",
      "sufficient statistic?"
     ]
    },
    {
     "cell_type": "markdown",
     "metadata": {},
     "source": [
      "There are many other examples of exponential random graphs. For example, define a triangle in a graph to be a tuple $(i,j,k)$ such that $A_{ij}=A_{jk}=A_{ki}=1$. The number of triangles in\n",
      "a graph is a function only of $G$, hence one could consider the exponential family\n",
      "$$\n",
      "\\frac{d\\Pp_{\\eta}}{dm} = \\exp \\left(\\eta_1 \\text{$\\#$ edges in $A$} + \\eta_2 \\text{$\\#$ triangles in $A$} - \\CGF(\\eta) \\right)\n",
      "$$\n",
      "with CGF\n",
      "$$\n",
      "\\CGF(\\eta) = \\sum_{A \\in \\{0,1\\}^n:A_{ii}=0, A=A^T} \\exp \\left(\\eta_1 \\cdot  \\text{$\\#$ edges in $A$} + \\eta_2 \\cdot \\text{$\\#$ triangles in $A$} \\right).\n",
      "$$\n",
      "\n",
      "Like the Ising model, this is in general a horribly complicated object to compute."
     ]
    },
    {
     "cell_type": "heading",
     "level": 3,
     "metadata": {},
     "source": [
      "Partially observed data"
     ]
    },
    {
     "cell_type": "markdown",
     "metadata": {},
     "source": [
      "### *Exercise* \n",
      "\n",
      "Suppose we start off with a family\n",
      "$$\n",
      "\\frac{d\\Pp_{\\eta}}{dm} = \\exp(\\eta^Tt(x) - \\CGF(\\eta))\n",
      "$$\n",
      "but we only observe $x$ if $x \\in A$. Show that the family\n",
      "$$\n",
      "\\tilde{\\Pp}_{\\eta,A}(\\cdot) = \\Pp_{\\eta} (\\cdot | A)\n",
      "$$\n",
      "is an exponential family.\n",
      "\n",
      "1. What do you take as reference measure?\n",
      "\n",
      "2. What is the sufficient statistic?\n",
      "\n",
      "3. What is the CGF?"
     ]
    },
    {
     "cell_type": "code",
     "collapsed": false,
     "input": [],
     "language": "python",
     "metadata": {},
     "outputs": []
    }
   ],
   "metadata": {}
  }
 ]
}