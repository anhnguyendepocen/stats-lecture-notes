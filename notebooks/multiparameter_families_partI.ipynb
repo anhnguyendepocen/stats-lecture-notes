{
 "metadata": {
  "name": "multiparameter_families_partI"
 },
 "nbformat": 3,
 "nbformat_minor": 0,
 "worksheets": [
  {
   "cells": [
    {
     "cell_type": "heading",
     "level": 1,
     "metadata": {},
     "source": [
      "Multiparameter exponential families"
     ]
    },
    {
     "cell_type": "heading",
     "level": 2,
     "metadata": {},
     "source": [
      "General definitions"
     ]
    },
    {
     "cell_type": "markdown",
     "metadata": {},
     "source": [
      "Not surprisingly, a *multi-parameter* exponential family, $\\F$ is a multi-parameter family of distributions of the form\n",
      "$$\n",
      "\\Pp_{\\eta}(dx) = \\exp\\left(\\eta^T t(x) - \\CGF(\\eta)\\right) m_0(dx), \\eta \\in \\real^p.\n",
      "$$\n",
      "for some reference measure $m_0$ on $\\Omega$.\n",
      "\n",
      "Nothing really changes except $\\eta \\cdot t(x)$ has changed to\n",
      "$\\eta^Tt(x)$.\n",
      "This indicates that there is a vector $\\eta=(\\eta_1, \\dots, \\eta_p)$ of *natural\n",
      "parameters* as well as a vector $t(x)=(t_1(x), \\dots, t_p(x))$ of *sufficient statistics*.\n",
      "\n",
      "Again, $\\CGF:\\real^p \\rightarrow \\real$ is the normalizing constant needed to make $\\Pp_{\\eta}$ a proper probability distribution.\n",
      "    \n",
      "The *domain* is \n",
      "$$\n",
      "\\D(\\F) = \\left\\{\\eta: \\CGF(\\eta) < \\infty \\right\\}.\n",
      "$$\n",
      "\n",
      "    "
     ]
    },
    {
     "cell_type": "markdown",
     "metadata": {},
     "source": [
      "### *Exercise: normal family*\n",
      "\n",
      "Show that the family of distributions\n",
      "$$\n",
      "\\Pp_{\\eta} = {\\cal L}\\left((X_1, \\dots, X_m) \\overset{IID} \\sim N(\\mu,\\sigma^2) \\right)\n",
      "$$\n",
      "can be written as a 2-dimensional exponential family with sufficient statistic\n",
      "$$\n",
      "t(x_1, \\dots, x_m) = \\left( \\frac{1}{n} \\sum_{i=1}^n x_i, \\frac{1}{n} \\sum_{i=1}^n {x_i^2}\\right).\n",
      "$$"
     ]
    },
    {
     "cell_type": "markdown",
     "metadata": {},
     "source": [
      "Hence, we see that, in this family all of the information about $(\\mu,\\sigma^2)$ is contained in \n",
      "a 2-dimensional statistic. This, of course, is the basis of *sufficiency*.\n",
      "\n"
     ]
    },
    {
     "cell_type": "markdown",
     "metadata": {},
     "source": [
      "In general, if we observe $(X_1, \\dots, X_n) \\overset{IID}{\\sim} \\Pp_{\\eta}$\n",
      "there is a corresponding $p$-dimensional exponential family of distributions on \n",
      "$\\real^p$ which we might denote by\n",
      "$$\n",
      "\\tilde{\\Pp}_{\\eta}(A) \\overset{\\Delta}{=} \\Pp_{\\eta}(t(X) \\in A)\n",
      "$$\n",
      "which is the just the *push-forward* of $\\Pp_{\\eta}$ under $t:\\Omega \\rightarrow \\real^p$."
     ]
    },
    {
     "cell_type": "markdown",
     "metadata": {},
     "source": [
      "### *Exercise: the pushed forward family*\n",
      "\n",
      "1. What is the sufficient statistic of the family $\\tilde{F} = \\left\\{\\tilde{\\Pp}_{\\eta}\\right\\}$?\n",
      "\n",
      "2. What is the reference measure?\n",
      "\n",
      "3. What is the domain of $\\tilde{F}$?"
     ]
    },
    {
     "cell_type": "heading",
     "level": 2,
     "metadata": {},
     "source": [
      "Expectation and variances"
     ]
    },
    {
     "cell_type": "markdown",
     "metadata": {},
     "source": [
      "As in the case of a one-parameter family, the expected values of the sufficient statistic\n",
      "is determined by the CGF, $\\CGF$. That is,\n",
      "$$\n",
      "\\Ee_{\\eta}(t(X)) = \\nabla \\CGF(\\eta).\n",
      "$$\n",
      "\n",
      "This motivates the definition of the *mean parameter space* \n",
      "$$\n",
      "\\Mm(\\F) = \\text{conv} \\left(\\left\\{t(x): x \\in \\Omega\\right\\}\\right) = \\text{conv}(t(\\Omega))\n",
      "$$\n",
      "where\n",
      "$\n",
      "\\text{conv}(S)\n",
      "$ is the convex hull of $S$. Unlike in the one-parameter case, it is possible that\n",
      "$$\n",
      "\\nabla \\CGF(\\D) \\subsetneq \\Mm(\\F).\n",
      "$$\n",
      "Brad Efron's notes, typically refer to $\\CGF(\\D)$ as $B$ and $\\D$ as $A$, notation we may come back to at some point.\n",
      "\n",
      "See [Geometry of Exponential Families](http://projecteuclid.org/euclid.aos/1176344130) for an example, albeit slightly unnatural. I say unnatural, because the construction uses a carrier measure with \n",
      "a  support that is singular (in a certain sense).\n",
      "\n",
      "As in the one-parameter case variances are also obtained from the $\\CGF$ via\n",
      "$$\n",
      "\\Vv_{\\eta}(t(X)) = \\nabla^2 \\CGF(\\eta).\n",
      "$$"
     ]
    },
    {
     "cell_type": "markdown",
     "metadata": {},
     "source": [
      "### *Exercise: convexity*\n",
      "\n",
      "1. Prove that $\\D$ is convex.\n",
      "\n",
      "2. Show that $\\nabla(\\D) \\subset \\Mm$."
     ]
    },
    {
     "cell_type": "heading",
     "level": 2,
     "metadata": {},
     "source": [
      "The normal family, one observation"
     ]
    },
    {
     "cell_type": "markdown",
     "metadata": {},
     "source": [
      "Consider the family\n",
      "$$\n",
      "\\Pp_{\\eta}(dx) = e^{\\eta_1 \\cdot x - \\eta_2 \\cdot x^2/2 - \\CGF(\\eta_1,\\eta_2)} \\; dx.\n",
      "$$\n",
      "The sufficient statistics here are $t(x) = (x,x^2)$.\n",
      "\n",
      "\n",
      "We see that this is a parameterization of the univariate normal family with \n",
      "$$\n",
      "e^{\\CGF(\\eta_1,\\eta_2)} = \\sqrt{2\\pi/\\eta_2}\\cdot  e^{\\eta_1^2/2\\eta_2}.\n",
      "$$\n",
      "Or,\n",
      "$$\n",
      "\\CGF(\\eta_1,\\eta_2) = \\frac{1}{2} \\left[\\log(2\\pi)- \\log(\\eta_2) + \\frac{\\eta_1^2 }{\\eta_2} \\right]\n",
      "$$\n",
      "with domain\n",
      "$$\n",
      "\\D = \\left\\{(\\eta_1, \\eta_2): \\eta_2 > 0 \\right\\}\n",
      "$$\n",
      "the upper half plane.\n",
      "\n",
      "\n",
      "    "
     ]
    },
    {
     "cell_type": "code",
     "collapsed": false,
     "input": [
      "C = np.log(2*np.pi)\n",
      "def CGF(eta1, eta2):\n",
      "    return (C - np.log(eta2) + eta1**2 / eta2) / 2.\n",
      "\n",
      "def dotCGF(eta1, eta2):\n",
      "    return eta1 / eta2, (-eta1**2/eta2 - 1 / eta2) / 2."
     ],
     "language": "python",
     "metadata": {},
     "outputs": [],
     "prompt_number": 1
    },
    {
     "cell_type": "markdown",
     "metadata": {},
     "source": [
      "While $\\CGF$ is convex and $\\nabla \\CGF$ maps\n",
      "natural parameters to mean values, the image of $\\D$ under $\\nabla \\CGF$ is not necessarily convex.\n",
      "In fact, even the image of one-parameter subfamilies may look funny.\n",
      "\n",
      "For example, let's restrict our family to a ray\n",
      "$$\n",
      "{\\cal R} = \\left\\{\\eta=\\eta(s) = \\eta_0 + s \\cdot d\\eta_0 \\in \\real^2, s \\in \\real\\right\\}\n",
      "$$\n",
      "bearing in mind that we might hit the boundary of $\\D$ with such a ray.\n",
      "\n",
      "We can look at the paths\n",
      "$$\n",
      "s \\mapsto \\eta(s) \\in \\D,\n",
      "$$\n",
      "and \n",
      "$$\n",
      "s \\mapsto  \\nabla \\CGF(\\eta(s)) \\in \\Mm.\n",
      "$$\n",
      "\n",
      "Since it is a ray in $\\D$, it is not surprising that it looks like a ray..."
     ]
    },
    {
     "cell_type": "code",
     "collapsed": false,
     "input": [
      "eta1_0, eta2_0 = 1, 2\n",
      "deta1_0, deta2_0 = 1.5, 3.5\n",
      "\n",
      "ray = np.linspace(0,1,101)\n",
      "eta = np.array([(eta1_0+deta1_0*t,eta2_0+deta2_0*t) for t in ray])\n",
      "plt.plot(eta[:,0], eta[:,1])\n",
      "a = plt.gca()\n",
      "a.set_xlabel(r'$\\eta_1$', size=20)\n",
      "a.set_ylabel(r'$\\eta_2$', size=20)\n",
      "a.set_title(r'${\\cal D}$ coordinates', size=20)"
     ],
     "language": "python",
     "metadata": {},
     "outputs": [
      {
       "output_type": "pyout",
       "prompt_number": 17,
       "text": [
        "<matplotlib.text.Text at 0x110bcaa10>"
       ]
      },
      {
       "output_type": "display_data",
       "png": "[encoded data removed]",
       "text": [
        "<matplotlib.figure.Figure at 0x110b15e50>"
       ]
      }
     ],
     "prompt_number": 17
    },
    {
     "cell_type": "markdown",
     "metadata": {},
     "source": [
      "However, in $\\Mm$, it does not look straight, it is *curved*."
     ]
    },
    {
     "cell_type": "code",
     "collapsed": false,
     "input": [
      "mu = np.array([dotCGF(eta1_0+deta1_0*t,eta2_0+deta2_0*t) for t in ray])\n",
      "plt.plot(mu[:,0], mu[:,1])\n",
      "a = plt.gca()\n",
      "a.set_xlabel(r'$\\mu_1$', size=20)\n",
      "a.set_ylabel(r'$\\mu_2$', size=20)\n",
      "a.set_title(r'${\\cal M}$ coordinates', size=20)"
     ],
     "language": "python",
     "metadata": {},
     "outputs": [
      {
       "output_type": "pyout",
       "prompt_number": 18,
       "text": [
        "<matplotlib.text.Text at 0x110db8ed0>"
       ]
      },
      {
       "output_type": "display_data",
       "png": "[encoded data removed]",
       "text": [
        "<matplotlib.figure.Figure at 0x100657c90>"
       ]
      }
     ],
     "prompt_number": 18
    },
    {
     "cell_type": "markdown",
     "metadata": {},
     "source": [
      "Generally speaking, the images of flat lines are curves under \n",
      "$\\nabla \\CGF$. This makes it seem like our nice picture from one parameter families is going\n",
      "to fail when it comes to maximum likelihood. We'll see that all is not really lost.\n",
      "\n",
      "First of all, the map\n",
      "$$\n",
      "s \\mapsto \\CGF(\\eta(s)) - \\eta(s)^T t\n",
      "$$\n",
      "is convex, so finding the MLE of $\\CGF$ restricted to ${\\cal R}$ is a convex problem.\n",
      "\n",
      "Also, there is an analogue of $\\CGF^*$ for our restricted problem..."
     ]
    },
    {
     "cell_type": "markdown",
     "metadata": {},
     "source": [
      "### *Exercise*\n",
      "\n",
      "1. Repeat the above example, but start at point $\\eta_0=(2,2)$ and move along the ray\n",
      "$d\\eta=(1,1)$. Is this expected?\n",
      "\n"
     ]
    },
    {
     "cell_type": "heading",
     "level": 2,
     "metadata": {},
     "source": [
      "MLE map"
     ]
    },
    {
     "cell_type": "markdown",
     "metadata": {},
     "source": [
      "The curved picture above hides a little structure from us and makes things\n",
      "seem worse than they really are. What is really going on is that we have not\n",
      "properly taken into account the fact that we were going to restrict our attention \n",
      "to a fixed ray.\n",
      "\n",
      "Let's first consider the unrestricted MLE problem. That is, having observed\n",
      "$t(X)=t$, let's estimate $\\eta$. The problem we must solve is\n",
      "$$\n",
      "\\hat{\\eta}(t) = \\argmax_{\\eta \\in \\D} \\eta^T t - \\CGF(\\eta).\n",
      "$$\n",
      "\n",
      "The Fenchel-Legendre transform (convex conjugate) extends to arbitrary dimensions\n",
      "$$\n",
      "\\CGF^*(t) = \\sup_{\\eta \\in D} \\eta^T t - \\CGF(\\eta).\n",
      "$$\n",
      "Again, by general convex analysis, we see that\n",
      "$$\n",
      "\\hat{\\eta}(t) = \\nabla \\CGF^*(t).\n",
      "$$\n",
      "\n",
      "If the MLE is not unique, then we can describe the set of MLE estimates as\n",
      "$$\n",
      "\\hat{\\eta}(t) \\in \\partial \\CGF^*(t) = \\left\\{ \\eta: \\eta^Tt-\\CGF(\\eta) = \\CGF^*(t) \\right\\}.\n",
      "$$\n",
      "In words, these are the $\\eta$'s that achieved the maximum value of the likelihood. The\n",
      "notation $\\partial f(x)$ is referred to as the *subdifferential* of $f$ at $x$. For\n",
      "an arbitrary function with domain $\\D(f)=\\{x:f(x) < \\infty\\}$ it is defined as\n",
      "$$\n",
      "\\partial f(x) = \\left \\{v: f(y)-f(x) \\geq v^T(y-x) \\right \\}.\n",
      "$$\n"
     ]
    },
    {
     "cell_type": "markdown",
     "metadata": {},
     "source": [
      "### *Exercise*\n",
      "\n",
      "Show, from the definition of $\\partial \\CGF^*$ that, if $\\CGF^*(t) < \\infty$\n",
      "$$\n",
      "\\partial \\CGF^*(t) = \\left\\{ \\eta: \\eta^Tt-\\CGF(\\eta) = \\CGF^*(t) \\right\\}.\n",
      "$$"
     ]
    },
    {
     "cell_type": "heading",
     "level": 2,
     "metadata": {},
     "source": [
      "MLE in a restricted model"
     ]
    },
    {
     "cell_type": "markdown",
     "metadata": {},
     "source": [
      "Let's go back to our ray in the two-dimensional family above. The ray can be described by a 1-dimensional constraint. If $a$ is normal to $d\\eta$, then the ray is the set\n",
      "$$\n",
      "\\left\\{\\eta: a^T\\eta = \\theta^T\\eta_0 = b\\right\\}\n",
      "$$\n",
      "for some $c \\in \\real$. \n",
      "\n",
      "To perform MLE in this model, we should consider the problem\n",
      "$$\n",
      "\\hat{\\eta}(t,b) = \\argmax_{\\eta \\in D} \\eta^T t -  \\CGF(\\eta)\n",
      "$$\n",
      "subject to the additional constraint $\\eta^Ta=b$. \n",
      "\n",
      "How do we solve such a problem? Well, standard multivariate calculus says we should\n",
      "use a Lagrange multiplier. Then, we need to\n",
      "find the appropriate value of the Lagrange multiplier and solve the equations\n",
      "$$\n",
      "t - \\nabla \\CGF(\\hat{\\eta}(u)) + u \\cdot a = 0,  \\qquad u \\in \\real\n",
      "$$\n",
      "which are the critical point equations for solving\n",
      "$$\n",
      "\\maximize_{\\eta} \\eta^T t - \\CGF(\\eta) + u \\cdot (\\eta^Ta - b).\n",
      "$$\n",
      "Then, use should find the correct Lagrange multiplier so that the solution to the above problem \n",
      "actually satisfy $\\hat{\\eta}(u)^Ta=b$.\n",
      "\n",
      "This trick is used over and over in optimization and is referred to as forming a *Lagrangian*\n",
      "$$\n",
      "L(\\eta;u) = \\eta^Tt - \\CGF(\\eta) + u \\cdot( \\eta^Ta-b).\n",
      "$$"
     ]
    },
    {
     "cell_type": "markdown",
     "metadata": {},
     "source": [
      "Maximizing this over $\\eta$ yields a function \n",
      "$$\n",
      "g(u) = \\sup_{\\eta \\in \\D} \\eta^T t - \\CGF(\\eta) + u \\cdot( \\eta^T a -b) = \\CGF^*(t + u \\cdot a) - ub.\n",
      "$$\n",
      "\n",
      "So, our old friend $\\CGF^*$ appears. Since it is convex, we see that the problem of minimizing\n",
      "$g(u)$ is a convex problem. Having found \n",
      "$$\n",
      "\\hat{u}(t,b) = \\argmin_u \\CGF^*(t + u \\cdot a) - ub\n",
      "$$\n",
      "we can then solve\n",
      "$$\n",
      "\\maximize_{\\eta} \\eta^Tt - \\CGF(\\eta) + \\hat{u}(t,b)  \\cdot (\\eta^T a  - b)\n",
      "$$\n",
      "which can be solved explicitly as\n",
      "$$\n",
      "\\hat{\\eta}(t,b) = \\nabla \\CGF^*(t + a \\cdot \\hat{u}(t,b)).\n",
      "$$\n",
      "\n",
      "This is actually a solution to our restricted problem. Why? Well, another general\n",
      "convex analysis result (the famous [KKT conditions](http://en.wikipedia.org/wiki/Karush%E2%80%93Kuhn%E2%80%93Tucker_conditions)) says that at this pair $(\\hat{\\eta}(t,b), \\hat{u}(t,b))$\n",
      "we have\n",
      "$$\n",
      "\\begin{aligned}\n",
      "\\nabla_{\\eta} L(\\eta;u) &= t + a \\cdot u -  \\nabla \\CGF(\\eta) \\\\\n",
      "&= 0 \\\\\n",
      "\\nabla_u L(\\eta;u) &= \\eta^T a  - b \\\\\n",
      "&= 0\n",
      "\\end{aligned}\n",
      "$$"
     ]
    },
    {
     "cell_type": "markdown",
     "metadata": {},
     "source": [
      "### *Exercise: estimation via $\\CGF^*$*\n",
      "\n",
      "1. In our normal family, show that\n",
      "$$\n",
      "\\CGF^*(t_1,t_2) = \\frac{1}{2} \\left[1 + \\log(-t_1^2 - 2t_2) \\right]\n",
      "$$\n",
      "In practice, $t_1=x, t_2=-x^2$ so not all values of $(t_1, t_2)$ are possible, but the above is still the Fenchel-Legendre transform, and it is still convex.\n",
      "\n",
      "2. Consider the ray \n",
      "$$\n",
      "{\\cal R} = \\left\\{\\eta = \\eta(s) = (1+1.5 \\cdot s, 2 + 3.5 \\cdot s): \\eta \\in \\D , s \\in \\real \\right\\}\n",
      "$$\n",
      "Find a suitable $(a,b)$ such that\n",
      "$$\n",
      "{\\cal R} = \\left\\{\\eta: a^T\\eta=b, \\eta \\in \\D \\right\\}.\n",
      "$$\n",
      "\n",
      "3. Suppose we observed $x=21.2$. Find the MLE of the restriction to ${\\cal R}$ using, e.g. Newton-Raphson by solving\n",
      "$$\n",
      "\\minimize_s \\CGF(\\eta(s)) - x \\cdot \\eta_1(s) + x^2/2 \\cdot \\eta_2(s).\n",
      "$$\n",
      "\n",
      "4. Plot the function\n",
      "$$\n",
      "g(u) = \\CGF^*(t + u \\cdot a) - u \\cdot b\n",
      "$$\n",
      "and find \n",
      "$$\n",
      "\\hat{u}(t,b) = \\argmin_u \\CGF^*(t + u \\cdot a) - u \\cdot b.\n",
      "$$\n",
      "Compare $\\hat{\\eta}(t,b) = \\nabla \\CGF^*(t + \\hat{u}(t,b) \\cdot a)$ with your solution to\n",
      "3.\n",
      "\n"
     ]
    },
    {
     "cell_type": "code",
     "collapsed": false,
     "input": [],
     "language": "python",
     "metadata": {},
     "outputs": []
    }
   ],
   "metadata": {}
  }
 ]
}