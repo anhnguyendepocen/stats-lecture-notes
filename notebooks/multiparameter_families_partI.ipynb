{
 "metadata": {
  "name": "multiparameter_families_partI"
 },
 "nbformat": 3,
 "nbformat_minor": 0,
 "worksheets": [
  {
   "cells": [
    {
     "cell_type": "heading",
     "level": 1,
     "metadata": {},
     "source": [
      "Multiparameter exponential families"
     ]
    },
    {
     "cell_type": "heading",
     "level": 2,
     "metadata": {},
     "source": [
      "General definitions"
     ]
    },
    {
     "cell_type": "markdown",
     "metadata": {},
     "source": [
      "Not surprisingly, a *multi-parameter* exponential family, $\\F$ is a multi-parameter family of distributions of the form\n",
      "$$\n",
      "\\Pp_{\\eta}(dx) = \\exp\\left(\\eta^T t(x) - \\CGF(\\eta)\\right) m_0(dx), \\eta \\in \\real^p.\n",
      "$$\n",
      "for some reference measure $m_0$ on $\\Omega$.\n",
      "\n",
      "Nothing really changes except $\\eta \\cdot t(x)$ has changed to\n",
      "$\\eta^Tt(x)$.\n",
      "This indicates that there is a vector $\\eta=(\\eta_1, \\dots, \\eta_p)$ of *natural\n",
      "parameters* as well as a vector $t(x)=(t_1(x), \\dots, t_p(x))$ of *sufficient statistics*.\n",
      "\n",
      "Again, $\\CGF:\\real^p \\rightarrow \\real$ is the normalizing constant needed to make $\\Pp_{\\eta}$ a proper probability distribution\n",
      "    $$\n",
      "    e^{\\CGF{\\eta}} = \\int_{\\Omega} e^{\\eta^T t(x)} \\; m_0(dx).\n",
      "    $$\n",
      "    \n",
      "The *domain* is \n",
      "$$\n",
      "\\D(\\F) = \\left\\{\\eta: \\CGF(\\eta) < \\infty \\right\\}.\n",
      "$$\n",
      "\n",
      "    "
     ]
    },
    {
     "cell_type": "markdown",
     "metadata": {},
     "source": [
      "### *Exercise: normal family*\n",
      "\n",
      "1. Show that the family of distributions\n",
      "$$\n",
      "\\Pp_{\\eta} = {\\cal L}\\left((X_1, \\dots, X_N) \\overset{IID} \\sim N(\\mu,\\sigma^2) \\right)\n",
      "$$\n",
      "can be written as a 2-dimensional exponential family with sufficient statistic\n",
      "$$\n",
      "t(x_1, \\dots, x_m) = \\left( \\frac{1}{n} \\sum_{i=1}^N x_i, \\frac{1}{n} \\sum_{i=1}^N {x_i^2}\\right).\n",
      "$$\n",
      "\n",
      "2. What is the carrier measure?\n"
     ]
    },
    {
     "cell_type": "markdown",
     "metadata": {},
     "source": [
      "Hence, we see that, in this family all of the information about $(\\mu,\\sigma^2)$ is contained in \n",
      "a 2-dimensional statistic. This, of course, is the basis of *sufficiency*.\n",
      "\n"
     ]
    },
    {
     "cell_type": "markdown",
     "metadata": {},
     "source": [
      "In general, if we observe $(X_1, \\dots, X_n) \\overset{IID}{\\sim} \\Pp_{\\eta}$\n",
      "there is a corresponding $p$-dimensional exponential family of distributions on \n",
      "$\\real^p$ which we might denote by\n",
      "$$\n",
      "\\tilde{\\Pp}_{\\eta}(A) \\overset{\\Delta}{=} \\Pp_{\\eta}(t(X) \\in A)\n",
      "$$\n",
      "which is the just the *push-forward* of $\\Pp_{\\eta}$ under $t:\\Omega \\rightarrow \\real^p$."
     ]
    },
    {
     "cell_type": "markdown",
     "metadata": {},
     "source": [
      "### *Exercise: the pushed forward family*\n",
      "\n",
      "1. What is the sufficient statistic of the family $\\tilde{F} = \\left\\{\\tilde{\\Pp}_{\\eta}\\right\\}$?\n",
      "\n",
      "2. What is the reference measure?\n",
      "\n",
      "3. What is the domain of $\\tilde{F}$?"
     ]
    },
    {
     "cell_type": "heading",
     "level": 2,
     "metadata": {},
     "source": [
      "Expectation and variances"
     ]
    },
    {
     "cell_type": "markdown",
     "metadata": {},
     "source": [
      "As in the case of a one-parameter family, the expected values of the sufficient statistic\n",
      "is determined by the CGF, $\\CGF$. That is,\n",
      "$$\n",
      "\\Ee_{\\eta}(t(X)) = \\nabla \\CGF(\\eta).\n",
      "$$\n",
      "\n",
      "This motivates the definition of the *mean parameter space* \n",
      "$$\n",
      "\\Mm(\\F) = \\text{conv} \\left(\\left\\{t(x): x \\in \\Omega\\right\\}\\right) = \\text{conv}(t(\\Omega))\n",
      "$$\n",
      "where\n",
      "$\n",
      "\\text{conv}(S)\n",
      "$ is the convex hull of $S$. Unlike in the one-parameter case, it is possible that\n",
      "$$\n",
      "\\nabla \\CGF(\\D) \\subsetneq \\Mm(\\F).\n",
      "$$\n",
      "Brad Efron's notes, typically refer to $\\CGF(\\D)$ as $B$ and $\\D$ as $A$, notation we may come back to at some point.\n",
      "\n",
      "See [Geometry of Exponential Families](http://projecteuclid.org/euclid.aos/1176344130) for an example, albeit slightly unnatural. I say unnatural, because the construction uses a carrier measure with \n",
      "a  support that is singular (in a certain sense).\n",
      "\n",
      "As in the one-parameter case variances are also obtained from the $\\CGF$ via\n",
      "$$\n",
      "\\Vv_{\\eta}(t(X)) = \\nabla^2 \\CGF(\\eta).\n",
      "$$"
     ]
    },
    {
     "cell_type": "markdown",
     "metadata": {},
     "source": [
      "### *Exercise: convexity*\n",
      "\n",
      "1. Prove that $\\D$ is convex.\n",
      "\n",
      "2. Show that $\\nabla(\\D) \\subset \\Mm$."
     ]
    },
    {
     "cell_type": "heading",
     "level": 2,
     "metadata": {},
     "source": [
      "The univariate normal family"
     ]
    },
    {
     "cell_type": "markdown",
     "metadata": {},
     "source": [
      "Consider the family\n",
      "$$\n",
      "\\Pp_{\\eta}(dx) = e^{\\eta_1 \\cdot x - \\eta_2 \\cdot x^2/2 - \\CGF(\\eta_1,\\eta_2)} \\; dx.\n",
      "$$\n",
      "The sufficient statistics here are $t(x) = (x,-x^2)$. We assume that we have observed\n",
      "$N$ IID samples and are considering the distribution of the sufficient statistic\n",
      "$$\n",
      "\\overline{t}(x) = \\left(\\frac{1}{N} \\sum_{i=1}^N x_i, \\frac{1}{N} \\sum_{i=1}^N x_i^2  \\right)\n",
      "$$\n",
      "\n",
      "That is, we are considering the family\n",
      "$$\n",
      "\\tilde{\\Pp}_{\\eta}(dy) = e^{N \\cdot[\\eta_1 \\cdot y_1 - \\eta_2 \\cdot y_2/2 - \\CGF(\\eta_1,\\eta_2)]} \\; dx\n",
      "$$\n",
      "though we do not include the $N$ in the code for the CGF, as\n",
      "it is not needed for estimation."
     ]
    },
    {
     "cell_type": "markdown",
     "metadata": {},
     "source": [
      "We see that this is a parameterization of the univariate normal family with \n",
      "$$\n",
      "e^{\\CGF(\\eta_1,\\eta_2)} = \\sqrt{2\\pi/\\eta_2} \\cdot  e^{\\eta_1^2/2\\eta_2}.\n",
      "$$\n",
      "Or,\n",
      "$$\n",
      "\\CGF(\\eta_1,\\eta_2) = \\frac{1}{2} \\left[\\log(2\\pi)- \\log(\\eta_2) + \\frac{\\eta_1^2 }{\\eta_2} \\right]\n",
      "$$\n",
      "with domain\n",
      "$$\n",
      "\\D = \\left\\{(\\eta_1, \\eta_2): \\eta_2 > 0 \\right\\}\n",
      "$$\n",
      "the upper half plane."
     ]
    },
    {
     "cell_type": "markdown",
     "metadata": {},
     "source": [
      "Straightforward calculations yield\n",
      "$$\n",
      "\\begin{aligned}\n",
      "\\nabla \\CGF(\\eta) &= \\left( \\frac{\\eta_1}{\\eta_2}, -\\frac{1}{2} \\left( \\frac{1}{\\eta_2} + \\frac{\\eta_1^2}{\\eta_2^2} \\right)\n",
      "\\right) \\\\\n",
      "\\nabla^2 \\CGF(\\eta) &= \\begin{pmatrix}\n",
      "\\frac{1}{\\eta_2} & - \\frac{\\eta_1}{\\eta_2^2} \\\\\n",
      "- \\frac{\\eta_1}{\\eta_2^2} &  \\frac{1}{2\\eta_2^2} + \\frac{\\eta_1^2}{\\eta_2^3}\n",
      "\\end{pmatrix}\n",
      "\\end{aligned}\n",
      "$$"
     ]
    },
    {
     "cell_type": "code",
     "collapsed": false,
     "input": [
      "C = np.log(2*np.pi)\n",
      "\n",
      "def CGF(eta):\n",
      "    eta = np.asarray(eta)\n",
      "    return (C - np.log(eta[1]) + eta[0]**2 / eta[1]) / 2.\n",
      "\n",
      "def dotCGF(eta):\n",
      "    eta = np.asarray(eta)\n",
      "    return np.array([eta[0] / eta[1], (-eta[0]**2/eta[1]**2 - 1. / eta[1]) / 2.])\n",
      "\n",
      "def ddotCGF(eta):\n",
      "    eta = np.asarray(eta)\n",
      "    H = np.zeros((2,2))\n",
      "    H[0,0] = 1. / eta[1]\n",
      "    H[0,1] = H[1,0] = - eta[0] / eta[1]**2\n",
      "    H[1,1] = 0.5 / eta[1]**2 + eta[0]**2 / eta[1]**3\n",
      "    return H"
     ],
     "language": "python",
     "metadata": {},
     "outputs": [],
     "prompt_number": 67
    },
    {
     "cell_type": "markdown",
     "metadata": {},
     "source": [
      "While $\\CGF$ is convex and $\\nabla \\CGF$ maps\n",
      "natural parameters to mean values, the image of $\\D$ under $\\nabla \\CGF$ is not necessarily convex.\n",
      "In fact, even the image of one-parameter subfamilies may be curved.\n",
      "\n",
      "For example, let's restrict our family to a ray\n",
      "$$\n",
      "{\\cal R} = \\left\\{\\eta=\\eta(s) = \\eta_0 + s \\cdot v \\in \\real^2, s \\in \\real\\right\\}\n",
      "$$\n",
      "bearing in mind that we might hit the boundary of $\\D$ with such a ray.\n",
      "\n",
      "We can look at the paths\n",
      "$$\n",
      "s \\mapsto \\eta(s) \\in \\D,\n",
      "$$\n",
      "and \n",
      "$$\n",
      "s \\mapsto  \\nabla \\CGF(\\eta(s)) \\in \\Mm.\n",
      "$$\n",
      "\n",
      "Since it is a ray in $\\D$, it is not surprising that it looks like a ray..."
     ]
    },
    {
     "cell_type": "code",
     "collapsed": false,
     "input": [
      "eta_0 = np.array([0, 0.01])\n",
      "v = np.array([12.5, .1])\n",
      "\n",
      "ray = np.linspace(0,1,101)\n",
      "eta = np.array([eta_0 + s*v for s in ray])\n",
      "plt.plot(eta[:,0], eta[:,1])\n",
      "a = plt.gca()\n",
      "a.set_xlabel(r'$\\eta_1$', size=20)\n",
      "a.set_ylabel(r'$\\eta_2$', size=20)\n",
      "a.set_title(r'${\\cal D}$ coordinates', size=20)"
     ],
     "language": "python",
     "metadata": {},
     "outputs": [
      {
       "output_type": "pyout",
       "prompt_number": 96,
       "text": [
        "<matplotlib.text.Text at 0x11812ea90>"
       ]
      },
      {
       "output_type": "display_data",
       "png": "[encoded data removed]",
       "text": [
        "<matplotlib.figure.Figure at 0x117ad3710>"
       ]
      }
     ],
     "prompt_number": 96
    },
    {
     "cell_type": "markdown",
     "metadata": {},
     "source": [
      "However, in $\\Mm$, it does not look straight, it is *curved*."
     ]
    },
    {
     "cell_type": "code",
     "collapsed": false,
     "input": [
      "mu = np.array([dotCGF(eta_0+t*v) for t in ray])\n",
      "plt.plot(mu[:,0], mu[:,1])\n",
      "a = plt.gca()\n",
      "a.set_xlabel(r'$\\mu_1$', size=20)\n",
      "a.set_ylabel(r'$\\mu_2$', size=20)\n",
      "a.set_title(r'${\\cal M}$ coordinates', size=20)"
     ],
     "language": "python",
     "metadata": {},
     "outputs": [
      {
       "output_type": "pyout",
       "prompt_number": 98,
       "text": [
        "<matplotlib.text.Text at 0x118e07d10>"
       ]
      },
      {
       "output_type": "display_data",
       "png": "[encoded data removed]",
       "text": [
        "<matplotlib.figure.Figure at 0x11619ba10>"
       ]
      }
     ],
     "prompt_number": 98
    },
    {
     "cell_type": "markdown",
     "metadata": {},
     "source": [
      "### *Exercise*\n",
      "\n",
      "1. Repeat the above plots, but start at point $\\eta_0=(2,2)$ and move along the ray\n",
      "$d\\eta=(1,1)$. Is this expected?\n",
      "\n"
     ]
    },
    {
     "cell_type": "markdown",
     "metadata": {},
     "source": [
      "Generally speaking, the images of flat lines are curves under \n",
      "$\\nabla \\CGF$. This makes it seem like our nice picture from one parameter families is going\n",
      "to fail when it comes to maximum likelihood. We'll see that all is not really lost.\n",
      "\n",
      "First of all, the map\n",
      "$$\n",
      "s \\mapsto \\CGF(\\eta(s)) - \\eta(s)^T t\n",
      "$$\n",
      "is convex, so finding the MLE of $\\CGF$ restricted to ${\\cal R}$ is a convex problem.\n",
      "\n",
      "In fact, it can essentially be solved by Newton-Raphson using\n",
      "$$\n",
      "\\begin{aligned}\n",
      "\\frac{d\\CGF(\\eta(s))}{ds} &= v^T \\nabla \\CGF(\\eta(s)) \\\\\n",
      "\\frac{d^2\\CGF(\\eta(s))}{ds^2} &= v^T \\nabla^2 \\CGF(\\eta(s)) v.\n",
      "\\end{aligned}\n",
      "$$\n",
      "However, we must be careful to not have Newton-Raphson force us to take too big a step. In particular, we must stay in $\\D$.\n",
      "\n",
      "Here is what happens with a naive Newton-Raphson iteration."
     ]
    },
    {
     "cell_type": "code",
     "collapsed": false,
     "input": [
      "s = 10\n",
      "eta_0 = np.array([10,2])\n",
      "v = np.array([1,3])\n",
      "tx = np.array([.2,-2])\n",
      "alpha = 1.e-4\n",
      "grad, hess = np.inf, np.inf # initial values\n",
      "for i in range(5):\n",
      "    print 's, grad, hess = %s' % (`(s, grad, hess)`)\n",
      "    print 'eta = %s' % (`(eta_0+s*v)`,)\n",
      "    grad = (v*(dotCGF(eta_0+s*v)-tx)).sum()\n",
      "    hess = (v * np.dot(v, ddotCGF(eta_0+s*v))).sum()\n",
      "    s = s - grad / hess\n",
      "    "
     ],
     "language": "python",
     "metadata": {},
     "outputs": [
      {
       "output_type": "stream",
       "stream": "stdout",
       "text": [
        "s, grad, hess = (10, inf, inf)\n",
        "eta = array([20, 32])\n",
        "s, grad, hess = (10.713090462546051, 4.2531249999999998, -5.96435546875)\n",
        "eta = array([ 20.71309046,  34.13927139])\n",
        "s, grad, hess = (-235.86525671849049, 5.8106159094584555, 0.0235649884748085)\n",
        "eta = array([-225.86525672, -705.59577016])\n",
        "s, grad, hess = (-877080.90120736719, 5.9685300759447477, 6.8068242747977114e-06)\n",
        "eta = array([ -877070.90120737, -2631240.7036221 ])\n",
        "s, grad, hess = (-9180561831515.8008, 5.9666672367210669, 6.4992403692268047e-13)\n",
        "eta = array([ -9.18056183e+12,  -2.75416855e+13])\n"
       ]
      }
     ],
     "prompt_number": 247
    },
    {
     "cell_type": "markdown",
     "metadata": {},
     "source": [
      "We see that after three steps, we jumped outside of $\\D$. Here is a slightly modified\n",
      "algorithm that just takes a descent step, but makes sure not to step outside of \n",
      "$\\D$."
     ]
    },
    {
     "cell_type": "code",
     "collapsed": false,
     "input": [
      "s = 10\n",
      "s_iterates = [s]\n",
      "value_iterates = [CGF(eta_0+s*v)-(tx*(eta_0+s*v)).sum()]\n",
      "alpha = 1\n",
      "value = np.inf\n",
      "\n",
      "doubling_time = 5\n",
      "tol = 1.e-7\n",
      "\n",
      "for i in range(100):\n",
      "    grad = (v*(dotCGF(eta_0+s*v)-tx)).sum()\n",
      "    count = 0\n",
      "    while True:\n",
      "        proposed_s =  s - alpha * grad \n",
      "        proposed_eta = eta_0 + proposed_s * v\n",
      "        proposed_value = CGF(proposed_eta) - (tx*proposed_eta).sum()\n",
      "        if proposed_eta[1] < 0 or proposed_value > value:\n",
      "            alpha *= 0.9\n",
      "        else:\n",
      "            break  \n",
      "    if i > 1 and np.fabs((value - proposed_value) / value) < tol:\n",
      "        break\n",
      "    value = proposed_value\n",
      "    s = proposed_s\n",
      "    if i % doubling_time:\n",
      "        alpha *= 1.1\n",
      "        \n",
      "    s_iterates.append(s)\n",
      "    value_iterates.append(CGF(eta_0+s*v)-(tx*(eta_0+s*v)).sum())"
     ],
     "language": "python",
     "metadata": {},
     "outputs": [],
     "prompt_number": 248
    },
    {
     "cell_type": "code",
     "collapsed": false,
     "input": [
      "plt.plot(np.log(value_iterates))\n",
      "a = plt.gca()\n",
      "a.set_xlabel('Iteration $k$')\n",
      "a.set_ylabel(r'$\\log(\\Lambda(\\eta_0+s^{(k)}v) - (\\eta_0+s^{(k)}v)^T t(x))$')\n",
      "print grad, s, alpha"
     ],
     "language": "python",
     "metadata": {},
     "outputs": [
      {
       "output_type": "stream",
       "stream": "stdout",
       "text": [
        "0.0143315079392 0.937669696907 0.275375395309\n"
       ]
      },
      {
       "output_type": "display_data",
       "png": "[encoded data removed]",
       "text": [
        "<matplotlib.figure.Figure at 0x11bb80e10>"
       ]
      }
     ],
     "prompt_number": 249
    },
    {
     "cell_type": "code",
     "collapsed": false,
     "input": [
      "plt.plot(s_iterates)\n",
      "a = plt.gca()\n",
      "a.set_xlabel('Iteration $k$')\n",
      "a.set_ylabel(r'$s^{(k)}$')\n"
     ],
     "language": "python",
     "metadata": {},
     "outputs": [
      {
       "output_type": "pyout",
       "prompt_number": 250,
       "text": [
        "<matplotlib.text.Text at 0x10d9606d0>"
       ]
      },
      {
       "output_type": "display_data",
       "png": "[encoded data removed]",
       "text": [
        "<matplotlib.figure.Figure at 0x11d7906d0>"
       ]
      }
     ],
     "prompt_number": 250
    },
    {
     "cell_type": "heading",
     "level": 4,
     "metadata": {},
     "source": [
      "Notation for multivariate derivatives"
     ]
    },
    {
     "cell_type": "markdown",
     "metadata": {},
     "source": [
      "It is sometimes convenient to write\n",
      "$$\n",
      "\\begin{aligned}\n",
      "v^T \\nabla \\CGF(\\eta(s)) &= \\nabla \\CGF(v) \\bigl|_{\\eta(s)} \\\\\n",
      "v^T \\nabla^2 \\CGF(\\eta(s)) v &= \\nabla^2 \\CGF(v,v)\\bigl|_{\\eta(s)}.\n",
      "\\end{aligned}\n",
      "$$\n",
      "This makes higher order derivatives easy to express as\n",
      "$$\n",
      "\\nabla^k \\CGF(v_1, \\dots, v_k) \\bigl|_{\\eta(s)}.\n",
      "$$"
     ]
    },
    {
     "cell_type": "markdown",
     "metadata": {},
     "source": [
      "This leads to the following Newton-Rapshon iteration:\n",
      "$$\n",
      "s^{(k+1)} = s^{(k)} -  \\left(\\nabla^2 \\CGF(v,v) \\bigl|_{\\eta_0+s^{(k)}v} \\right)^{-1}  \\left(\\nabla \\CGF(v) \\bigl|_{\\eta_0 + s^{(k)}v} - t\\right)\n",
      "$$"
     ]
    },
    {
     "cell_type": "markdown",
     "metadata": {},
     "source": [
      "We will see that there is an analogue of $\\CGF^*$ for our restricted problem..."
     ]
    },
    {
     "cell_type": "heading",
     "level": 2,
     "metadata": {},
     "source": [
      "MLE map"
     ]
    },
    {
     "cell_type": "markdown",
     "metadata": {},
     "source": [
      "The curved picture above hides a little structure from us and makes things\n",
      "seem worse than they really are. What is really going on is that we have not\n",
      "properly taken into account the fact that we were going to restrict our attention \n",
      "to a fixed ray.\n",
      "\n",
      "Let's first consider the unrestricted MLE problem. That is, having observed\n",
      "$t(X)=t$, let's estimate $\\eta$. The problem we must solve is\n",
      "$$\n",
      "\\hat{\\eta}(t) = \\argmax_{\\eta \\in \\D} \\eta^T t - \\CGF(\\eta).\n",
      "$$\n",
      "\n",
      "The Fenchel-Legendre transform (convex conjugate) extends to arbitrary dimensions\n",
      "$$\n",
      "\\CGF^*(t) = \\sup_{\\eta \\in D} \\eta^T t - \\CGF(\\eta).\n",
      "$$\n",
      "Again, by general convex analysis, we see that\n",
      "$$\n",
      "\\hat{\\eta}(t) = \\nabla \\CGF^*(t).\n",
      "$$\n",
      "\n",
      "If the MLE is not unique, then we can describe the set of MLE estimates as\n",
      "$$\n",
      "\\hat{\\eta}(t) \\in \\partial \\CGF^*(t) = \\left\\{ \\eta: \\eta^Tt-\\CGF(\\eta) = \\CGF^*(t) \\right\\}.\n",
      "$$\n",
      "In words, these are the $\\eta$'s that achieved the maximum value of the likelihood. The\n",
      "notation $\\partial f(x)$ is referred to as the *subdifferential* of $f$ at $x$. For\n",
      "an arbitrary function with domain $\\D(f)=\\{x:f(x) < \\infty\\}$ it is defined as\n",
      "$$\n",
      "\\partial f(x) = \\left \\{v: f(y)-f(x) \\geq v^T(y-x) \\right \\}.\n",
      "$$\n"
     ]
    },
    {
     "cell_type": "markdown",
     "metadata": {},
     "source": [
      "### *Exercise*\n",
      "\n",
      "Show, from the definition of $\\partial \\CGF^*$ that, if $\\CGF^*(t) < \\infty$\n",
      "$$\n",
      "\\partial \\CGF^*(t) = \\left\\{ \\eta: \\eta^Tt-\\CGF(\\eta) = \\CGF^*(t) \\right\\}.\n",
      "$$"
     ]
    },
    {
     "cell_type": "heading",
     "level": 2,
     "metadata": {},
     "source": [
      "MLE in a restricted model"
     ]
    },
    {
     "cell_type": "markdown",
     "metadata": {},
     "source": [
      "Let's go back to our ray in the two-dimensional family above. The ray can be described by a 1-dimensional constraint. If $a$ is normal to $d\\eta$, then the ray is the set\n",
      "$$\n",
      "\\left\\{\\eta: a^T\\eta = \\theta^T\\eta_0 = b\\right\\}\n",
      "$$\n",
      "for some $c \\in \\real$. \n",
      "\n",
      "To perform MLE in this model, we should consider the problem\n",
      "$$\n",
      "\\hat{\\eta}(t,b) = \\argmax_{\\eta \\in D} \\eta^T t -  \\CGF(\\eta)\n",
      "$$\n",
      "subject to the additional constraint $\\eta^Ta=b$. \n",
      "\n",
      "How do we solve such a problem? Well, standard multivariate calculus says we should\n",
      "use a Lagrange multiplier. Then, we need to\n",
      "find the appropriate value of the Lagrange multiplier and solve the equations\n",
      "$$\n",
      "t - \\nabla \\CGF(\\hat{\\eta}(u)) + u \\cdot a = 0,  \\qquad u \\in \\real\n",
      "$$\n",
      "which are the critical point equations for solving\n",
      "$$\n",
      "\\maximize_{\\eta} \\eta^T t - \\CGF(\\eta) + u \\cdot (\\eta^Ta - b).\n",
      "$$\n",
      "Then, use should find the correct Lagrange multiplier so that the solution to the above problem \n",
      "actually satisfy $\\hat{\\eta}(u)^Ta=b$.\n",
      "\n",
      "This trick is used over and over in optimization and is referred to as forming a *Lagrangian*\n",
      "$$\n",
      "L(\\eta;u) = \\eta^Tt - \\CGF(\\eta) + u \\cdot( \\eta^Ta-b).\n",
      "$$"
     ]
    },
    {
     "cell_type": "markdown",
     "metadata": {},
     "source": [
      "Maximizing this over $\\eta$ yields a function \n",
      "$$\n",
      "g(u) = \\sup_{\\eta \\in \\D} \\eta^T t - \\CGF(\\eta) + u \\cdot( \\eta^T a -b) = \\CGF^*(t + u \\cdot a) - ub.\n",
      "$$\n",
      "\n",
      "So, our old friend $\\CGF^*$ appears. Since it is convex, we see that the problem of minimizing\n",
      "$g(u)$ is a convex problem. Having found \n",
      "$$\n",
      "\\hat{u}(t,b) = \\argmin_u \\CGF^*(t + u \\cdot a) - ub\n",
      "$$\n",
      "we can then solve\n",
      "$$\n",
      "\\maximize_{\\eta} \\eta^Tt - \\CGF(\\eta) + \\hat{u}(t,b)  \\cdot (\\eta^T a  - b)\n",
      "$$\n",
      "which can be solved explicitly as\n",
      "$$\n",
      "\\hat{\\eta}(t,b) = \\nabla \\CGF^*(t + a \\cdot \\hat{u}(t,b)).\n",
      "$$\n",
      "\n",
      "This is actually a solution to our restricted problem. Why? Well, another general\n",
      "convex analysis result (the famous [KKT conditions](http://en.wikipedia.org/wiki/Karush%E2%80%93Kuhn%E2%80%93Tucker_conditions)) says that at this pair $(\\hat{\\eta}(t,b), \\hat{u}(t,b))$\n",
      "we have\n",
      "$$\n",
      "\\begin{aligned}\n",
      "\\nabla_{\\eta} L(\\eta;u) &= t + a \\cdot u -  \\nabla \\CGF(\\eta) \\\\\n",
      "&= 0 \\\\\n",
      "\\nabla_u L(\\eta;u) &= \\eta^T a  - b \\\\\n",
      "&= 0\n",
      "\\end{aligned}\n",
      "$$"
     ]
    },
    {
     "cell_type": "markdown",
     "metadata": {},
     "source": [
      "### *Exercise: estimation via $\\CGF^*$*\n",
      "\n",
      "1. In our normal family, show that\n",
      "$$\n",
      "\\CGF^*(t_1,t_2) = \\frac{1}{2} \\left[1 + \\log(-t_1^2 - 2t_2) \\right]\n",
      "$$\n",
      "In practice, $t_1=x, t_2=-x^2$ so not all values of $(t_1, t_2)$ are possible, but the above is still the Fenchel-Legendre transform, and it is still convex.\n",
      "\n",
      "2. Consider the ray \n",
      "$$\n",
      "{\\cal R} = \\left\\{\\eta = \\eta(s) = (1+1.5 \\cdot s, 2 + 3.5 \\cdot s): \\eta \\in \\D , s \\in \\real \\right\\}\n",
      "$$\n",
      "Find a suitable $(a,b)$ such that\n",
      "$$\n",
      "{\\cal R} = \\left\\{\\eta: a^T\\eta=b, \\eta \\in \\D \\right\\}.\n",
      "$$\n",
      "\n",
      "3. Suppose we observed $x=21.2$. Find the MLE of the restriction to ${\\cal R}$ using, e.g. Newton-Raphson by solving\n",
      "$$\n",
      "\\minimize_s \\CGF(\\eta(s)) - x \\cdot \\eta_1(s) + x^2/2 \\cdot \\eta_2(s).\n",
      "$$\n",
      "\n",
      "4. Plot the function\n",
      "$$\n",
      "g(u) = \\CGF^*(t + u \\cdot a) - u \\cdot b\n",
      "$$\n",
      "and find \n",
      "$$\n",
      "\\hat{u}(t,b) = \\argmin_u \\CGF^*(t + u \\cdot a) - u \\cdot b.\n",
      "$$\n",
      "Compare $\\hat{\\eta}(t,b) = \\nabla \\CGF^*(t + \\hat{u}(t,b) \\cdot a)$ with your solution to\n",
      "3.\n",
      "\n"
     ]
    },
    {
     "cell_type": "heading",
     "level": 2,
     "metadata": {},
     "source": [
      "Examples"
     ]
    },
    {
     "cell_type": "heading",
     "level": 3,
     "metadata": {},
     "source": [
      "Beta family"
     ]
    },
    {
     "cell_type": "markdown",
     "metadata": {},
     "source": [
      "In this family, we set $m_0(dx)=1_{[0,1]}(x) \\; dx$ and\n",
      "$$\n",
      "t(x) = (\\log(x), \\log(1-x)).\n",
      "$$\n",
      "Or,\n",
      "$$\n",
      "\\Pp_{\\eta}(dx) = e^{\\eta_1 \\log(x) + \\eta_2 \\log (1-x) - \\CGF(\\eta)} m_0(dx).\n",
      "$$\n",
      "We see that\n",
      "$$\n",
      "e^{\\CGF(\\eta)} = B(\\eta_1+1,\\eta_2+1) = \\int_0^1 x^{\\eta_1} (1-x)^{\\eta_2} \\;dx.\n",
      "$$\n",
      "\n"
     ]
    },
    {
     "cell_type": "markdown",
     "metadata": {},
     "source": [
      "### *Exercise: Beta family*\n",
      "\n",
      "1. What is $\\D(\\F)$ for the Beta family?\n",
      "\n",
      "2. Compute $\\nabla \\CGF(\\eta)$, $\\nabla^2 \\CGF(\\eta)$."
     ]
    },
    {
     "cell_type": "heading",
     "level": 3,
     "metadata": {},
     "source": [
      "Multinomial"
     ]
    },
    {
     "cell_type": "markdown",
     "metadata": {},
     "source": [
      "For $n, k$ positive integers, set\n",
      "$$\n",
      "m_0(dx) = \\binom{n}{x_1, \\dots, x_k} 1_{A_{n,k}}(x) \\; m(dx)\n",
      "$$\n",
      "where $m(dx)$ is counting measure on $\\mathbb{Z}^k$ and\n",
      "$$\n",
      "A_{n,k} = \\left\\{(x_1, \\dots, x_k) \\in \\mathbb{Z}^k : x_i \\geq 0, \\sum_{i=1}^k x_i =n \\right\\}.\n",
      "$$\n",
      "\n",
      "The multinomial family can be written as \n",
      "$$\n",
      "\\Pp_{\\eta}(dx) = \\exp( x^T\\eta - \\CGF(\\eta)) m_0(dx)\n",
      "$$\n",
      "where\n",
      "$$\n",
      "e^{\\CGF(\\eta)} = \\sum_{x \\in A_{n,k}} \\binom{n}{x_1, \\dots, x_k} \\prod_{i=1}^k e^{x_i\\eta_i}.\n",
      "$$\n",
      "\n",
      "We see that $\\CGF$ is invariant under multiples of $\\pmb{1}$. That is,\n",
      "for any $\\alpha \\in \\real$\n",
      "$$\n",
      "\\CGF(\\eta + \\alpha \\cdot \\pmb{1}) = \\CGF(\\eta).\n",
      "$$\n",
      "This is essentially an issue of *identifiability* as it says that the map\n",
      "$$\n",
      "\\eta \\mapsto \\Pp_{\\eta}\n",
      "$$\n",
      "is many to 1.\n",
      "\n",
      "In turn, this will manifest itself in the Fisher information\n",
      "$$\n",
      "\\nabla^2 \\CGF(\\pmb{1}, \\pmb{1})\\bigl|_{\\eta} = 0.\n",
      "$$\n",
      "This shows that $\\CGF$ is not strongly convex so $\\nabla {\\CGF}^*$ is not smooth. \n",
      "As $\\nabla{\\CGF}^*$ is our MLE map, this says that the MLE will not be easy to find -- it is not\n",
      "even unique."
     ]
    },
    {
     "cell_type": "markdown",
     "metadata": {},
     "source": [
      "### *Exercise: reparametrizing the multinomial*\n",
      "\n",
      "An alternative to avoid the identifiability\n",
      "issues in the multinomial is to reparametrize by taking\n",
      "$$\n",
      "\\tilde{\\D} = \\left\\{\\eta: \\eta^T\\pmb{1}=0 \\right\\}.\n",
      "$$\n",
      "\n",
      "1. Define\n",
      "$$\n",
      "\\tilde{\\CGF}(\\eta) = \\CGF(\\eta) + \n",
      "{\\cal P}(\\eta)$$\n",
      "where\n",
      "$$\n",
      "{\\cal P}(\\eta) = \\begin{cases} 0 & \\eta^T \\pmb{1} = 0 \\\\ \\infty & \\text{otherwise}.\n",
      "\\end{cases}\n",
      "$$\n",
      "Argue that\n",
      "$$\n",
      "\\D(\\tilde{\\CGF}) = \\tilde{\\D}\n",
      "$$\n",
      "as above."
     ]
    },
    {
     "cell_type": "heading",
     "level": 3,
     "metadata": {},
     "source": [
      "Dirichlet family"
     ]
    },
    {
     "cell_type": "markdown",
     "metadata": {},
     "source": [
      "There are at least two ways to define the Dirichlet distribution with parameters\n",
      "$\\alpha \\in \\real^k$. The first is a distribution on $\\real^{k-1}$.\n",
      "\n",
      "Set \n",
      "$$\n",
      "m_0 \\left(dx \\right) = 1_{\\tilde{S}_k}(x) \\; dx, \\qquad x \\in \\real^{k-1}\n",
      "$$\n",
      "where $dx$ is Lebesgue measure on $\\real^{k-1}$ and\n",
      "$$\n",
      "\\tilde{S}_k = \\left\\{(x_1, \\dots, x_{k-1}) \\in \\real^{k-1}: x_i \\geq 0, \\sum_{i=1}^{k-1} x_i \\leq 1 \\right\\}\n",
      "$$\n",
      "are the first $(k-1)$ coordinates of the simplex\n",
      "$$\n",
      "S_k = \\left\\{(x_1, \\dots, x_k) \\in \\real^k: x_i \\geq 0, \\sum_{i=1}^k x_i = 1 \\right\\}\n",
      "$$\n",
      "Take \n",
      "$$\n",
      "t(x) = \\left(\\log(x_1), \\log(x_2), \\dots, \\log(x_{k-1}), \\log \\left(1 - \\sum_{i=1}^{k-1}x_i \\right)\\right) \\in \\real^k\n",
      "$$\n",
      "and set\n",
      "$$\n",
      "\\frac{d\\Pp_{\\eta}}{dm_0}(x) = e^{\\eta^Tt(x) - \\CGF(\\eta)}\n",
      "$$\n",
      "with\n",
      "$$\n",
      "e^{\\CGF(\\eta)} = \\int_{\\tilde{S}_k} \\left(1 - \\sum_{i=1}^{k-1}x_i \\right)^{\\eta_k} \\prod_{i=1}^{k-1} x_i^{\\eta_i} dx\n",
      "$$"
     ]
    },
    {
     "cell_type": "markdown",
     "metadata": {},
     "source": [
      "### *Exercise: Dirichlet on the simplex*\n",
      "\n",
      "Write the Dirichlet distribution as a $k$-parameter exponential family on \n",
      "$S_k$. What is its reference measure?\n",
      "\n"
     ]
    },
    {
     "cell_type": "heading",
     "level": 3,
     "metadata": {},
     "source": [
      "The multivariate normal family: linear sufficient statistic"
     ]
    },
    {
     "cell_type": "markdown",
     "metadata": {},
     "source": [
      "Probably the most common of all multiparameter exponential families is the normal model on \n",
      "$\\real^p$ with fixed covariance. Of course, the most \n",
      "common choice from a modelling standpoint is probably to choose a $p$-vector of IID $N(0,1)$ random variables, i.e. covariance to be $I_{p \\times p}$. We will start with reference measure\n",
      "$$\n",
      "\\Pp_0 = N(0,\\Sigma).\n",
      "$$\n",
      "\n",
      "If $\\Sigma > 0$, i.e. it is positive definite, then $\\Pp_0$ has density\n",
      "$$\n",
      "\\Pp_0(dx) =  \\det(2\\pi\\Sigma)^{-1/2} e^{-x^T\\Sigma^{-1}x/2} \\; dx.\n",
      "$$\n",
      "If we take sufficient statistic $t(x)=x$ we see that\n",
      "$$\n",
      "\\frac{d\\Pp_{\\eta}}{d\\Pp_0} = e^{x^T\\eta - \\CGF(\\eta)}\n",
      "$$\n",
      "and\n",
      "$$\n",
      "e^{\\CGF(\\eta)} = e^{\\eta^T\\Sigma \\eta/2}.\n",
      "$$\n",
      "\n",
      "Further,\n",
      "$$\n",
      "\\nabla \\CGF(\\eta) = \\Sigma \\eta\n",
      "$$\n",
      "so that\n",
      "$$\n",
      "\\F = \\left\\{N(\\Sigma \\eta, \\Sigma), \\eta \\in \\real^p \\right\\}.\n",
      "$$\n",
      "\n"
     ]
    },
    {
     "cell_type": "markdown",
     "metadata": {},
     "source": [
      "### *Exercise: computing $\\nabla \\CGF^*$ for the normal means model*\n",
      "\n",
      "1. Compute $\\CGF^*$ for the normal means model with reference\n",
      "$\\Pp_0=N(0,\\Sigma)$ and sufficient statistic $t(x)=x$.\n",
      "That is, find\n",
      "$$\n",
      "\\CGF^*(t) = \\sup_{\\eta} \\eta^T t- \\frac{1}{2} \\eta^T\\Sigma \\eta.\n",
      "$$\n",
      "\n",
      "2. What happens to $\\CGF^*$ when $\\Sigma$ is not positive definite, but only \n",
      "nonnegative definite? \n",
      "\n",
      "3. Can you modify $\\CGF$ as in the multinomial family to yield an identifiable model?\n"
     ]
    },
    {
     "cell_type": "heading",
     "level": 3,
     "metadata": {},
     "source": [
      "The multivariate normal family: quadratic sufficient statistic"
     ]
    },
    {
     "cell_type": "markdown",
     "metadata": {},
     "source": [
      "In this section, we again consider the normal family, but \n",
      "we focus on an exponential family for the covariance of the normal family. \n",
      "    \n",
      "As in the 1-dimensional case, we see that the natural\n",
      "parameters are related to the inverse of variance, or the so-called\n",
      "*precision* or *concentration* matrix\n",
      "$$\n",
      "\\Theta = \\Sigma^{-1}.\n",
      " $$\n",
      "    \n",
      "    "
     ]
    },
    {
     "cell_type": "markdown",
     "metadata": {},
     "source": [
      "Take reference measure $m_0(dx)= (2\\pi)^{-p/2} dx$ the Lebesgue measure on $\\real^p$.\n",
      "The $N(0,\\Theta^{-1})$ family has density\n",
      "$$\n",
      "\\det(\\Sigma)^{-1/2} \\exp(-x^T\\Theta x / 2).\n",
      "$$\n",
      "    \n",
      "We can write\n",
      "$$\n",
      "\\begin{aligned}\n",
      "x^T \\Theta x &= \\text{Tr}(xx^T \\Theta)\n",
      "\\end{aligned}\n",
      "$$\n",
      "and hence our sufficient statistic is\n",
      "$$\n",
      "t(x) = -xx^T/2 \\in \\real^{p \\times p}.\n",
      "$$\n",
      "    \n",
      "After repeated sampling we see that\n",
      "$$\n",
      "\\overline{t(x)} = -\\frac{1}{2n} \\sum_{i=1}^n x_ix_i^T\n",
      "$$\n",
      "which is the minus half the MLE of $\\Sigma$ under $N(0,\\Sigma)$. (Well, it certainly seems to be the MLE... more in a moment).\n",
      "    \n",
      "In any case, we see that\n",
      "$$\n",
      "\\CGF(\\Theta) = -\\frac{1}{2} \\log \\det(\\Sigma).\n",
      "$$\n",
      "and\n",
      "$$\n",
      "\\D(\\CGF) = \\left\\{\\Theta:\\Theta=\\Theta^T, \\Theta > 0 \\right\\}\n",
      "$$\n",
      "\n",
      "The MLE map is therefore\n",
      "$$\n",
      "\\CGF^*(A) =  \\sup_{\\Theta} \\text{Tr}(A\\Theta) + \\frac{1}{2} \\log \\det(\\Theta).\n",
      "$$\n",
      "\n",
      "If we wanted to, we could express the linear term $\\text{Tr}(S\\Theta)$ in terms of generalized eigenvalues of the pair $(S,\\Theta)$. To make a longish story short, the CGF is\n",
      "$$\n",
      "\\CGF^*(A) = ????\n",
      "$$",
      "DONT FORGET PERSPECTIVE FOR BAYES"
     ]
    },
    {
     "cell_type": "heading",
     "level": 3,
     "metadata": {},
     "source": [
      "Exponential random graphs"
     ]
    },
    {
     "cell_type": "heading",
     "level": 3,
     "metadata": {},
     "source": [
      "Ising models"
     ]
    },
    {
     "cell_type": "heading",
     "level": 3,
     "metadata": {},
     "source": [
      "Markov random fields"
     ]
    },
    {
     "cell_type": "code",
     "collapsed": false,
     "input": [],
     "language": "python",
     "metadata": {},
     "outputs": []
    }
   ],
   "metadata": {}
  }
 ]
}