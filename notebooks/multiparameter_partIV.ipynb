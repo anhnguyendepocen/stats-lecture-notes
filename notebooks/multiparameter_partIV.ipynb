{
 "metadata": {
  "name": "multiparameter_partIV"
 },
 "nbformat": 3,
 "nbformat_minor": 0,
 "worksheets": [
  {
   "cells": [
    {
     "cell_type": "heading",
     "level": 1,
     "metadata": {
      "slideshow": {
       "slide_type": "slide"
      }
     },
     "source": [
      "General properties"
     ]
    },
    {
     "cell_type": "markdown",
     "metadata": {
      "slideshow": {
       "slide_type": "fragment"
      }
     },
     "source": [
      "By this point, we've seen many examples of exponential families as well as some algorithms related to them:\n",
      "\n",
      "1. maximum likelihood estimation $\\CGF^*$ via Newton-Raphson, constrained to remain in $\\D(\\CGF)$;\n",
      "\n",
      "2. constrained MLE: the Lagrange multiplier method;\n",
      "    \n",
      "3. stochastic approximation: when the $\\CGF$ is too complicated to compute;\n",
      "    \n",
      "4. Gibbs sampler: to simulate from $\\Pp_{\\eta}$;\n",
      "    \n",
      "5. pseudo-likelihood.\n",
      "\n"
     ]
    },
    {
     "cell_type": "markdown",
     "metadata": {
      "slideshow": {
       "slide_type": "fragment"
      }
     },
     "source": [
      "We now remind ourselves of a few general properties before considering the most \n",
      "*popular* class of exponential families: *generalized linear models*.\n",
      "   "
     ]
    },
    {
     "cell_type": "heading",
     "level": 2,
     "metadata": {
      "slideshow": {
       "slide_type": "slide"
      }
     },
     "source": [
      "Likelihoods, scores, and Fisher information"
     ]
    },
    {
     "cell_type": "markdown",
     "metadata": {
      "slideshow": {
       "slide_type": "fragment"
      }
     },
     "source": [
      "The definitions introduced for one-parameter families are readily generalized to the multiparameter situation. Indeed, we have already been using some of them. Below,\n",
      "we assume that we have sampled $Y_i \\overset{IID}{\\sim} \\Pp_{\\eta}, 1 \\leq i \\leq n.$\n",
      "\n",
      "1. The *log-likelihood* is\n",
      "$$\n",
      "\\ell(\\eta;\\yy) = \\ell(\\eta)  =  n[\\etabold^T\\bar{\\yy}\\\n",
      " -\\CGF(\\etabold)].\n",
      "$$\n",
      "\n",
      "2. The  *score function for $\\etabold$* is\n",
      "$$\n",
      "%\\label{eqn:score-etavector}\n",
      "\\nabla \\ell(\\eta)      =  n(\\bar{\\yy} - \\mubold).\n",
      "$$\n",
      "\n",
      "3. The *Fisher information for $\\etabold$*, denoted $\\ii_{\\etabold}^{(n)}$, is\n",
      "$$\n",
      "\\ii_{\\etabold}^{(n)}  \\equiv  \\EE_{\\etabold}\\left( \\nabla \\ell_{\\eta} \\nabla \\ell_{\\eta}^T\\right)  =  n\\VV_{\\eta}   = \\VV^{(n)}_{\\eta}\n",
      " =  -\\nabla^2 \\ell_{\\etabold}.\n",
      "$$\n",
      "\n",
      "4. The *score function for $\\mubold$* is\n",
      "$$\n",
      "\\frac{\\partial}{\\partial\\mubold}\\ell_{\\etabold}(\\yy) \\,\\, = \\,\\, \\left(\\frac{\\VV_{\\eta}}{n}\\right)^{-1}(\\bar{\\yy}-\\mubold).\n",
      "$$\n",
      "\n",
      "\n",
      "\n",
      "5. The *Fisher information for $\\mubold$*, denoted $\\ii_{\\etabold}^{(n)}(\\mubold)$, is\n",
      "$$\n",
      "\\ii_{\\etabold}^{(n)}(\\mubold)  =  \\VV^{-1}_{\\eta}i_{\\etabold}^{(n)}\\VV^{-1}_{\\eta}  =  n\\VV^{-1}_{\\eta}.\n",
      "$$"
     ]
    },
    {
     "cell_type": "markdown",
     "metadata": {
      "slideshow": {
       "slide_type": "fragment"
      }
     },
     "source": [
      "By differentiating the score function for $\\eta$, we see that $\\ell_{\\etabold}(\\yy)$ is a concave function of $\\etabold$, since $\\ddot{\\ell}_{\\etabold}=-n\\VV_{\\etabold} \\leq 0$.  In other words, the density \n",
      "$$\n",
      "\\frac{d\\Pp_{\\eta}}{dm}\n",
      "$$\n",
      "is *log-concave*.\n"
     ]
    },
    {
     "cell_type": "heading",
     "level": 2,
     "metadata": {
      "slideshow": {
       "slide_type": "slide"
      }
     },
     "source": [
      "Cramer-Rao lower bound"
     ]
    },
    {
     "cell_type": "markdown",
     "metadata": {
      "slideshow": {
       "slide_type": "fragment"
      }
     },
     "source": [
      "For real-valued $\\zeta=h(\\etabold)$, the *Cramer-Rao lower bound* for any unbiased estimator $\\bar{\\zeta}$ is\n",
      "$$\n",
      "\\begin{aligned}\n",
      "\\Vv_{\\eta}(\\bar{\\zeta})& \\geq \\frac{\\nabla{h}^T_{\\eta} \\VV^{-1}_{\\eta}\\nabla{h}_{\\eta}}{n}  \\\\\n",
      "& = \\nabla{h}_{\\eta}^T(\\ii_{\\etabold}^{(n)})^{-1}\\nabla{h}_{\\eta},\n",
      "\\end{aligned}\n",
      "$$\n",
      "\n",
      "For $\\zeta=H(\\mubold)$, the bound takes the form is\n",
      "$$\n",
      "\\Vv_{\\eta}(\\bar{\\zeta}) \\geq \\nabla H_{\\mu}^T[{\\ii_{\\etabold}^{(n)}(\\mubold)}]^{-1}\n",
      " \\nabla H_{\\mu}.\n",
      "$$\n"
     ]
    },
    {
     "cell_type": "markdown",
     "metadata": {
      "slideshow": {
       "slide_type": "fragment"
      }
     },
     "source": [
      "Notice that $ \\nabla H_{\\mu} ^T[{\\ii_{\\etabold}^{(n)}(\\mubold)}]^{-1} \\nabla H_{\\mu} $ is the delta method estimate of variance for $\\hat{\\zeta}=H(\\hat{\\mubold})=H(\\bar{\\yy})$.  In practice the variance estimate often used is\n",
      "$$\n",
      "\\widehat{\\Vv}_{\\etabold}(\\hat{\\zeta}) = \n",
      "\\nabla h_{\\hat{\\eta}}^T (\\ii_{\\hat{\\eta}}^{(n)})^{-1}\\nabla{h}_{\\hat{\\eta}}.\n",
      "$$"
     ]
    },
    {
     "cell_type": "markdown",
     "metadata": {
      "slideshow": {
       "slide_type": "fragment"
      }
     },
     "source": [
      "For the $\\mubold$ itself, $\\hat{\\mubold} = \\bar{\\yy}$ is unbiased. We also see that\n",
      "it achieves the CRLB:\n",
      "\\begin{eqnarray}\n",
      "\\Vv_{\\etabold}(\\hat{\\mubold}) \\overset{\\rm CRLB}{=} \\VV_{\\eta}/n  =  {i_{\\etabold}^{(n)}(\\mubold)}^{-1}\n",
      "\\end{eqnarray}"
     ]
    },
    {
     "cell_type": "heading",
     "level": 3,
     "metadata": {
      "slideshow": {
       "slide_type": "slide"
      }
     },
     "source": [
      "Distribution of the MLE"
     ]
    },
    {
     "cell_type": "markdown",
     "metadata": {
      "slideshow": {
       "slide_type": "fragment"
      }
     },
     "source": [
      "The CLT based on repeated sampling asserts that\n",
      "$$\n",
      "\\hat{\\mu} \\approx N(\\mu, \\VV_{\\eta}/n).\n",
      "$$\n",
      "While the mean and variance are correct, the approximation above is in the distribution,\n",
      "i.e. the distributional sense.\n",
      "\n",
      "Applying the delta rule yields\n",
      "$$\n",
      "\\hat{\\eta} \\approx N(\\eta, \\VV_{\\eta}^{-1}/n).\n",
      "$$\n",
      "In this case, the mean and variance are not exact, nor is the distribution exactly normal."
     ]
    },
    {
     "cell_type": "heading",
     "level": 3,
     "metadata": {
      "slideshow": {
       "slide_type": "slide"
      }
     },
     "source": [
      "Skewness and kurtosis"
     ]
    },
    {
     "cell_type": "markdown",
     "metadata": {
      "slideshow": {
       "slide_type": "fragment"
      }
     },
     "source": [
      "For multiparameter families, the mean is a $p$-vector, the covariance a $p \\times p$ matrix. These are, of course, just derivatives of $\\CGF$. Higher order derivatives\n",
      "are *tensors*. \n",
      "\n",
      "For skewness, there is a $p \\times p \\times p$ tensor, or multidimensional array\n",
      "that takes three vectors as argument. That is,\n",
      "$$\n",
      "\\nabla^3 \\CGF_{\\eta}(U,V,W) \\in \\real.\n",
      "$$"
     ]
    },
    {
     "cell_type": "markdown",
     "metadata": {
      "slideshow": {
       "slide_type": "fragment"
      }
     },
     "source": [
      "Formally, the power series for $\\CGF$ can be written as\n",
      "$$\n",
      "\\CGF(\\eta + \\Delta) = \\sum_{j=0}^{\\infty} \\frac{1}{j!} \\nabla^j \\CGF_{\\eta}(\\otimes^j \\Delta).\n",
      "$$"
     ]
    },
    {
     "cell_type": "markdown",
     "metadata": {
      "slideshow": {
       "slide_type": "slide"
      }
     },
     "source": [
      "### *Exercise: skewness of a one-parameter subfamily*\n",
      "\n",
      "Suppose we consider the one-parameter subfamily\n",
      "$$\n",
      "\\left\\{\\eta=\\eta_0 + s \\cdot v, s \\in \\real, \\eta \\in \\D(\\CGF)\\right\\}.\n",
      "$$\n",
      "\n",
      "1. What is the sufficient statistic of this one-parameter subfamily (denote the \n",
      "sufficient statistic of the original family by $t(x)$).   \n",
      "\n",
      "2. Express the skewness and kurtosis of this sufficient statistic in terms of the\n",
      "derivatives of $\\CGF$."
     ]
    },
    {
     "cell_type": "heading",
     "level": 2,
     "metadata": {
      "slideshow": {
       "slide_type": "slide"
      }
     },
     "source": [
      "Stein's least favorable family"
     ]
    },
    {
     "cell_type": "markdown",
     "metadata": {
      "slideshow": {
       "slide_type": "fragment"
      }
     },
     "source": [
      "Suppose we want to estimate $\\zeta=h(\\eta)=h(\\nabla \\CGF^*(\\mu))=s(\\mu)$, a real-valued\n",
      "function of $\\eta$.\n",
      "\n",
      "Stein's least favorable family is a one-parameter subfamily of the original family, determined by some hypothesized true value, say, $\\eta_0$ and the function $h$ (or, equivalently, $s$).\n",
      "\n",
      "The family is\n",
      "$$\n",
      "\\left\\{\\eta: \\eta=\\eta_0 + \\theta \\cdot \\VV_{\\eta_0}^{-1} \\nabla h_{\\eta_0}, \n",
      "\\theta \\in \\real, \\eta \\in \\D(\\CGF) \\right\\}.\n",
      "$$\n"
     ]
    },
    {
     "cell_type": "markdown",
     "metadata": {
      "slideshow": {
       "slide_type": "slide"
      }
     },
     "source": [
      "### *Exercise: Stein's least favorable family*\n",
      "\n",
      "1. Show that the CRLB for the above one-parameter family is the same as the\n",
      "CRLB in the full $p$-parameter family.\n",
      "\n"
     ]
    },
    {
     "cell_type": "heading",
     "level": 3,
     "metadata": {
      "slideshow": {
       "slide_type": "slide"
      }
     },
     "source": [
      "Deviance"
     ]
    },
    {
     "cell_type": "markdown",
     "metadata": {
      "slideshow": {
       "slide_type": "fragment"
      }
     },
     "source": [
      "Everything we saw previously about deviance remains true in the\n",
      "multiparameter case.\n",
      "\n",
      "$$\n",
      "\\begin{aligned}\n",
      "D(\\eta_1;\\eta_2) &= D(\\Pp_{\\eta_1};\\Pp_{\\eta_2})  \\\\\n",
      "&= 2 \\left[\\CGF(\\eta_2)-\\CGF(\\eta_1) - \\nabla \\CGF(\\eta_1)^T(\\eta_2-\\eta_1)\\right] \\\\\n",
      "&= 2 \\left[\\CGF^*(\\mu_1)-\\CGF^*(\\mu_2) - \\nabla \\CGF^*(\\mu_2)^T(\\mu_1-\\mu_2) \\right] \\\\\n",
      "&= \\tilde{D}(\\mu_1;\\mu_2).\n",
      "\\end{aligned}\n",
      "$$\n",
      "with $\\mu_i=\\nabla \\CGF(\\eta_i)$."
     ]
    },
    {
     "cell_type": "markdown",
     "metadata": {
      "slideshow": {
       "slide_type": "slide"
      }
     },
     "source": [
      "The deviance and Fisher information are both related to \n",
      "Taylor series expansions of $\\CGF$.\n",
      "\n",
      "$$\n",
      "\\begin{aligned}\n",
      "D(\\eta_1;\\eta_2) &= \\nabla^2 \\CGF_{\\eta_1}(\\eta_2-\\eta_1,\\eta_2-\\eta_1) + O (\\|\\eta_2-\\eta_1\\|^3) \\\\\n",
      "&= (\\eta_2-\\eta_1)^T \\ii_{\\etabold}^{(n)}(\\eta_2-\\eta_1) + O (\\|\\eta_2-\\eta_1\\|^3).\n",
      "\\end{aligned}\n",
      "$$\n",
      "where the constant in the remainder can be expressed in terms of a Lipschitz constant of\n",
      "$\\nabla^3 \\CGF$ near $\\eta_1$."
     ]
    },
    {
     "cell_type": "markdown",
     "metadata": {
      "slideshow": {
       "slide_type": "slide"
      }
     },
     "source": [
      "### *Exercise: monotone mapping*\n",
      "\n",
      "Show that, in general\n",
      "$$\n",
      "(\\eta_2-\\eta_1)^T(\\mu_2-\\mu_1) = \\frac{1}{2} \\left[D(\\eta_1;\\eta_2)+D(\\eta_2;\\eta_1)\\right] \\geq 0\n",
      "$$\n",
      "with $\\mu_i = \\nabla \\CGF_{\\eta_i}$.\n",
      "\n",
      "This demonstrates that the relationship between is globally monotone, and is an example\n",
      "of the general concept of a [monotone mapping](http://www.stanford.edu/class/ee364b/lectures/monotone_slides.pdf), the canonical example being the (sub)gradient of a convex function."
     ]
    },
    {
     "cell_type": "heading",
     "level": 1,
     "metadata": {
      "slideshow": {
       "slide_type": "slide"
      }
     },
     "source": [
      "Generalized linear models"
     ]
    },
    {
     "cell_type": "markdown",
     "metadata": {
      "slideshow": {
       "slide_type": "fragment"
      }
     },
     "source": [
      "A generalized linear model (GLM) is a model the conditional\n",
      "distribution \n",
      "$$Y|X, X \\in \\real^p, Y \\in \\real.$$\n",
      "\n",
      "The distribution of $Y|X$ is assumed to be in some\n",
      "one parameter exponential family $\\Pp_{\\eta}$ with sufficient statistic $Y$.\n",
      "\n",
      "Therefore,\n",
      "$$\n",
      "Y|X \\sim \\Pp_{\\eta(X)}.\n",
      "$$"
     ]
    },
    {
     "cell_type": "markdown",
     "metadata": {
      "slideshow": {
       "slide_type": "slide"
      }
     },
     "source": [
      "The *linear* in GLM refers to the assumption that\n",
      "$$\n",
      "\\eta(x) = x^T\\beta, \\beta \\in \\real^p.\n",
      "$$\n",
      "\n",
      "The *model* refers to the assumption that we observe\n",
      "$$\n",
      "Y_i | X_i \\overset{\\text{indep}} {\\sim} \\Pp_{\\eta(x_i)}, \\qquad 1 \\leq i \\leq n,\n",
      "$$\n",
      "where the independence here is a statement on the distribution of the vector $Y$ given the\n",
      "matrix \n",
      "$$\n",
      "X_{n \\times p} = \\begin{pmatrix}\n",
      "x_1^T \\\\\n",
      "\\vdots \\\\\n",
      "x_n^T\n",
      "\\end{pmatrix}\n",
      "$$"
     ]
    },
    {
     "cell_type": "markdown",
     "metadata": {
      "slideshow": {
       "slide_type": "slide"
      }
     },
     "source": [
      "The parameters of the GLM are $\\beta$, and the loglikelihood is\n",
      "$$\n",
      "\\begin{aligned}\n",
      "\\ell(\\beta) &= \\sum_{i=1}^n \\eta_i(\\beta) \\cdot y_i - \\CGF(\\eta_i(\\beta)) \\\\\n",
      "&= \\sum_{i=1}^n (x_i^T\\beta) \\cdot y_i - \\CGF(x_i^T\\beta). \\\\\n",
      "\\end{aligned}\n",
      "$$"
     ]
    },
    {
     "cell_type": "markdown",
     "metadata": {
      "slideshow": {
       "slide_type": "slide"
      }
     },
     "source": [
      "We could write this in matrix form as\n",
      "$$\n",
      "\\ell(\\beta) = (X\\beta)^TY - \\CGF^{(n)}(X\\beta) = \\beta^T(X^TY) - \\CGF^{(n)}(X\\beta)\n",
      "$$\n",
      "where\n",
      "$$\n",
      "\\CGF^{(n)}(\\eta) = \\sum_{i=1}^n \\CGF(\\eta_i), \\eta \\in \\real^n.\n",
      "$$\n",
      "\n",
      "Written in this way, we see that the GLM is actually a $p$-parameter \n",
      "exponential family with sufficient statistic $X^TY$ and CGF $\\tilde{\\CGF}(\\beta) = \\CGF^{(n)}(X\\beta)$."
     ]
    },
    {
     "cell_type": "markdown",
     "metadata": {
      "slideshow": {
       "slide_type": "slide"
      }
     },
     "source": [
      "Let's untangle this statement a little more carefully. \n",
      "\n",
      "1. If it \n",
      "is an exponential family, it should be a collection of distributions. In this\n",
      "case it is a collection of conditional distributions for $Y|X$. These are\n",
      "distributions on $\\real^n$.\n",
      "\n",
      "2. If it is an exponential family, it should have a reference measure.\n",
      "In this case, the reference measure is the product\n",
      "$$\n",
      "\\prod_{i=1}^n m(dy_i)\n",
      "$$\n",
      "where $m$ is the reference measure of $\\Pp_{\\eta}$.\n",
      "\n",
      "3. If it is an exponential family, it should have a natural parameter and\n",
      "a sufficient statistic. In this case, the natural parameter is $\\beta$ and the\n",
      "sufficient statistic is $X^TY$.\n",
      "\n",
      "4. The fact that the $\\tilde{\\CGF}(\\beta)=\\CGF^{(n)}(X\\beta)$ follows directly from the likelihood and the modelling assumption that\n",
      "$\\eta_i=x_i^T\\beta$."
     ]
    },
    {
     "cell_type": "markdown",
     "metadata": {
      "slideshow": {
       "slide_type": "slide"
      }
     },
     "source": [
      "Strictly speaking, this GLM is one in which we have used the *canonical link*, i.e.\n",
      "$$\n",
      "\\eta_i = x_i^T\\beta.\n",
      "$$\n",
      "\n",
      "A model with a non-canonical link has\n",
      "$$\n",
      "\\eta_i = F(x_i^T\\beta).\n",
      "$$\n",
      "We will see examples shortly."
     ]
    },
    {
     "cell_type": "markdown",
     "metadata": {
      "slideshow": {
       "slide_type": "fragment"
      }
     },
     "source": [
      "### *Exercise: link functions*\n",
      "\n",
      "Suppose we use a non-canonical link function. Is the collection of distributions\n",
      "$Y|X$ an exponential family with natural parameter $\\beta$?"
     ]
    },
    {
     "cell_type": "markdown",
     "metadata": {
      "slideshow": {
       "slide_type": "fragment"
      }
     },
     "source": [
      "### *Exercise: GLM computations*\n",
      "\n",
      "1. Show that \n",
      "$$\n",
      "\\Ee_{\\beta}(X^TY) = X^T \\nabla \\CGF^{(n)}_{X\\beta}.\n",
      "$$\n",
      "\n",
      "2. Show that\n",
      "$$\n",
      "\\begin{aligned}\n",
      "\\Vv_{\\beta}(X^TY) &= X^T \\nabla^2 \\CGF^{(n)}_{X\\beta} X \\\\\n",
      "&= X^T \\text{diag}(\\ddot \\CGF(x_i^T\\beta)) X.\n",
      "\\end{aligned}\n",
      "$$"
     ]
    },
    {
     "cell_type": "heading",
     "level": 3,
     "metadata": {
      "slideshow": {
       "slide_type": "slide"
      }
     },
     "source": [
      "Score equation, Fisher information for GLM"
     ]
    },
    {
     "cell_type": "markdown",
     "metadata": {
      "slideshow": {
       "slide_type": "fragment"
      }
     },
     "source": [
      "The score equation for $\\beta$ is \n",
      "$$\n",
      "\\nabla \\ell_{\\beta} = X^T(Y-\\nabla \\CGF^{(n)}_{X\\beta}) = X^T(Y-\\mu(\\beta))\n",
      "$$\n",
      "where\n",
      "$$\n",
      "\\mu(\\beta) = \\nabla \\CGF^{(n)}_{X\\beta} \\in \\real^n.\n",
      "$$\n",
      "\n",
      "The Fisher information for $\\beta$ is \n",
      "$$\n",
      "- \\nabla^2 \\ell_{\\beta} = X^T \\text{diag}(\\ddot \\CGF(x_i^T\\beta)) X.\n",
      "$$"
     ]
    },
    {
     "cell_type": "markdown",
     "metadata": {
      "slideshow": {
       "slide_type": "fragment"
      }
     },
     "source": [
      "This diagonal matrix can be thought of as assigning a weight to each case, so we define\n",
      "$$\n",
      "W_{\\beta} = \\text{diag}(\\ddot \\CGF(x_i^T\\beta))\n",
      "$$\n",
      "and the Fisher information has the form\n",
      "$$\n",
      "-\\nabla^2 \\ell_{\\beta} = \\ii^{(n)}_{\\beta} =  X^TW_{\\beta}X.\n",
      "$$"
     ]
    },
    {
     "cell_type": "heading",
     "level": 3,
     "metadata": {
      "slideshow": {
       "slide_type": "slide"
      }
     },
     "source": [
      "Asymptotic distribution of MLE"
     ]
    },
    {
     "cell_type": "markdown",
     "metadata": {
      "slideshow": {
       "slide_type": "fragment"
      }
     },
     "source": [
      "The general asymptotic picture for exponential families yields\n",
      "$$\n",
      "\\hat{\\beta} \\approx N(\\beta, (\\ii^{(n)}_{\\beta})^{-1}) = N(\\beta, (X^TW_{\\beta}X)^{-1}).\n",
      "$$\n",
      "Above, both the mean and variance are approximate, as is the distribution itself.\n",
      "\n",
      "After estimation of the MLE, this distribution is usually approximated as\n",
      "$$\n",
      "N(\\beta, X^TW_{\\hat{\\beta}}X).\n",
      "$$"
     ]
    },
    {
     "cell_type": "heading",
     "level": 2,
     "metadata": {
      "slideshow": {
       "slide_type": "slide"
      }
     },
     "source": [
      "Estimation"
     ]
    },
    {
     "cell_type": "markdown",
     "metadata": {
      "slideshow": {
       "slide_type": "fragment"
      }
     },
     "source": [
      "Most generalized linear models are such that $\\tilde{\\CGF}(\\beta)=\\real^p$ so unconstrained Newton-Raphson can be used.\n",
      "\n",
      "The algorithm looks like\n",
      "$$\n",
      "\\begin{aligned}\n",
      "\\hat{\\beta}^{(k+1)} &= \\hat{\\beta}^{(k)} - \\nabla^2 \\tilde{\\CGF}\\left(\\hat{\\beta}^{(k)}\\right)^{-1} \\left[ \\nabla \\tilde{\\CGF}\\left(\\hat{\\beta}^{(k)} \\right) - X^TY \\right] \\\\\n",
      "&= \\hat{\\beta}^{(k)} - (X^TW_{\\hat{\\beta}^{(k)}}X)^{-1} \\left[X^T \\left(\\mu(\\hat{\\beta}^{(k)})-Y \\right) \\right]\n",
      "\\end{aligned}\n",
      "$$\n",
      "\n"
     ]
    },
    {
     "cell_type": "heading",
     "level": 3,
     "metadata": {
      "slideshow": {
       "slide_type": "slide"
      }
     },
     "source": [
      "MLE map"
     ]
    },
    {
     "cell_type": "markdown",
     "metadata": {
      "slideshow": {
       "slide_type": "fragment"
      }
     },
     "source": [
      "So far, for all of our exponential families, we have written the MLE map \n",
      "in terms of the Fenchel-Legendre transform of a CGF. The GLM should be no different.\n",
      "\n",
      "The mean value space is $\\nabla \\tilde{\\CGF}(\\real^p) \\subset \\real^p$ (I am assuming the\n",
      "$\\D(\\CGF)=\\real$ here), and the MLE map should be a map from\n",
      "$\\Mm$, the convex hull of $\\nabla \\tilde{\\CGF}(\\real^p)$ back to $\\real^p$."
     ]
    },
    {
     "cell_type": "markdown",
     "metadata": {
      "slideshow": {
       "slide_type": "fragment"
      }
     },
     "source": [
      "To find the Fenchel-Legendre transform, we would have to find\n",
      "$$\n",
      "\\tilde{\\CGF}^*(\\xi) = \\sup_{\\beta} \\xi^T\\beta - \\tilde{\\CGF}(\\beta).\n",
      "$$\n",
      "Or, we would solve\n",
      "$$\n",
      "\\minimize_{\\beta} \\tilde{\\CGF}(\\beta) - \\xi^T\\beta.\n",
      "$$"
     ]
    },
    {
     "cell_type": "markdown",
     "metadata": {
      "slideshow": {
       "slide_type": "slide"
      }
     },
     "source": [
      "In the GLM case, it is somewhat easier to use a dual function rather than\n",
      "the $\\tilde{\\CGF}^*$ itself, because we have an implicit constraint, namely\n",
      "$$\n",
      "\\eta_i=x_i^T\\beta.$$"
     ]
    },
    {
     "cell_type": "markdown",
     "metadata": {
      "slideshow": {
       "slide_type": "fragment"
      }
     },
     "source": [
      "As we did in the one parameter case, let's form the Lagrangian\n",
      "$$\n",
      "\\begin{aligned}\n",
      "L(\\eta,\\beta;r) &= (X\\beta)^TY - \\tilde{\\CGF}(\\beta) + r^T(X\\beta-\\eta) \\\\\n",
      "&= \\eta^TY - \\tilde{\\CGF}(\\beta) + r^T(X\\beta-\\eta) \\\\\n",
      "&= \\sum_{i=1}^n\\left[\\eta_i^Ty_i - \\CGF(\\eta_i) + r_i(x_i^T\\beta-\\eta_i)\\right] \\\\\n",
      "\\end{aligned}\n",
      "$$\n",
      "\n",
      "Above, we have used \n",
      "$$\n",
      "\\tilde{\\CGF}(\\beta) = \\sum_{i=1}^n \\CGF(x_i^T\\beta).\n",
      "$$"
     ]
    },
    {
     "cell_type": "markdown",
     "metadata": {
      "slideshow": {
       "slide_type": "fragment"
      }
     },
     "source": [
      "Minimizing over $\\eta$ yields\n",
      "$$\n",
      "-\\sum_{i=1}^n \\CGF^*(y_i-r_i)\n",
      "$$\n",
      "while minimizing over $\\beta$ yields a constraint \n",
      "$$\n",
      "\\sum_{i=1}^n r_ix_i^T = 0.\n",
      "$$\n",
      "Or, $r \\in \\text{null}(X^T)$."
     ]
    },
    {
     "cell_type": "heading",
     "level": 4,
     "metadata": {},
     "source": [
      "Dual problem"
     ]
    },
    {
     "cell_type": "markdown",
     "metadata": {
      "slideshow": {
       "slide_type": "slide"
      }
     },
     "source": [
      "This is the general dual problem\n",
      "$$\n",
      "\\minimize_{r: X^Tr=0} \\sum_{i=1}^n \\CGF^*(y_i-r_i).\n",
      "$$\n",
      "\n",
      "Having found $\\hat{r}$, the same calculation we saw for the Lagrange multipliers\n",
      "in the one-parameter case tell us that\n",
      "$$\n",
      "\\begin{aligned}\n",
      "\\hat{\\eta}_i &= \\dot\\CGF^*(y_i-\\hat{r}_i) \\\\\n",
      "&= X\\hat{\\beta}_i.\n",
      "\\end{aligned}\n",
      "$$\n",
      "In vector form, this reads as\n",
      "$$\n",
      "\\hat{\\eta} = \\nabla \\left(\\CGF^{(n)}\\right)^*(Y - \\hat{r}).\n",
      "$$\n",
      "\n",
      "This yields\n",
      "$$\n",
      "\\hat{\\beta} = X^{\\dagger}\\left[\\left(\\nabla{\\CGF}^{(n)} \\right)^*(Y-\\hat{r}) \\right].\n",
      "$$\n",
      "where $X^{\\dagger}$ is the pseudoinverse with\n",
      "$$\n",
      "X^{\\dagger} = (X^TX)^{-1}X^T\n",
      "$$\n",
      "when $X^TX$ is non-singular."
     ]
    },
    {
     "cell_type": "markdown",
     "metadata": {},
     "source": [
      "### *Exercise: variables in the dual problem*\n",
      "\n",
      "The notation $r$ for the variables in the dual problem suggest *residual*.\n",
      "\n",
      "1. Show that \n",
      "$$\n",
      "\\begin{aligned}\n",
      "\\hat{r} &= Y - \\nabla \\CGF^{(n)}(X\\hat{\\beta}) \\\\\n",
      "&= Y - \\hat{\\mu}.\n",
      "\\end{aligned}\n",
      "$$\n",
      "                                "
     ]
    },
    {
     "cell_type": "heading",
     "level": 3,
     "metadata": {
      "slideshow": {
       "slide_type": "slide"
      }
     },
     "source": [
      "Projection picture"
     ]
    },
    {
     "cell_type": "markdown",
     "metadata": {
      "slideshow": {
       "slide_type": "fragment"
      }
     },
     "source": [
      "\n",
      "The GLM is a $p$-parameter subfamily of the $n$-parameter family\n",
      "$$\n",
      "\\prod_{i=1}^n \\Pp_{\\eta_i}.\n",
      "$$\n",
      "\n",
      "When $p > n$, it can even be the same family in the sense that\n",
      "the map\n",
      "$$\n",
      "\\beta \\mapsto X\\beta\n",
      "$$\n",
      "covers all of $\\real^n$.\n",
      "\n",
      "In this case, the MLE is not generally unique. For $p \\leq n$, the set\n",
      "$$\n",
      "\\Mm_X = \\left\\{\\nabla \\CGF^n(X \\beta), \\beta \\in \\real^p\\right\\} = \\left\\{\\mu(\\beta): \\beta \\in \\real^p \\right\\}\n",
      "$$\n",
      "describes a curved subset of $\\real^n$."
     ]
    },
    {
     "cell_type": "markdown",
     "metadata": {
      "slideshow": {
       "slide_type": "fragment"
      }
     },
     "source": [
      "The score equation for $\\beta$ is\n",
      "$$\n",
      "X^T(Y - \\mu(\\hat{\\beta}))=0.\n",
      "$$\n",
      "Brad expresses this by saying that the MLE projects $Y$ onto $\\Mm_X$ \"orthogonal\" to the columns of $X$.\n",
      "\n",
      "This same score equation almost arises when we consider the least squares\n",
      "projection of $Y$ onto $\\Mm_X$. That is, if we try to solve the following problem\n",
      "$$\n",
      "\\minimize_{\\mu \\in \\Mm_X} \\|Y-\\mu\\|^2_2.\n",
      "$$\n",
      "\n",
      "Then, we see that critical points in $\\Mm_X$, when parameterizing\n",
      "the problem by $\\beta$ satisfy\n",
      "$$\n",
      "Y-\\mu(\\hat{\\beta}) \\perp T_{\\mu(\\hat{\\beta})}\\Mm_X\n",
      "$$\n",
      "where the last expression is the tangent space to the curved surface $\\Mm_X$ at\n",
      "$\\mu=\\mu(\\hat{\\beta})$."
     ]
    },
    {
     "cell_type": "markdown",
     "metadata": {
      "slideshow": {
       "slide_type": "slide"
      }
     },
     "source": [
      "### *Exercise: tangent space computation*\n",
      "\n",
      "1. Show that the tangent space at $\\mu(\\hat{\\beta})$ is\n",
      "made up of the span of the vectors\n",
      "$$\n",
      "\\left(x_{1j} \\ddot{\\CGF}(x_1^T\\beta), \\dots,  x_{nj} \\ddot{\\CGF}(x_n^T\\beta)\\right), 1 \\leq j \\leq p.\n",
      "$$\n",
      "\n",
      "2. Write this in matrix form.\n",
      "\n",
      "3. Use this to fully write out the stationary condition for \n",
      "$$\n",
      "\\minimize_{\\mu \\in \\Mm_X} \\|Y-\\mu\\|^2_2.\n",
      "$$\n",
      "Is this the same as the MLE stationarity equation?\n"
     ]
    },
    {
     "cell_type": "heading",
     "level": 2,
     "metadata": {
      "slideshow": {
       "slide_type": "slide"
      }
     },
     "source": [
      "Example: using Poisson regression for density estimation"
     ]
    },
    {
     "cell_type": "markdown",
     "metadata": {
      "slideshow": {
       "slide_type": "fragment"
      }
     },
     "source": [
      "In this example, we will use Poisson regression to fit a density to the\n",
      "$t$-statistics we saw in our application of Tweedie's formula.\n",
      "Recall, we had $N=6033$ $t$-statistics for comparing a healthy \n",
      "population and to a cancerous one.\n",
      "\n",
      "Our model will be that the density has the form\n",
      "$$\n",
      "f_{\\beta}(x) = \\exp \\left(\\sum_{j=0}^7 \\beta_j x^j - \\CGF(\\beta)\\right).\n",
      "$$\n",
      "This is an 8-parameter exponential family of distributions on $\\real$ with\n",
      "Lebesgue as reference measure."
     ]
    },
    {
     "cell_type": "markdown",
     "metadata": {
      "slideshow": {
       "slide_type": "slide"
      }
     },
     "source": [
      "The basic approach will be to use the Poisson trick we saw in the conditioning\n",
      "section. \n",
      "\n",
      "1. We discretize $\\real$ into $K=50$ equal\n",
      "sized bins of size $\\Delta$ $B_i=(L_i,U_i], 1 \\leq i \\leq K$ and\n",
      "define $$Y_i = \\# \\left\\{Z_j: Z_j \\in B_i\\right\\}$$.\n",
      "                                                                \n",
      "2. We model $Y_i \\sim \\text{Poisson}(\\mu_i)$ where\n",
      "$$\n",
      "\\mu_i = N \\cdot \\int_{(L_i,U_i]} f_{\\beta}(x) \\;dx \\approx N \\Delta \\sum_{j=0}^7 \\beta_j M_i^j \n",
      "$$                                                                \n",
      "where $N$ is the number of observed $Z$'s and $M_i=(L_i+U_i)/2$ is the midpoint of the interval.\n",
      "\n",
      "3. We fit a Poisson GLM to the $Y_i$ with design matrix\n",
      "$$\n",
      "X = \\begin{pmatrix}\n",
      "1 & M_1 & M_1^2 & \\dots & M_1^7 \\\\\n",
      "1 & M_2 & M_2^2 & \\dots & M_2^7 \\\\\n",
      "\\vdots & \\vdots & \\vdots & \\dots & \\vdots \\\\\n",
      "1 & M_K & M_K^2 & \\dots & M_K^7 \\\\\n",
      "\\end{pmatrix}\n",
      "$$\n",
      "Actually, this design matrix is highly singular. We use `R`'s `poly` function which\n",
      "produces a design matrix with the same column span but is much better conditioned.\n",
      "\n",
      "4. This yields an estimated density\n",
      "$$\n",
      "\\hat{f}_{\\beta}(x) \\propto \\exp \\left(\\sum_{j=0}^7 \\hat{\\beta}_j x^j \\right).\n",
      "$$"
     ]
    },
    {
     "cell_type": "code",
     "collapsed": false,
     "input": [
      "%%R\n",
      "library(sda)\n",
      "data(singh2002)\n",
      "labels = singh2002$y\n",
      "print(summary(labels))\n",
      "expression_data = singh2002$x\n",
      "tvals = c()\n",
      "for (i in 1:6033) {\n",
      "    tvals = c(tvals, t.test(expression_data[,i] ~ labels, var.equal=TRUE)$statistic)\n",
      "}\n"
     ],
     "language": "python",
     "metadata": {
      "slideshow": {
       "slide_type": "slide"
      }
     },
     "outputs": [
      {
       "output_type": "display_data",
       "text": [
        "Loading required package: entropy\n",
        "Loading required package: corpcor\n",
        "Loading required package: fdrtool\n",
        " cancer healthy \n",
        "     52      50 \n",
        "Warning messages:\n",
        "1: package \u2018sda\u2019 was built under R version 2.15.3 \n",
        "2: package \u2018entropy\u2019 was built under R version 2.15.3 \n",
        "3: package \u2018corpcor\u2019 was built under R version 2.15.3 \n"
       ]
      }
     ],
     "prompt_number": 1
    },
    {
     "cell_type": "markdown",
     "metadata": {
      "slideshow": {
       "slide_type": "slide"
      }
     },
     "source": [
      "As in the previous exercise, we will convert to $Z$-scores, though this has hardly\n",
      "any effect."
     ]
    },
    {
     "cell_type": "code",
     "collapsed": false,
     "input": [
      "%%R -o zvals\n",
      "zvals = qnorm(pt(tvals, 100))"
     ],
     "language": "python",
     "metadata": {
      "slideshow": {
       "slide_type": "fragment"
      }
     },
     "outputs": [],
     "prompt_number": 2
    },
    {
     "cell_type": "code",
     "collapsed": false,
     "input": [
      "f = plt.hist(zvals,bins=50)"
     ],
     "language": "python",
     "metadata": {
      "slideshow": {
       "slide_type": "fragment"
      }
     },
     "outputs": [
      {
       "output_type": "display_data",
       "png": "[encoded data removed]",
       "text": [
        "<matplotlib.figure.Figure at 0x1087b3e50>"
       ]
      }
     ],
     "prompt_number": 3
    },
    {
     "cell_type": "markdown",
     "metadata": {
      "slideshow": {
       "slide_type": "slide"
      }
     },
     "source": [
      "Next, let's split the data into bins, and compute the counts and the midpoints."
     ]
    },
    {
     "cell_type": "code",
     "collapsed": false,
     "input": [
      "%%R\n",
      "bins = c(-Inf, seq(-4,4,length=51), Inf)\n",
      "counts = c()\n",
      "for (i in 1:(length(bins)-1)) {\n",
      "    counts = c(counts, sum((zvals > bins[i]) * (zvals <= bins[i+1])))\n",
      "}\n",
      "midpoints = (bins[1:length(bins)-1] + bins[2:length(bins)])/2\n",
      "counts = counts[2:(length(counts)-1)]\n",
      "midpoints = midpoints[2:(length(midpoints)-1)]"
     ],
     "language": "python",
     "metadata": {
      "slideshow": {
       "slide_type": "fragment"
      }
     },
     "outputs": [],
     "prompt_number": 4
    },
    {
     "cell_type": "markdown",
     "metadata": {
      "slideshow": {
       "slide_type": "slide"
      }
     },
     "source": [
      "To fit a GLM in `R`, we use the `glm` function. The argument \n",
      "`family` says that we are using a Poisson regression model, which sets the\n",
      "family $\\Pp_{\\eta}$ above to be a Poisson family."
     ]
    },
    {
     "cell_type": "code",
     "collapsed": false,
     "input": [
      "%%R\n",
      "density.glm = glm(counts ~ poly(midpoints, 7), family=poisson(link='log'))\n",
      "print(summary(density.glm))\n",
      "X = model.matrix(density.glm)\n",
      "C = density.glm$coef\n",
      "SE = summary(density.glm)$coef[,2]"
     ],
     "language": "python",
     "metadata": {
      "slideshow": {
       "slide_type": "fragment"
      }
     },
     "outputs": [
      {
       "output_type": "display_data",
       "text": [
        "\n",
        "Call:\n",
        "glm(formula = counts ~ poly(midpoints, 7), family = poisson(link = \"log\"))\n",
        "\n",
        "Deviance Residuals: \n",
        "     Min        1Q    Median        3Q       Max  \n",
        "-1.79431  -0.69422   0.01274   0.61035   2.08374  \n",
        "\n",
        "Coefficients:\n",
        "                     Estimate Std. Error z value Pr(>|z|)    \n",
        "(Intercept)           3.89067    0.03436 113.241  < 2e-16 ***\n",
        "poly(midpoints, 7)1  -0.19805    0.35327  -0.561    0.575    \n",
        "poly(midpoints, 7)2 -10.89546    0.35131 -31.014  < 2e-16 ***\n",
        "poly(midpoints, 7)3  -0.14374    0.32855  -0.437    0.662    \n",
        "poly(midpoints, 7)4   1.99022    0.30931   6.434 1.24e-10 ***\n",
        "poly(midpoints, 7)5   0.01894    0.30917   0.061    0.951    \n",
        "poly(midpoints, 7)6   0.31586    0.20410   1.548    0.122    \n",
        "poly(midpoints, 7)7   0.07490    0.20382   0.367    0.713    \n",
        "---\n",
        "Signif. codes:  0 \u2018***\u2019 0.001 \u2018**\u2019 0.01 \u2018*\u2019 0.05 \u2018.\u2019 0.1 \u2018 \u2019 1 \n",
        "\n",
        "(Dispersion parameter for poisson family taken to be 1)\n",
        "\n",
        "    Null deviance: 6707.369  on 49  degrees of freedom\n",
        "Residual deviance:   41.079  on 42  degrees of freedom\n",
        "AIC: 342.61\n",
        "\n",
        "Number of Fisher Scoring iterations: 4\n",
        "\n"
       ]
      }
     ],
     "prompt_number": 5
    },
    {
     "cell_type": "markdown",
     "metadata": {
      "slideshow": {
       "slide_type": "slide"
      }
     },
     "source": [
      "We see that `R` produces a standard error for each parameter we estimated. \n",
      "(Where does this come from?)\n",
      "\n",
      "For completeness, we show that using the Newton-Raphson algorithm above\n",
      "yields the same estimates of coefficients."
     ]
    },
    {
     "cell_type": "code",
     "collapsed": false,
     "input": [
      "%R -o X,counts,C,SE"
     ],
     "language": "python",
     "metadata": {
      "slideshow": {
       "slide_type": "fragment"
      }
     },
     "outputs": [],
     "prompt_number": 6
    },
    {
     "cell_type": "markdown",
     "metadata": {
      "slideshow": {
       "slide_type": "slide"
      }
     },
     "source": [
      "Here is a Poisson regression model in 30 or so lines (excluding comments...)"
     ]
    },
    {
     "cell_type": "code",
     "collapsed": false,
     "input": [
      "class poisson(object):\n",
      "    \n",
      "    def __init__(self, X, Y):\n",
      "        self.X = X\n",
      "        self.Y = Y * 1.\n",
      "        \n",
      "    def value(self, beta):\n",
      "        eta = np.dot(self.X, beta)\n",
      "        return (np.exp(eta) - eta*self.Y).sum()\n",
      "    \n",
      "    def grad(self, beta):\n",
      "        eta = np.dot(self.X, beta)\n",
      "        mu = np.exp(eta)\n",
      "        return np.dot(self.X.T, mu - self.Y)\n",
      "    \n",
      "    def hess(self, beta):\n",
      "        eta = np.dot(self.X, beta)\n",
      "        mu = np.exp(eta)\n",
      "        W = mu\n",
      "        X = self.X\n",
      "        return np.dot(X.T, W[:,np.newaxis] * X)"
     ],
     "language": "python",
     "metadata": {
      "slideshow": {
       "slide_type": "fragment"
      }
     },
     "outputs": [],
     "prompt_number": 7
    },
    {
     "cell_type": "markdown",
     "metadata": {
      "slideshow": {
       "slide_type": "slide"
      }
     },
     "source": [
      "Let's instantiate the model and verify we've computed our gradient correctly. If correct,\n",
      "the vector `C` should have gradient approximately 0."
     ]
    },
    {
     "cell_type": "code",
     "collapsed": false,
     "input": [
      "model = poisson(X, counts)\n",
      "model.grad(C)"
     ],
     "language": "python",
     "metadata": {
      "slideshow": {
       "slide_type": "fragment"
      }
     },
     "outputs": [
      {
       "output_type": "pyout",
       "prompt_number": 8,
       "text": [
        "array([ 0.0000001 , -0.00000002,  0.00000003, -0.00000002,  0.00000003,\n",
        "       -0.00000002,  0.00000002, -0.00000001])"
       ]
      }
     ],
     "prompt_number": 8
    },
    {
     "cell_type": "markdown",
     "metadata": {
      "slideshow": {
       "slide_type": "fragment"
      }
     },
     "source": [
      "As for the Hessian, the diagonal diagonal of its inverse should yield the standard errors. (Why?)"
     ]
    },
    {
     "cell_type": "code",
     "collapsed": false,
     "input": [
      "H = model.hess(C)\n",
      "print 'Hessian inverse:', np.sqrt(np.diag(np.linalg.inv(H)))\n",
      "print 'SE:', SE"
     ],
     "language": "python",
     "metadata": {
      "slideshow": {
       "slide_type": "fragment"
      }
     },
     "outputs": [
      {
       "output_type": "stream",
       "stream": "stdout",
       "text": [
        "Hessian inverse: [ 0.03435823  0.35327947  0.35132316  0.32856422  0.30931663  0.30917959\n",
        "  0.20410041  0.20382491]\n",
        "SE: [ 0.03435753  0.35327081  0.35131134  0.3285515   0.30930698  0.30917085\n",
        "  0.2040974   0.20382201]\n"
       ]
      }
     ],
     "prompt_number": 9
    },
    {
     "cell_type": "markdown",
     "metadata": {
      "slideshow": {
       "slide_type": "slide"
      }
     },
     "source": [
      "Now, let us fit the model using Newton-Raphson."
     ]
    },
    {
     "cell_type": "code",
     "collapsed": false,
     "input": [
      "beta = np.ones(X.shape[1])\n",
      "value = model.value(beta)\n",
      "\n",
      "for _ in range(10):\n",
      "    step = 1.\n",
      "    count = 0\n",
      "    while True:\n",
      "        proposed_beta = beta - step * np.dot(np.linalg.pinv(model.hess(beta)), model.grad(beta))\n",
      "        if model.value(proposed_beta) > value:\n",
      "            step *= 0.5\n",
      "        else:\n",
      "            break\n",
      "    beta = proposed_beta\n",
      "    value = model.value(beta)\n"
     ],
     "language": "python",
     "metadata": {
      "slideshow": {
       "slide_type": "fragment"
      }
     },
     "outputs": [],
     "prompt_number": 10
    },
    {
     "cell_type": "markdown",
     "metadata": {
      "slideshow": {
       "slide_type": "slide"
      }
     },
     "source": [
      "If we've converged, the gradient should be zero."
     ]
    },
    {
     "cell_type": "code",
     "collapsed": false,
     "input": [
      "model.grad(beta)"
     ],
     "language": "python",
     "metadata": {
      "slideshow": {
       "slide_type": "fragment"
      }
     },
     "outputs": [
      {
       "output_type": "pyout",
       "prompt_number": 11,
       "text": [
        "array([ 0.,  0., -0., -0.,  0.,  0., -0., -0.])"
       ]
      }
     ],
     "prompt_number": 11
    },
    {
     "cell_type": "code",
     "collapsed": false,
     "input": [
      "print 'R:', C\n",
      "print 'Newton-Raphson:', beta"
     ],
     "language": "python",
     "metadata": {
      "slideshow": {
       "slide_type": "fragment"
      }
     },
     "outputs": [
      {
       "output_type": "stream",
       "stream": "stdout",
       "text": [
        "R: [  3.89067037  -0.19805055 -10.89545629  -0.14374003   1.99021697\n",
        "   0.01894121   0.31586279   0.07490286]\n",
        "Newton-Raphson: [  3.89067037  -0.19805055 -10.8954563   -0.14374002   1.99021696\n",
        "   0.01894122   0.31586278   0.07490286]\n"
       ]
      }
     ],
     "prompt_number": 12
    },
    {
     "cell_type": "code",
     "collapsed": false,
     "input": [],
     "language": "python",
     "metadata": {},
     "outputs": [],
     "prompt_number": 12
    }
   ],
   "metadata": {}
  }
 ]
}