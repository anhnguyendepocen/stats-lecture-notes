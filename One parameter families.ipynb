{
 "metadata": {
  "name": "One parameter families"
 },
 "nbformat": 3,
 "nbformat_minor": 0,
 "worksheets": [
  {
   "cells": [
    {
     "cell_type": "markdown",
     "metadata": {
      "slideshow": {
       "slide_type": "slide"
      }
     },
     "source": [
      "# Basic definitions and notation"
     ]
    },
    {
     "cell_type": "markdown",
     "metadata": {},
     "source": [
      "## Exponential tilting, domain\n",
      "\n"
     ]
    },
    {
     "cell_type": "markdown",
     "metadata": {},
     "source": [
      "## Example: the Poisson family"
     ]
    },
    {
     "cell_type": "markdown",
     "metadata": {},
     "source": [
      "## Expectation and variances\n"
     ]
    },
    {
     "cell_type": "markdown",
     "metadata": {},
     "source": [
      "## Skewness and kurtosis"
     ]
    },
    {
     "cell_type": "markdown",
     "metadata": {},
     "source": [
      "## Repeated sampling"
     ]
    },
    {
     "cell_type": "markdown",
     "metadata": {},
     "source": [
      "## Examples\n",
      "\n",
      "### Normal with known variance: $N(\\mu, \\sigma^2)$\n",
      "\n",
      "### Binomial: $\\text{Bin}(n,p)$\n",
      "\n",
      "### Gamma, negative binomial\n",
      "\n",
      "### Inverse Gaussian\n",
      "\n"
     ]
    },
    {
     "cell_type": "markdown",
     "metadata": {},
     "source": [
      "## Basic results on exponential families"
     ]
    },
    {
     "cell_type": "markdown",
     "metadata": {},
     "source": [
      "### MLE, Fisher information"
     ]
    },
    {
     "cell_type": "markdown",
     "metadata": {},
     "source": [
      "### Cramer-Rao lower bound, Neyman-Pearson"
     ]
    },
    {
     "cell_type": "markdown",
     "metadata": {},
     "source": [
      "### Deviance, Hoeffding's formula"
     ]
    },
    {
     "cell_type": "markdown",
     "metadata": {},
     "source": [
      "### Convexity picture"
     ]
    },
    {
     "cell_type": "markdown",
     "metadata": {},
     "source": [
      "### Deviance residuals"
     ]
    },
    {
     "cell_type": "markdown",
     "metadata": {},
     "source": [
      "### Saddle point approximation"
     ]
    },
    {
     "cell_type": "markdown",
     "metadata": {},
     "source": [
      "### Lugannani-Rice tail approximation"
     ]
    },
    {
     "cell_type": "code",
     "collapsed": false,
     "input": [],
     "language": "python",
     "metadata": {},
     "outputs": []
    }
   ],
   "metadata": {}
  }
 ]
}